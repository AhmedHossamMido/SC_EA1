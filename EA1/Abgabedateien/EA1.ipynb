{
 "cells": [
  {
   "cell_type": "code",
   "execution_count": 42,
   "id": "79a0426d",
   "metadata": {},
   "outputs": [],
   "source": [
    "import numpy        as     np\n",
    "import matplotlib.pyplot as plt\n",
    "import scipy.linalg as     linalg\n",
    "from   scipy.linalg import lu_factor, lu\n",
    "from   timeit       import repeat\n",
    "import memray \n",
    "import os"
   ]
  },
  {
   "cell_type": "markdown",
   "id": "a8b3375c-690d-4cc3-b82b-f18cf1b02069",
   "metadata": {},
   "source": [
    "# Einsendeaufgabe 1: Numerische Genauigkeit und Gleichungssysteme (100 Punkte)\n",
    "In dieser Aufgabe sollen Sie ein wenig mehr Erfahrung mit NumPy und numerischen Methoden gewinnen.  \n",
    "Zur Erinnerung empfehle ich an dieser Stelle, die Definition der [IEEE-Fließkommazahlen](https://de.wikipedia.org/wiki/IEEE_754) zu wiederholen.  "
   ]
  },
  {
   "cell_type": "markdown",
   "id": "fc24fc52-f1bc-4378-8023-f0cb1c9607d5",
   "metadata": {},
   "source": [
    "## Addition von Zahlen (20 Punkte) \n",
    "\n",
    "Gegeben sei ein Array *array*, dass 100 mal die Zahl $10^{-16}$ enthält und einmal (als ersten Eintrag) die Zahl $1$. "
   ]
  },
  {
   "cell_type": "code",
   "execution_count": 43,
   "id": "080a3fb8-9b98-4017-b6ba-3895321b8431",
   "metadata": {},
   "outputs": [
    {
     "name": "stdout",
     "output_type": "stream",
     "text": [
      "[1.e+00 1.e-16 1.e-16 1.e-16 1.e-16 1.e-16 1.e-16 1.e-16 1.e-16 1.e-16\n",
      " 1.e-16 1.e-16 1.e-16 1.e-16 1.e-16 1.e-16 1.e-16 1.e-16 1.e-16 1.e-16\n",
      " 1.e-16 1.e-16 1.e-16 1.e-16 1.e-16 1.e-16 1.e-16 1.e-16 1.e-16 1.e-16\n",
      " 1.e-16 1.e-16 1.e-16 1.e-16 1.e-16 1.e-16 1.e-16 1.e-16 1.e-16 1.e-16\n",
      " 1.e-16 1.e-16 1.e-16 1.e-16 1.e-16 1.e-16 1.e-16 1.e-16 1.e-16 1.e-16\n",
      " 1.e-16 1.e-16 1.e-16 1.e-16 1.e-16 1.e-16 1.e-16 1.e-16 1.e-16 1.e-16\n",
      " 1.e-16 1.e-16 1.e-16 1.e-16 1.e-16 1.e-16 1.e-16 1.e-16 1.e-16 1.e-16\n",
      " 1.e-16 1.e-16 1.e-16 1.e-16 1.e-16 1.e-16 1.e-16 1.e-16 1.e-16 1.e-16\n",
      " 1.e-16 1.e-16 1.e-16 1.e-16 1.e-16 1.e-16 1.e-16 1.e-16 1.e-16 1.e-16\n",
      " 1.e-16 1.e-16 1.e-16 1.e-16 1.e-16 1.e-16 1.e-16 1.e-16 1.e-16 1.e-16\n",
      " 1.e-16]\n"
     ]
    }
   ],
   "source": [
    "array = np.concatenate(([1], np.full(100, 1e-16)))\n",
    "print(array)"
   ]
  },
  {
   "cell_type": "markdown",
   "id": "1f63e85a-028f-4b9f-aacb-2879fee0fd99",
   "metadata": {
    "deletable": false,
    "editable": false
   },
   "source": [
    "**Aufgabe:** Addieren Sie alle Werte in `array`:\n",
    "- mit der Funktion `np.sum()`\n",
    "- mit einer Schleife, die von **vorne nach hinten** über `array` iteriert\n",
    "- mit einer Schleife, die von **hinten nach vorne** über `array` iteriert\n",
    "\n",
    "_Points:_ 6"
   ]
  },
  {
   "cell_type": "markdown",
   "id": "86ab2150",
   "metadata": {},
   "source": [
    "<span style=\"color: brown;\" title=\"Ahmed\">\n",
    "    \n",
    "## Addition von Zahlen im Array: Unterschiedliche Berechnungsmethoden\n",
    "\n",
    "In dieser Aufgabe geht es um die Addition von Zahlen, die in einem Array gespeichert sind. Das Array besteht aus 101 Einträgen, wobei der erste Eintrag die Zahl 1 enthält und die restlichen 100 Einträge jeweils den Wert $ 1 \\times 10^{-16} $ haben. Die Aufgabe besteht darin, die Summe der Werte in diesem Array auf verschiedene Arten zu berechnen: einmal mit der `np.sum()`-Funktion und zweimal unter Verwendung von Schleifen, die das Array jeweils von vorne nach hinten bzw. von hinten nach vorne durchlaufen.\n",
    "\n",
    "</span>\n"
   ]
  },
  {
   "cell_type": "code",
   "execution_count": 44,
   "id": "11b6c189-e0ee-411a-8f83-b804db3527d8",
   "metadata": {
    "tags": []
   },
   "outputs": [
    {
     "name": "stdout",
     "output_type": "stream",
     "text": [
      "Summe mit Schleife: sum_forward=np.float64(1.0)\n",
      "Summe mit umgekehrter Schleife: sum_reverse=np.float64(1.00000000000001)\n",
      "Summe mit np.sum: sum_numpy=np.float64(1.0000000000000084)\n"
     ]
    }
   ],
   "source": [
    "sum_forward = 0.0\n",
    "for x in array:\n",
    "    sum_forward += x\n",
    "print(f\"Summe mit Schleife: {sum_forward=}\")\n",
    "\n",
    "sum_reverse = 0.0\n",
    "for x in reversed(array):\n",
    "    sum_reverse += x\n",
    "print(f\"Summe mit umgekehrter Schleife: {sum_reverse=}\")\n",
    "\n",
    "sum_numpy = np.sum(array)\n",
    "print(f\"Summe mit np.sum: {sum_numpy=}\")"
   ]
  },
  {
   "cell_type": "markdown",
   "id": "8ea8b6ef-4687-47e5-9aa8-8c77d5e8d1bd",
   "metadata": {
    "deletable": false,
    "editable": false
   },
   "source": [
    "<!-- BEGIN QUESTION -->\n",
    "\n",
    "**Aufgabe:** Erklären Sie die Ergebnisse. Wie werden die Zahlen 1 und 1e-17 im Computer dargestellt? (ausführliche Erläuterung erforderlich!)  \n",
    "\n",
    "_Points:_ 12"
   ]
  },
  {
   "cell_type": "markdown",
   "id": "d595469a",
   "metadata": {},
   "source": [
    "<span style=\"color: brown;\" title=\"Ahmed\">\n",
    "    \n",
    "\n",
    "## Numerische Genauigkeit von verschiedenen Additionsverfahren\n",
    "\n",
    "### Unterschiede in der Summierung\n",
    "\n",
    "Bei der Berechnung der Summe mit unterschiedlichen Verfahren ergeben sich leicht unterschiedliche Ergebnisse:\n",
    "\n",
    "```python\n",
    "sum_numpy   = np.float64(1.0000000000000084)\n",
    "sum_forward = np.float64(1.0)\n",
    "sum_reverse = np.float64(1.00000000000001)\n",
    "```\n",
    "Diese Unterschiede entstehen durch **Rundungsfehler** in der **Gleitkommadarstellung**, die auf der begrenzten Anzahl an Bits basiert, mit der reale Zahlen intern im Computer dargestellt werden.\n",
    "\n",
    "---\n",
    "\n",
    "## Gleitkommazahlen im IEEE 754 Standard\n",
    "\n",
    "Python und NumPy verwenden standardmäßig `float64` (IEEE 754 Double Precision), das wie folgt aufgebaut ist:\n",
    "\n",
    "- **1 Bit** für das Vorzeichen  \n",
    "- **11 Bits** für den Exponenten  \n",
    "- **52 Bits** für die Mantisse  \n",
    "\n",
    "Insgesamt also **64 Bit**. Die reale Zahl wird durch folgende Formel dargestellt:\n",
    "\n",
    "```\n",
    "Zahl = (-1)^s · 1.m · 2^(e - 1023)\n",
    "```\n",
    "\n",
    "Dabei ist:\n",
    "\n",
    "- `s` das Vorzeichenbit  \n",
    "- `m` die Mantisse (ohne führende 1)  \n",
    "- `e` der gespeicherte Exponent mit **Bias** = 1023  \n",
    "\n",
    "---\n",
    "\n",
    "## Maschinengenauigkeit\n",
    "\n",
    "Die kleinste Zahl, die zu `1.0` addiert werden kann, sodass sich das Ergebnis **numerisch unterscheidet**, nennt man **Maschinengenauigkeit** oder **machine epsilon** $\\varepsilon_{\\text{mach}}$:\n",
    "\n",
    "```python\n",
    "np.finfo(float).eps\n",
    "# Ergebnis: 2.220446049250313e-16\n",
    "```\n",
    "\n",
    "Zahlen kleiner als `eps` „verpuffen“ bei der Addition zu größeren Zahlen wie `1.0`, da sie außerhalb der darstellbaren Genauigkeit der Mantisse liegen. Wenn zwei Gleitkommazahlen stark unterschiedlich groß sind, kann die kleinere Zahl beim Addieren „verschluckt“ werden – das nennt man Verlust der Signifikanz:\n",
    "\n",
    "```python\n",
    "print(1e-16 < np.finfo(float).eps)  # True\n",
    "print(1.0 + 1e-16 == 1.0)           # True\n",
    "```\n",
    "\n",
    "---\n",
    "\n",
    "## Warum liefert `sum_forward` ein anderes Ergebnis als `sum_reverse`?\n",
    "\n",
    "Angenommen:\n",
    "\n",
    "```python\n",
    "array = np.array([1.0] + [1e-16] * 100)\n",
    "```\n",
    "\n",
    "- `sum_forward` addiert zuerst `1.0` und dann viele kleine `1e-16`. Diese einzelnen Summanden sind kleiner als `eps` und **gehen verloren**.\n",
    "- `sum_reverse` addiert zuerst die kleinen `1e-16` zu einem größeren Zwischenwert (z. B. `1e-14`), der dann zu `1.0` addiert wird und sich **merklich auswirkt**.\n",
    "- `sum_numpy` verwendet oft optimierte oder paarweise Additionen (`pairwise summation`), was ebenfalls zu einem etwas besseren Ergebnis führen kann.\n",
    "\n",
    "Gleitkommazahlen sind **nicht assoziativ**, d. h.:\n",
    "\n",
    "```\n",
    "(a + b) + c ≠ a + (b + c)\n",
    "```\n",
    "\n",
    "Das bedeutet, dass die Reihenfolge der Addition das Ergebnis beeinflussen kann, besonders wenn sehr kleine Zahlen in der Summe enthalten sind.\n",
    "\n",
    "---\n",
    "\n",
    "## Darstellung der Zahl `1.0` im IEEE 754-Standard\n",
    "\n",
    "#### Mathematische Form:\n",
    "\n",
    "$\n",
    "1.0 = 1.0 \\cdot 2^0 \\\\\n",
    "\\Rightarrow \\text{Echter Exponent} = 0 \\\\\n",
    "\\Rightarrow \\text{Gespeicherter Exponent} = 0 + \\text{Bias} = 1023 = 01111111111_2\n",
    "$\n",
    "\n",
    "#### Mantisse:\n",
    "- Die Zahl `1.0` entspricht im Binärsystem: $ 1.000\\ldots0_2 $\n",
    "- Die **führende 1 vor dem Komma** wird im IEEE 754-Format **nicht gespeichert** (implizit angenommen)\n",
    "- Alle 52 Bits der Mantisse (also der Nachkommastellen) sind daher **0**\n",
    "\n",
    "#### IEEE 754-Darstellung (64 Bit – `double precision`):\n",
    "\n",
    "|      s      |   e (11 Bit)   |                    m (52 Bit)                          |\n",
    "|-------------|----------------|--------------------------------------------------------|\n",
    "|     `0`     |  `01111111111` | `0000000000000000000000000000000000000000000000000000` |\n",
    "\n",
    "#### Zusammenfassung:\n",
    "- **Vorzeichenbit (`s`)**: `0` → Zahl ist positiv  \n",
    "- **Exponent (`e`)**: 1023 → gespeichert als `01111111111`  \n",
    "- **Mantisse (`m`)**: nur Nullen (weil keine Nachkommastellen vorhanden sind)  \n",
    "- Daraus ergibt sich der dargestellte Wert:\n",
    "  \n",
    "$\n",
    "(-1)^0 \\cdot 1.0 \\cdot 2^{0} = 1.0\n",
    "$\n",
    "\n",
    "---\n",
    "\n",
    "## Darstellung der Zahl `1e-17` im IEEE 754-Standard (Double Precision)\n",
    "\n",
    "### Mathematische Zerlegung von `1e-17`\n",
    "\n",
    "### Ziel: Darstellung in der Form\n",
    "\n",
    "Wir suchen $m$ und $e$, sodass:\n",
    "\n",
    "$1e-17 = 1.m \\cdot 2^{e - 1023}$\n",
    "\n",
    "### Schritt 1: Umwandlung in Zweierpotenz\n",
    "\n",
    "Zunächst schreiben wir `1e-17` in etwa als Zweierpotenz:\n",
    "\n",
    "$1e-17 = 10^{-17} \\approx (2^{3.321928094887354...})^{-17}\\approx 2^{-3.321928094887354... \\cdot 17} \\approx 2^{-56.47}$\n",
    "\n",
    "Das bedeutet:\n",
    "\n",
    "$1e-17 \\in (2^{-57}, 2^{-56})$\n",
    "\n",
    "### Schritt 2: Rundung auf nächstliegende Zweierpotenz\n",
    "\n",
    "Da `1e-17` bzw. $2^{-56.47}$ näher an $2^{-57}$ liegt, weil:\n",
    "\n",
    "$\\lvert 2^{-56.47}-2^{-57} \\rvert = \\lvert  \\frac{1}{2^{56.47}} - \\frac{1}{2^{57}} \\rvert < \\lvert  \\frac{1}{2^{56.47}} - \\frac{1}{2^{56}} \\rvert= \\lvert 2^{-56.47} - 2^{-56} \\rvert$\n",
    "\n",
    "gilt:\n",
    "\n",
    "$1e-17 \\approx 1.m \\cdot 2^{-57}$\n",
    "\n",
    "### Schritt 3: Exponent berechnen\n",
    "\n",
    "Der effektive Exponent ist:\n",
    "\n",
    "$e_{\\text{effektiv}} = -57$\n",
    "\n",
    "Im IEEE 754 Double Precision wird der **Exponent mit Bias 1023** gespeichert:\n",
    "\n",
    "$e_{\\text{gespeichert}} = -57 + 1023 = 966$\n",
    "\n",
    "In Binär:\n",
    "\n",
    "$966_{10} = 01111000110_2$\n",
    "\n",
    "### Schritt 4: Berechnung der Mantisse\n",
    "\n",
    "Es gilt $1e-17 \\approx 1.m \\cdot 2^{-57}$ und somit $1.m = \\frac{1e-17}{2^{-57}} = 1.4411518807585587...$\n",
    "\n",
    "Wir nehmen die Nachkommastellen von `1.44115188...` und wandeln sie in Binär um. \n",
    "\n",
    "Wir schreiben `1e-17` in binärer Normalform:\n",
    "\n",
    "$1e-17 = 1.0111000011101111010101000110010001101101010010010110\\dots_2 \\cdot 2^{-57}$\n",
    "\n",
    "Die Mantisse sind **die 52 Bits nach dem Komma** (die führende $1.$ wird nicht gespeichert):\n",
    "\n",
    "### Schritt 5: Zusammensetzung der IEEE-754-Bitfolge\n",
    "\n",
    "| Feld        | Wert                                                         |\n",
    "|-------------|--------------------------------------------------------------|\n",
    "| Vorzeichen  | `0` (da positiv)                                             |\n",
    "| Exponent    | `01111000110` (`11` Bit für `966`)                           |\n",
    "| Mantisse    | `0111000011101111010101000110010001101101010010010110`       |\n",
    "\n",
    "\n",
    "### Gesamter 64-Bit-IEEE-754-Code (Binär)\n",
    "\n",
    "Die IEEE-754-Bitfolge sieht wie folgt aus (in 64 Bit):\n",
    "|      s      |   e (11 Bit)   |                    m (52 Bit)                          |\n",
    "|-------------|----------------|--------------------------------------------------------|\n",
    "|     `0`     |  `01111000110` | `0111000011101111010101000110010001101101010010010110` |\n",
    "\n",
    "---\n",
    "### Fazit:\n",
    "\n",
    "- Die Zahl `1.0` kann exakt im Format IEE 754 `float64` dargestellt werden.  \n",
    "- Die Zahl `1e-17` ist **zu klein** und hat eine **unendliche Binärdarstellung**, was zu einer _Rundung_ führen muss. Eine präzise Darstellung innerhalb der 52 Bits der Mantisse ist nicht möglich\n",
    "\n",
    "</span>"
   ]
  },
  {
   "cell_type": "markdown",
   "id": "0bb8c677-a5e2-49df-9a00-97d8ecc6536e",
   "metadata": {
    "deletable": false,
    "editable": false
   },
   "source": [
    "<!-- END QUESTION -->\n",
    "\n",
    "<!-- BEGIN QUESTION -->\n",
    "\n",
    "**Aufgabe:** Welches Verfahren verwendet `np.sum()` für die Addition?\n",
    "\n",
    "_Points:_ 2"
   ]
  },
  {
   "cell_type": "markdown",
   "id": "fd9ede3d",
   "metadata": {},
   "source": [
    "<span style=\"color: brown;\" title=\"Ahmed\">\n",
    "\n",
    "## Kaskadensummation\n",
    "\n",
    "Paarweise Summation (auch Kaskadensummation genannt) ist ein numerisch besseres Verfahren, bei dem die Werte in mehreren Schritten summiert werden. Dies bedeutet, dass Werte mit ähnlichen Größen zuerst zusammengefasst werden. Dadurch wird der Fehler reduziert, der entstehen kann, wenn immer kleinere Zahlen zu einem sehr großen Wert hinzugefügt werden (wie es bei der sequentiellen Summation der Fall wäre).\n",
    "\n",
    "### Verfahren von `np.sum()`\n",
    "\n",
    "NumPy verwendet für die Addition von Arrays ein Verfahren namens **Kaskadensummation** oder **paarweise Summation**. Dieses Verfahren reduziert Rundungsfehler im Vergleich zur sequentiellen Summation und führt in vielen Fällen zu einer höheren Genauigkeit. `np.sum()` kann interne Optimierungen verwenden, wie z. B. parallelisierte Summation, abhängig von der Größe des Arrays und der Hardware. In modernen Implementierungen von NumPy wird oft die `np.add.reduce()` Funktion verwendet, um die Summation durchzuführen, die im Hintergrund mit dem `ufunc`-Mechanismus arbeitet. Diese `reduce`-Methode summiert die Werte sequenziell, aber auch sie optimiert den Prozess, indem sie die Reihenfolge der Summanden variiert oder bei Bedarf parallelisiert.\n",
    "\n",
    "\n",
    "Mehr Informationen zu dieser Technik gibt es auf [Wikipedia](https://en.wikipedia.org/wiki/Pairwise_summation) und in der [NumPy-Dokumentation](https://numpy.org/doc/stable/reference/generated/numpy.sum.html).\n",
    "\n",
    "</span>"
   ]
  },
  {
   "cell_type": "markdown",
   "id": "de34b329-a7e0-444a-89aa-a5c78bc173a2",
   "metadata": {
    "deletable": false,
    "editable": false
   },
   "source": [
    "<!-- END QUESTION -->\n",
    "\n",
    "## Grenzwerte von Funktionen (20 Punkte)"
   ]
  },
  {
   "cell_type": "markdown",
   "id": "e8379ade-6a5d-40a1-bed4-586675cc0d29",
   "metadata": {
    "deletable": false,
    "editable": false
   },
   "source": [
    "Geben sei die Funktion $f(x)=\\frac{e^x-1}{x}$\n",
    "\n",
    "Es gilt: $lim_{x \\to 0}f(x) = 1$\n",
    "\n",
    "**Aufgabe:** Schreiben Sie eine Python Funktion `f(x)`, mit deren Hilfe Sie $f(x)$ für $x= 10^{-1}, 10^{-2}, \\cdots , 10^{-15}$ mit NumPy berechnen und geben Sie das Ergebnis aus."
   ]
  },
  {
   "cell_type": "markdown",
   "id": "fb0645a1-47c9-417b-b715-033c6d05c65c",
   "metadata": {
    "deletable": false,
    "editable": false
   },
   "source": [
    "**Aufgabe:** Berechnen Sie nun die Funktion für  $x= 10^{-16}, 10^{-17}, \\cdots , 10^{-20}$\n",
    "\n",
    "_Points:_ 8"
   ]
  },
  {
   "cell_type": "markdown",
   "id": "4ec6a397",
   "metadata": {},
   "source": [
    "<span style=\"color: brown;\" title=\"Ahmed\">\n",
    "\n",
    "<h2>Berechnung der Funktion f(x) = (exp(x) - 1) / x </h2>\n",
    "\n",
    "In dieser Aufgabe soll die Funktion f(x) für x = 10<sup>-1</sup>, 10<sup>-2</sup>, ..., 10<sup>-15</sup> berechnet werden. Danach soll die Funktion für noch kleinere Werte von x, nämlich x = 10<sup>-16</sup>, 10<sup>-17</sup>, ..., 10<sup>-20</sup>, berechnet werden. \n",
    "\n",
    "Der Grenzwert der Funktion für x → 0 ist 1. Dabei sollen mögliche numerische Probleme bei sehr kleinen x beobachtet werden.\n",
    "\n",
    "</span>"
   ]
  },
  {
   "cell_type": "code",
   "execution_count": 45,
   "id": "f5619384-8fab-4a57-8f30-73de2922dd89",
   "metadata": {
    "nbgrader": {
     "grade": false,
     "grade_id": "cell-d5ed715a9745e7d6",
     "locked": false,
     "schema_version": 3,
     "solution": true,
     "task": false
    },
    "scrolled": true,
    "tags": []
   },
   "outputs": [
    {
     "name": "stdout",
     "output_type": "stream",
     "text": [
      "x = 1e-01, f(x) = 1.0517091807564771\n",
      "x = 1e-02, f(x) = 1.005016708416795\n",
      "x = 1e-03, f(x) = 1.0005001667083846\n",
      "x = 1e-04, f(x) = 1.000050001667141\n",
      "x = 1e-05, f(x) = 1.000005000006965\n",
      "x = 1e-06, f(x) = 1.0000004999621837\n",
      "x = 1e-07, f(x) = 1.0000000494336803\n",
      "x = 1e-08, f(x) = 0.999999993922529\n",
      "x = 1e-09, f(x) = 1.000000082740371\n",
      "x = 1e-10, f(x) = 1.000000082740371\n",
      "x = 1e-11, f(x) = 1.000000082740371\n",
      "x = 1e-12, f(x) = 1.000088900582341\n",
      "x = 1e-13, f(x) = 0.9992007221626409\n",
      "x = 1e-14, f(x) = 0.9992007221626409\n",
      "x = 1e-15, f(x) = 1.1102230246251565\n"
     ]
    }
   ],
   "source": [
    "# Definition der Funktion f(x) = (e^x - 1)/x\n",
    "def f(x):\n",
    "        return (np.exp(x) - 1) / x\n",
    "\n",
    "\n",
    "# Bereich 1: x = 10^(-1) bis 10^(-15)\n",
    "# Erzeuge die Werte x = 10^(-1), 10^(-2), ..., 10^(-15)\n",
    "input_numbers = np.array([10**(-i) for i in range(1, 16)])\n",
    "result_limits = f(input_numbers)\n",
    "\n",
    "#Ausgabe\n",
    "for x_val, fx in zip(input_numbers, result_limits):\n",
    "# Die Anwendung von zip gibt einen Iterator zurück, der in der Lage ist Tupel zu erzeugen\n",
    "    print(f\"x = {x_val:.0e}, f(x) = {fx}\")"
   ]
  },
  {
   "cell_type": "code",
   "execution_count": 46,
   "id": "57fcfa50-0942-4861-be87-914dea652464",
   "metadata": {
    "editable": true,
    "nbgrader": {
     "grade": false,
     "grade_id": "cell-86fd557d439b5a41",
     "locked": false,
     "schema_version": 3,
     "solution": true,
     "task": false
    },
    "slideshow": {
     "slide_type": ""
    },
    "tags": []
   },
   "outputs": [
    {
     "name": "stdout",
     "output_type": "stream",
     "text": [
      "x = 1e-16, f(x) = 0.0\n",
      "x = 1e-17, f(x) = 0.0\n",
      "x = 1e-18, f(x) = 0.0\n",
      "x = 1e-19, f(x) = 0.0\n",
      "x = 1e-20, f(x) = 0.0\n"
     ]
    }
   ],
   "source": [
    "# Bereich 2: x = 10^(-16) bis 10^(-20)\n",
    "input_numbers_2 = np.array([10**(-i) for i in range(16, 21)])\n",
    "result_limits_2 = f(input_numbers_2)\n",
    "\n",
    "#Ausgabe\n",
    "for x_val, fx in zip(input_numbers_2, result_limits_2):\n",
    "# Die Anwendung von zip gibt einen Iterator zurück, der in der Lage ist Tupel zu erzeugen\n",
    "    print(f\"x = {x_val:.0e}, f(x) = {fx}\")"
   ]
  },
  {
   "cell_type": "markdown",
   "id": "b8c3d7c4-f496-4dc3-90ef-0521b232b74a",
   "metadata": {
    "deletable": false,
    "editable": false
   },
   "source": [
    "<!-- BEGIN QUESTION -->\n",
    "\n",
    "**Aufgabe:** Was fällt auf? Welche Erklärung haben Sie für das Ergebnis? (Ausführliche Erklärung erforderlich) \n",
    "\n",
    "_Points:_ 12"
   ]
  },
  {
   "cell_type": "markdown",
   "id": "746bd18f",
   "metadata": {},
   "source": [
    "<span style=\"color: brown;\" title=\"Ahmed\">\n",
    "    \n",
    "<h2> Erklärung des Verhaltens der Funktion bei kleinen x-Werten </h2>\n",
    "\n",
    "Für Werte von x zwischen `1e-01` bis `1e-14` liefert die Funktion erwartungsgemäß Ergebnisse nahe bei **1**. Ab etwa 1e-15 treten jedoch drastische Änderungen auf, die durch Rundungsfehler bei der Berechnung von `e^x - 1` bedingt sind. Besonders bei sehr kleinen x-Werten wird der Unterschied zwischen `e^x` und `1` auf dem Computer nicht mehr erkennbar, was zu fehlerhaften Ergebnissen führt. Eine stabilere Berechnung kann durch die Verwendung der Funktion `np.expm1(x)` von NumPy erreicht werden.\n",
    "\n",
    "\n",
    "Von `1e-01` bis `1e-14` ergibt die Funktion erwartungsgemäß Werte, die sehr nahe bei **1** liegen.  Doch ab etwa `1e-15` ändert sich das Verhalten drastisch:\n",
    "\n",
    "`x = 1e-15, f(x) = 1.1102230246251565`\n",
    "\n",
    "`x = 1e-16, f(x) = 0.0`\n",
    "\n",
    "`x = 1e-17, f(x) = 0.0`  \n",
    "...\n",
    "\n",
    "**Bei genauerer Betrachtung** sieht man, dass bereits ab `1e-08` praktisch keine Annäherung mehr an den Soll-Grenzwert stattfindet. Die Berechnung \"divergiert numerisch\".\n",
    "\n",
    "| Phänomen                    | Beschreibung                                                                |\n",
    "|-----------------------------|------------------------------------------------------------------------------|\n",
    "| Katastrophale [Auslöschung]( https://de.m.wikipedia.org/wiki/Ausl%C3%B6schung_%28numerische_Mathematik%29 )   | Verlust signifikanter Ziffern durch Subtraktion ähnlicher Zahlen             |\n",
    "| Numerische Instabilität     | Instabiles Verhalten bei kleinen Änderungen der Eingabe                      |\n",
    "| Rundungsfehlerakkumulation  | Anhäufung von Maschinenfehlern durch viele Rechenoperationen                 |\n",
    "| (Numerische) Divergenz      | Umgangssprachlich, wenn das Ergebnis sich vom Sollwert entfernt              |\n",
    "\n",
    "### Ergebnisbeobachtung\n",
    "\n",
    "Ab etwa $x \\approx 10^{-16}$ treten numerische Rundungsfehler sichtbar auf, abhängig von der Maschinengenauigkeit (`float64`).\n",
    "\n",
    "<h3> Erklärung: Rundungsfehler </h3>\n",
    "\n",
    "Für sehr kleine `x` gilt näherungsweise:  \n",
    "`exp(x) ≈ 1 + x`\n",
    "\n",
    "Wenn `x` so klein wird, dass `e^x` und `1` auf dem Computer **nicht mehr unterscheidbar** sind, wird der Ausdruck `e^x - 1` **numerisch ungenau** (_null_), da beide Terme sehr nah beieinander liegen → Verlust signifikanter Stellen.\n",
    "\n",
    "> Beispiel:  \n",
    "> `x = 1e-17` → `exp(x) ≈ 1.00000000000000001`  \n",
    "> Die Differenz `e^x - 1` ist kleiner als die **Maschinengenauigkeit** `ε` (Epsilon).  \n",
    "> Deshalb wird `e^x - 1` vom Computer als **0.0** berechnet, da ein 64-Bit-Gleitkommawert (float64) **nicht mehr ausreichend genau** ist.\n",
    "\n",
    "<h3> Lösung: Stabilere Berechnung mit NumPy </h3>\n",
    "\n",
    "NumPy bietet mit `np.expm1(x)` eine spezielle Funktion an, die den Ausdruck `exp(x) - 1` **numerisch stabiler** berechnet – insbesondere für sehr kleine `x`.\n",
    "\n",
    "</span>"
   ]
  },
  {
   "cell_type": "markdown",
   "id": "fbebcba7-6b66-4460-b800-047e9637e160",
   "metadata": {
    "deletable": false,
    "editable": false
   },
   "source": [
    "<!-- END QUESTION -->\n",
    "\n",
    "## Gauß-Verfahren und LU-Zerlegung (60 Punkte) \n",
    "Obwohl man, wie wir sehen werden, lineare Gleichungssysteme einfach mit SciPy lösen kann, wollen wir in dieser Aufgabe  einmal selbst eine sogenannte LU-Zerlegung bzw. das Gauß-Verfahren implementieren. Außerdem werden wir diesen Code auch später noch verwenden, wenn wir uns mit Performance-Optimierung und Parallelisierung beschäftigen.\n",
    "\n",
    "Das Gauß-Verfahren ist ein wichtiges Verfahren zum Lösen von linearen Gleichungssystemen, wir gehen hier schrittweise mit der Implementierung vor."
   ]
  },
  {
   "cell_type": "markdown",
   "id": "042b609c-9e98-4b51-a92a-71fd72e1ac6c",
   "metadata": {
    "deletable": false,
    "editable": false
   },
   "source": [
    "**Aufgabe:** Implementieren Sie die Funktion `b_solve` zur Lösung einer Dreiecksgleichung der Form:\n",
    "\n",
    "$\\left[ {\\begin{array}{cccc} \n",
    "a_{11} & a_{12} & \\cdots & a_{1n}\\\\ \n",
    "0 & a_{22} & \\cdots & a_{2n}\\\\ \n",
    "\\vdots & \\vdots & \\ddots & \\vdots \\\\ \n",
    "0 & 0 & \\cdots & a_{nn}\\\\ \n",
    "\\end{array} } \\right] \\left[{\\begin{array}{c}  \n",
    "x_1\\\\ \n",
    "x_2\\\\ \n",
    "\\vdots\\\\ \n",
    "x_n\\\\ \n",
    "\\end{array}}\\right] =  \n",
    "\\left[{\\begin{array}{c}  \n",
    "b_1\\\\ \n",
    "b_2\\\\ \n",
    "\\vdots\\\\ \n",
    "b_n\\\\ \n",
    "\\end{array}}\\right]$ \n",
    "\n",
    "Hier beginnt man mit der Löung der letzten Zeile, denn es gilt:\n",
    "\n",
    "$x_n = b_n/a_{nn} $\n",
    "und dann\n",
    "\n",
    "$x_{n-1} =  (b_{n-1}-a_{(n-1),n}*x_{n})/a_{(n-1),(n-1)}$\n",
    "\n",
    "$x_{n-2} =  (b_{n-2}-(a_{(n-2),n}*x_{n}+a_{(n-2),(n-1)}*x_{n-1})/a_{(n-2),(n-2)}$\n",
    "\n",
    "\n",
    "*Hinweis*: Achten Sie darauf, dass ihr Code nicht nur korrekt, sondern auch effizient ist. \n",
    "\n",
    "_Points:_ 12"
   ]
  },
  {
   "cell_type": "markdown",
   "id": "aabbf72e",
   "metadata": {},
   "source": [
    "<span style=\"color:blue\">\n",
    "\n",
    "  <h2>Rückwärtssubstitution</h2>\n",
    "\n",
    "Im Folgenden wird eine Funktion zur Lösung eines linearen Gleichungssystems mit einer oberen Dreiecksmatrix implementiert. Diese sogenannte Rückwärtssubstitution stellt einen zentralen Schritt im Rahmen des Gauß-Verfahrens dar. Dabei wird die Lösung des Systems zeilenweise von unten nach oben bestimmt. Die Implementierung legt besonderen Wert auf numerische Stabilität und Effizienz. \n",
    "\n",
    "</span>"
   ]
  },
  {
   "cell_type": "code",
   "execution_count": 47,
   "id": "e905df91",
   "metadata": {},
   "outputs": [],
   "source": [
    "def b_solve(A, b):\n",
    "    \"\"\"Löst ein lineares Gleichungssystem Ax = b wobei A eine obere Dreiecksmatrix ist\"\"\"\n",
    "\n",
    "    x = np.zeros_like(b, dtype=np.float64)  # Vektor für die Lösung, initialisiert mit Nullen\n",
    "    A = A.astype(np.float64)  # Sicherstellen, dass mit floats gerechnet wird\n",
    "    b = b.astype(np.float64) \n",
    "    \n",
    "    # Rückwärtssubstitution\n",
    "    for i in range(len(b) - 1, -1, -1):  \n",
    "        # Berechnung der Summe der Produkte der bekannten x-Werte\n",
    "        summation = np.dot(A[i, i + 1:], x[i + 1:]) # hier wird die Vektorisierung, die numpy zur Verfügung stellt, benutzt, um die Effizienz zu erhöhen\n",
    "        x[i] = (b[i] - summation) / A[i, i]  # Berechnung des aktuellen x[i]\n",
    "    return x"
   ]
  },
  {
   "cell_type": "code",
   "execution_count": 48,
   "id": "168d884c",
   "metadata": {},
   "outputs": [
    {
     "name": "stdout",
     "output_type": "stream",
     "text": [
      "Test bestanden. Ax = b, x = [ 0.1427651  -1.25919492 -1.89656567 -1.0508303   3.39340802]\n"
     ]
    }
   ],
   "source": [
    "# Test zur Korrektheit der Funktion b_solve\n",
    "\n",
    "# A als obere Dreiecksmatrix zufällig erschaffen\n",
    "rng = np.random.default_rng(seed=123)\n",
    "n = 5\n",
    "A = rng.random((n, n))\n",
    "for i in range(n):\n",
    "    A[i+1:, i] = 0.    \n",
    "b = rng.random(n) # zufälliger Vektor b\n",
    "x = b_solve(A, b) # Berechnung von x mit der Funktion b_solve\n",
    "\n",
    "#Test , np.allclose prüft auf approximale Gleichheit in Gleitpunktzahlen\n",
    "assert np.allclose(np.dot(A, x), b), \"Ergebnisse weichen zu stark ab\"\n",
    "print(\"Test bestanden. Ax = b, x =\", x) "
   ]
  },
  {
   "cell_type": "markdown",
   "id": "fe99d15b-1ef5-4c19-8384-624e451b45bd",
   "metadata": {
    "deletable": false,
    "editable": false
   },
   "source": [
    "**Aufgabe:** Implementieren Sie die LU-Zerlegung einer Matrix mit Pivotisierung.  \n",
    "Die Funktion `lu_decomposition` soll die Matrizen L und U berechnen.  \n",
    "Zu Beginn wird der Funktion eine Matrix A übergeben.  \n",
    "\n",
    "\n",
    "Implementieren Sie die Funktion \"in-place\", d.h. die Ergebnisse für L und U werden direkt in A geschrieben.  \n",
    "Dabei wird die ursprüngliche Matrix überschrieben.  \n",
    "Die Funktion gibt den Pivot-Vektor zurück, der die folgende Form haben sollte:\n",
    "\n",
    "$ \n",
    "P=\\left[{\\begin{array}{ccc} \n",
    "0 & 1& 0\\\\ \n",
    "0 & 0& 1\\\\ \n",
    "1 & 0& 0\\\\ \n",
    "\\end{array} } \\right] \\Rightarrow \\left[{\\begin{array}{c}  \n",
    "1\\\\ \n",
    "2\\\\ \n",
    "0\\\\ \n",
    "\\end{array}}\\right] \n",
    "$ \n",
    "\n",
    "D.h. es wird nur der Index des Wertes in jeder Zeile gespeichert, der nicht Null ist.\n",
    "\n",
    "Wenn man dies macht, kann man später für die Lösung einfach den Vektor `bc = b[P]` verwenden, um auch $b$ richtig zu pivotisieren.  \n",
    "\n",
    "Hinweise: \n",
    "- Die Pivot-Zeile lässt sich am einfachsten mit `np.argmax` finden. Die Zeile mit dem höchsten Betrag können Sie mit `np.abs` finden.\n",
    "\n",
    "- Tauschen zweier Elemente in einem NumPy Array: `v[[a, b]] = v[[b, a]]`\n",
    "\n",
    "- Versuchen Sie, die interne Vektorisierung von NumPy im Eliminationsschritt zu nutzen. Verwenden Sie dazu die Slicing-Syntax, um die innerste Schleife zu ersetzen.\n",
    "\n",
    "_Points:_ 15"
   ]
  },
  {
   "cell_type": "markdown",
   "id": "af1572ca",
   "metadata": {},
   "source": [
    "<span style=\"color: blue;\">\n",
    "  <h2>LU-Zerlegung mit Pivotisierung</h2>\n",
    "\n",
    "\n",
    "Im folgenden Code wird die LU-Zerlegung einer Matrix A mit Pivotisierung implementiert. Die Matrix A wird in-place in die Form A = LU zerlegt, wobei U die obere Dreiecksmatrix inklusive der Diagonalen ist. L ist der Teil darunter wobei L eigentlich auf ihrer eigenen Diagonale stets den Wert 1 enthält, was hier jodoch nicht beachtet werden muss. Zusätzlich wird ein Pivot-Vektor zurückgegeben, der die Zeilenvertauschung anzeigt. Die Berechnung erfolgt in-place und nutzt NumPy für effiziente Vektorisierung.\n",
    "</span>"
   ]
  },
  {
   "cell_type": "code",
   "execution_count": 49,
   "id": "7e01d874-1715-40b2-918f-be10435918b5",
   "metadata": {
    "nbgrader": {
     "grade": false,
     "grade_id": "cell-b482047b4df4ac5e",
     "locked": false,
     "schema_version": 3,
     "solution": true,
     "task": false
    },
    "tags": []
   },
   "outputs": [],
   "source": [
    "def lu_decomposition(A):\n",
    "    \"\"\"L und U Matrix werden innerhalb von A Matrix berechnet und der Pivot-Vektor wird ausgegeben\"\"\"\n",
    "    \n",
    "    n = A.shape[0]\n",
    "    P = np.arange(n)\n",
    "    for k in range(n):\n",
    "        \n",
    "        # Pivotisierung: Index der Zeile mit größtem Betrag in Spalte k finden\n",
    "        pivot_index = np.argmax(np.abs(A[k:n, k])) + k\n",
    "        if A[pivot_index, k] == 0:\n",
    "            raise ValueError(\"Matrix ist singulär.\")\n",
    "            \n",
    "        # Zeilen tauschen in A\n",
    "        if pivot_index != k:\n",
    "            A[[k, pivot_index], :] = A[[pivot_index, k], :]\n",
    "            P[[k, pivot_index]] = P[[pivot_index, k]]\n",
    "        \n",
    "        A[k+1:n, k] /= A[k, k]    # Berechnung L unterhalb der Diagonale        \n",
    "        A[k+1:n, k+1:n] -= np.outer(A[k+1:n, k], A[k, k+1:n])    # Berechnung U obere Dreiecksmatrix inklusive Diagonale\n",
    "\n",
    "    return P #Pivot-Vektor"
   ]
  },
  {
   "cell_type": "markdown",
   "id": "07c84b58-28da-495c-a9e2-4e96ba537eb9",
   "metadata": {
    "deletable": false,
    "editable": false
   },
   "source": [
    "<!-- BEGIN QUESTION -->\n",
    "\n",
    "**Aufgabe:** Schreiben Sie eine Funktion `custom_solve`, welche mit Hilfe von `lu_decomposition` ein lineares Gleichungssystem der Form $A*x=b$ löst.  \n",
    "\n",
    "Hinweis: Versuchen Sie, die interne Vektorisierung von NumPy zu nutzen. Verwenden Sie dazu die Slicing-Syntax, um die innerste Schleife zu ersetzen.\n",
    "\n",
    "_Points:_ 12"
   ]
  },
  {
   "cell_type": "markdown",
   "id": "762a6302",
   "metadata": {},
   "source": [
    "<span style=\"color: blue;\">\n",
    "  <h2>Lösen mit custom_solve</h2>\n",
    "\n",
    "Zuerst stellt die Funktion custom_solve sicher, dass Matrix A und Vektor b im float Datentyp vorliegen. Die Berechnungen werden ansonsten scheitern wenn ein Array im Datentyp integer vorliegt. Unter Verwendung der Funktion lu_decomposition wird die LU-Zerlegung von A vorgenommen. Hierbei musste A zur Sicherstellung des Datentyps kopiert werden, wird aber danach wärend der Zerlegung in-place verändert. Diese Veränderungen sind nur innerhalb der Funktion sichtbar. Eine zusätzliche Funktion l_solve dient dazu mittels Vorwärtssubstitution Ly = b[P] zu lösen. Danach kann die bekannte Funktion b_solve verwendet werden um Ux = y zu lösen. Hierbei wird nur der jeweils relevante Teil des veränderten A verwendet wodurch die Funktionen sowohl speicher- als auch recheneffizient arbeiten.\n",
    "\n",
    "</span>"
   ]
  },
  {
   "cell_type": "code",
   "execution_count": 50,
   "id": "ef6c6d07-df37-4011-b913-be1719ffb094",
   "metadata": {
    "nbgrader": {
     "grade": false,
     "grade_id": "cell-e08e49ee4f4639ff",
     "locked": false,
     "schema_version": 3,
     "solution": true,
     "task": false
    },
    "tags": []
   },
   "outputs": [],
   "source": [
    "def l_solve(A, y):\n",
    "    \"\"\"Lösen von Ly = b[P] mit Vorwärtssubstitution. L ist untere Dreiecksmatrix mit Einheitsdiagonale\"\"\"\n",
    "    \n",
    "    # b[P] wird direkt als Parameter y übergeben und inplace berechnet\n",
    "    n = y.shape[0]   \n",
    "    # Vorwärtssubstitution\n",
    "    for i in range(n):        \n",
    "        y[i] -= np.dot(A[i,:i], y[:i])\n",
    "    return y\n",
    "\n",
    "def custom_solve(A, b):\n",
    "    \"\"\"Löst ein lineares Gleichungssystem Ax = b mittels LU-Zerlegung und gib Vektor x aus\"\"\"   \n",
    "    \n",
    "    A = A.astype(np.float64)    # Sicherstellen, dass mit floats gerechnet wird\n",
    "    b = b.astype(np.float64)\n",
    "    \n",
    "    P = lu_decomposition(A)    # Pivot-Vektor und A (welches LU-Zerlegung enthält) werden berechnet   \n",
    "    y = l_solve(A, b[P])    # Ly = b[P] wird gelöst für y     \n",
    "    x = b_solve(A, y)    # Ux = y wird gelöst für x    \n",
    "    return x"
   ]
  },
  {
   "cell_type": "markdown",
   "id": "5907a29b-90dc-4efa-a124-5a246a1270c3",
   "metadata": {
    "deletable": false,
    "editable": false
   },
   "source": [
    "<!-- END QUESTION -->\n",
    "\n",
    "<!-- BEGIN QUESTION -->\n",
    "\n",
    "**Aufgabe:** Schreiben Sie eine Testfunktion, die überprüft, ob die Lösung ihrer Implementierung des Gauß-Verfahrens richtig ist.  \n",
    "Testen Sie Gleichungssysteme der Größe $16 \\times 16$, $32\\times 32$ und $64 \\times 64$.\n",
    "\n",
    "Sie können zum Vergleich die SciPy Funktion `linalg.solve` verwenden:\n",
    "\n",
    "_Points:_ 6"
   ]
  },
  {
   "cell_type": "code",
   "execution_count": 51,
   "id": "e5fb20a9-a354-4b3d-8890-8870d825d730",
   "metadata": {
    "nbgrader": {
     "grade": false,
     "grade_id": "cell-f6a6bc3ba063c4a4",
     "locked": false,
     "schema_version": 3,
     "solution": true,
     "task": false
    },
    "tags": []
   },
   "outputs": [
    {
     "name": "stdout",
     "output_type": "stream",
     "text": [
      "Test bestanden für Dimension 16 x 16\n",
      "Test bestanden für Dimension 32 x 32\n",
      "Test bestanden für Dimension 64 x 64\n"
     ]
    }
   ],
   "source": [
    "def test_custom_solve(n):\n",
    "    \"\"\"testet Ergebnisse von custom_solve für Matrix A von Dimension n\"\"\"\n",
    "    \n",
    "    rng = np.random.default_rng(seed=123)\n",
    "    A = rng.random((n, n))\n",
    "    b = rng.random(n)\n",
    "    linalg_x = linalg.solve(A, b)    \n",
    "    custom_x = custom_solve(A, b)\n",
    "\n",
    "    #sicherstellen, dass Ergebnisse gleich sind, float-Unpräzision ignorieren\n",
    "    assert np.allclose(linalg_x, custom_x), f\"Ergebnisse weichen zu stark ab bei Dimension {n}\"    \n",
    "    print(f\"Test bestanden für Dimension {n} x {n}\")\n",
    "\n",
    "\n",
    "\n",
    "# Vergleicht Ergebnisse von custom_solve mit linalg.solve mittels assert-Bedingung\n",
    "for n in [16, 32, 64]:\n",
    "    test_custom_solve(n)"
   ]
  },
  {
   "cell_type": "markdown",
   "id": "e97554ab-09a1-43cb-961e-07fbe305d009",
   "metadata": {
    "deletable": false,
    "editable": false
   },
   "source": [
    "<!-- END QUESTION -->\n",
    "\n",
    "**Aufgabe:** Wir wollen nun weiter die *fertigen* SciPy Funktionen betrachten. Mit den Funktionen `lu` und `lu_factor` aus dem Packet `scipy.linalg `  können Sie eine LU-Dekomposition durchführen [[1]](https://docs.scipy.org/doc/scipy/reference/generated/scipy.linalg.lu_factor.html#scipy.linalg.lu_factor) und [[2]](https://docs.scipy.org/doc/scipy/reference/generated/scipy.linalg.lu.html).  \n",
    "Beide Funktionen haben unter anderem den Parameter `overwrite_a`, der `False` oder `True` sein kann. \n",
    "\n",
    "Evaluieren Sie die Performance (Laufzeit) der LU-Zerlegung einer 4096x4096 Matrix, wenn Sie jeweils die Funktionen `lu_factor` und `lu` mit `overwrite_a = True` oder `overwrite_a = False` verwenden.\n",
    "\n",
    "In der Liste `minimums` sollen die minimalen Laufzeiten in folgender Reihenfolge stehen:\n",
    "1. `lu_factor` mit `overwrite_a = False`\n",
    "2. `lu_factor` mit `overwrite_a = True`\n",
    "3. `lu` mit `overwrite_a = False`\n",
    "4. `lu` mit `overwrite_a = True`\n",
    "\n",
    "Hinweis: Da die Matrix A bei der Verwendung von `overwrite_a = True` verändert wird, kann es zu einer Vereinfachung der Berechnung kommen, wenn die Funktion mehrfach nacheinander ausgeführt wird. Aus diesem Grund muss die `timeit` Funktion [repeat](https://docs.python.org/3/library/timeit.html#timeit.repeat) mit `repeat = 2` und `number = 1`  verwendet werden. Die Matrix wird im `setup` Parameter erstellt (aus Zufallswerten mit dem vorgegebenen \"random number generator\").\n",
    "\n",
    "_Points:_ 6"
   ]
  },
  {
   "cell_type": "markdown",
   "id": "b28672ee",
   "metadata": {},
   "source": [
    "<span style=\"color: blue;\">\n",
    "  <h2>Laufzeitenanalyse mit repeat</h2>\n",
    "\n",
    "Die Laufzeitenanalyse zeigt, dass lu_factor schneller ist als lu.\n",
    "Die Verwendung von overwrite_a=True führt zu leicht besseren (niedrigeren) Resultaten.    \n",
    "Die Erhöhung der repetitions kann die Erbebnisse konstanter machen.\n",
    "Je nach System können die Laufzeiten variieren.\n",
    "\n",
    "</span>"
   ]
  },
  {
   "cell_type": "code",
   "execution_count": 62,
   "id": "3b6bc562-608a-4f7e-b2a3-2f63d0447f85",
   "metadata": {
    "nbgrader": {
     "grade": false,
     "grade_id": "cell-5978db060fba8a0d",
     "locked": false,
     "schema_version": 3,
     "solution": true,
     "task": false
    },
    "tags": []
   },
   "outputs": [
    {
     "name": "stdout",
     "output_type": "stream",
     "text": [
      "Funktionsaufruf                  min. Laufzeit\n",
      "lu_factor(A, overwrite_a=False): 1.047826\n",
      "lu_factor(A, overwrite_a=True) : 1.050137\n",
      "lu(A, overwrite_a=False)       : 1.412807\n",
      "lu(A, overwrite_a=True)        : 1.353652\n"
     ]
    }
   ],
   "source": [
    "n = 4096\n",
    "number = 1\n",
    "repetitions = 2\n",
    "\n",
    "\n",
    "# Liste der verwendeten Funktiosaufrufe\n",
    "f_list = [\"lu_factor(A, overwrite_a=False)\", \"lu_factor(A, overwrite_a=True)\", \"lu(A, overwrite_a=False)\", \"lu(A, overwrite_a=True)\"]\n",
    "\n",
    "# spezialisierte repeat Funktion wird vorbereitet\n",
    "setup = \"rng = np.random.default_rng(seed=123); A = rng.random((n, n))\"\n",
    "repeat_lambda = lambda x: repeat(x, setup, repeat=repetitions, number=number, globals=globals())\n",
    "\n",
    "minimums = [min(repeat_lambda(x)) for x in f_list]    # alle kürzesten Ausführungszeiten werden in minimums gespeichert            \n",
    "\n",
    "print(f\"{'Funktionsaufruf':<31}  min. Laufzeit\") \n",
    "for f, m in zip(f_list, minimums):\n",
    "    print(f\"{f:<31}: {m:.6f}\")"
   ]
  },
  {
   "cell_type": "markdown",
   "id": "0c447785-1c5f-42ae-a1cb-d7cce6c3e45a",
   "metadata": {
    "deletable": false,
    "editable": false
   },
   "source": [
    "**Aufgabe:** Untersuchen Sie den Speicherverbrauch der 4 Varianten mit memray.\n",
    "\n",
    "Um den Einfluss der anderen Berechnungen zu minimieren, empfehlen wir hier, die Berechnungen in eine neue Datei zu schreiben und mit `!` in einer Code-Zelle memray's command-line Interface zu verwenden. \n",
    "\n",
    "Am besten tracen Sie nur die LU Funktion mit einem Context Manager!\n",
    "Verwenden Sie jeweils folgende Dateinamen als `file_name` Parameter in `memray.Tracker`:\n",
    "\n",
    "- lu_inplace.bin\n",
    "- lu_notinplace.bin\n",
    "- lu_factor_inplace.bin\n",
    "- lu_factor_notinplace.bin\n",
    "\n",
    "Beantworten Sie bitte die folgenden Fragen:\n",
    "* Welche Version verwendet am meisten Speicher? \n",
    "* Bei welcher Version ist der Speicherverbrauch am konstantesten? \n",
    "\n",
    "_Points:_ 9"
   ]
  },
  {
   "cell_type": "markdown",
   "id": "2aeac3ac",
   "metadata": {},
   "source": [
    "<span style=\"color: blue;\">\n",
    "  <h2>Analyse des Speicherverbrauch mit memray</h2>\n",
    "\n",
    "Im ersten Schritt werden alle ausführbaren .py files erstellt. Hierzu werden die Inhalte nacheinander in eigene files mittels file I/O context manager \"with open(...) as ...\" geschrieben. Dies wäre auch einzeln mittels line magic %file file_name gefolgt vom Inhalt möglich gewesen, ist so aber effizienter. Damit mit memray gearbeitet werden kann, muss das Paket installiert und importierbar sein. Danach können alle .py files ausgeführt werden. (Auch einzeln möglich mit line magic beginnend mit \"!\") Memray erstellt dabei die .bin files. Diese enthalten die Infos zum Speicherbedarf. Falls die .bin files schon im Verzeichnis existieren, müssen sie zuvor gelöscht werden mit z.B einem rm Befehl. Alle Speicherallokationen der Funktionen werden in einer Zelle aufgeführt, können aber auch einzeln mit memray command-line Interaktion ausgelesen werden.\n",
    "</span>"
   ]
  },
  {
   "cell_type": "code",
   "execution_count": 54,
   "id": "e1f13582-71a9-4c1a-81fc-d400598964a3",
   "metadata": {
    "tags": []
   },
   "outputs": [
    {
     "name": "stdout",
     "output_type": "stream",
     "text": [
      "file erstellt: lu_inplace.py\n",
      "file erstellt: lu_notinplace.py\n",
      "file erstellt: lu_factor_inplace.py\n",
      "file erstellt: lu_factor_notinplace.py\n"
     ]
    }
   ],
   "source": [
    "# Liste mit Namen der späteren .bin files\n",
    "file_names = [\"lu_inplace.bin\", \"lu_notinplace.bin\", \"lu_factor_inplace.bin\", \"lu_factor_notinplace.bin\"]\n",
    "\n",
    "# diese Funktion gibt spezifischen Inhalt eines zu erstellenden .py files wieder\n",
    "text_lambda = lambda file_name:\\\n",
    "f\"\"\"\n",
    "import numpy as np\n",
    "from scipy.linalg import lu_factor, lu\n",
    "import memray\n",
    "\n",
    "n = 8192\n",
    "rng = np.random.default_rng(seed=123)\n",
    "A = rng.random((n, n))\n",
    "\n",
    "with memray.Tracker(\"{file_name}\", native_traces=True, memory_interval_ms=1):\n",
    "    lu{\"_factor\" if \"_factor\" in file_name else \"\"}(A, overwrite_a={\"_inplace\" in file_name})\n",
    "\"\"\"\n",
    "\n",
    "# alle .py files werden erstellt\n",
    "for bin_name in file_names:\n",
    "    py_name = bin_name.replace(\".bin\", \".py\")\n",
    "    with open(py_name, \"w\") as file:        \n",
    "        file.write(text_lambda(bin_name))\n",
    "        print(\"file erstellt:\", py_name)"
   ]
  },
  {
   "cell_type": "code",
   "execution_count": 55,
   "id": "9589f383-a893-4d90-93ae-c2b1f44e5d36",
   "metadata": {
    "tags": []
   },
   "outputs": [],
   "source": [
    "# alle .py files werden ausgeführt in python3 um .bin Dateien zu erstellen\n",
    "# falls .bin Datei schon existiert, wird sie gelöscht\n",
    "for bin_name in file_names:\n",
    "    if os.path.exists(bin_name):\n",
    "        os.remove(bin_name)    \n",
    "    os.system(f\"python3 {bin_name.replace('.bin', '.py')}\")"
   ]
  },
  {
   "cell_type": "code",
   "execution_count": 56,
   "id": "19be799c",
   "metadata": {},
   "outputs": [
    {
     "name": "stdout",
     "output_type": "stream",
     "text": [
      "Speicherallokation von lu_inplace           : 1632MB, 1.594GB, Matrix 3 mal allokiert\n",
      "Speicherallokation von lu_notinplace        : 2144MB, 2.094GB, Matrix 4 mal allokiert\n",
      "Speicherallokation von lu_factor_inplace    : 608MB, 0.594GB, Matrix 1 mal allokiert\n",
      "Speicherallokation von lu_factor_notinplace : 608MB, 0.594GB, Matrix 1 mal allokiert\n",
      "\n",
      "\u001b[2K  \u001b[36mComputing statistics...\u001b[0m \u001b[90m━━━━━━━━━━━━━━━━━━━━━━━━━━━━━━━━━━━━━━━━\u001b[0m \u001b[35m100%\u001b[0m \u001b[36m0:00:00\u001b[0m--:--\u001b[0m\n",
      "\u001b[1A\u001b[2K📏 \u001b[1mTotal allocations:\u001b[0m\n",
      "\t9\n",
      "\n",
      "📦 \u001b[1mTotal memory allocated:\u001b[0m\n",
      "\t608.041MB\n",
      "\n",
      "📊 \u001b[1mHistogram of allocation size:\u001b[0m\n",
      "\tmin: 32.000B\n",
      "\t----------------------------------------\n",
      "\t< 168.000B : 1 ▇▇▇▇▇▇▇▇▇\n",
      "\t< 891.000B : 3 ▇▇▇▇▇▇▇▇▇▇▇▇▇▇▇▇▇▇▇▇▇▇▇▇▇\n",
      "\t< 4.595KB  : 0 \n",
      "\t< 24.251KB : 1 ▇▇▇▇▇▇▇▇▇\n",
      "\t< 128.000KB: 1 ▇▇▇▇▇▇▇▇▇\n",
      "\t< 675.588KB: 0 \n",
      "\t< 3.482MB  : 0 \n",
      "\t< 18.379MB : 0 \n",
      "\t< 97.006MB : 2 ▇▇▇▇▇▇▇▇▇▇▇▇▇▇▇▇▇\n",
      "\t<=512.000MB: 1 ▇▇▇▇▇▇▇▇▇\n",
      "\t----------------------------------------\n",
      "\tmax: 512.000MB\n",
      "\n",
      "📂 \u001b[1mAllocator type distribution:\u001b[0m\n",
      "\t MALLOC: 8\n",
      "\t MMAP: 1\n",
      "\n",
      "🥇 \u001b[1mTop \u001b[0m\u001b[1;36m5\u001b[0m\u001b[1m largest allocating locations \u001b[0m\u001b[1m(\u001b[0m\u001b[1mby size\u001b[0m\u001b[1m)\u001b[0m\u001b[1m:\u001b[0m\n",
      "\t- lu_factor:/opt/conda/lib/python3.11/site-packages/scipy/linalg/_decomp_lu.py:119 -> 544.031MB\n",
      "\t- asarray_chkfinite:/opt/conda/lib/python3.11/site-packages/numpy/lib/_function_base_impl.py:655 -> 64.000MB\n",
      "\t- _all:/opt/conda/lib/python3.11/site-packages/numpy/_core/_methods.py:74 -> 8.703KB\n",
      "\t- get_lapack_funcs:/opt/conda/lib/python3.11/site-packages/scipy/linalg/lapack.py:986 -> 678.000B\n",
      "\t- _get_funcs:/opt/conda/lib/python3.11/site-packages/scipy/linalg/blas.py:346 -> 550.000B\n",
      "\n",
      "🥇 \u001b[1mTop \u001b[0m\u001b[1;36m5\u001b[0m\u001b[1m largest allocating locations \u001b[0m\u001b[1m(\u001b[0m\u001b[1mby number of allocations\u001b[0m\u001b[1m)\u001b[0m\u001b[1m:\u001b[0m\n",
      "\t- lu_factor:/opt/conda/lib/python3.11/site-packages/scipy/linalg/_decomp_lu.py:119 -> 3\n",
      "\t- _all:/opt/conda/lib/python3.11/site-packages/numpy/_core/_methods.py:74 -> 2\n",
      "\t- asarray_chkfinite:/opt/conda/lib/python3.11/site-packages/numpy/lib/_function_base_impl.py:655 -> 2\n",
      "\t- _get_funcs:/opt/conda/lib/python3.11/site-packages/scipy/linalg/blas.py:346 -> 1\n",
      "\t- get_lapack_funcs:/opt/conda/lib/python3.11/site-packages/scipy/linalg/lapack.py:986 -> 1\n"
     ]
    },
    {
     "data": {
      "text/plain": [
       "0"
      ]
     },
     "execution_count": 56,
     "metadata": {},
     "output_type": "execute_result"
    }
   ],
   "source": [
    "#Speichernutzung wird aus allen .bin files gelesen und hier zusammengefasst\n",
    "for file_name in file_names:\n",
    "    reader = memray.FileReader(file_name)\n",
    "    mem_use = 0\n",
    "    largest_allo_size = -1    \n",
    "    \n",
    "    for allocation in reader.get_allocation_records():\n",
    "        mem_use += allocation.size\n",
    "        if allocation.size > largest_allo_size :\n",
    "            largest_allo_size = allocation.size\n",
    "            largest_allo_count = 1\n",
    "        elif allocation.size == largest_allo_size: # ganze Matrix wird erneut allokiert\n",
    "            largest_allo_count += 1        \n",
    "        \n",
    "    print(f\"Speicherallokation von {file_name[:-4]:<20} : {round(mem_use / 2**20)}MB, {round(mem_use / 2**30, 3)}GB, Matrix {largest_allo_count} mal allokiert\") \n",
    "\n",
    "print()\n",
    "# Auch die command-line Funktion von memray kann verwendet werden\n",
    "os.system(f\"memray stats {file_name}\")"
   ]
  },
  {
   "cell_type": "code",
   "execution_count": 57,
   "id": "bb30ea48",
   "metadata": {},
   "outputs": [
    {
     "data": {
      "image/png": "[encoded data removed]",
      "text/plain": [
       "<Figure size 800x400 with 1 Axes>"
      ]
     },
     "metadata": {},
     "output_type": "display_data"
    }
   ],
   "source": [
    "#misst die Veränderung der Speichernutzung während Ausführung der Funktion\n",
    "#Stellt die Verläufe in einem Graph dar\n",
    "    \n",
    "plt.figure(figsize=(8, 4))\n",
    "for file_name in file_names:\n",
    "    reader = memray.FileReader(file_name)\n",
    "    # get_memory_snapshots liefert Snapshots mit timestamp und rss\n",
    "    # rss mein \"resident set size\" also die tatsächliche Speichernutzung\n",
    "    snapshots = list(reader.get_memory_snapshots())\n",
    "    \n",
    "    start_ts = snapshots[0].time\n",
    "    start_rss = snapshots[0].rss\n",
    "    times = [s.time - start_ts for s in snapshots]\n",
    "    rss_mb = [(s.rss - start_rss) / (2**20) for s in snapshots]  # in MB    \n",
    "    plt.plot(times, rss_mb, label=file_name[:-4])    \n",
    "    \n",
    "plt.xlabel(\"Zeit (ms)\")\n",
    "plt.ylabel(\"Speicherbedarf (MB)\")\n",
    "plt.title(f\"Verlauf des Speicherbedarfs\")\n",
    "plt.legend()\n",
    "plt.grid(True)\n",
    "plt.show()"
   ]
  },
  {
   "cell_type": "markdown",
   "id": "2e63aac6",
   "metadata": {},
   "source": [
    "<span style=\"color: blue;\">\n",
    "  <h2>Analyse Speicherverbrauch Ergebnisse</h2>\n",
    "\n",
    "Die \"lu_factor\"-Funktionen verbrauchen beide am wenigsten Speicher. Ihr Speicherverbrauch ist während der Laufzeit der Funktion konstant.\n",
    "\n",
    "Funktionen mit Version \"lu\" verbrauchen deutlich mehr Speicher besonders \"lu_notinplace\". Hierbei schwankt der Speicherverbrauch auch wärend der Laufzeit wie man im Graphen erkennen kann. Ein Anstieg vom \"Resident Set Size\" bzw. Speicherverbrauch entspricht hierbei einer Allokation.  \n",
    "\"lu_factor\"-Funktionen allokieren eine Matrix der Dimension (n,n) nur ein mal, \"lu\"-Funktionen jedoch mehrfach.\n",
    "</span>"
   ]
  },
  {
   "cell_type": "code",
   "execution_count": null,
   "id": "3a150e02",
   "metadata": {},
   "outputs": [
    {
     "data": {
      "text/plain": [
       "0"
      ]
     },
     "execution_count": 63,
     "metadata": {},
     "output_type": "execute_result"
    }
   ],
   "source": [
    "# command-line Befehl zum Löschen aller erstellten files\n",
    "\n",
    "#os.system(\"rm -rf lu_* memray-*\")"
   ]
  },
  {
   "cell_type": "code",
   "execution_count": null,
   "id": "373652a1",
   "metadata": {},
   "outputs": [],
   "source": []
  }
 ],
 "metadata": {
  "kernelspec": {
   "display_name": "base",
   "language": "python",
   "name": "python3"
  },
  "language_info": {
   "codemirror_mode": {
    "name": "ipython",
    "version": 3
   },
   "file_extension": ".py",
   "mimetype": "text/x-python",
   "name": "python",
   "nbconvert_exporter": "python",
   "pygments_lexer": "ipython3",
   "version": "3.11.6"
  },
  "otter": {
   "OK_FORMAT": true,
   "assignment_name": "EA1",
   "tests": {
    "addition_ieee": {
     "name": "addition_ieee",
     "points": 12,
     "suites": [
      {
       "cases": [],
       "scored": true,
       "setup": "",
       "teardown": "",
       "type": "doctest"
      }
     ]
    },
    "addition_npsum": {
     "name": "addition_npsum",
     "points": 2,
     "suites": [
      {
       "cases": [],
       "scored": true,
       "setup": "",
       "teardown": "",
       "type": "doctest"
      }
     ]
    },
    "addition_variants": {
     "name": "addition_variants",
     "points": 6,
     "suites": [
      {
       "cases": [],
       "scored": true,
       "setup": "",
       "teardown": "",
       "type": "doctest"
      }
     ]
    },
    "limits_explanation": {
     "name": "limits_explanation",
     "points": 12,
     "suites": [
      {
       "cases": [],
       "scored": true,
       "setup": "",
       "teardown": "",
       "type": "doctest"
      }
     ]
    },
    "limits_fx": {
     "name": "limits_fx",
     "points": 8,
     "suites": [
      {
       "cases": [
        {
         "code": ">>> print(result_limits)\n[1.05170918 1.00501671 1.00050017 1.00005    1.000005   1.0000005\n 1.00000005 0.99999999 1.00000008 1.00000008 1.00000008 1.0000889\n 0.99920072 0.99920072 1.11022302]\n",
         "hidden": false,
         "locked": false
        },
        {
         "code": ">>> print(result_limits_2)\n[0. 0. 0. 0. 0.]\n",
         "hidden": false,
         "locked": false
        }
       ],
       "scored": true,
       "setup": "",
       "teardown": "",
       "type": "doctest"
      }
     ]
    },
    "linearsystem_bsolve": {
     "name": "linearsystem_bsolve",
     "points": 12,
     "suites": [
      {
       "cases": [],
       "scored": true,
       "setup": "",
       "teardown": "",
       "type": "doctest"
      }
     ]
    },
    "linearsystem_customsolve": {
     "name": "linearsystem_customsolve",
     "points": 12,
     "suites": [
      {
       "cases": [],
       "scored": true,
       "setup": "",
       "teardown": "",
       "type": "doctest"
      }
     ]
    },
    "linearsystem_customsolve_test": {
     "name": "linearsystem_customsolve_test",
     "points": 6,
     "suites": [
      {
       "cases": [],
       "scored": true,
       "setup": "",
       "teardown": "",
       "type": "doctest"
      }
     ]
    },
    "linearsystem_ludecomp": {
     "name": "linearsystem_ludecomp",
     "points": 15,
     "suites": [
      {
       "cases": [],
       "scored": true,
       "setup": "",
       "teardown": "",
       "type": "doctest"
      }
     ]
    },
    "linearsystem_scipy_memory": {
     "name": "linearsystem_scipy_memory",
     "points": 9,
     "suites": [
      {
       "cases": [],
       "scored": true,
       "setup": "",
       "teardown": "",
       "type": "doctest"
      }
     ]
    },
    "linearsystem_scipy_time": {
     "name": "linearsystem_scipy_time",
     "points": 6,
     "suites": [
      {
       "cases": [],
       "scored": true,
       "setup": "",
       "teardown": "",
       "type": "doctest"
      }
     ]
    }
   }
  }
 },
 "nbformat": 4,
 "nbformat_minor": 5
}
