{
 "cells": [
  {
   "cell_type": "code",
   "execution_count": 53,
   "id": "97230ba0-2864-4d59-bfbc-0b981f15767e",
   "metadata": {
    "tags": [
     "pyflyby-cell"
    ]
   },
   "outputs": [],
   "source": [
    "import memray\n",
    "import numpy as np\n",
    "import os\n",
    "from IPython.display import HTML, display\n",
    "from numpy           import array\n",
    "from scipy           import linalg\n",
    "from scipy.linalg    import lu, lu_factor\n",
    "from timeit          import repeat"
   ]
  },
  {
   "cell_type": "markdown",
   "id": "a8b3375c-690d-4cc3-b82b-f18cf1b02069",
   "metadata": {},
   "source": [
    "# Einsendeaufgabe 1: Numerische Genauigkeit und Gleichungssysteme (100 Punkte)\n",
    "In dieser Aufgabe sollen Sie ein wenig mehr Erfahrung mit NumPy und numerischen Methoden gewinnen.  \n",
    "Zur Erinnerung empfehle ich an dieser Stelle, die Definition der [IEEE-Fließkommazahlen](https://de.wikipedia.org/wiki/IEEE_754) zu wiederholen.  "
   ]
  },
  {
   "cell_type": "markdown",
   "id": "fc24fc52-f1bc-4378-8023-f0cb1c9607d5",
   "metadata": {},
   "source": [
    "## Addition von Zahlen (20 Punkte) \n",
    "\n",
    "Gegeben sei ein Array *array*, dass 100 mal die Zahl $10^{-16}$ enthält und einmal (als ersten Eintrag) die Zahl $1$. "
   ]
  },
  {
   "cell_type": "code",
   "execution_count": 54,
   "id": "080a3fb8-9b98-4017-b6ba-3895321b8431",
   "metadata": {},
   "outputs": [
    {
     "name": "stdout",
     "output_type": "stream",
     "text": [
      "[1.e+00 1.e-16 1.e-16 1.e-16 1.e-16 1.e-16 1.e-16 1.e-16 1.e-16 1.e-16\n",
      " 1.e-16 1.e-16 1.e-16 1.e-16 1.e-16 1.e-16 1.e-16 1.e-16 1.e-16 1.e-16\n",
      " 1.e-16 1.e-16 1.e-16 1.e-16 1.e-16 1.e-16 1.e-16 1.e-16 1.e-16 1.e-16\n",
      " 1.e-16 1.e-16 1.e-16 1.e-16 1.e-16 1.e-16 1.e-16 1.e-16 1.e-16 1.e-16\n",
      " 1.e-16 1.e-16 1.e-16 1.e-16 1.e-16 1.e-16 1.e-16 1.e-16 1.e-16 1.e-16\n",
      " 1.e-16 1.e-16 1.e-16 1.e-16 1.e-16 1.e-16 1.e-16 1.e-16 1.e-16 1.e-16\n",
      " 1.e-16 1.e-16 1.e-16 1.e-16 1.e-16 1.e-16 1.e-16 1.e-16 1.e-16 1.e-16\n",
      " 1.e-16 1.e-16 1.e-16 1.e-16 1.e-16 1.e-16 1.e-16 1.e-16 1.e-16 1.e-16\n",
      " 1.e-16 1.e-16 1.e-16 1.e-16 1.e-16 1.e-16 1.e-16 1.e-16 1.e-16 1.e-16\n",
      " 1.e-16 1.e-16 1.e-16 1.e-16 1.e-16 1.e-16 1.e-16 1.e-16 1.e-16 1.e-16\n",
      " 1.e-16]\n"
     ]
    }
   ],
   "source": [
    "\n",
    "array = np.concatenate(([1], np.full(100, 1e-16)))\n",
    "print(array) "
   ]
  },
  {
   "cell_type": "markdown",
   "id": "1f63e85a-028f-4b9f-aacb-2879fee0fd99",
   "metadata": {
    "deletable": false,
    "editable": false
   },
   "source": [
    "**Aufgabe:** Addieren Sie alle Werte in `array`:\n",
    "- mit der Funktion `np.sum()`\n",
    "- mit einer Schleife, die von **vorne nach hinten** über `array` iteriert\n",
    "- mit einer Schleife, die von **hinten nach vorne** über `array` iteriert\n",
    "\n",
    "_Points:_ 6"
   ]
  },
  {
   "cell_type": "markdown",
   "id": "53b8e941",
   "metadata": {},
   "source": [
    "<div style=\"color: brown; background-color: #f5f5dc; padding: 5px; border-radius: 5px;\" title=\"Ahmed\">\n",
    "    \n",
    "## Addition von Zahlen im Array: Unterschiedliche Berechnungsmethoden\n",
    "\n",
    "In dieser Aufgabe geht es um die Addition von Zahlen, die in einem Array gespeichert sind. Das Array besteht aus 101 Einträgen, wobei der erste Eintrag die Zahl 1 enthält und die restlichen 100 Einträge jeweils den Wert $ 1 \\times 10^{-16} $ haben. Die Aufgabe besteht darin, die Summe der Werte in diesem Array auf verschiedene Arten zu berechnen: einmal mit der `np.sum()`-Funktion und zweimal unter Verwendung von Schleifen, die das Array jeweils von vorne nach hinten bzw. von hinten nach vorne durchlaufen.\n",
    "\n",
    "<divv>"
   ]
  },
  {
   "cell_type": "code",
   "execution_count": 55,
   "id": "11b6c189-e0ee-411a-8f83-b804db3527d8",
   "metadata": {
    "tags": []
   },
   "outputs": [
    {
     "name": "stdout",
     "output_type": "stream",
     "text": [
      "Summe mit Schleife: sum_forward=np.float64(1.0)\n",
      "Summe mit umgekehrter Schleife: sum_reverse=np.float64(1.00000000000001)\n",
      "Summe mit np.sum: sum_numpy=np.float64(1.0000000000000084)\n"
     ]
    }
   ],
   "source": [
    "sum_forward = 0.0\n",
    "for x in array:\n",
    "    sum_forward += x\n",
    "print(f\"Summe mit Schleife: {sum_forward=}\")\n",
    "\n",
    "sum_reverse = 0.0\n",
    "for x in reversed(array):\n",
    "    sum_reverse += x\n",
    "print(f\"Summe mit umgekehrter Schleife: {sum_reverse=}\")\n",
    "\n",
    "sum_numpy = np.sum(array)\n",
    "print(f\"Summe mit np.sum: {sum_numpy=}\")"
   ]
  },
  {
   "cell_type": "markdown",
   "id": "8ea8b6ef-4687-47e5-9aa8-8c77d5e8d1bd",
   "metadata": {
    "deletable": false,
    "editable": false
   },
   "source": [
    "<!-- BEGIN QUESTION -->\n",
    "\n",
    "**Aufgabe:** Erklären Sie die Ergebnisse. Wie werden die Zahlen 1 und 1e-17 im Computer dargestellt? (ausführliche Erläuterung erforderlich!)  \n",
    "\n",
    "_Points:_ 12"
   ]
  },
  {
   "cell_type": "markdown",
   "id": "d595469a",
   "metadata": {},
   "source": [
    "<div style=\"color: brown; background-color: #f5f5dc; padding: 5px; border-radius: 5px;\" title=\"Ahmed\">\n",
    "    \n",
    "\n",
    "## Numerische Genauigkeit von verschiedenen Additionsverfahren\n",
    "\n",
    "### Unterschiede in der Summierung\n",
    "\n",
    "Bei der Berechnung der Summe mit unterschiedlichen Verfahren ergeben sich leicht unterschiedliche Ergebnisse:\n",
    "\n",
    "```python\n",
    "sum_numpy   = np.float64(1.0000000000000084)\n",
    "sum_forward = np.float64(1.0)\n",
    "sum_reverse = np.float64(1.00000000000001)\n",
    "```\n",
    "Diese Unterschiede entstehen durch **Rundungsfehler** in der **Gleitkommadarstellung**, die auf der begrenzten Anzahl an Bits basiert, mit der reale Zahlen intern im Computer dargestellt werden.\n",
    "\n",
    "---\n",
    "\n",
    "## Gleitkommazahlen im IEEE 754 Standard\n",
    "\n",
    "Python und NumPy verwenden standardmäßig `float64` (IEEE 754 Double Precision), das wie folgt aufgebaut ist:\n",
    "\n",
    "- **1 Bit** für das Vorzeichen  \n",
    "- **11 Bits** für den Exponenten  \n",
    "- **52 Bits** für die Mantisse  \n",
    "\n",
    "Insgesamt also **64 Bit**. Die reale Zahl wird durch folgende Formel dargestellt:\n",
    "\n",
    "```\n",
    "Zahl = (-1)^s · 1.m · 2^(e - 1023)\n",
    "```\n",
    "\n",
    "Dabei ist:\n",
    "\n",
    "- `s` das Vorzeichenbit  \n",
    "- `m` die Mantisse (ohne führende 1)  \n",
    "- `e` der gespeicherte Exponent mit **Bias** = 1023  \n",
    "\n",
    "---\n",
    "\n",
    "## Maschinengenauigkeit\n",
    "\n",
    "Die kleinste Zahl, die zu `1.0` addiert werden kann, sodass sich das Ergebnis **numerisch unterscheidet**, nennt man **Maschinengenauigkeit** oder **machine epsilon** $\\varepsilon_{\\text{mach}}$:\n",
    "\n",
    "```python\n",
    "np.finfo(float).eps\n",
    "# Ergebnis: 2.220446049250313e-16\n",
    "```\n",
    "\n",
    "Zahlen kleiner als `eps` „verpuffen“ bei der Addition zu größeren Zahlen wie `1.0`, da sie außerhalb der darstellbaren Genauigkeit der Mantisse liegen. Wenn zwei Gleitkommazahlen stark unterschiedlich groß sind, kann die kleinere Zahl beim Addieren „verschluckt“ werden – das nennt man Verlust der Signifikanz:\n",
    "\n",
    "```python\n",
    "print(1e-16 < np.finfo(float).eps)  # True\n",
    "print(1.0 + 1e-16 == 1.0)           # True\n",
    "```\n",
    "\n",
    "---\n",
    "\n",
    "## Warum liefert `sum_forward` ein anderes Ergebnis als `sum_reverse`?\n",
    "\n",
    "Angenommen:\n",
    "\n",
    "```python\n",
    "array = np.array([1.0] + [1e-16] * 100)\n",
    "```\n",
    "\n",
    "- `sum_forward` addiert zuerst `1.0` und dann viele kleine `1e-16`. Diese einzelnen Summanden sind kleiner als `eps` und **gehen verloren**.\n",
    "- `sum_reverse` addiert zuerst die kleinen `1e-16` zu einem größeren Zwischenwert (z. B. `1e-14`), der dann zu `1.0` addiert wird und sich **merklich auswirkt**.\n",
    "- `sum_numpy` verwendet oft optimierte oder paarweise Additionen (`pairwise summation`), was ebenfalls zu einem etwas besseren Ergebnis führen kann.\n",
    "\n",
    "Gleitkommazahlen sind **nicht assoziativ**, d. h.:\n",
    "\n",
    "```\n",
    "(a + b) + c ≠ a + (b + c)\n",
    "```\n",
    "\n",
    "Das bedeutet, dass die Reihenfolge der Addition das Ergebnis beeinflussen kann, besonders wenn sehr kleine Zahlen in der Summe enthalten sind.\n",
    "\n",
    "---\n",
    "\n",
    "## Darstellung der Zahl `1.0` im IEEE 754-Standard\n",
    "\n",
    "#### Mathematische Form:\n",
    "\n",
    "$\n",
    "1.0 = 1.0 \\cdot 2^0 \\\\\n",
    "\\Rightarrow \\text{Echter Exponent} = 0 \\\\\n",
    "\\Rightarrow \\text{Gespeicherter Exponent} = 0 + \\text{Bias} = 1023 = 01111111111_2\n",
    "$\n",
    "\n",
    "#### Mantisse:\n",
    "- Die Zahl `1.0` entspricht im Binärsystem: $ 1.000\\ldots0_2 $\n",
    "- Die **führende 1 vor dem Komma** wird im IEEE 754-Format **nicht gespeichert** (implizit angenommen)\n",
    "- Alle 52 Bits der Mantisse (also der Nachkommastellen) sind daher **0**\n",
    "\n",
    "#### IEEE 754-Darstellung (64 Bit – `double precision`):\n",
    "\n",
    "|      s      |   e (11 Bit)   |                    m (52 Bit)                          |\n",
    "|-------------|----------------|--------------------------------------------------------|\n",
    "|     `0`     |  `01111111111` | `0000000000000000000000000000000000000000000000000000` |\n",
    "\n",
    "#### Zusammenfassung:\n",
    "- **Vorzeichenbit (`s`)**: `0` → Zahl ist positiv  \n",
    "- **Exponent (`e`)**: 1023 → gespeichert als `01111111111`  \n",
    "- **Mantisse (`m`)**: nur Nullen (weil keine Nachkommastellen vorhanden sind)  \n",
    "- Daraus ergibt sich der dargestellte Wert:\n",
    "  \n",
    "$\n",
    "(-1)^0 \\cdot 1.0 \\cdot 2^{0} = 1.0\n",
    "$\n",
    "\n",
    "---\n",
    "\n",
    "## Darstellung der Zahl `1e-17` im IEEE 754-Standard (Double Precision)\n",
    "\n",
    "### Mathematische Zerlegung von `1e-17`\n",
    "\n",
    "### Ziel: Darstellung in der Form\n",
    "\n",
    "Wir suchen $m$ und $e$, sodass:\n",
    "\n",
    "$1e-17 = 1.m \\cdot 2^{e - 1023}$\n",
    "\n",
    "### Schritt 1: Umwandlung in Zweierpotenz\n",
    "\n",
    "Zunächst schreiben wir `1e-17` in etwa als Zweierpotenz:\n",
    "\n",
    "$1e-17 = 10^{-17} \\approx (2^{3.321928094887354...})^{-17}\\approx 2^{-3.321928094887354... \\cdot 17} \\approx 2^{-56.47}$\n",
    "\n",
    "Das bedeutet:\n",
    "\n",
    "$1e-17 \\in (2^{-57}, 2^{-56})$\n",
    "\n",
    "### Schritt 2: Rundung auf nächstliegende Zweierpotenz\n",
    "\n",
    "Da `1e-17` bzw. $2^{-56.47}$ näher an $2^{-57}$ liegt, weil:\n",
    "\n",
    "$\\lvert 2^{-56.47}-2^{-57} \\rvert = \\lvert  \\frac{1}{2^{56.47}} - \\frac{1}{2^{57}} \\rvert < \\lvert  \\frac{1}{2^{56.47}} - \\frac{1}{2^{56}} \\rvert= \\lvert 2^{-56.47} - 2^{-56} \\rvert$\n",
    "\n",
    "gilt:\n",
    "\n",
    "$1e-17 \\approx 1.m \\cdot 2^{-57}$\n",
    "\n",
    "### Schritt 3: Exponent berechnen\n",
    "\n",
    "Der effektive Exponent ist:\n",
    "\n",
    "$e_{\\text{effektiv}} = -57$\n",
    "\n",
    "Im IEEE 754 Double Precision wird der **Exponent mit Bias 1023** gespeichert:\n",
    "\n",
    "$e_{\\text{gespeichert}} = -57 + 1023 = 966$\n",
    "\n",
    "In Binär:\n",
    "\n",
    "$966_{10} = 01111000110_2$\n",
    "\n",
    "### Schritt 4: Berechnung der Mantisse\n",
    "\n",
    "Es gilt $1e-17 \\approx 1.m \\cdot 2^{-57}$ und somit $1.m = \\frac{1e-17}{2^{-57}} = 1.4411518807585587...$\n",
    "\n",
    "Wir nehmen die Nachkommastellen von `1.44115188...` und wandeln sie in Binär um. \n",
    "\n",
    "Wir schreiben `1e-17` in binärer Normalform:\n",
    "\n",
    "$1e-17 = 1.0111000011101111010101000110010001101101010010010110\\dots_2 \\cdot 2^{-57}$\n",
    "\n",
    "Die Mantisse sind **die 52 Bits nach dem Komma** (die führende $1.$ wird nicht gespeichert):\n",
    "\n",
    "### Schritt 5: Zusammensetzung der IEEE-754-Bitfolge\n",
    "\n",
    "| Feld        | Wert                                                         |\n",
    "|-------------|--------------------------------------------------------------|\n",
    "| Vorzeichen  | `0` (da positiv)                                             |\n",
    "| Exponent    | `01111000110` (`11` Bit für `966`)                           |\n",
    "| Mantisse    | `0111000011101111010101000110010001101101010010010110`       |\n",
    "\n",
    "\n",
    "### Gesamter 64-Bit-IEEE-754-Code (Binär)\n",
    "\n",
    "Die IEEE-754-Bitfolge sieht wie folgt aus (in 64 Bit):\n",
    "|      s      |   e (11 Bit)   |                    m (52 Bit)                          |\n",
    "|-------------|----------------|--------------------------------------------------------|\n",
    "|     `0`     |  `01111000110` | `0111000011101111010101000110010001101101010010010110` |\n",
    "\n",
    "---\n",
    "### Fazit:\n",
    "\n",
    "- Die Zahl `1.0` kann exakt im Format IEE 754 `float64` dargestellt werden.  \n",
    "- Die Zahl `1e-17` ist **zu klein** und hat eine **unendliche Binärdarstellung**, was zu einer _Rundung_ führen muss. Eine präzise Darstellung innerhalb der 52 Bits der Mantisse ist nicht möglich\n",
    "\n",
    "</div>\n",
    "-"
   ]
  },
  {
   "cell_type": "markdown",
   "id": "0bb8c677-a5e2-49df-9a00-97d8ecc6536e",
   "metadata": {
    "deletable": false,
    "editable": false
   },
   "source": [
    "<!-- END QUESTION -->\n",
    "\n",
    "<!-- BEGIN QUESTION -->\n",
    "\n",
    "**Aufgabe:** Welches Verfahren verwendet `np.sum()` für die Addition?\n",
    "\n",
    "_Points:_ 2"
   ]
  },
  {
   "cell_type": "markdown",
   "id": "fd9ede3d",
   "metadata": {},
   "source": [
    "<div style=\"color: brown; background-color: #f5f5dc; padding: 5px; border-radius: 5px;\" title=\"Ahmed\">\n",
    "\n",
    "## Kaskadensummation\n",
    "\n",
    "Paarweise Summation (auch Kaskadensummation genannt) ist ein numerisch besseres Verfahren, bei dem die Werte in mehreren Schritten summiert werden. Dies bedeutet, dass Werte mit ähnlichen Größen zuerst zusammengefasst werden. Dadurch wird der Fehler reduziert, der entstehen kann, wenn immer kleinere Zahlen zu einem sehr großen Wert hinzugefügt werden (wie es bei der sequentiellen Summation der Fall wäre).\n",
    "\n",
    "### Verfahren von `np.sum()`\n",
    "\n",
    "NumPy verwendet für die Addition von Arrays ein Verfahren namens **Kaskadensummation** oder **paarweise Summation**. Dieses Verfahren reduziert Rundungsfehler im Vergleich zur sequentiellen Summation und führt in vielen Fällen zu einer höheren Genauigkeit. `np.sum()` kann interne Optimierungen verwenden, wie z. B. parallelisierte Summation, abhängig von der Größe des Arrays und der Hardware. In modernen Implementierungen von NumPy wird oft die `np.add.reduce()` Funktion verwendet, um die Summation durchzuführen, die im Hintergrund mit dem `ufunc`-Mechanismus arbeitet. Diese `reduce`-Methode summiert die Werte sequenziell, aber auch sie optimiert den Prozess, indem sie die Reihenfolge der Summanden variiert oder bei Bedarf parallelisiert.\n",
    "\n",
    "\n",
    "Mehr Informationen zu dieser Technik gibt es auf [Wikipedia](https://en.wikipedia.org/wiki/Pairwise_summation) und in der [NumPy-Dokumentation](https://numpy.org/doc/stable/reference/generated/numpy.sum.html).\n",
    "\n",
    "</div>"
   ]
  },
  {
   "cell_type": "markdown",
   "id": "de34b329-a7e0-444a-89aa-a5c78bc173a2",
   "metadata": {
    "deletable": false,
    "editable": false
   },
   "source": [
    "<!-- END QUESTION -->\n",
    "\n",
    "## Grenzwerte von Funktionen (20 Punkte)"
   ]
  },
  {
   "cell_type": "markdown",
   "id": "e8379ade-6a5d-40a1-bed4-586675cc0d29",
   "metadata": {
    "deletable": false,
    "editable": false
   },
   "source": [
    "Geben sei die Funktion $f(x)=\\frac{e^x-1}{x}$\n",
    "\n",
    "Es gilt: $lim_{x \\to 0}f(x) = 1$\n",
    "\n",
    "**Aufgabe:** Schreiben Sie eine Python Funktion `f(x)`, mit deren Hilfe Sie $f(x)$ für $x= 10^{-1}, 10^{-2}, \\cdots , 10^{-15}$ mit NumPy berechnen und geben Sie das Ergebnis aus."
   ]
  },
  {
   "cell_type": "markdown",
   "id": "fb0645a1-47c9-417b-b715-033c6d05c65c",
   "metadata": {
    "deletable": false,
    "editable": false
   },
   "source": [
    "**Aufgabe:** Berechnen Sie nun die Funktion für  $x= 10^{-16}, 10^{-17}, \\cdots , 10^{-20}$\n",
    "\n",
    "_Points:_ 8"
   ]
  },
  {
   "cell_type": "markdown",
   "id": "4b97ff09",
   "metadata": {
    "vscode": {
     "languageId": "html"
    }
   },
   "source": [
    "<div style=\"color: brown; background-color: #f5f5dc; padding: 5px; border-radius: 5px;\" title=\"Ahmed\">\n",
    "\n",
    "<h2>Berechnung der Funktion f(x) = (exp(x) - 1) / x </h2>\n",
    "\n",
    "In dieser Aufgabe soll die Funktion f(x) für x = 10<sup>-1</sup>, 10<sup>-2</sup>, ..., 10<sup>-15</sup> berechnet werden. Danach soll die Funktion für noch kleinere Werte von x, nämlich x = 10<sup>-16</sup>, 10<sup>-17</sup>, ..., 10<sup>-20</sup>, berechnet werden. \n",
    "\n",
    "Der Grenzwert der Funktion für x → 0 ist 1. Dabei sollen mögliche numerische Probleme bei sehr kleinen x beobachtet werden.\n",
    "\n",
    "</div>"
   ]
  },
  {
   "cell_type": "code",
   "execution_count": 56,
   "id": "f5619384-8fab-4a57-8f30-73de2922dd89",
   "metadata": {
    "nbgrader": {
     "grade": false,
     "grade_id": "cell-d5ed715a9745e7d6",
     "locked": false,
     "schema_version": 3,
     "solution": true,
     "task": false
    },
    "scrolled": true,
    "tags": []
   },
   "outputs": [
    {
     "name": "stdout",
     "output_type": "stream",
     "text": [
      "x = 1e-01, f(x) = 1.0517091807564771\n",
      "x = 1e-02, f(x) = 1.005016708416795\n",
      "x = 1e-03, f(x) = 1.0005001667083846\n",
      "x = 1e-04, f(x) = 1.000050001667141\n",
      "x = 1e-05, f(x) = 1.000005000006965\n",
      "x = 1e-06, f(x) = 1.0000004999621837\n",
      "x = 1e-07, f(x) = 1.0000000494336803\n",
      "x = 1e-08, f(x) = 0.999999993922529\n",
      "x = 1e-09, f(x) = 1.000000082740371\n",
      "x = 1e-10, f(x) = 1.000000082740371\n",
      "x = 1e-11, f(x) = 1.000000082740371\n",
      "x = 1e-12, f(x) = 1.000088900582341\n",
      "x = 1e-13, f(x) = 0.9992007221626409\n",
      "x = 1e-14, f(x) = 0.9992007221626409\n",
      "x = 1e-15, f(x) = 1.1102230246251565\n"
     ]
    }
   ],
   "source": [
    "# Definition der Funktion f(x) = (e^x - 1)/x\n",
    "def f(x):\n",
    "        return (np.exp(x) - 1) / x\n",
    "\n",
    "# Bereich 1: x = 10^(-1) bis 10^(-15)\n",
    "# Erzeuge die Werte x = 10^(-1), 10^(-2), ..., 10^(-15)\n",
    "input_numbers = np.array([10**(-i) for i in range(1, 16)])\n",
    "result_limits = f(input_numbers)\n",
    "\n",
    "#Ausgabe\n",
    "for x_val, fx in zip(input_numbers, result_limits):\n",
    "# Die Anwendung von zip gibt einen Iterator zurück, der in der Lage ist Tupel zu erzeugen\n",
    "    print(f\"x = {x_val:.0e}, f(x) = {fx}\")"
   ]
  },
  {
   "cell_type": "code",
   "execution_count": 57,
   "id": "57fcfa50-0942-4861-be87-914dea652464",
   "metadata": {
    "editable": true,
    "nbgrader": {
     "grade": false,
     "grade_id": "cell-86fd557d439b5a41",
     "locked": false,
     "schema_version": 3,
     "solution": true,
     "task": false
    },
    "slideshow": {
     "slide_type": ""
    },
    "tags": []
   },
   "outputs": [
    {
     "name": "stdout",
     "output_type": "stream",
     "text": [
      "x = 1e-16, f(x) = 0.0\n",
      "x = 1e-17, f(x) = 0.0\n",
      "x = 1e-18, f(x) = 0.0\n",
      "x = 1e-19, f(x) = 0.0\n",
      "x = 1e-20, f(x) = 0.0\n"
     ]
    }
   ],
   "source": [
    "# Bereich 2: x = 10^(-16) bis 10^(-20)\n",
    "input_numbers_2 = np.array([10**(-i) for i in range(16, 21)])\n",
    "result_limits_2 = f(input_numbers_2)\n",
    "\n",
    "#Ausgabe\n",
    "for x_val, fx in zip(input_numbers_2, result_limits_2):\n",
    "# Die Anwendung von zip gibt einen Iterator zurück, der in der Lage ist Tupel zu erzeugen\n",
    "    print(f\"x = {x_val:.0e}, f(x) = {fx}\")"
   ]
  },
  {
   "cell_type": "markdown",
   "id": "b8c3d7c4-f496-4dc3-90ef-0521b232b74a",
   "metadata": {
    "deletable": false,
    "editable": false
   },
   "source": [
    "<!-- BEGIN QUESTION -->\n",
    "\n",
    "**Aufgabe:** Was fällt auf? Welche Erklärung haben Sie für das Ergebnis? (Ausführliche Erklärung erforderlich) \n",
    "\n",
    "_Points:_ 12"
   ]
  },
  {
   "cell_type": "markdown",
   "id": "746bd18f",
   "metadata": {},
   "source": [
    "<div style=\"color: brown; background-color: #f5f5dc; padding: 5px; border-radius: 5px;\" title=\"Ahmed\">\n",
    "    \n",
    "<h2> Erklärung des Verhaltens der Funktion bei kleinen x-Werten </h2>\n",
    "\n",
    "Für Werte von x zwischen `1e-01` bis `1e-14` liefert die Funktion erwartungsgemäß Ergebnisse nahe bei **1**. Ab etwa 1e-15 treten jedoch drastische Änderungen auf, die durch Rundungsfehler bei der Berechnung von `e^x - 1` bedingt sind. Besonders bei sehr kleinen x-Werten wird der Unterschied zwischen `e^x` und `1` auf dem Computer nicht mehr erkennbar, was zu fehlerhaften Ergebnissen führt. Eine stabilere Berechnung kann durch die Verwendung der Funktion `np.expm1(x)` von NumPy erreicht werden.\n",
    "\n",
    "\n",
    "Von `1e-01` bis `1e-14` ergibt die Funktion erwartungsgemäß Werte, die sehr nahe bei **1** liegen.  Doch ab etwa `1e-15` ändert sich das Verhalten drastisch:\n",
    "\n",
    "`x = 1e-15, f(x) = 1.1102230246251565`\n",
    "\n",
    "`x = 1e-16, f(x) = 0.0`\n",
    "\n",
    "`x = 1e-17, f(x) = 0.0`  \n",
    "...\n",
    "\n",
    "**Bei genauerer Betrachtung** sieht man, dass bereits ab `1e-08` praktisch keine Annäherung mehr an den Soll-Grenzwert stattfindet. Die Berechnung \"divergiert numerisch\".\n",
    "\n",
    "| Phänomen                    | Beschreibung                                                                |\n",
    "|-----------------------------|------------------------------------------------------------------------------|\n",
    "| Katastrophale [Auslöschung]( https://de.m.wikipedia.org/wiki/Ausl%C3%B6schung_%28numerische_Mathematik%29 )   | Verlust signifikanter Ziffern durch Subtraktion ähnlicher Zahlen             |\n",
    "| Numerische Instabilität     | Instabiles Verhalten bei kleinen Änderungen der Eingabe                      |\n",
    "| Rundungsfehlerakkumulation  | Anhäufung von Maschinenfehlern durch viele Rechenoperationen                 |\n",
    "| (Numerische) Divergenz      | Umgangssprachlich, wenn das Ergebnis sich vom Sollwert entfernt              |\n",
    "\n",
    "### Ergebnisbeobachtung\n",
    "\n",
    "Ab etwa $x \\approx 10^{-16}$ treten numerische Rundungsfehler sichtbar auf, abhängig von der Maschinengenauigkeit (`float64`).\n",
    "\n",
    "<h3> Erklärung: Rundungsfehler </h3>\n",
    "\n",
    "Für sehr kleine `x` gilt näherungsweise:  \n",
    "`exp(x) ≈ 1 + x`\n",
    "\n",
    "Wenn `x` so klein wird, dass `e^x` und `1` auf dem Computer **nicht mehr unterscheidbar** sind, wird der Ausdruck `e^x - 1` **numerisch ungenau** (_null_), da beide Terme sehr nah beieinander liegen → Verlust signifikanter Stellen.\n",
    "\n",
    "> Beispiel:  \n",
    "> `x = 1e-17` → `exp(x) ≈ 1.00000000000000001`  \n",
    "> Die Differenz `e^x - 1` ist kleiner als die **Maschinengenauigkeit** `ε` (Epsilon).  \n",
    "> Deshalb wird `e^x - 1` vom Computer als **0.0** berechnet, da ein 64-Bit-Gleitkommawert (float64) **nicht mehr ausreichend genau** ist.\n",
    "\n",
    "<h3> Lösung: Stabilere Berechnung mit NumPy </h3>\n",
    "\n",
    "NumPy bietet mit `np.expm1(x)` eine spezielle Funktion an, die den Ausdruck `exp(x) - 1` **numerisch stabiler** berechnet – insbesondere für sehr kleine `x`.\n",
    "\n",
    "</div>"
   ]
  },
  {
   "cell_type": "code",
   "execution_count": 58,
   "id": "9d1ee4b6",
   "metadata": {},
   "outputs": [
    {
     "name": "stdout",
     "output_type": "stream",
     "text": [
      "x = 1e-10, f(x) = 1.00000000005\n",
      "x = 1e-11, f(x) = 1.000000000005\n",
      "x = 1e-12, f(x) = 1.0000000000005\n",
      "x = 1e-13, f(x) = 1.00000000000005\n",
      "x = 1e-14, f(x) = 1.000000000000005\n",
      "x = 1e-15, f(x) = 1.0000000000000007\n",
      "x = 1e-16, f(x) = 1.0\n",
      "x = 1e-17, f(x) = 1.0\n",
      "x = 1e-18, f(x) = 1.0\n",
      "x = 1e-19, f(x) = 1.0\n"
     ]
    }
   ],
   "source": [
    "def f_stabil(x):\n",
    "    return np.expm1(x) / x\n",
    "\n",
    "input_numbers_3 = np.array([10**(-i) for i in range(10, 20)])\n",
    "result_limits_3 = f_stabil(input_numbers_3)\n",
    "\n",
    "#Ausgabe\n",
    "for x_val, fx in zip(input_numbers_3, result_limits_3):\n",
    "# Die Anwendung von zip gibt einen Iterator zurück, der in der Lage ist Tupel zu erzeugen\n",
    "    print(f\"x = {x_val:.0e}, f(x) = {fx}\")"
   ]
  },
  {
   "cell_type": "markdown",
   "id": "88f8269b",
   "metadata": {},
   "source": [
    "<div style=\"color: brown; background-color: #f5f5dc; padding: 5px; border-radius: 5px;\" title=\"Ahmed\">\n",
    "\n",
    "## Detaillierte Erklärung der Gleitkommadarstellung und Rundungsfehler\n",
    "\n",
    "Die Präzision einer Gleitpunktzahl hängt von der Mantisse ab. Diese bildet neben dem Exponenten, der Basis und dem Vorzeichen die Gleitpunktzahl.\n",
    "\n",
    "Solange man nicht explizit davon abweicht, wird `float64` in Python und NumPy verwendet für Gleitpunktzahlen. Eine `float32`-Mantisse besteht aus 23 Bit und eine `float64`-Mantisse aus 52 Bit (bei 64 Bit bleiben noch 11 Bit für den Exponenten und 1 Bit für das Vorzeichen). Bei Werten, die mehr Bits zur Darstellung benötigen als die Mantisse zur Verfügung stellt, kommt es zu Rundungsfehlern, wie in den folgenden Beispielen erklärt:\n",
    "\n",
    "## Fazit zur Gleitkommadarstellung und Rundungsfehlern\n",
    "\n",
    "Die Präzision von Gleitkommazahlen ist durch die Anzahl der Bits in der Mantisse begrenzt, was zu Rundungsfehlern führt, wenn Zahlen mit mehr erforderlichen Bits dargestellt werden müssen. Besonders bei sehr kleinen Werten kann dies zu Verlusten an Genauigkeit führen, die sich durch den Einsatz stabiler Berechnungsmethoden wie z. B. `np.expm1(x)` verhindern lassen.\n",
    "\n",
    "</div>"
   ]
  },
  {
   "cell_type": "code",
   "execution_count": 59,
   "id": "d6c50211",
   "metadata": {},
   "outputs": [
    {
     "name": "stdout",
     "output_type": "stream",
     "text": [
      "16777216.0 16777216.0 darstellbar?: True\n",
      "16777217.0 16777217.0 darstellbar?: False\n",
      "1.0000000000000001 1.0 darstellbar?: False\n",
      "1.00000000000001 1.00000000000001 darstellbar?: True\n"
     ]
    }
   ],
   "source": [
    "def mindest_mantissenbits(x, y):\n",
    "    # Berechnet die Anzahl der benötigten Mantissenbits für eine korrekte Berechnung\n",
    "    # float128 um exaktere Praezision zu ermoeglichen\n",
    "    return np.abs(np.log2(np.float128(x)) - np.log2(np.float128(y)))\n",
    "\n",
    "# Beispiel zur Darstellbarkeit float32\n",
    "# Mantisse = 1 wenn dargestellte Zahl Potenz von 2, also darstellbar\n",
    "x = 1\n",
    "a = np.float128(2**24-1)\n",
    "print(x + a, np.float32(x+a), \"darstellbar?:\", mindest_mantissenbits(x,a) < 23 + 1)\n",
    "# Ergebnis: (16777216.0, 16777216.0, 'darstellbar?:', True)\n",
    "\n",
    "# Beispiel zur Darstellbarkeit float32\n",
    "# Dargestellte Zahl muss hier mit Mantisse von Mindestlaenge 24 dargestellt werden, nicht moeglich bei float32\n",
    "b = np.float128(2**24)\n",
    "print(x + b, np.float64(x+b), \"darstellbar?:\", mindest_mantissenbits(x,b) < 23 + 1)\n",
    "# Ergebnis: (16777217.0, 16777216.0, 'darstellbar?:', False)\n",
    "\n",
    "# Diese Beispiele verdeutlichen, wie die Genauigkeit und die Darstellung von Zahlen durch die verwendete Gleitkommadarstellung beeinflusst werden.\n",
    "\n",
    "# Weitere Beispiele zur Rundungsfehlerdarstellung\n",
    "# In den folgenden Beispielen wird die Auswirkung von kleinen Zahlen in Gleitkommadarstellungen demonstriert:\n",
    "\n",
    "# Beispiel 1 + 1e-16, vorkommend bei Summierung in Schleife von vorne\n",
    "c = np.float128(1e-16)\n",
    "print(x + c, np.float64(x + c), \"darstellbar?:\", mindest_mantissenbits(x, c) < 52 + 1)\n",
    "# Ergebnis: (1.0000000000000001, 1.0, 'darstellbar?:', False)\n",
    "\n",
    "# Beispiel 1 + 1e-16 * 100, vorkommend bei Summierung in Schleife von hinten\n",
    "d = np.float128(1e-16 * 100)\n",
    "print(x + d, np.float64(x + d), \"darstellbar?:\", mindest_mantissenbits(x, d) < 52 + 1)\n",
    "# Ergebnis: (1.00000000000001, 1.00000000000001, 'darstellbar?:', True)\n"
   ]
  },
  {
   "cell_type": "markdown",
   "id": "fbebcba7-6b66-4460-b800-047e9637e160",
   "metadata": {
    "deletable": false,
    "editable": false
   },
   "source": [
    "<!-- END QUESTION -->\n",
    "\n",
    "## Gauß-Verfahren und LU-Zerlegung (60 Punkte) \n",
    "Obwohl man, wie wir sehen werden, lineare Gleichungssysteme einfach mit SciPy lösen kann, wollen wir in dieser Aufgabe  einmal selbst eine sogenannte LU-Zerlegung bzw. das Gauß-Verfahren implementieren. Außerdem werden wir diesen Code auch später noch verwenden, wenn wir uns mit Performance-Optimierung und Parallelisierung beschäftigen.\n",
    "\n",
    "Das Gauß-Verfahren ist ein wichtiges Verfahren zum Lösen von linearen Gleichungssystemen, wir gehen hier schrittweise mit der Implementierung vor."
   ]
  },
  {
   "cell_type": "markdown",
   "id": "042b609c-9e98-4b51-a92a-71fd72e1ac6c",
   "metadata": {
    "deletable": false,
    "editable": false
   },
   "source": [
    "**Aufgabe:** Implementieren Sie die Funktion `b_solve` zur Lösung einer Dreiecksgleichung der Form:\n",
    "\n",
    "$\\left[ {\\begin{array}{cccc} \n",
    "a_{11} & a_{12} & \\cdots & a_{1n}\\\\ \n",
    "0 & a_{22} & \\cdots & a_{2n}\\\\ \n",
    "\\vdots & \\vdots & \\ddots & \\vdots \\\\ \n",
    "0 & 0 & \\cdots & a_{nn}\\\\ \n",
    "\\end{array} } \\right] \\left[{\\begin{array}{c}  \n",
    "x_1\\\\ \n",
    "x_2\\\\ \n",
    "\\vdots\\\\ \n",
    "x_n\\\\ \n",
    "\\end{array}}\\right] =  \n",
    "\\left[{\\begin{array}{c}  \n",
    "b_1\\\\ \n",
    "b_2\\\\ \n",
    "\\vdots\\\\ \n",
    "b_n\\\\ \n",
    "\\end{array}}\\right]$ \n",
    "\n",
    "Hier beginnt man mit der Löung der letzten Zeile, denn es gilt:\n",
    "\n",
    "$x_n = b_n/a_{nn} $\n",
    "und dann\n",
    "\n",
    "$x_{n-1} =  (b_{n-1}-a_{(n-1),n}*x_{n})/a_{(n-1),(n-1)}$\n",
    "\n",
    "$x_{n-2} =  (b_{n-2}-(a_{(n-2),n}*x_{n}+a_{(n-2),(n-1)}*x_{n-1})/a_{(n-2),(n-2)}$\n",
    "\n",
    "\n",
    "*Hinweis*: Achten Sie darauf, dass ihr Code nicht nur korrekt, sondern auch effizient ist. \n",
    "\n",
    "_Points:_ 12"
   ]
  },
  {
   "cell_type": "markdown",
   "id": "aabbf72e",
   "metadata": {},
   "source": [
    "<div style=\"color: darkblue; background-color: #e0f7ff; padding: 5px; border-radius: 5px;\" title=\"Toni\">\n",
    "\n",
    "# Lösung linearer Gleichungssysteme mit dem Gauß-Verfahren und LU-Zerlegung\n",
    "\n",
    "In dieser Aufgabe geht es um die Implementierung eines grundlegenden numerischen Verfahrens zur Lösung von linearen Gleichungssystemen der Form:\n",
    "\n",
    "$A \\cdot x = b$\n",
    "\n",
    "wobei:\n",
    "- $A$ eine Matrix (n × n) ist,\n",
    "- $x$ der gesuchte Lösungsvektor,\n",
    "- $b$ der rechte Seitenvektor ist.\n",
    "\n",
    "Anstelle der Verwendung fertiger Bibliotheksfunktionen (wie `scipy.linalg.solve`) wird hier das klassische **Gaußsche Eliminationsverfahren** mit anschließender **Rückwärtseinsetzung** selbst implementiert. Ziel ist es, ein tieferes Verständnis für die numerischen Methoden zu erlangen und eine solide Basis für spätere Optimierungen und Parallelisierungen zu schaffen.\n",
    "\n",
    "---\n",
    "\n",
    "## Hintergrund\n",
    "\n",
    "Das Gauß-Verfahren ist eine Standardmethode in der numerischen Mathematik, um lineare Gleichungssysteme zu lösen. Es besteht aus zwei Hauptschritten:\n",
    "\n",
    "1. **Vorwärtselimination (Dreiecksform)**  \n",
    "   Die Matrix $A$ wird durch gezielte Zeilenoperationen in eine obere Dreiecksmatrix umgewandelt. Dies bedeutet, dass alle Einträge unterhalb der Hauptdiagonalen zu Null gemacht werden. Um numerische Stabilität sicherzustellen, wird **Pivotisierung** eingesetzt – das größte Element einer Spalte wird nach oben getauscht.\n",
    "\n",
    "2. **Rückwärtseinsetzung (Backsubstitution)**  \n",
    "   Sobald die Matrix in Dreiecksform ist, kann die Lösung des Systems zeilenweise von unten nach oben bestimmt werden. Beginnend mit der letzten Gleichung wird jede Unbekannte explizit ausgerechnet.\n",
    "\n",
    "---\n",
    "\n",
    "## Umsetzung\n",
    "\n",
    "Zwei zentrale Funktionen werden implementiert:\n",
    "\n",
    "- **`make_triangular(A, b)`**  \n",
    "  Bringt die Matrix $A$ durch Vorwärtselimination und Pivotisierung in eine obere Dreiecksform, wobei notwendige Operationen auch auf den Vektor $b$ angewandt werden.\n",
    "\n",
    "- **`b_solve(A, b, upper_triangular=True)`**  \n",
    "  Löst das Gleichungssystem durch Rückwärtseinsetzung. Falls `upper_triangular=False` übergeben wird, ruft die Funktion intern `make_triangular` auf, um die Matrix zuerst in Dreiecksform zu bringen.\n",
    "\n",
    "Besonderes Augenmerk wird auf:\n",
    "- **Numerische Stabilität** (durch Pivotisierung),\n",
    "- **Effizienz** (durch vektorisiertes Rechnen mit `numpy`),\n",
    "- **Korrekte Fehlerbehandlung**\n",
    "\n",
    "---\n",
    "\n",
    "## Zusammenfassung\n",
    "\n",
    "Durch diese Implementierung wird ein vollständiger, effizienter und robuster Ansatz zum Lösen von linearen Gleichungssystemen bereitgestellt, \n",
    "der später als Grundlage für Optimierungs- und Parallelisierungsstrategien dienen kann. \n",
    "\n",
    "Die Implementierung legt besonderen Wert auf numerische Stabilität durch Pivotisierung der Matrix während der Vorwärtselimination. \n",
    "\n",
    "Dadurch wird sichergestellt, dass numerische Fehler minimiert und stabile Lösungen auch bei ungünstig skalierten Systemen erreicht werden.B\n",
    " und Parallelisierungsstrategien dienen kann.\n",
    "\n",
    "</div>"
   ]
  },
  {
   "cell_type": "code",
   "execution_count": 60,
   "id": "e905df91",
   "metadata": {},
   "outputs": [
    {
     "name": "stdout",
     "output_type": "stream",
     "text": [
      "Lösung x: [1.60714286 0.64285714 0.57142857 1.        ]\n",
      "Prüfung A @ x: [9. 8. 7. 8.]\n"
     ]
    }
   ],
   "source": [
    "def b_solve(A, b, upper_triangular=True):\n",
    "    \"\"\"Löst ein lineares Gleichungssystem A * x = b\"\"\"\n",
    "\n",
    "    x = np.zeros_like(b, dtype=float)  # Vektor für die Lösung, initialisiert mit Nullen\n",
    "    A = A.astype(float)  # Sicherstellen, dass mit floats gerechnet wird\n",
    "    b = b.astype(float)\n",
    "    \n",
    "    #Matrix in Dreiecksform umwandeln wenn nötig\n",
    "    if not upper_triangular:\n",
    "        make_triangular(A, b)        \n",
    "    \n",
    "    # Rückwärtseinsetzung\n",
    "    for i in range(len(b) - 1, -1, -1):  \n",
    "        # Berechnung der Summe der Produkte der bekannten x-Werte\n",
    "        summation = np.dot(A[i, i + 1:], x[i + 1:]) # hier wird die Vektorisierung, die numpy zur Verfügung stellt, benutzt, um die Effizienz zu erhöhen\n",
    "        x[i] = (b[i] - summation) / A[i, i]  # Berechnung des aktuellen x_i\n",
    "        #print(f\"x[{i}] = (b[{i}] - summation) / A[i, i] = ({b[i]} - {np.dot(A[i, i + 1:], x[i + 1:])}) / {A[i,i]} = {x[i]}\")\n",
    "    return x\n",
    "\n",
    "def make_triangular(A, b):\n",
    "    \"\"\"bringt Matrix A in Dreiecksform unter Berücksichtigung von Vektor b\"\"\"\n",
    "    \n",
    "    # Vorwärtselimination (Dreiecksform erzeugen)\n",
    "    for i in range(len(b)):\n",
    "        # Pivotisierung: größtes Element in der Spalte nach unten holen (numerische Stabilität)\n",
    "        max_row = i + np.argmax(abs(A[i:, i]))\n",
    "        if A[max_row, i] == 0:\n",
    "            raise ValueError(\"Das Gleichungssystem hat keine eindeutige Lösung\")\n",
    "        if max_row != i:\n",
    "            A[[i, max_row]] = A[[max_row, i]]\n",
    "            b[[i, max_row]] = b[[max_row, i]]\n",
    "\n",
    "        # Elimination\n",
    "        for j in range(i + 1, len(b)):\n",
    "            factor = A[j, i] / A[i, i]\n",
    "            A[j, i:] -= factor * A[i, i:]\n",
    "            b[j] -= factor * b[i]\n",
    "\n",
    "# Beispiel\n",
    "A = np.array([[2, 3, 5, 1],\n",
    "              [0, 4, 6, 2],\n",
    "              [0, 0, 7, 3],\n",
    "              [0, 0, 0, 8]], dtype=float)\n",
    "\n",
    "b = np.array([9, 8, 7, 8], dtype=float)\n",
    "\n",
    "x = b_solve(A, b)\n",
    "\n",
    "# Testausgabe\n",
    "print(\"Lösung x:\", x)\n",
    "print(\"Prüfung A @ x:\", np.dot(A, x))  # Sollte gleich b sein"
   ]
  },
  {
   "cell_type": "markdown",
   "id": "fe99d15b-1ef5-4c19-8384-624e451b45bd",
   "metadata": {
    "deletable": false,
    "editable": false
   },
   "source": [
    "**Aufgabe:** Implementieren Sie die LU-Zerlegung einer Matrix mit Pivotisierung.  \n",
    "Die Funktion `lu_decomposition` soll die Matrizen L und U berechnen.  \n",
    "Zu Beginn wird der Funktion eine Matrix A übergeben.  \n",
    "\n",
    "\n",
    "Implementieren Sie die Funktion \"in-place\", d.h. die Ergebnisse für L und U werden direkt in A geschrieben.  \n",
    "Dabei wird die ursprüngliche Matrix überschrieben.  \n",
    "Die Funktion gibt den Pivot-Vektor zurück, der die folgende Form haben sollte:\n",
    "\n",
    "$ \n",
    "P=\\left[{\\begin{array}{ccc} \n",
    "0 & 1& 0\\\\ \n",
    "0 & 0& 1\\\\ \n",
    "1 & 0& 0\\\\ \n",
    "\\end{array} } \\right] \\Rightarrow \\left[{\\begin{array}{c}  \n",
    "1\\\\ \n",
    "2\\\\ \n",
    "0\\\\ \n",
    "\\end{array}}\\right] \n",
    "$ \n",
    "\n",
    "D.h. es wird nur der Index des Wertes in jeder Zeile gespeichert, der nicht Null ist.\n",
    "\n",
    "Wenn man dies macht, kann man später für die Lösung einfach den Vektor `bc = b[P]` verwenden, um auch $b$ richtig zu pivotisieren.  \n",
    "\n",
    "Hinweise: \n",
    "- Die Pivot-Zeile lässt sich am einfachsten mit `np.argmax` finden. Die Zeile mit dem höchsten Betrag können Sie mit `np.abs` finden.\n",
    "\n",
    "- Tauschen zweier Elemente in einem NumPy Array: `v[[a, b]] = v[[b, a]]`\n",
    "\n",
    "- Versuchen Sie, die interne Vektorisierung von NumPy im Eliminationsschritt zu nutzen. Verwenden Sie dazu die Slicing-Syntax, um die innerste Schleife zu ersetzen.\n",
    "\n",
    "_Points:_ 15"
   ]
  },
  {
   "cell_type": "markdown",
   "id": "af1572ca",
   "metadata": {},
   "source": [
    "<div style=\"color: darkblue; background-color: #e0f7ff; padding: 5px; border-radius: 5px;\" title=\"Toni\">\n",
    "\n",
    "# LU-Zerlegung mit Pivotisierung\n",
    "\n",
    "In dieser Aufgabe geht es um die Implementierung der **LU-Zerlegung** einer Matrix unter Berücksichtigung von **Pivotisierung**.  \n",
    "Die LU-Zerlegung ist ein zentrales Verfahren der numerischen Mathematik und linearen Algebra, das eine Matrix $A$ in die Produktform zweier spezieller Matrizen zerlegt:\n",
    "\n",
    "$A = L \\cdot U$\n",
    "\n",
    "wobei:\n",
    "- $L$ eine untere Dreiecksmatrix mit Einsen auf der Hauptdiagonalen ist (unit lower triangular matrix),\n",
    "- $U$ eine obere Dreiecksmatrix ist.\n",
    "\n",
    "Zusätzlich wird bei dieser Zerlegung eine **Pivotisierung** durchgeführt, um numerische Stabilität sicherzustellen. Die Pivotisierung wird durch eine Permutationsmatrix $P$ beschrieben, sodass im Allgemeinen gilt:\n",
    "\n",
    "$P \\cdot A = L \\cdot U$\n",
    "\n",
    "---\n",
    "\n",
    "## Hintergrund\n",
    "\n",
    "Warum Pivotisierung?  \n",
    "Ohne Pivotisierung könnten bei der Zerlegung kleine Pivotelemente entstehen, die zu großen numerischen Fehlern führen.  \n",
    "Deshalb wird stets das Element mit dem größten Betrag in der aktuellen Spalte als Pivot gewählt, und die entsprechenden Zeilen werden getauscht.\n",
    "\n",
    "Im Algorithmus wird die Pivotinformation in Form eines **Pivot-Vektors** $P$ gespeichert.  \n",
    "Dieser Vektor gibt an, welche Zeilen bei der Pivotisierung wie vertauscht wurden. Dadurch kann später einfach der Vektor $b$ angepasst werden, indem man `b[P]` verwendet.\n",
    "\n",
    "Beispiel eines Pivot-Vektors:\n",
    "$\n",
    "P = \\left[ \\begin{array}{c} 1 \\\\ 2 \\\\ 0 \\end{array} \\right]\n",
    "$\n",
    "Dieser beschreibt eine Permutationsmatrix der Form:\n",
    "\n",
    "$\n",
    "\\left[ \\begin{array}{ccc} \n",
    "0 & 1 & 0\\\\ \n",
    "0 & 0 & 1\\\\ \n",
    "1 & 0 & 0\n",
    "\\end{array} \\right]\n",
    "$\n",
    "\n",
    "---\n",
    "\n",
    "## Umsetzung\n",
    "\n",
    "Die Implementierung erfolgt **in-place**:  \n",
    "- Die ursprüngliche Matrix $A$ wird während der Berechnungen überschrieben.\n",
    "- Die Einträge der unteren Dreiecksmatrix $L$ (ohne Einsen auf der Diagonalen) und der oberen Dreiecksmatrix $U$ werden direkt in $A$ gespeichert.\n",
    "\n",
    "Die Schritte im Algorithmus sind:\n",
    "\n",
    "1. **Pivotisierung**:  \n",
    "   In jeder Spalte wird der größte Betrag gesucht, die Zeilen werden entsprechend getauscht.\n",
    "\n",
    "2. **Berechnung von L**:  \n",
    "   Die Einträge unterhalb der Hauptdiagonale werden berechnet, indem die aktuelle Spalte normiert wird.\n",
    "\n",
    "3. **Berechnung von U**:  \n",
    "   Durch Subtraktion eines äußeren Produkts wird die obere rechte Ecke der Matrix angepasst.\n",
    "\n",
    "---\n",
    "\n",
    "## Hinweise zur Umsetzung\n",
    "\n",
    "- Der Pivotindex wird mit `np.argmax(np.abs(A[k:n, k])) + k` effizient bestimmt.\n",
    "- Zeilentausch in NumPy-Arrays erfolgt mit `v[[a, b]] = v[[b, a]]`.\n",
    "- Zur Effizienzsteigerung wird beim Eliminationsschritt **Vektorisierung** mit Slicing-Notation genutzt.\n",
    "- Bei einer singulären Matrix (wenn das Pivotelement Null ist) wird eine Exception ausgelöst.\n",
    "\n",
    "---\n",
    "\n",
    "## Zusammenfassung\n",
    "\n",
    "Durch diese Implementierung entsteht eine schnelle, speichereffiziente und numerisch stabile Methode zur LU-Zerlegung, die sowohl für spätere direkte Lösungenvon Gleichungssystemen als auch für Performance-Analysen geeignet ist.\n",
    "\n",
    "\n",
    "</div>\n"
   ]
  },
  {
   "cell_type": "code",
   "execution_count": 61,
   "id": "7e01d874-1715-40b2-918f-be10435918b5",
   "metadata": {
    "nbgrader": {
     "grade": false,
     "grade_id": "cell-b482047b4df4ac5e",
     "locked": false,
     "schema_version": 3,
     "solution": true,
     "task": false
    },
    "tags": []
   },
   "outputs": [],
   "source": [
    "def lu_decomposition(A):\n",
    "    \"\"\"L und U Matrix werden innerhalb von A Matrix berechnet und der Pivot-Vektor wird ausgegeben\"\"\"\n",
    "    \n",
    "    n = A.shape[0]\n",
    "    P = np.arange(n)\n",
    "\n",
    "    for k in range(n):\n",
    "        # Pivotisierung: Index der Zeile mit größtem Betrag in Spalte k finden\n",
    "        pivot_index = np.argmax(np.abs(A[k:n, k])) + k\n",
    "        if A[pivot_index, k] == 0:\n",
    "            raise ValueError(\"Matrix ist singulaer.\")\n",
    "\n",
    "        # Zeilen tauschen in A\n",
    "        if pivot_index != k:\n",
    "            A[[k, pivot_index], :] = A[[pivot_index, k], :]\n",
    "            P[[k, pivot_index]] = P[[pivot_index, k]]\n",
    "\n",
    "        # Berechnung L unterhalb der Diagonale\n",
    "        A[k+1:n, k] /= A[k, k]\n",
    "\n",
    "        # Berechnung U obere Dreiecksmatrix inklusive Diagonale\n",
    "        A[k+1:n, k+1:n] -= np.outer(A[k+1:n, k], A[k, k+1:n])\n",
    "\n",
    "    return P #Pivot-Vektor"
   ]
  },
  {
   "cell_type": "markdown",
   "id": "07c84b58-28da-495c-a9e2-4e96ba537eb9",
   "metadata": {
    "deletable": false,
    "editable": false
   },
   "source": [
    "<!-- BEGIN QUESTION -->\n",
    "\n",
    "**Aufgabe:** Schreiben Sie eine Funktion `custom_solve`, welche mit Hilfe von `lu_decomposition` ein lineares Gleichungssystem der Form $A*x=b$ löst.  \n",
    "\n",
    "Hinweis: Versuchen Sie, die interne Vektorisierung von NumPy zu nutzen. Verwenden Sie dazu die Slicing-Syntax, um die innerste Schleife zu ersetzen.\n",
    "\n",
    "_Points:_ 12"
   ]
  },
  {
   "cell_type": "markdown",
   "id": "bfe556e6-6b11-4be2-9c7a-90c0ab102cef",
   "metadata": {},
   "source": [
    "<div style=\"color: darkblue; background-color: #e0f7ff; padding: 5px; border-radius: 5px;\" title=\"Toni\">\n",
    "\n",
    "# Lösen eines linearen Gleichungssystems mit LU-Zerlegung\n",
    "\n",
    "In dieser Aufgabe implementieren wir eine Funktion `custom_solve`, die ein lineares Gleichungssystem der Form\n",
    "\n",
    "$A \\cdot x = b$\n",
    "\n",
    "löst.  \n",
    "Dabei nutzen wir unsere eigene, zuvor implementierte Funktion `lu_decomposition`, die $A$ in eine untere Dreiecksmatrix $L$ und eine obere Dreiecksmatrix $U$ zerlegt.\n",
    "\n",
    "---\n",
    "\n",
    "## Hintergrund\n",
    "\n",
    "Das Lösen eines Gleichungssystems über die LU-Zerlegung läuft in mehreren Schritten ab:\n",
    "\n",
    "1. **LU-Zerlegung mit Pivotisierung**:  \n",
    "   Die Matrix $A$ wird in $L$ und $U$ zerlegt, sodass gilt:\n",
    "\n",
    "   $P \\cdot A = L \\cdot U$\n",
    "\n",
    "   wobei $P$ eine Permutationsmatrix ist, die die Pivotisierungen beschreibt.\n",
    "\n",
    "2. **Anpassung des rechten Seitenvektors $b$**:  \n",
    "   Um die Pivotisierung zu berücksichtigen, wird $b$ entsprechend permutiert:\n",
    "\n",
    "   $b' = b[P]$\n",
    "\n",
    "3. **Zweischrittiges Lösen:**\n",
    "   - Zunächst wird das Gleichungssystem\n",
    "\n",
    "     $L \\cdot c = b'$\n",
    "\n",
    "     gelöst (Vorwärtseinsetzung).\n",
    "   \n",
    "   - Anschließend wird das Gleichungssystem\n",
    "\n",
    "     $U \\cdot x = c$\n",
    "\n",
    "     gelöst (Rückwärtseinsetzung).\n",
    "\n",
    "Dadurch erhalten wir die Lösung $x$ des ursprünglichen Gleichungssystems.\n",
    "\n",
    "---\n",
    "\n",
    "## Umsetzung im Detail\n",
    "\n",
    "Die Funktion `custom_solve` folgt genau diesen Schritten:\n",
    "\n",
    "1. **LU-Zerlegung**  \n",
    "   Die Funktion `lu_decomposition(A)` wird aufgerufen. Dabei wird die Matrix $A$ in-place in ihre $L$- und $U$-Komponenten zerlegt und der Pivot-Vektor $P$ wird zurückgegeben.\n",
    "\n",
    "2. **Extrahieren von $L$ und $U$**  \n",
    "   - $L$ wird aus $A$ extrahiert, indem alle Einträge unterhalb der Hauptdiagonalen übernommen werden, zusammen mit Einsen auf der Diagonalen.\n",
    "   - $U$ wird als obere Dreiecksmatrix inklusive Hauptdiagonale extrahiert.\n",
    "\n",
    "3. **Vorwärtseinsetzung**  \n",
    "   Das Gleichungssystem\n",
    "\n",
    "   $L \\cdot c = b[P]$\n",
    "\n",
    "   wird gelöst.  \n",
    "   Da $L$ keine obere Dreiecksmatrix ist, wird beim Aufruf von `b_solve` der Parameter `upper_triangular=False` gesetzt.\n",
    "\n",
    "4. **Rückwärtseinsetzung**  \n",
    "   Anschließend wird das Gleichungssystem\n",
    "\n",
    "   $U \\cdot x = c$\n",
    "\n",
    "   gelöst, wobei $U$ eine obere Dreiecksmatrix ist. Hier wird `b_solve` mit Standardparametern aufgerufen.\n",
    "\n",
    "5. **Rückgabe der Lösung**  \n",
    "   Die Funktion gibt die berechnete Lösung $x$ zurück.\n",
    "\n",
    "---\n",
    "\n",
    "## Hinweise\n",
    "\n",
    "- Die Funktion arbeitet mit **in-place Modifikationen**: $A$ wird während der LU-Zerlegung überschrieben.\n",
    "- Die **interne Vektorisierung von NumPy** wird konsequent genutzt (z.B. Slicing-Syntax und Funktionen wie `np.tril` und `np.triu`), was den Code effizient und lesbar macht.\n",
    "- Diese Methode ist insbesondere für große lineare Gleichungssysteme numerisch stabil und performant.\n",
    "\n",
    "---\n",
    "\n",
    "## Zusammenfassung\n",
    "\n",
    "Die Funktion `custom_solve` bietet eine vollständige, saubere und effiziente Lösung eines linearen Gleichungssystems durch eigene Implementierungen der LU-Zerlegung und der Lösung von Dreieckssystemen.  \n",
    "Damit wird eine der zentrale Techniken der numerischen linearen Algebra eigenständig nachvollzogen und umgesetzt.\n",
    "\n",
    "</div> "
   ]
  },
  {
   "cell_type": "code",
   "execution_count": 62,
   "id": "ef6c6d07-df37-4011-b913-be1719ffb094",
   "metadata": {
    "nbgrader": {
     "grade": false,
     "grade_id": "cell-e08e49ee4f4639ff",
     "locked": false,
     "schema_version": 3,
     "solution": true,
     "task": false
    },
    "tags": []
   },
   "outputs": [],
   "source": [
    "def custom_solve(A, b):\n",
    "    \"\"\"Löst ein lineares Gleichungssystem A * x = b und gib Vektor x aus\"\"\"\n",
    "    \n",
    "    #Pivot-Vektor und A (welches LU-Zerlegung enthaelt) werden berechnet\n",
    "    P = lu_decomposition(A)\n",
    "    \n",
    "    #L und U werden aus A isoliert\n",
    "    n = A.shape[0]\n",
    "    L = np.tril(A, k=-1) + np.eye(n)  # untere Dreiecksmatrix mit Einsen auf der Diagonale\n",
    "    U = np.triu(A)                   # obere Dreiecksmatrix inklusive Diagonale\n",
    "    \n",
    "    #Lc = b[P] wird geloest fuer c\n",
    "    #hier wird upper_triangular=False verwendet um eine allgemeine Matrix zu loesen\n",
    "    c = b_solve(L, b[P], upper_triangular=False)\n",
    "    \n",
    "    #Ux = c wird geloest fuer x\n",
    "    x = b_solve(U, c)\n",
    "    \n",
    "    return x"
   ]
  },
  {
   "cell_type": "markdown",
   "id": "5907a29b-90dc-4efa-a124-5a246a1270c3",
   "metadata": {
    "deletable": false,
    "editable": false
   },
   "source": [
    "<!-- END QUESTION -->\n",
    "\n",
    "<!-- BEGIN QUESTION -->\n",
    "\n",
    "**Aufgabe:** Schreiben Sie eine Testfunktion, die überprüft, ob die Lösung ihrer Implementierung des Gauß-Verfahrens richtig ist.  \n",
    "Testen Sie Gleichungssysteme der Größe $16 \\times 16$, $32\\times 32$ und $64 \\times 64$.\n",
    "\n",
    "Sie können zum Vergleich die SciPy Funktion `linalg.solve` verwenden:\n",
    "\n",
    "_Points:_ 6"
   ]
  },
  {
   "cell_type": "markdown",
   "id": "ba8b212b",
   "metadata": {},
   "source": [
    "<div style=\"color: darkblue; background-color: #e0f7ff; padding: 5px; border-radius: 5px;\" title=\"Toni\">\n",
    "\n",
    "\n",
    "# Überprüfung der Lösung mit einer Testfunktion\n",
    "\n",
    "In dieser Aufgabe sollen wir eine Testfunktion implementieren, die überprüft, ob die Lösung des Gauß-Verfahrens korrekt ist. Dies erreichen wir, indem wir das Ergebnis des eigenen Implementierungsansatzes mit dem Ergebnis der `linalg.solve`-Funktion aus dem SciPy-Paket vergleichen.\n",
    "\n",
    "---\n",
    "\n",
    "## Hintergrund\n",
    "\n",
    "Das Gauß-Verfahren ist ein weit verbreitetes numerisches Verfahren zur Lösung von linearen Gleichungssystemen der Form\n",
    "\n",
    "$A \\cdot x = b$\n",
    "\n",
    "In der Aufgabe haben wir bereits eine Funktion `custom_solve` implementiert, die dieses Gleichungssystem unter Verwendung der LU-Zerlegung löst. Jetzt möchten wir sicherstellen, dass unsere Implementierung korrekt funktioniert. Zu diesem Zweck führen wir eine Reihe von Tests durch, die die Ergebnisse mit der bekannten und bewährten SciPy-Funktion `linalg.solve` vergleichen.\n",
    "\n",
    "---\n",
    "\n",
    "## Vorgehensweise\n",
    "\n",
    "Die Testfunktion `test_custom_solve` geht wie folgt vor:\n",
    "\n",
    "1. **Erzeugen der Zufallsmatrix $A$ und des Vektors $b$**:  \n",
    "   Für jedes Testdurchlauf wird eine Zufallsmatrix $A$ und ein Zufallsvektor $b$ der jeweiligen Dimension $n$ erzeugt. Dabei wird ein Seed für den Zufallsgenerator festgelegt, um die Ergebnisse reproduzierbar zu machen.\n",
    "\n",
    "2. **Vergleich der Ergebnisse**:  \n",
    "   Die Funktion `linalg.solve` aus SciPy wird verwendet, um das Gleichungssystem zu lösen und ein Referenzergebnis zu erhalten. Anschließend wird das Gleichungssystem auch mit der eigenen Implementierung `custom_solve` gelöst.\n",
    "\n",
    "3. **Überprüfung der Genauigkeit**:  \n",
    "   Es wird überprüft, ob die Ergebnisse der beiden Methoden (SciPy und eigene Implementierung) nahezu gleich sind. Dies geschieht unter Verwendung der Funktion `np.allclose`, die überprüft, ob die Ergebnisse innerhalb einer bestimmten Toleranz (hier: `1e-6`) übereinstimmen. Dies berücksichtigt mögliche numerische Ungenauigkeiten bei Fließkommaoperationen.\n",
    "\n",
    "4. **Ausgabe**:  \n",
    "   Wird der Test bestanden, gibt die Funktion eine Bestätigung aus, dass der Test für die jeweilige Dimension erfolgreich war.\n",
    "\n",
    "---\n",
    "\n",
    "## Hinweise\n",
    "\n",
    "1. **Numerische Toleranz**:  \n",
    "   Da numerische Berechnungen mit Fließkommazahlen in Computern immer mit kleinen Ungenauigkeiten verbunden sind, ist es wichtig, die Ergebnisse mit einer Toleranz zu vergleichen. Diese wird durch den Parameter `atol=1e-6` in der Funktion `np.allclose` festgelegt. Dieser Parameter sorgt dafür, dass geringe Unterschiede, die durch die begrenzte Präzision von Fließkommazahlen entstehen, ignoriert werden, ohne die Richtigkeit der Berechnungen zu beeinträchtigen.\n",
    "\n",
    "2. **Dimensionen der Matrizen**:  \n",
    "   Die Testfunktion prüft das Verhalten der Implementierung mit Matrizen unterschiedlicher Größen. Dies ist besonders wichtig, um sicherzustellen, dass die Implementierung auch für größere Matrizen effizient und korrekt arbeitet. In diesem Fall werden Matrizen der Größen $16 \\times 16$, $32 \\times 32$ und $64 \\times 64$ getestet. Dadurch wird überprüft, ob die Funktion auch für größere Dimensionen ordnungsgemäß funktioniert.\n",
    "\n",
    "---\n",
    "\n",
    "## Zusammenfassung\n",
    "\n",
    "Die Funktion `test_custom_solve` vergleicht die Ergebnisse der eigenen Implementierung des Gauß-Verfahrens mit der Lösung von SciPy, um die Korrektheit der Implementierung zu überprüfen. Die Tests werden mit Matrizen unterschiedlicher Größen durchgeführt, und die Toleranz für numerische Fehler wird berücksichtigt. Damit haben wir eine verlässliche Methode, die Funktionsfähigkeit und Genauigkeit unserer Implementierung sicherzustellen.\n",
    "\n",
    "</div>"
   ]
  },
  {
   "cell_type": "code",
   "execution_count": 63,
   "id": "e5fb20a9-a354-4b3d-8890-8870d825d730",
   "metadata": {
    "nbgrader": {
     "grade": false,
     "grade_id": "cell-f6a6bc3ba063c4a4",
     "locked": false,
     "schema_version": 3,
     "solution": true,
     "task": false
    },
    "tags": []
   },
   "outputs": [
    {
     "name": "stdout",
     "output_type": "stream",
     "text": [
      "Test bestanden fuer Dimension 16\n",
      "Test bestanden fuer Dimension 32\n",
      "Test bestanden fuer Dimension 64\n"
     ]
    }
   ],
   "source": [
    "def test_custom_solve(n):    \n",
    "    \"\"\"Vergleicht Ergebnisse von custom_solve mit linalg.solve mittels assert-Bedingung\"\"\"\n",
    "    \n",
    "    rng = np.random.default_rng(seed=123)\n",
    "    A = rng.random((n, n))         #Erzeugt eine Zufallsmatrix der Größe n x n\n",
    "    b = rng.random(n)              #Erzeugt einen Zufallsvektor der Länge n\n",
    "    linalg_x = linalg.solve(A, b)  #Löst das Gleichungssystem mit der SciPy-Funktion \n",
    "    custom_x = custom_solve(A, b)  #Löst das gleiche System mit der eigenen Implementierung\n",
    "    \n",
    "    #sicherstellen, dass Ergebnisse gleich sind, float-Unpraezision ignorieren\n",
    "    assert np.allclose(linalg_x, custom_x, atol=1e-6), f\"Ergebnisse weichen zu stark ab bei Dimension {n}\"\n",
    "    \n",
    "    print(\"Test bestanden fuer Dimension\", n)\n",
    "    \n",
    "test_custom_solve(16)\n",
    "test_custom_solve(32)\n",
    "test_custom_solve(64)"
   ]
  },
  {
   "cell_type": "markdown",
   "id": "e97554ab-09a1-43cb-961e-07fbe305d009",
   "metadata": {
    "deletable": false,
    "editable": false
   },
   "source": [
    "<!-- END QUESTION -->\n",
    "\n",
    "**Aufgabe:** Wir wollen nun weiter die *fertigen* SciPy Funktionen betrachten. Mit den Funktionen `lu` und `lu_factor` aus dem Packet `scipy.linalg `  können Sie eine LU-Dekomposition durchführen [[1]](https://docs.scipy.org/doc/scipy/reference/generated/scipy.linalg.lu_factor.html#scipy.linalg.lu_factor) und [[2]](https://docs.scipy.org/doc/scipy/reference/generated/scipy.linalg.lu.html).  \n",
    "Beide Funktionen haben unter anderem den Parameter `overwrite_a`, der `False` oder `True` sein kann. \n",
    "\n",
    "Evaluieren Sie die Performance (Laufzeit) der LU-Zerlegung einer 4096x4096 Matrix, wenn Sie jeweils die Funktionen `lu_factor` und `lu` mit `overwrite_a = True` oder `overwrite_a = False` verwenden.\n",
    "\n",
    "In der Liste `minimums` sollen die minimalen Laufzeiten in folgender Reihenfolge stehen:\n",
    "1. `lu_factor` mit `overwrite_a = False`\n",
    "2. `lu_factor` mit `overwrite_a = True`\n",
    "3. `lu` mit `overwrite_a = False`\n",
    "4. `lu` mit `overwrite_a = True`\n",
    "\n",
    "Hinweis: Da die Matrix A bei der Verwendung von `overwrite_a = True` verändert wird, kann es zu einer Vereinfachung der Berechnung kommen, wenn die Funktion mehrfach nacheinander ausgeführt wird. Aus diesem Grund muss die `timeit` Funktion [repeat](https://docs.python.org/3/library/timeit.html#timeit.repeat) mit `repeat = 2` und `number = 1`  verwendet werden. Die Matrix wird im `setup` Parameter erstellt (aus Zufallswerten mit dem vorgegebenen \"random number generator\").\n",
    "\n",
    "_Points:_ 6"
   ]
  },
  {
   "cell_type": "markdown",
   "id": "5fef56da",
   "metadata": {},
   "source": [
    "<div style=\"color: darkblue; background-color: #e0f7ff; padding: 5px; border-radius: 5px;\" title=\"Toni\">\n",
    "\n",
    "## Performance-Evaluierung der LU-Zerlegung\n",
    "\n",
    "In dieser Aufgabe soll die Performance (Laufzeit) der LU-Zerlegung einer $4096 \\times 4096$ Matrix unter Verwendung der SciPy-Funktionen `lu` und `lu_factor` aus dem Modul `scipy.linalg` untersucht werden. Diese beiden Funktionen sind in der Lage, eine Matrix in ihre LU-Zerlegung zu zerlegen, wobei $L$ eine untere Dreiecksmatrix und $U$ eine obere Dreiecksmatrix ist.\n",
    "\n",
    "Beide Funktionen haben den Parameter `overwrite_a`, der steuert, ob die Eingabematrix `A` während der Berechnung verändert werden darf. Der Parameter kann entweder auf `True` oder auf `False` gesetzt werden, was unterschiedliche Auswirkungen auf die Laufzeit und den Speicherbedarf haben kann.\n",
    "\n",
    "### Ziel der Aufgabe\n",
    "\n",
    "Das Ziel dieser Aufgabe ist es, die Performance der beiden Funktionen zu vergleichen und die minimalen Laufzeiten unter verschiedenen Bedingungen zu ermitteln. Dabei werden die folgenden Szenarien getestet:\n",
    "\n",
    "1. **`lu_factor` mit `overwrite_a=False`**\n",
    "2. **`lu_factor` mit `overwrite_a=True`**\n",
    "3. **`lu` mit `overwrite_a=False`**\n",
    "4. **`lu` mit `overwrite_a=True`**\n",
    "\n",
    "Die minimalen Laufzeiten für diese vier Kombinationen sollen in einer Liste gespeichert werden, die wie folgt aussieht:\n",
    "minimums = [ 1. lu_factor(A, overwrite_a=False), 2. lu_factor(A, overwrite_a=True), 3. lu(A, overwrite_a=False), 4. lu(A, overwrite_a=True) ]\n",
    "\n",
    "\n",
    "### Vorgehensweise\n",
    "\n",
    "1. **Matrix-Erstellung**:  \n",
    "   Zunächst wird eine zufällige Matrix $A$ der Größe $4096 \\times 4096$ erzeugt. Dies geschieht unter Verwendung des Random Number Generators (RNG) von NumPy.\n",
    "\n",
    "2. **Laufzeitmessung**:  \n",
    "   Zur Messung der Laufzeit wird die Python-Funktion `timeit.repeat` verwendet. Diese Funktion ermöglicht es, den Code mehrmals auszuführen (mit `repeat=2`), um eine genauere Messung der Ausführungszeit zu erhalten. Dabei wird der `setup`-Parameter verwendet, um die Matrix vor jeder Messung zu initialisieren. Die `number=1` stellt sicher, dass jede Messung nur einmal durchgeführt wird.\n",
    "\n",
    "3. **Vergleich der Laufzeiten**:  \n",
    "   Nach der Durchführung der Experimente werden die minimalen Laufzeiten für jede der vier getesteten Varianten ermittelt und in einer Liste `minimums` gespeichert.\n",
    "\n",
    "### Lösung\n",
    "\n",
    "Die Lösung verwendet die `timeit`-Funktion, um die Laufzeiten für die vier Kombinationen zu messen.\n",
    "\n",
    "### Interpretation der Ergebnisse\n",
    "\n",
    "- **`lu_factor` mit `overwrite_a=False`** hat die kürzeste Laufzeit, was darauf hindeutet, dass das Nicht-Überschreiben der Eingabematrix für diese Funktion die effizienteste Methode darstellt.\n",
    "- **`lu_factor` mit `overwrite_a=True`** ist etwas langsamer, was möglicherweise darauf hindeutet, dass das Überschreiben der Matrix zusätzliche Rechenoperationen erfordert.\n",
    "- **`lu` mit `overwrite_a=False`** ist langsamer als `lu_factor`, was darauf hinweist, dass die zusätzliche Funktionalität von `lu` (die die Matrix gleichzeitig in $L$ und $U$ zerlegt) zu einem größeren Rechenaufwand führt.\n",
    "- **`lu` mit `overwrite_a=True`** ist etwas langsamer als `lu` mit `overwrite_a=False`, was darauf hindeutet, dass das Überschreiben der Matrix auch hier zu einem zusätzlichen Aufwand führt.\n",
    "\n",
    "### Fazit\n",
    "\n",
    "Die Ergebnisse bestätigen, dass `lu_factor` mit `overwrite_a=False` die effizienteste Methode für die LU-Zerlegung darstellt, während das Überschreiben der Matrix in der Regel einen leichten Performanceverlust zur Folge hat.\n",
    "\n",
    "---\n",
    "\n",
    "## Hinweise\n",
    "\n",
    "- **Überprüfung der Performance**: Die Verwendung von `timeit.repeat` stellt sicher, dass die Laufzeiten zuverlässig und präzise gemessen werden, indem mehrere Wiederholungen durchgeführt werden.\n",
    "- **Randomisierte Matrix**: Die Matrix wird bei jedem Lauf zufällig erzeugt, was bedeutet, dass die Tests unter realistischen Bedingungen durchgeführt werden, da die Eingabedaten für jedes Experiment unterschiedlich sind.\n",
    "- **Überschreiben der Matrix**: Das Setzen von `overwrite_a=True` kann in einigen Fällen zu einer leicht verbesserten Performance führen, da weniger Speicher für die Eingabematrix erforderlich ist.\n",
    "\n",
    "---\n",
    "\n",
    "## Zusammenfassung\n",
    "\n",
    "In dieser Aufgabe wurde die Performance der LU-Zerlegung für eine $4096 \\times 4096$ Matrix unter Verwendung der SciPy-Funktionen `lu_factor` und `lu` untersucht. Es wurde getestet, ob das Überschreiben der Eingabematrix (durch Setzen des Parameters `overwrite_a=True`) einen Einfluss auf die Laufzeit hat. Die Ergebnisse zeigen, dass `lu_factor` mit `overwrite_a=False` die schnellste Variante darstellt und das Überschreiben der Matrix in der Regel zu einem kleinen Performanceverlust führt.\n",
    "\n",
    "<div>\n"
   ]
  },
  {
   "cell_type": "code",
   "execution_count": 64,
   "id": "3b6bc562-608a-4f7e-b2a3-2f63d0447f85",
   "metadata": {
    "nbgrader": {
     "grade": false,
     "grade_id": "cell-5978db060fba8a0d",
     "locked": false,
     "schema_version": 3,
     "solution": true,
     "task": false
    },
    "tags": []
   },
   "outputs": [
    {
     "data": {
      "text/plain": [
       "[1.009529693000104, 1.048232730999871, 1.4839463319999595, 1.4356397540000216]"
      ]
     },
     "execution_count": 64,
     "metadata": {},
     "output_type": "execute_result"
    }
   ],
   "source": [
    "# Matrixgröße\n",
    "n = 4096  # Die Matrix hat die Dimension 4096x4096\n",
    "\n",
    "# Anzahl der Wiederholungen und der Ausführungen pro Wiederholung für die Zeitmessung\n",
    "number = 1  # Jede Messung wird nur einmal ausgeführt\n",
    "repetitions = 2  # Es wird 2 Wiederholungen der Zeitmessung durchgeführt, um eine genauere Schätzung zu erhalten\n",
    "\n",
    "# Initialisiere den Random Number Generator (RNG) mit einem festen Seed für Reproduzierbarkeit\n",
    "rng = np.random.default_rng(seed=123)\n",
    "\n",
    "# Die lambda-Funktion definiert den zu wiederholenden Code, der jeweils eine der vier Varianten der LU-Zerlegung aufruft\n",
    "repeat_lambda = lambda x: repeat(x, setup=\"A = rng.random((n, n))\", repeat=repetitions, number=number, globals=globals())\n",
    "\n",
    "# Wir führen die Zeitmessung für jede der vier Varianten der LU-Zerlegung durch\n",
    "minimums = [\n",
    "    min(repeat_lambda(x))  # Wir wählen die minimale Zeit aus den beiden Wiederholungen\n",
    "    for x in [\n",
    "        \"lu_factor(A, overwrite_a=False)\",  # LU-Zerlegung mit 'overwrite_a=False' und lu_factor\n",
    "        \"lu_factor(A, overwrite_a=True)\",   # LU-Zerlegung mit 'overwrite_a=True' und lu_factor\n",
    "        \"lu(A, overwrite_a=False)\",         # LU-Zerlegung mit 'overwrite_a=False' und lu\n",
    "        \"lu(A, overwrite_a=True)\"           # LU-Zerlegung mit 'overwrite_a=True' und lu\n",
    "    ]\n",
    "]\n",
    "\n",
    "# Die minimalen Laufzeiten der vier Varianten werden in der Liste 'minimums' gespeichert\n",
    "minimums"
   ]
  },
  {
   "cell_type": "markdown",
   "id": "b28672ee",
   "metadata": {},
   "source": [
    "<div class=\"Toni_Markdown_Solution\">\n",
    "\n",
    "Die Laufzeitenanalyse zeigt, dass `lu_faktor` leicht schneller ist als `lu`. Je nach System können die Laufzeiten variieren.\n",
    "\n",
    "</div>"
   ]
  },
  {
   "cell_type": "markdown",
   "id": "0c447785-1c5f-42ae-a1cb-d7cce6c3e45a",
   "metadata": {
    "deletable": false,
    "editable": false
   },
   "source": [
    "**Aufgabe:** Untersuchen Sie den Speicherverbrauch der 4 Varianten mit memray.\n",
    "\n",
    "Um den Einfluss der anderen Berechnungen zu minimieren, empfehlen wir hier, die Berechnungen in eine neue Datei zu schreiben und mit `!` in einer Code-Zelle memray's Command-Line Interface zu verwenden. \n",
    "\n",
    "Am besten tracen Sie nur die LU Funktion mit einem Context Manager!\n",
    "Verwenden Sie jeweils folgende Dateinamen als `file_name` Parameter in `memray.Tracker`:\n",
    "\n",
    "- lu_inplace.bin\n",
    "- lu_notinplace.bin\n",
    "- lu_factor_inplace.bin\n",
    "- lu_factor_notinplace.bin\n",
    "\n",
    "Beantworten Sie bitte die folgenden Fragen:\n",
    "* Welche Version verwendet am meisten Speicher? \n",
    "* Bei welcher Version ist der Speicherverbrauch am konstantesten? \n",
    "\n",
    "_Points:_ 9"
   ]
  },
  {
   "cell_type": "markdown",
   "id": "258e9b96",
   "metadata": {},
   "source": [
    "<div style=\"color: darkblue; background-color: #e0f7ff; padding: 5px; border-radius: 5px;\" title=\"Toni\">\n",
    "\n",
    "# Untersuchung des Speicherverbrauchs der LU-Zerlegung mit Memray\n",
    "\n",
    "In dieser Aufgabe untersuchen wir den Speicherverbrauch von vier Varianten der LU-Zerlegung, die entweder die Funktion `lu` oder `lu_factor` verwenden, mit den Optionen `overwrite_a=True` und `overwrite_a=False`. Das Ziel ist es, den Speicherverbrauch für jede dieser Varianten zu messen und zu vergleichen, welche Version den meisten Speicher benötigt und bei welcher der Speicherverbrauch am konstantesten ist.\n",
    "\n",
    "## Vorgehensweise\n",
    "\n",
    "Wir verwenden das Profiling-Tool **Memray**, um den Speicherverbrauch zu messen. Memray verfolgt alle Speicherzuweisungen, die während der Programmausführung stattfinden. Dabei werden die Ergebnisse in einer binären Datei gespeichert. Nach der Ausführung analysieren wir diese Dateien, um den gesamten Speicherverbrauch zu ermitteln.\n",
    "\n",
    "Die vier Varianten, die wir vergleichen, sind:\n",
    "\n",
    "1. **lu_inplace**: Die Funktion `lu` wird mit der Option `overwrite_a=True` verwendet, was bedeutet, dass die Eingabematrix `A` in-place verändert wird.\n",
    "2. **lu_notinplace**: Die Funktion `lu` wird mit der Option `overwrite_a=False` verwendet, was bedeutet, dass eine neue Matrix für die LU-Zerlegung erstellt wird.\n",
    "3. **lu_factor_inplace**: Die Funktion `lu_factor` wird mit der Option `overwrite_a=True` verwendet.\n",
    "4. **lu_factor_notinplace**: Die Funktion `lu_factor` wird mit der Option `overwrite_a=False` verwendet.\n",
    "\n",
    "## Fragen zur Analyse\n",
    "\n",
    "Die Aufgabe stellt zwei wichtige Fragen:\n",
    "\n",
    "1. **Welche Version verwendet am meisten Speicher?**\n",
    "2. **Bei welcher Version ist der Speicherverbrauch am konstantesten?**\n",
    "\n",
    "## Ergebnisse\n",
    "\n",
    "Die Messungen für den Speicherverbrauch der verschiedenen Varianten (in MB) ergeben die folgenden Werte:\n",
    "\n",
    "- **Speichernutzung von lu_inplace**: 432 MB\n",
    "- **Speichernutzung von lu_notinplace**: 560 MB\n",
    "- **Speichernutzung von lu_factor_inplace**: 176 MB\n",
    "- **Speichernutzung von lu_factor_notinplace**: 176 MB\n",
    "\n",
    "### Antwort auf die Fragen:\n",
    "\n",
    "1. **Welche Version verwendet am meisten Speicher?**\n",
    "   - Die Variante `lu_notinplace` benötigt mit 560 MB den meisten Speicher.\n",
    "\n",
    "2. **Bei welcher Version ist der Speicherverbrauch am konstantesten?**\n",
    "   - Die Varianten `lu_factor_inplace` und `lu_factor_notinplace` verwenden mit jeweils 176 MB konstanten Speicher und sind deutlich speichereffizienter als die anderen Varianten.\n",
    "\n",
    "## Fazit\n",
    "\n",
    "Die Analyse zeigt, dass die `lu_factor`-Funktionen deutlich weniger Speicher benötigen als die `lu`-Funktionen. Das In-place-Verfahren (mit `overwrite_a=True`) führt zu einer geringeren Speicherbelegung als das Verfahren ohne In-place-Veränderung (`overwrite_a=False`), was auf die Vermeidung zusätzlicher Speicherzuweisungen hindeutet.\n",
    "\n",
    "<div>"
   ]
  },
  {
   "cell_type": "code",
   "execution_count": 68,
   "id": "e1f13582-71a9-4c1a-81fc-d400598964a3",
   "metadata": {
    "tags": []
   },
   "outputs": [],
   "source": [
    "# Löschen der .bin-Dateien, wenn sie bereits existieren\n",
    "for file_name in [\"lu_inplace.bin\", \"lu_notinplace.bin\", \"lu_factor_inplace.bin\", \"lu_factor_notinplace.bin\"]:\n",
    "    if os.path.exists(file_name):  # Überprüfen, ob die Datei existiert\n",
    "        os.remove(file_name)  # Löschen der Datei, wenn sie existiert\n",
    "\n",
    "# Erstellen der .py-Dateien ohne Indentationsfehler\n",
    "for file_name in [\"lu_inplace.bin\", \"lu_notinplace.bin\", \"lu_factor_inplace.bin\", \"lu_factor_notinplace.bin\"]:\n",
    "    with open(file_name.replace(\".bin\", \".py\"), \"w\") as file:        \n",
    "        file.write(\n",
    "f\"\"\"\n",
    "import numpy as np\n",
    "import memray\n",
    "from scipy.linalg import lu_factor, lu\n",
    "\n",
    "n = 4096\n",
    "rng = np.random.default_rng(seed=123)\n",
    "A = rng.random((n, n))\n",
    "\n",
    "with memray.Tracker(\"{file_name}\", native_traces=True):\n",
    "    lu{\"_factor\" if \"_factor\" in file_name else \"\"}(A, overwrite_a={\"_inplace\" in file_name})\n",
    "\"\"\") # Verwende Memray Tracker, um den Speicherverbrauch zu überwachen"
   ]
  },
  {
   "cell_type": "markdown",
   "id": "08f69b53",
   "metadata": {},
   "source": [
    "<div style=\"color: darkblue; background-color: #e0f7ff; padding: 5px; border-radius: 5px;\" title=\"Toni\">\n",
    "memray muss installiert und importierbar sein, es wurde version 1.16.0 gemäß Dockerfile aus dem Kurs verwendet.\n",
    "</div>"
   ]
  },
  {
   "cell_type": "code",
   "execution_count": 69,
   "id": "9589f383-a893-4d90-93ae-c2b1f44e5d36",
   "metadata": {
    "tags": []
   },
   "outputs": [],
   "source": [
    "#alle .py files werden ausgefuehrt in python3 um .bin Dateien zu erstellen\n",
    "#diese enthalten die Infos zum Speicherbedarf\n",
    "#falls sie schon im Verzeichnis existieren, müssen sie zuvor gelöscht werden\n",
    "# Alle .py-Dateien ausführen, um die .bin-Dateien zu erzeugen, die die Speichernutzungsdaten enthalten\n",
    "for file_name in [\"lu_inplace.bin\", \"lu_notinplace.bin\", \"lu_factor_inplace.bin\", \"lu_factor_notinplace.bin\"]:\n",
    "    os.system(f\"python3 {file_name.replace('.bin', '.py')}\")"
   ]
  },
  {
   "cell_type": "code",
   "execution_count": 70,
   "id": "19be799c",
   "metadata": {},
   "outputs": [
    {
     "name": "stdout",
     "output_type": "stream",
     "text": [
      "Speichernutzung von lu_inplace : 432MB\n",
      "Speichernutzung von lu_notinplace : 560MB\n",
      "Speichernutzung von lu_factor_inplace : 176MB\n",
      "Speichernutzung von lu_factor_notinplace : 176MB\n"
     ]
    }
   ],
   "source": [
    "#Speichernutzung wird aus allen .bin files gelesen und hier zusammengefasst\n",
    "# Speichernutzung aus den .bin-Dateien lesen und ausgeben\n",
    "for file_name in [\"lu_inplace.bin\", \"lu_notinplace.bin\", \"lu_factor_inplace.bin\", \"lu_factor_notinplace.bin\"]:\n",
    "    reader = memray.FileReader(file_name)\n",
    "    mem_use = 0\n",
    "\n",
    "    # Alle Speicherzuweisungen durchgehen und die Gesamtgröße berechnen\n",
    "    for allocation in reader.get_allocation_records():\n",
    "        mem_use += allocation.size\n",
    "\n",
    "    # Ausgabe des gesamten Speicherverbrauchs in MB\n",
    "    print(f\"Speichernutzung von {file_name[:-4]} : {round(mem_use / 2**20)}MB\") "
   ]
  },
  {
   "cell_type": "markdown",
   "id": "2e63aac6",
   "metadata": {},
   "source": [
    "<div style=\"color: darkblue; background-color: #e0f7ff; padding: 5px; border-radius: 5px;\" title=\"Toni\">\n",
    "\n",
    "Die Funktionen mit Version `lu_factor` verwenden konstant nur `176 MB` an Speicher.\n",
    "\n",
    "Funktionen mit Version `lu` verwenden deutlich mehr Speicher mit `432 MB` \"inplace\" und sogar `560 MB` \"notinplace\".\n",
    "\n",
    "Der Speicherbedarf kann auf unterschiedlichen Systemen unterschiedlich ausfallen.\n",
    "\n",
    "<div>\n"
   ]
  },
  {
   "cell_type": "code",
   "execution_count": 71,
   "id": "2656c877",
   "metadata": {},
   "outputs": [
    {
     "name": "stdout",
     "output_type": "stream",
     "text": [
      "\u001b[2K  \u001b[36mComputing statistics...\u001b[0m \u001b[90m━━━━━━━━━━━━━━━━━━━━━━━━━━━━━━━━━━━━━━━━\u001b[0m \u001b[35m100%\u001b[0m \u001b[36m0:00:00\u001b[0m--:--\u001b[0m\n",
      "\u001b[1A\u001b[2K📏 \u001b[1mTotal allocations:\u001b[0m\n",
      "\t18\n",
      "\n",
      "📦 \u001b[1mTotal memory allocated:\u001b[0m\n",
      "\t432.139MB\n",
      "\n",
      "📊 \u001b[1mHistogram of allocation size:\u001b[0m\n",
      "\tmin: 8.000B\n",
      "\t----------------------------------------\n",
      "\t< 42.000B  : 3 ▇▇▇▇▇▇▇▇▇▇▇▇▇\n",
      "\t< 222.000B : 0 \n",
      "\t< 1.148KB  : 2 ▇▇▇▇▇▇▇▇▇\n",
      "\t< 6.062KB  : 2 ▇▇▇▇▇▇▇▇▇\n",
      "\t< 32.000KB : 6 ▇▇▇▇▇▇▇▇▇▇▇▇▇▇▇▇▇▇▇▇▇▇▇▇▇\n",
      "\t< 168.896KB: 0 \n",
      "\t< 891.443KB: 0 \n",
      "\t< 4.595MB  : 0 \n",
      "\t< 24.251MB : 1 ▇▇▇▇▇\n",
      "\t<=128.000MB: 4 ▇▇▇▇▇▇▇▇▇▇▇▇▇▇▇▇▇\n",
      "\t----------------------------------------\n",
      "\tmax: 128.000MB\n",
      "\n",
      "📂 \u001b[1mAllocator type distribution:\u001b[0m\n",
      "\t MALLOC: 15\n",
      "\t CALLOC: 2\n",
      "\t MMAP: 1\n",
      "\n",
      "🥇 \u001b[1mTop \u001b[0m\u001b[1;36m5\u001b[0m\u001b[1m largest allocating locations \u001b[0m\u001b[1m(\u001b[0m\u001b[1mby size\u001b[0m\u001b[1m)\u001b[0m\u001b[1m:\u001b[0m\n",
      "\t- lu:/opt/conda/lib/python3.11/site-packages/scipy/linalg/_decomp_lu.py:355 -> 160.016MB\n",
      "\t- lu:/opt/conda/lib/python3.11/site-packages/scipy/linalg/_decomp_lu.py:385 -> 128.000MB\n",
      "\t- lu:/opt/conda/lib/python3.11/site-packages/scipy/linalg/_decomp_lu.py:354 -> 128.000MB\n",
      "\t- asarray_chkfinite:/opt/conda/lib/python3.11/site-packages/numpy/lib/_function_base_impl.py:655 -> 16.000MB\n",
      "\t- lu:/opt/conda/lib/python3.11/site-packages/scipy/linalg/_decomp_lu.py:386 -> 98.852KB\n",
      "\n",
      "🥇 \u001b[1mTop \u001b[0m\u001b[1;36m5\u001b[0m\u001b[1m largest allocating locations \u001b[0m\u001b[1m(\u001b[0m\u001b[1mby number of allocations\u001b[0m\u001b[1m)\u001b[0m\u001b[1m:\u001b[0m\n",
      "\t- lu:/opt/conda/lib/python3.11/site-packages/scipy/linalg/_decomp_lu.py:386 -> 6\n",
      "\t- lu:/opt/conda/lib/python3.11/site-packages/scipy/linalg/_decomp_lu.py:355 -> 4\n",
      "\t- _all:/opt/conda/lib/python3.11/site-packages/numpy/_core/_methods.py:74 -> 2\n",
      "\t- asarray_chkfinite:/opt/conda/lib/python3.11/site-packages/numpy/lib/_function_base_impl.py:655 -> 2\n",
      "\t- lu:/opt/conda/lib/python3.11/site-packages/scipy/linalg/_decomp_lu.py:385 -> 1\n"
     ]
    },
    {
     "data": {
      "text/plain": [
       "0"
      ]
     },
     "execution_count": 71,
     "metadata": {},
     "output_type": "execute_result"
    }
   ],
   "source": [
    "#Auch die command-line Funktion von memray kann verwendet werden\n",
    "# äquivalent zu !memray stats lu_inplace.bin\n",
    "os.system(\"memray stats lu_inplace.bin\")"
   ]
  },
  {
   "cell_type": "code",
   "execution_count": null,
   "id": "3a150e02",
   "metadata": {},
   "outputs": [],
   "source": [
    "#command-line Befehl zum Löschen aller erstellten files\n",
    "os.system(\"rm -rf lu_*\")"
   ]
  }
 ],
 "metadata": {
  "kernelspec": {
   "display_name": "Python 3 (ipykernel)",
   "language": "python",
   "name": "python3"
  },
  "language_info": {
   "codemirror_mode": {
    "name": "ipython",
    "version": 3
   },
   "file_extension": ".py",
   "mimetype": "text/x-python",
   "name": "python",
   "nbconvert_exporter": "python",
   "pygments_lexer": "ipython3",
   "version": "3.11.6"
  },
  "otter": {
   "OK_FORMAT": true,
   "assignment_name": "EA1",
   "tests": {
    "addition_ieee": {
     "name": "addition_ieee",
     "points": 12,
     "suites": [
      {
       "cases": [],
       "scored": true,
       "setup": "",
       "teardown": "",
       "type": "doctest"
      }
     ]
    },
    "addition_npsum": {
     "name": "addition_npsum",
     "points": 2,
     "suites": [
      {
       "cases": [],
       "scored": true,
       "setup": "",
       "teardown": "",
       "type": "doctest"
      }
     ]
    },
    "addition_variants": {
     "name": "addition_variants",
     "points": 6,
     "suites": [
      {
       "cases": [],
       "scored": true,
       "setup": "",
       "teardown": "",
       "type": "doctest"
      }
     ]
    },
    "limits_explanation": {
     "name": "limits_explanation",
     "points": 12,
     "suites": [
      {
       "cases": [],
       "scored": true,
       "setup": "",
       "teardown": "",
       "type": "doctest"
      }
     ]
    },
    "limits_fx": {
     "name": "limits_fx",
     "points": 8,
     "suites": [
      {
       "cases": [
        {
         "code": ">>> print(result_limits)\n[1.05170918 1.00501671 1.00050017 1.00005    1.000005   1.0000005\n 1.00000005 0.99999999 1.00000008 1.00000008 1.00000008 1.0000889\n 0.99920072 0.99920072 1.11022302]\n",
         "hidden": false,
         "locked": false
        },
        {
         "code": ">>> print(result_limits_2)\n[0. 0. 0. 0. 0.]\n",
         "hidden": false,
         "locked": false
        }
       ],
       "scored": true,
       "setup": "",
       "teardown": "",
       "type": "doctest"
      }
     ]
    },
    "linearsystem_bsolve": {
     "name": "linearsystem_bsolve",
     "points": 12,
     "suites": [
      {
       "cases": [],
       "scored": true,
       "setup": "",
       "teardown": "",
       "type": "doctest"
      }
     ]
    },
    "linearsystem_customsolve": {
     "name": "linearsystem_customsolve",
     "points": 12,
     "suites": [
      {
       "cases": [],
       "scored": true,
       "setup": "",
       "teardown": "",
       "type": "doctest"
      }
     ]
    },
    "linearsystem_customsolve_test": {
     "name": "linearsystem_customsolve_test",
     "points": 6,
     "suites": [
      {
       "cases": [],
       "scored": true,
       "setup": "",
       "teardown": "",
       "type": "doctest"
      }
     ]
    },
    "linearsystem_ludecomp": {
     "name": "linearsystem_ludecomp",
     "points": 15,
     "suites": [
      {
       "cases": [],
       "scored": true,
       "setup": "",
       "teardown": "",
       "type": "doctest"
      }
     ]
    },
    "linearsystem_scipy_memory": {
     "name": "linearsystem_scipy_memory",
     "points": 9,
     "suites": [
      {
       "cases": [],
       "scored": true,
       "setup": "",
       "teardown": "",
       "type": "doctest"
      }
     ]
    },
    "linearsystem_scipy_time": {
     "name": "linearsystem_scipy_time",
     "points": 6,
     "suites": [
      {
       "cases": [],
       "scored": true,
       "setup": "",
       "teardown": "",
       "type": "doctest"
      }
     ]
    }
   }
  }
 },
 "nbformat": 4,
 "nbformat_minor": 5
}
