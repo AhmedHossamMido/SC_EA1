{
 "cells": [
  {
   "cell_type": "markdown",
   "id": "a8b3375c-690d-4cc3-b82b-f18cf1b02069",
   "metadata": {},
   "source": [
    "# Einsendeaufgabe 1: Numerische Genauigkeit und Gleichungssysteme (100 Punkte)\n",
    "In dieser Aufgabe sollen Sie ein wenig mehr Erfahrung mit NumPy und numerischen Methoden gewinnen.  \n",
    "Zur Erinnerung empfehle ich an dieser Stelle, die Definition der [IEEE-Fließkommazahlen](https://de.wikipedia.org/wiki/IEEE_754) zu wiederholen.  "
   ]
  },
  {
   "cell_type": "markdown",
   "id": "fc24fc52-f1bc-4378-8023-f0cb1c9607d5",
   "metadata": {},
   "source": [
    "## Addition von Zahlen (20 Punkte) \n",
    "\n",
    "Gegeben sei ein Array *array*, dass 100 mal die Zahl $10^{-16}$ enthält und einmal (als ersten Eintrag) die Zahl $1$. "
   ]
  },
  {
   "cell_type": "code",
   "execution_count": 2,
   "id": "080a3fb8-9b98-4017-b6ba-3895321b8431",
   "metadata": {},
   "outputs": [
    {
     "name": "stdout",
     "output_type": "stream",
     "text": [
      "[1.e+00 1.e-16 1.e-16 1.e-16 1.e-16 1.e-16 1.e-16 1.e-16 1.e-16 1.e-16\n",
      " 1.e-16 1.e-16 1.e-16 1.e-16 1.e-16 1.e-16 1.e-16 1.e-16 1.e-16 1.e-16\n",
      " 1.e-16 1.e-16 1.e-16 1.e-16 1.e-16 1.e-16 1.e-16 1.e-16 1.e-16 1.e-16\n",
      " 1.e-16 1.e-16 1.e-16 1.e-16 1.e-16 1.e-16 1.e-16 1.e-16 1.e-16 1.e-16\n",
      " 1.e-16 1.e-16 1.e-16 1.e-16 1.e-16 1.e-16 1.e-16 1.e-16 1.e-16 1.e-16\n",
      " 1.e-16 1.e-16 1.e-16 1.e-16 1.e-16 1.e-16 1.e-16 1.e-16 1.e-16 1.e-16\n",
      " 1.e-16 1.e-16 1.e-16 1.e-16 1.e-16 1.e-16 1.e-16 1.e-16 1.e-16 1.e-16\n",
      " 1.e-16 1.e-16 1.e-16 1.e-16 1.e-16 1.e-16 1.e-16 1.e-16 1.e-16 1.e-16\n",
      " 1.e-16 1.e-16 1.e-16 1.e-16 1.e-16 1.e-16 1.e-16 1.e-16 1.e-16 1.e-16\n",
      " 1.e-16 1.e-16 1.e-16 1.e-16 1.e-16 1.e-16 1.e-16 1.e-16 1.e-16 1.e-16\n",
      " 1.e-16]\n"
     ]
    }
   ],
   "source": [
    "import numpy as np\n",
    "\n",
    "array = np.concatenate(([1], np.full(100, 1e-16)))\n",
    "print(array)"
   ]
  },
  {
   "cell_type": "markdown",
   "id": "1f63e85a-028f-4b9f-aacb-2879fee0fd99",
   "metadata": {
    "deletable": true,
    "editable": false
   },
   "source": [
    "**Aufgabe:** Addieren Sie alle Werte in `array`:\n",
    "- mit der Funktion `np.sum()`\n",
    "- mit einer Schleife, die von **vorne nach hinten** über `array` iteriert\n",
    "- mit einer Schleife, die von **hinten nach vorne** über `array` iteriert\n",
    "\n",
    "_Points:_ 6"
   ]
  },
  {
   "cell_type": "code",
   "execution_count": 3,
   "id": "11b6c189-e0ee-411a-8f83-b804db3527d8",
   "metadata": {
    "tags": []
   },
   "outputs": [
    {
     "name": "stdout",
     "output_type": "stream",
     "text": [
      "sum_numpy=np.float64(1.0000000000000084)\n",
      "sum_forward=np.float64(1.0)\n",
      "sum_reverse=np.float64(1.00000000000001)\n"
     ]
    }
   ],
   "source": [
    "sum_numpy = np.sum(array)\n",
    "print(f\"{sum_numpy=}\")\n",
    "\n",
    "sum_forward = 0.0\n",
    "for x in array:\n",
    "    sum_forward += x\n",
    "print(f\"{sum_forward=}\")\n",
    "\n",
    "sum_reverse = 0.0\n",
    "for x in reversed(array):\n",
    "    sum_reverse += x\n",
    "print(f\"{sum_reverse=}\")"
   ]
  },
  {
   "cell_type": "markdown",
   "id": "8ea8b6ef-4687-47e5-9aa8-8c77d5e8d1bd",
   "metadata": {
    "deletable": true,
    "editable": false
   },
   "source": [
    "<!-- BEGIN QUESTION -->\n",
    "\n",
    "**Aufgabe:** Erklären Sie die Ergebnisse. Wie werden die Zahlen 1 und 1e-17 im Computer dargestellt? (ausführliche Erläuterung erforderlich!)  \n",
    "\n",
    "_Points:_ 12"
   ]
  },
  {
   "cell_type": "markdown",
   "id": "d595469a",
   "metadata": {},
   "source": [
    "<div style=\"background-color: #f5f5f5; color: #37474f;\">\n",
    "\n",
    "## Numerische Genauigkeit von verschiedenen Additionsverfahren\n",
    "\n",
    "### Unterschiede in der Summierung\n",
    "\n",
    "Bei der Berechnung der Summe mit unterschiedlichen Verfahren ergeben sich leicht unterschiedliche Ergebnisse:\n",
    "\n",
    "```python\n",
    "sum_numpy   = np.float64(1.0000000000000084)\n",
    "sum_forward = np.float64(1.0)\n",
    "sum_reverse = np.float64(1.00000000000001)\n",
    "```\n",
    "Diese Unterschiede entstehen durch **Rundungsfehler** in der **Gleitkommadarstellung**, die auf der begrenzten Anzahl an Bits basiert, mit der reale Zahlen intern im Computer dargestellt werden.\n",
    "\n",
    "---\n",
    "\n",
    "## Gleitkommazahlen im IEEE 754 Standard\n",
    "\n",
    "Python und NumPy verwenden standardmäßig `float64` (IEEE 754 Double Precision), das wie folgt aufgebaut ist:\n",
    "\n",
    "- **1 Bit** für das Vorzeichen  \n",
    "- **11 Bits** für den Exponenten  \n",
    "- **52 Bits** für die Mantisse  \n",
    "\n",
    "Insgesamt also **64 Bit**. Die reale Zahl wird durch folgende Formel dargestellt:\n",
    "\n",
    "```\n",
    "Zahl = (-1)^s · 1.m · 2^(e - 1023)\n",
    "```\n",
    "\n",
    "Dabei ist:\n",
    "\n",
    "- `s` das Vorzeichenbit  \n",
    "- `m` die Mantisse (ohne führende 1)  \n",
    "- `e` der gespeicherte Exponent mit **Bias** = 1023  \n",
    "\n",
    "---\n",
    "\n",
    "## Maschinengenauigkeit\n",
    "\n",
    "Die kleinste Zahl, die zu `1.0` addiert werden kann, sodass sich das Ergebnis **numerisch unterscheidet**, nennt man **Maschinengenauigkeit** oder **machine epsilon** $\\varepsilon_{\\text{mach}}$:\n",
    "\n",
    "```python\n",
    "np.finfo(float).eps\n",
    "# Ergebnis: 2.220446049250313e-16\n",
    "```\n",
    "\n",
    "Zahlen kleiner als `eps` „verpuffen“ bei der Addition zu größeren Zahlen wie `1.0`, da sie außerhalb der darstellbaren Genauigkeit der Mantisse liegen. Wenn zwei Gleitkommazahlen stark unterschiedlich groß sind, kann die kleinere Zahl beim Addieren „verschluckt“ werden – das nennt man Verlust der Signifikanz:\n",
    "\n",
    "```python\n",
    "print(1e-16 < np.finfo(float).eps)  # True\n",
    "print(1.0 + 1e-16 == 1.0)           # True\n",
    "```\n",
    "\n",
    "---\n",
    "\n",
    "## Warum liefert `sum_forward` ein anderes Ergebnis als `sum_reverse`?\n",
    "\n",
    "Angenommen:\n",
    "\n",
    "```python\n",
    "array = np.array([1.0] + [1e-16] * 100)\n",
    "```\n",
    "\n",
    "- `sum_forward` addiert zuerst `1.0` und dann viele kleine `1e-16`. Diese einzelnen Summanden sind kleiner als `eps` und **gehen verloren**.\n",
    "- `sum_reverse` addiert zuerst die kleinen `1e-16` zu einem größeren Zwischenwert (z. B. `1e-14`), der dann zu `1.0` addiert wird und sich **merklich auswirkt**.\n",
    "- `sum_numpy` verwendet oft optimierte oder paarweise Additionen (`pairwise summation`), was ebenfalls zu einem etwas besseren Ergebnis führen kann.\n",
    "\n",
    "Gleitkommazahlen sind **nicht assoziativ**, d. h.:\n",
    "\n",
    "```\n",
    "(a + b) + c ≠ a + (b + c)\n",
    "```\n",
    "\n",
    "Das bedeutet, dass die Reihenfolge der Addition das Ergebnis beeinflussen kann, besonders wenn sehr kleine Zahlen in der Summe enthalten sind.\n",
    "\n",
    "---\n",
    "\n",
    "## Darstellung der Zahl `1.0` im IEEE 754-Standard\n",
    "\n",
    "#### Mathematische Form:\n",
    "\n",
    "$\n",
    "1.0 = 1.0 \\cdot 2^0 \\\\\n",
    "\\Rightarrow \\text{Echter Exponent} = 0 \\\\\n",
    "\\Rightarrow \\text{Gespeicherter Exponent} = 0 + \\text{Bias} = 1023 = 01111111111_2\n",
    "$\n",
    "\n",
    "#### Mantisse:\n",
    "- Die Zahl `1.0` entspricht im Binärsystem: $ 1.000\\ldots0_2 $\n",
    "- Die **führende 1 vor dem Komma** wird im IEEE 754-Format **nicht gespeichert** (implizit angenommen)\n",
    "- Alle 52 Bits der Mantisse (also der Nachkommastellen) sind daher **0**\n",
    "\n",
    "#### IEEE 754-Darstellung (64 Bit – `double precision`):\n",
    "\n",
    "```\n",
    "s        e (11 Bit)             m (52 Bit)\n",
    "0   01111111111   0000000000000000000000000000000000000000000000000000\n",
    "```\n",
    "\n",
    "#### Zusammenfassung:\n",
    "- **Vorzeichenbit (`s`)**: `0` → Zahl ist positiv  \n",
    "- **Exponent (`e`)**: 1023 → gespeichert als `01111111111`  \n",
    "- **Mantisse (`m`)**: nur Nullen (weil keine Nachkommastellen vorhanden sind)  \n",
    "- Daraus ergibt sich der dargestellte Wert:\n",
    "  \n",
    "$\n",
    "(-1)^0 \\cdot 1.0 \\cdot 2^{0} = 1.0\n",
    "$\n",
    "\n",
    "---\n",
    "\n",
    "## Darstellung der Zahl `1e-17` im IEEE 754-Standard\n",
    "\n",
    "### Mathematische Zerlegung von `1e-17`\n",
    "\n",
    "Wir suchen $m$ und $e$, sodass:\n",
    "\n",
    "$\n",
    "1e-17 = 1.m \\cdot 2^{e - 1023}\n",
    "$\n",
    "\n",
    "Um das umzuformen:\n",
    "\n",
    "1. Schreibe `1e-17` als Zweierpotenz:\n",
    "   $\n",
    "   1e-17 = 10^{-17} \\approx 2^{-56.14}\n",
    "   $\n",
    "\n",
    "2. Runde auf:\n",
    "   $\n",
    "   1e-17 \\approx 2^{-56}\n",
    "   $\n",
    "\n",
    "3. Daraus folgt:\n",
    "   $\n",
    "   1e-17 = 1.0 \\cdot 2^{-56}\n",
    "   \\Rightarrow e_{\\text{effektiv}} = -56\n",
    "   \\Rightarrow \\text{gespeicherter Exponent} = -56 + 1023 = 967\n",
    "   $\n",
    "\n",
    "- **Vorzeichenbit ($s$)**: `0` (positiv)  \n",
    "- **Exponent ($e$)**: $967$ → binär: `01111001111`  \n",
    "- **Mantisse ($m$)**: Nachkommabits von `1.0` (also alles Nullen)  \n",
    "\n",
    "Die IEEE-754-Bitfolge sieht dann so aus (in 64 Bit):\n",
    "```\n",
    "s        e (11 Bit)             m (52 Bit)\n",
    "0   01111001111   0000000000000000000000000000000000000000000000000000\n",
    "```\n",
    "\n",
    "`1e-17` ist **kleiner** als der kleinste darstellbare Unterschied zu `1.0` im IEEE 754-Standard (double precision), nämlich:\n",
    "\n",
    "$\n",
    "\\varepsilon_{\\text{mach}} \\approx 2^{-52} \\approx 2.22 \\cdot 10^{-16}\n",
    "$\n",
    "\n",
    "---\n",
    "\n",
    "### Fazit:\n",
    "\n",
    "- Die Zahl `1.0` kann exakt im Format IEE 754 `float64` dargestellt werden.  \n",
    "- Die Zahl `1e-17` ist **zu klein** und hat eine **unendliche Binärdarstellung**, was zu einer _Rundung_ führen muss. Eine präzise Darstellung innerhalb der 52 Bits der Mantisse ist nicht möglich. \n",
    "\n",
    "\n",
    "---\n",
    "\n",
    "## Ab wann ist eine Summe nicht mehr darstellbar?\n",
    "\n",
    "Eine einfache Faustregel:\n",
    "\n",
    "> Zwei Zahlen `x` und `y` können exakt addiert werden, wenn  \n",
    "> `| log2(x) - log2(y) | < 52` (bei `float64`)\n",
    "\n",
    "Test in Python:\n",
    "\n",
    "```python\n",
    "def mindest_mantissenbits(x, y):\n",
    "   return abs(np.log2(x) - np.log2(y))\n",
    "\n",
    "mindest_mantissenbits(1, 1e-16) < 52  # False → nicht exakt addierbar\n",
    "```\n",
    "\n",
    "<div>"
   ]
  },
  {
   "cell_type": "markdown",
   "id": "0bb8c677-a5e2-49df-9a00-97d8ecc6536e",
   "metadata": {
    "deletable": true,
    "editable": false
   },
   "source": [
    "<!-- END QUESTION -->\n",
    "\n",
    "<!-- BEGIN QUESTION -->\n",
    "\n",
    "**Aufgabe:** Welches Verfahren verwendet `np.sum()` für die Addition?\n",
    "\n",
    "_Points:_ 2"
   ]
  },
  {
   "cell_type": "markdown",
   "id": "fd9ede3d",
   "metadata": {},
   "source": [
    "<div style=\"background-color: #f5f5f5; color: #37474f;\">\n",
    "\n",
    "\n",
    "## Kaskadensummation\n",
    "\n",
    "Paarweise Summation (auch Kaskadensummation genannt) ist ein numerisch besseres Verfahren, bei dem die Werte in mehreren Schritten summiert werden. Dies bedeutet, dass Werte mit ähnlichen Größen zuerst zusammengefasst werden. Dadurch wird der Fehler reduziert, der entstehen kann, wenn immer kleinere Zahlen zu einem sehr großen Wert hinzugefügt werden (wie es bei der sequentiellen Summation der Fall wäre).\n",
    "\n",
    "### Verfahren von `np.sum()`\n",
    "\n",
    "NumPy verwendet für die Addition von Arrays ein Verfahren namens **Kaskadensummation** oder **paarweise Summation**. Dieses Verfahren reduziert Rundungsfehler im Vergleich zur sequentiellen Summation und führt in vielen Fällen zu einer höheren Genauigkeit. `np.sum()` kann interne Optimierungen verwenden, wie z. B. parallelisierte Summation, abhängig von der Größe des Arrays und der Hardware. In modernen Implementierungen von NumPy wird oft die `np.add.reduce()` Funktion verwendet, um die Summation durchzuführen, die im Hintergrund mit dem `ufunc`-Mechanismus arbeitet. Diese `reduce`-Methode summiert die Werte sequenziell, aber auch sie optimiert den Prozess, indem sie die Reihenfolge der Summanden variiert oder bei Bedarf parallelisiert.\n",
    "\n",
    "\n",
    "Mehr Informationen zu dieser Technik gibt es auf [Wikipedia](https://en.wikipedia.org/wiki/Pairwise_summation) und in der [NumPy-Dokumentation](https://numpy.org/doc/stable/reference/generated/numpy.sum.html).\n",
    "\n",
    "</div>"
   ]
  },
  {
   "cell_type": "markdown",
   "id": "de34b329-a7e0-444a-89aa-a5c78bc173a2",
   "metadata": {
    "deletable": true,
    "editable": false
   },
   "source": [
    "<!-- END QUESTION -->\n",
    "\n",
    "## Grenzwerte von Funktionen (20 Punkte)"
   ]
  },
  {
   "cell_type": "markdown",
   "id": "e8379ade-6a5d-40a1-bed4-586675cc0d29",
   "metadata": {
    "deletable": true,
    "editable": false
   },
   "source": [
    "Geben sei die Funktion $f(x)=\\frac{e^x-1}{x}$\n",
    "\n",
    "Es gilt: $lim_{x \\to 0}f(x) = 1$\n",
    "\n",
    "**Aufgabe:** Schreiben Sie eine Python Funktion `f(x)`, mit deren Hilfe Sie $f(x)$ für $x= 10^{-1}, 10^{-2}, \\cdots , 10^{-15}$ mit NumPy berechnen und geben Sie das Ergebnis aus."
   ]
  },
  {
   "cell_type": "markdown",
   "id": "fb0645a1-47c9-417b-b715-033c6d05c65c",
   "metadata": {
    "deletable": true,
    "editable": false
   },
   "source": [
    "**Aufgabe:** Berechnen Sie nun die Funktion für  $x= 10^{-16}, 10^{-17}, \\cdots , 10^{-20}$\n",
    "\n",
    "_Points:_ 8"
   ]
  },
  {
   "cell_type": "markdown",
   "id": "4b97ff09",
   "metadata": {
    "vscode": {
     "languageId": "html"
    }
   },
   "source": [
    "<div style=\"background-color: #f5f5f5; color: #37474f;\">\n",
    "\n",
    "<h2>Berechnung der Funktion f(x) = (exp(x) - 1) / x </h2>\n",
    "\n",
    "In dieser Aufgabe soll die Funktion f(x) für x = 10<sup>-1</sup>, 10<sup>-2</sup>, ..., 10<sup>-15</sup> berechnet werden. Danach soll die Funktion für noch kleinere Werte von x, nämlich x = 10<sup>-16</sup>, 10<sup>-17</sup>, ..., 10<sup>-20</sup>, berechnet werden. \n",
    "\n",
    "Der Grenzwert der Funktion für x → 0 ist 1. Dabei sollen mögliche numerische Probleme bei sehr kleinen x beobachtet werden.\n",
    "\n",
    "<div>"
   ]
  },
  {
   "cell_type": "code",
   "execution_count": null,
   "id": "f5619384-8fab-4a57-8f30-73de2922dd89",
   "metadata": {
    "nbgrader": {
     "grade": false,
     "grade_id": "cell-d5ed715a9745e7d6",
     "locked": false,
     "schema_version": 3,
     "solution": true,
     "task": false
    },
    "scrolled": true,
    "tags": []
   },
   "outputs": [
    {
     "name": "stdout",
     "output_type": "stream",
     "text": [
      "x = 1e-01, f(x) = 1.0517091807564771\n",
      "x = 1e-02, f(x) = 1.005016708416795\n",
      "x = 1e-03, f(x) = 1.0005001667083846\n",
      "x = 1e-04, f(x) = 1.000050001667141\n",
      "x = 1e-05, f(x) = 1.000005000006965\n",
      "x = 1e-06, f(x) = 1.0000004999621837\n",
      "x = 1e-07, f(x) = 1.0000000494336803\n",
      "x = 1e-08, f(x) = 0.999999993922529\n",
      "x = 1e-09, f(x) = 1.000000082740371\n",
      "x = 1e-10, f(x) = 1.000000082740371\n",
      "x = 1e-11, f(x) = 1.000000082740371\n",
      "x = 1e-12, f(x) = 1.000088900582341\n",
      "x = 1e-13, f(x) = 0.9992007221626409\n",
      "x = 1e-14, f(x) = 0.9992007221626409\n",
      "x = 1e-15, f(x) = 1.1102230246251565\n"
     ]
    }
   ],
   "source": [
    "import numpy as np\n",
    "\n",
    "# Definition der Funktion f(x) = (e^x - 1)/x\n",
    "def f(x):\n",
    "        return (np.exp(x) - 1) / x\n",
    "\n",
    "# Bereich 1: x = 10^(-1) bis 10^(-15)\n",
    "# Erzeuge die Werte x = 10^(-1), 10^(-2), ..., 10^(-15)\n",
    "input_numbers = np.array([10**(-i) for i in range(1, 16)])\n",
    "result_limits = f(input_numbers)\n",
    "\n",
    "#Ausgabe\n",
    "for x_val, fx in zip(input_numbers, result_limits):\n",
    "# Die Anwendung von zip gibt einen Iterator zurück, der in der Lage ist Tupel zu erzeugen\n",
    "    print(f\"x = {x_val:.0e}, f(x) = {fx}\")"
   ]
  },
  {
   "cell_type": "code",
   "execution_count": null,
   "id": "57fcfa50-0942-4861-be87-914dea652464",
   "metadata": {
    "editable": true,
    "nbgrader": {
     "grade": false,
     "grade_id": "cell-86fd557d439b5a41",
     "locked": false,
     "schema_version": 3,
     "solution": true,
     "task": false
    },
    "slideshow": {
     "slide_type": ""
    },
    "tags": []
   },
   "outputs": [
    {
     "name": "stdout",
     "output_type": "stream",
     "text": [
      "x = 1e-16, f(x) = 0.0\n",
      "x = 1e-17, f(x) = 0.0\n",
      "x = 1e-18, f(x) = 0.0\n",
      "x = 1e-19, f(x) = 0.0\n",
      "x = 1e-20, f(x) = 0.0\n"
     ]
    }
   ],
   "source": [
    "# Bereich 2: x = 10^(-16) bis 10^(-20)\n",
    "input_numbers_2 = np.array([10**(-i) for i in range(16, 21)])\n",
    "result_limits_2 = f(input_numbers_2)\n",
    "\n",
    "#Ausgabe\n",
    "for x_val, fx in zip(input_numbers_2, result_limits_2):\n",
    "# Die Anwendung von zip gibt einen Iterator zurück, der in der Lage ist Tupel zu erzeugen\n",
    "    print(f\"x = {x_val:.0e}, f(x) = {fx}\")"
   ]
  },
  {
   "cell_type": "markdown",
   "id": "b8c3d7c4-f496-4dc3-90ef-0521b232b74a",
   "metadata": {
    "deletable": true,
    "editable": false
   },
   "source": [
    "<!-- BEGIN QUESTION -->\n",
    "\n",
    "**Aufgabe:** Was fällt auf? Welche Erklärung haben Sie für das Ergebnis? (Ausführliche Erklärung erforderlich) \n",
    "\n",
    "_Points:_ 12"
   ]
  },
  {
   "cell_type": "markdown",
   "id": "746bd18f",
   "metadata": {},
   "source": [
    "<div style=\"background-color: #f5f5f5; color: #37474f;\">\n",
    "\n",
    "<h2> Erklärung des Verhaltens der Funktion bei kleinen x-Werten </h2>\n",
    "\n",
    "Für Werte von x zwischen `1e-01` bis `1e-14` liefert die Funktion erwartungsgemäß Ergebnisse nahe bei **1**. Ab etwa 1e-15 treten jedoch drastische Änderungen auf, die durch Rundungsfehler bei der Berechnung von `e^x - 1` bedingt sind. Besonders bei sehr kleinen x-Werten wird der Unterschied zwischen `e^x` und `1` auf dem Computer nicht mehr erkennbar, was zu fehlerhaften Ergebnissen führt. Eine stabilere Berechnung kann durch die Verwendung der Funktion `np.expm1(x)` von NumPy erreicht werden.\n",
    "\n",
    "\n",
    "Von `1e-01` bis `1e-14` ergibt die Funktion erwartungsgemäß Werte, die sehr nahe bei **1** liegen.  \n",
    "Doch ab etwa `1e-15` ändert sich das Verhalten drastisch:\n",
    "\n",
    "x = 1e-15, f(x) = 1.1102230246251565   \n",
    "x = 1e-16, f(x) = 0.0  \n",
    "x = 1e-17, f(x) = 0.0  \n",
    "x = 1e-18, f(x) = 0.0  \n",
    "x = 1e-19, f(x) = 0.0  \n",
    "x = 1e-20, f(x) = 0.0 \n",
    "\n",
    "### Ergebnisbeobachtung\n",
    "\n",
    "Ab etwa $x \\approx 10^{-16}$ treten numerische Rundungsfehler sichtbar auf, abhängig von der Maschinengenauigkeit (`float64`).\n",
    "\n",
    "<h3> Erklärung: Rundungsfehler </h3>\n",
    "\n",
    "Für sehr kleine `x` gilt näherungsweise:  \n",
    "`exp(x) ≈ 1 + x`\n",
    "\n",
    "Wenn `x` so klein wird, dass `e^x` und `1` auf dem Computer **nicht mehr unterscheidbar** sind, wird der Ausdruck `e^x - 1` **numerisch ungenau** (_null_), da beide Terme sehr nah beieinander liegen → Verlust signifikanter Stellen.\n",
    "\n",
    "> Beispiel:  \n",
    "> `x = 1e-17` → `exp(x) ≈ 1.00000000000000001`  \n",
    "> Die Differenz `e^x - 1` ist kleiner als die **Maschinengenauigkeit** `ε` (Epsilon).  \n",
    "> Deshalb wird `e^x - 1` vom Computer als **0.0** berechnet, da ein 64-Bit-Gleitkommawert (float64) **nicht mehr ausreichend genau** ist.\n",
    "\n",
    "<h3> Lösung: Stabilere Berechnung mit NumPy </h3>\n",
    "\n",
    "NumPy bietet mit `np.expm1(x)` eine spezielle Funktion an, die den Ausdruck `exp(x) - 1` **numerisch stabiler** berechnet – insbesondere für sehr kleine `x`.\n",
    "\n",
    "<div>"
   ]
  },
  {
   "cell_type": "code",
   "execution_count": 3,
   "id": "9d1ee4b6",
   "metadata": {},
   "outputs": [
    {
     "name": "stdout",
     "output_type": "stream",
     "text": [
      "x = 1e-10, f(x) = 1.00000000005\n",
      "x = 1e-11, f(x) = 1.000000000005\n",
      "x = 1e-12, f(x) = 1.0000000000005\n",
      "x = 1e-13, f(x) = 1.00000000000005\n",
      "x = 1e-14, f(x) = 1.000000000000005\n",
      "x = 1e-15, f(x) = 1.0000000000000007\n",
      "x = 1e-16, f(x) = 1.0\n",
      "x = 1e-17, f(x) = 1.0\n",
      "x = 1e-18, f(x) = 1.0\n",
      "x = 1e-19, f(x) = 1.0\n"
     ]
    }
   ],
   "source": [
    "def f_stabil(x):\n",
    "    return np.expm1(x) / x\n",
    "\n",
    "input_numbers_3 = np.array([10**(-i) for i in range(10, 20)])\n",
    "result_limits_3 = f_stabil(input_numbers_3)\n",
    "\n",
    "#Ausgabe\n",
    "for x_val, fx in zip(input_numbers_3, result_limits_3):\n",
    "# Die Anwendung von zip gibt einen Iterator zurück, der in der Lage ist Tupel zu erzeugen\n",
    "    print(f\"x = {x_val:.0e}, f(x) = {fx}\")"
   ]
  },
  {
   "cell_type": "markdown",
   "id": "88f8269b",
   "metadata": {},
   "source": [
    "<div style=\"background-color: #f5f5f5; color: #37474f;\">\n",
    "\n",
    "## Detaillierte Erklärung der Gleitkommadarstellung und Rundungsfehler\n",
    "\n",
    "Die Präzision einer Gleitpunktzahl hängt von der Mantisse ab. Diese bildet neben dem Exponenten, der Basis und dem Vorzeichen die Gleitpunktzahl.\n",
    "\n",
    "Solange man nicht explizit davon abweicht, wird `float64` in Python und NumPy verwendet für Gleitpunktzahlen.\n",
    "\n",
    "- Eine `float32`-Mantisse besteht aus 23 Bit und eine `float64`-Mantisse aus 52 Bit (bei 64 Bit bleiben noch 11 Bit für den Exponenten und 1 Bit für das Vorzeichen).\n",
    "\n",
    "Werden Werte, die mehr Bits zur Darstellung benötigen als die Mantisse zur Verfügung stellt, kommt es zu Rundungsfehlern, wie in den folgenden Beispielen erklärt.\n",
    "\n",
    "## Fazit zur Gleitkommadarstellung und Rundungsfehlern\n",
    "\n",
    "Die Präzision von Gleitkommazahlen ist durch die Anzahl der Bits in der Mantisse begrenzt, was zu Rundungsfehlern führt, wenn Zahlen mit mehr erforderlichen Bits dargestellt werden müssen. Besonders bei sehr kleinen Werten kann dies zu Verlusten an Genauigkeit führen, die sich durch den Einsatz stabiler Berechnungsmethoden wie z. B. `np.expm1(x)` verhindern lassen.\n",
    "\n",
    "</div>"
   ]
  },
  {
   "cell_type": "code",
   "execution_count": null,
   "id": "4601e17a",
   "metadata": {},
   "outputs": [],
   "source": [
    "\n",
    "def mindest_mantissenbits(x, y):\n",
    "    # Berechnet die Anzahl der benötigten Mantissenbits für eine korrekte Berechnung\n",
    "    # float128 um exaktere Praezision zu ermoeglichen\n",
    "    return np.abs(np.log2(np.float128(x)) - np.log2(np.float128(y)))\n",
    "\n",
    "# Beispiel zur Darstellbarkeit float32\n",
    "# Mantisse = 1 wenn dargestellte Zahl Potenz von 2, also darstellbar\n",
    "x = 1\n",
    "a = np.float128(2**24-1)\n",
    "x+a, np.float32(x+a), \"darstellbar?:\", mindest_mantissenbits(x,a) < 23 + 1\n",
    "# Ergebnis: (16777216.0, 16777216.0, 'darstellbar?:', True)\n",
    "\n",
    "# Beispiel zur Darstellbarkeit float32\n",
    "# Dargestellte Zahl muss hier mit Mantisse von Mindestlaenge 24 dargestellt werden, nicht moeglich bei float32\n",
    "b = np.float128(2**24)\n",
    "x+b, np.float64(x+b), \"darstellbar?:\", mindest_mantissenbits(x,b) < 23 + 1\n",
    "# Ergebnis: (16777217.0, 16777216.0, 'darstellbar?:', False)\n",
    "\n",
    "# Diese Beispiele verdeutlichen, wie die Genauigkeit und die Darstellung von Zahlen durch die verwendete Gleitkommadarstellung beeinflusst werden.\n",
    "\n",
    "# Weitere Beispiele zur Rundungsfehlerdarstellung\n",
    "# In den folgenden Beispielen wird die Auswirkung von kleinen Zahlen in Gleitkommadarstellungen demonstriert:\n",
    "\n",
    "# Beispiel 1 + 1e-16, vorkommend bei Summierung in Schleife von vorne\n",
    "c = np.float128(1e-16)\n",
    "x + c, np.float64(x + c), \"darstellbar?:\", mindest_mantissenbits(x, c) < 52 + 1\n",
    "# Ergebnis: (1.0000000000000001, 1.0, 'darstellbar?:', False)\n",
    "\n",
    "# Beispiel 1 + 1e-16 * 100, vorkommend bei Summierung in Schleife von hinten\n",
    "d = np.float128(1e-16 * 100)\n",
    "x + d, np.float64(x + d), \"darstellbar?:\", mindest_mantissenbits(x, d) < 52 + 1\n",
    "# Ergebnis: (1.00000000000001, 1.00000000000001, 'darstellbar?:', True)"
   ]
  }
 ],
 "metadata": {
  "kernelspec": {
   "display_name": "Python 3 (ipykernel)",
   "language": "python",
   "name": "python3"
  },
  "language_info": {
   "codemirror_mode": {
    "name": "ipython",
    "version": 3
   },
   "file_extension": ".py",
   "mimetype": "text/x-python",
   "name": "python",
   "nbconvert_exporter": "python",
   "pygments_lexer": "ipython3",
   "version": "3.12.3"
  },
  "otter": {
   "OK_FORMAT": true,
   "assignment_name": "EA1",
   "tests": {
    "addition_ieee": {
     "name": "addition_ieee",
     "points": 12,
     "suites": [
      {
       "cases": [],
       "scored": true,
       "setup": "",
       "teardown": "",
       "type": "doctest"
      }
     ]
    },
    "addition_npsum": {
     "name": "addition_npsum",
     "points": 2,
     "suites": [
      {
       "cases": [],
       "scored": true,
       "setup": "",
       "teardown": "",
       "type": "doctest"
      }
     ]
    },
    "addition_variants": {
     "name": "addition_variants",
     "points": 6,
     "suites": [
      {
       "cases": [],
       "scored": true,
       "setup": "",
       "teardown": "",
       "type": "doctest"
      }
     ]
    },
    "limits_explanation": {
     "name": "limits_explanation",
     "points": 12,
     "suites": [
      {
       "cases": [],
       "scored": true,
       "setup": "",
       "teardown": "",
       "type": "doctest"
      }
     ]
    },
    "limits_fx": {
     "name": "limits_fx",
     "points": 8,
     "suites": [
      {
       "cases": [
        {
         "code": ">>> print(result_limits)\n[1.05170918 1.00501671 1.00050017 1.00005    1.000005   1.0000005\n 1.00000005 0.99999999 1.00000008 1.00000008 1.00000008 1.0000889\n 0.99920072 0.99920072 1.11022302]\n",
         "hidden": false,
         "locked": false
        },
        {
         "code": ">>> print(result_limits_2)\n[0. 0. 0. 0. 0.]\n",
         "hidden": false,
         "locked": false
        }
       ],
       "scored": true,
       "setup": "",
       "teardown": "",
       "type": "doctest"
      }
     ]
    },
    "linearsystem_bsolve": {
     "name": "linearsystem_bsolve",
     "points": 12,
     "suites": [
      {
       "cases": [],
       "scored": true,
       "setup": "",
       "teardown": "",
       "type": "doctest"
      }
     ]
    },
    "linearsystem_customsolve": {
     "name": "linearsystem_customsolve",
     "points": 12,
     "suites": [
      {
       "cases": [],
       "scored": true,
       "setup": "",
       "teardown": "",
       "type": "doctest"
      }
     ]
    },
    "linearsystem_customsolve_test": {
     "name": "linearsystem_customsolve_test",
     "points": 6,
     "suites": [
      {
       "cases": [],
       "scored": true,
       "setup": "",
       "teardown": "",
       "type": "doctest"
      }
     ]
    },
    "linearsystem_ludecomp": {
     "name": "linearsystem_ludecomp",
     "points": 15,
     "suites": [
      {
       "cases": [],
       "scored": true,
       "setup": "",
       "teardown": "",
       "type": "doctest"
      }
     ]
    },
    "linearsystem_scipy_memory": {
     "name": "linearsystem_scipy_memory",
     "points": 9,
     "suites": [
      {
       "cases": [],
       "scored": true,
       "setup": "",
       "teardown": "",
       "type": "doctest"
      }
     ]
    },
    "linearsystem_scipy_time": {
     "name": "linearsystem_scipy_time",
     "points": 6,
     "suites": [
      {
       "cases": [],
       "scored": true,
       "setup": "",
       "teardown": "",
       "type": "doctest"
      }
     ]
    }
   }
  }
 },
 "nbformat": 4,
 "nbformat_minor": 5
}
