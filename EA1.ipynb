{
 "cells": [
  {
   "cell_type": "markdown",
   "id": "a8b3375c-690d-4cc3-b82b-f18cf1b02069",
   "metadata": {},
   "source": [
    "# Einsendeaufgabe 1: Numerische Genauigkeit und Gleichungssysteme (100 Punkte)\n",
    "In dieser Aufgabe sollen Sie ein wenig mehr Erfahrung mit NumPy und numerischen Methoden gewinnen.  \n",
    "Zur Erinnerung empfehle ich an dieser Stelle, die Definition der [IEEE-Fließkommazahlen](https://de.wikipedia.org/wiki/IEEE_754) zu wiederholen.  "
   ]
  },
  {
   "cell_type": "markdown",
   "id": "fc24fc52-f1bc-4378-8023-f0cb1c9607d5",
   "metadata": {},
   "source": [
    "## Addition von Zahlen (20 Punkte) \n",
    "\n",
    "Gegeben sei ein Array *array*, dass 100 mal die Zahl $10^{-16}$ enthält und einmal (als ersten Eintrag) die Zahl $1$. "
   ]
  },
  {
   "cell_type": "code",
   "execution_count": null,
   "id": "080a3fb8-9b98-4017-b6ba-3895321b8431",
   "metadata": {},
   "outputs": [],
   "source": [
    "import numpy as np\n",
    "\n",
    "array = np.concatenate(([1], np.full(100, 1e-16)))\n",
    "print(array)"
   ]
  },
  {
   "cell_type": "markdown",
   "id": "1f63e85a-028f-4b9f-aacb-2879fee0fd99",
   "metadata": {
    "deletable": false,
    "editable": false
   },
   "source": [
    "**Aufgabe:** Addieren Sie alle Werte in `array`:\n",
    "- mit der Funktion `np.sum()`\n",
    "- mit einer Schleife, die von **vorne nach hinten** über `array` iteriert\n",
    "- mit einer Schleife, die von **hinten nach vorne** über `array` iteriert\n",
    "\n",
    "_Points:_ 6"
   ]
  },
  {
   "cell_type": "code",
   "execution_count": null,
   "id": "11b6c189-e0ee-411a-8f83-b804db3527d8",
   "metadata": {
    "tags": []
   },
   "outputs": [],
   "source": [
    "sum_numpy = np.sum(array)\n",
    "print(f\"{sum_numpy=}\")\n",
    "\n",
    "sum_forward = 0.0\n",
    "for x in array:\n",
    "    sum_forward += x\n",
    "print(f\"{sum_forward=}\")\n",
    "\n",
    "sum_reverse = 0.0\n",
    "for x in reversed(array):\n",
    "    sum_reverse += x\n",
    "print(f\"{sum_reverse=}\")"
   ]
  },
  {
   "cell_type": "markdown",
   "id": "8ea8b6ef-4687-47e5-9aa8-8c77d5e8d1bd",
   "metadata": {
    "deletable": false,
    "editable": false
   },
   "source": [
    "<!-- BEGIN QUESTION -->\n",
    "\n",
    "**Aufgabe:** Erklären Sie die Ergebnisse. Wie werden die Zahlen 1 und 1e-17 im Computer dargestellt? (ausführliche Erläuterung erforderlich!)  \n",
    "\n",
    "_Points:_ 12"
   ]
  },
  {
   "cell_type": "markdown",
   "id": "d595469a",
   "metadata": {},
   "source": [
    "<span style=\"color:blue\">\n",
    "\n",
    "<h2>Numerische Genauigkeit von verschiedenen Additionsverfahren</h2>\n",
    "\n",
    "Je nach Methode ergibt sich ein anderes Additionsergebnis:\n",
    "\n",
    "```\n",
    "sum_numpy   = np.float64(1.0000000000000084)\n",
    "sum_forward = np.float64(1.0)\n",
    "sum_reverse = np.float64(1.00000000000001)\n",
    "```\n",
    "\n",
    "---\n",
    "\n",
    "Das liegt im Wesentlichen an der begrenzten bzw. endlichen Gleitkomma-Darstellung mithilfe des Computers, die zu diesen numerischen Ungenauigkeiten führt.\n",
    "\n",
    "**[`np.float64`](https://numpy.org/doc/2.1/reference/arrays.scalars.html#numpy.float64)** ist eine 64-bit-Gleitkommazahl. Die Zahl wird intern gemäß dem IEEE-754-Standard wie folgt dargestellt:\n",
    "\n",
    "- **1 Bit** für das Vorzeichen ($0$ = positiv, $1$ = negativ)\n",
    "- **11 Bits** für den Exponenten\n",
    "- **52 Bits** für die Mantisse\n",
    "\n",
    "Das ergibt insgesamt: $1 + 11 + 52 = 64$ Bits.\n",
    "\n",
    "Die kleinste Zahl, die man zu `1.0` addieren kann, sodass das Ergebnis sich von `1.0` unterscheidet, nennt man die **Maschinengenauigkeit** oder **machine epsilon**. Das ist der kleinste Unterschied, den ein `np.float64` von `1.0` noch unterscheiden kann – und genau hier zeigen sich die Grenzen der numerischen Genauigkeit bei Gleitkommazahlen.\n",
    "\n",
    "```python\n",
    "np.finfo(float).eps  \n",
    "# np.float64(2.220446049250313e-16)\n",
    "```\n",
    "\n",
    "---\n",
    "\n",
    "Die $100$ gleich großen Werte ($=10^{-16}$) liegen alle unterhalb von $\\text{eps}$.  Zum Beispiel gilt: $1.0 + 10^{-16} = 1.0$,  weil $10^{-16} < \\text{eps}$ – also zu klein ist, um überhaupt eine Änderung in der Darstellung von $1.0$ zu bewirken.\n",
    "\n",
    "Die Summanden **„verpuffen“** numerisch. Das Resultat bleibt exakt **$1.0$**.\n",
    "\n",
    "```python\n",
    "print(1e-16 < np.finfo(float).eps)     # True\n",
    "print(1.0 + 1e-16 == 1.0)              # True\n",
    "```\n",
    "\n",
    "---\n",
    "\n",
    "Der **Bias** ist die Exponentenverschiebung, die verwendet wird, um den Exponenten nicht als vorzeichenbehaftete Zahl zu speichern.  \n",
    "Exponenten können so als positive Zahlen **ohne Vorzeichenbit** abgelegt werden – das vereinfacht die Verarbeitung durch die Hardware.  \n",
    "Anstatt z. B. den echten Exponenten $-5$ zu speichern, speichert man stattdessen $-5 + \\text{Bias}$.\n",
    "\n",
    "---\n",
    "\n",
    "Mit $11$ Bits für den Exponenten können Zahlen von $0$ bis $2^{11} - 1 = 2047$ dargestellt werden.  \n",
    "Der Bias für **np.float64** beträgt:  \n",
    "$\\text{Bias} = 2^{11 - 1} - 1 = 1023$  \n",
    "Das entspricht der Mitte des 11-Bit-Bereichs.  \n",
    "\n",
    "---\n",
    "\n",
    "Die Werte $0$ und $2047$ sind reserviert für Sonderfälle (z. B. Null, Inf, NaN).  \n",
    "So entsteht eine **einheitliche Rechenlogik**, z. B. auch für die Addition.\n",
    "\n",
    "---\n",
    "\n",
    "**Beispiel:**  \n",
    "Mathematisch gilt: $1.0 = 1.0 \\cdot 2^0$ → echter Exponent $= 0$  \n",
    "In IEEE 754 wird gespeichert: $e = 0 + \\text{Bias} = 1023_{10} = 01111111111_2$\n",
    "\n",
    "Die **Mantisse** speichert nur die **Nachkommastellen**,  \n",
    "die **Vorkommastelle $1$ ist implizit**.  \n",
    "Die Mantisse ist 52 Bit lang → im Fall von $1.0$: alle Bits gleich 0.\n",
    "\n",
    "**Darstellung in IEEE 754 (64 Bit) für 1.0:**\n",
    "\n",
    "\n",
    "$1.0_{10} = 0 01111111111 000...000$\n",
    "\n",
    "Oder mathematisch:\n",
    "\n",
    "$1.0 = (-1)^s · 1.m · 2^{e - 1023}$\n",
    "\n",
    "mit:  \n",
    "- $s = 0$ (positiv)  \n",
    "- $m = 0...0$  \n",
    "- $e = 1023$\n",
    "\n",
    "---\n",
    "\n",
    "Genauso kann z. B. $1e{-17}$ als  \n",
    "$$1e{-17} = (-1)^s \\cdot 1.m \\cdot 2^{e - 1023}$$  \n",
    "dargestellt werden.  \n",
    "Dabei ist $s = 0$.  \n",
    "Für die Berechnung von Exponent und Mantisse benötigt man die **Binärdarstellung von $1e{-17}$** – die lässt sich mit Python oder NumPy bestimmen.\n",
    "\n",
    "```python\n",
    "np.frexp(1e-17) \n",
    "# (np.float64(0.7205759403792794), np.int32(-56)). \n",
    "# Das bedeuetet 1e-17 = 0.7205759403792794 * 2^(-56). \n",
    "# https://numpy.org/doc/2.2/reference/generated/numpy.frexp.html\n",
    "```\n",
    "\n",
    "Um die normalisierte Darstellung zu erhalten wird die Mantisse $0,7205759403792794$ mit $2$ multipliziert und die Basis mit dem Exponenten $2^{-56}$ durch $2$ dividiert. Dadurch ändert sich nichts am Zahlenwert. Somit ist $0.7205759403792794 \\cdot 2^{-56}$ = $1,4411518807585588 \\cdot 2^{-57}$.\n",
    "\n",
    "Alternativ zur Benutzung von `frexp` kann man die Gleichung\n",
    "\n",
    "$$1e{-17} = x \\cdot 2^n$$\n",
    "\n",
    "mit $1 \\leq x < 2$ wie folgt lösen:\n",
    "\n",
    "$$\\log_2(1e{-17}) = \\frac{\\log_2(1e{-17})}{\\log_{10}(2)} \\approx -56,45$$\n",
    "\n",
    "Es folgt:\n",
    "\n",
    "$$n = -57$$\n",
    "\n",
    "Danach kann die Gleichung\n",
    "\n",
    "$$1e{-17} = x \\cdot 2^{-57}$$\n",
    "\n",
    "nach $x$ aufgelöst werden. Daraus folgt:\n",
    "\n",
    "$$x = 2^{57} \\cdot 1e{-17} = 1,44115188075855872$$\n",
    "\n",
    "Also gilt:\n",
    "\n",
    "$$1e{-17} = 1,44115188075855872 \\cdot 2^{-57}$$\n",
    "\n",
    "---\n",
    "\n",
    "In IEEE 754 wird der Exponent als $-57 + 1023 = 966$ gespeichert, wobei:\n",
    "\n",
    "$$966_{10} = 01111000110_2$$\n",
    "\n",
    "Der Exponent wird als 11-Bit-Binärzahl gespeichert.\n",
    "\n",
    "---\n",
    "\n",
    "Nun zur Mantisse:  \n",
    "IEEE speichert die Mantisse $0,44115188075855872$ ohne das führende $1$.  \n",
    "Die Zahl wird iterativ mit 2 multipliziert, und das Ergebnis der 52 Multiplikationen wird von oben nach unten notiert, um die Mantisse zu berechnen.\n",
    "\n",
    "Die ersten Schritte der Berechnung sind:\n",
    "\n",
    "$$0,44115188075855872 \\cdot 2 = 0,88230376151711744 \\quad \\rightarrow \\quad 0$$\n",
    "\n",
    "$$0,88230376151711744 \\cdot 2 = 1,76460752303423488 \\quad \\rightarrow \\quad 1$$\n",
    "\n",
    "$$0,76460752303423488 \\cdot 2 = 1,52921504606846976 \\quad \\rightarrow \\quad 1$$\n",
    "\n",
    "</span> "
   ]
  },
  {
   "cell_type": "markdown",
   "id": "0bb8c677-a5e2-49df-9a00-97d8ecc6536e",
   "metadata": {
    "deletable": false,
    "editable": false
   },
   "source": [
    "<!-- END QUESTION -->\n",
    "\n",
    "<!-- BEGIN QUESTION -->\n",
    "\n",
    "**Aufgabe:** Welches Verfahren verwendet `np.sum()` für die Addition?\n",
    "\n",
    "_Points:_ 2"
   ]
  },
  {
   "cell_type": "markdown",
   "id": "fd9ede3d",
   "metadata": {},
   "source": [
    "<span style=\"color:blue\">\n",
    "\n",
    "<h2>Kaskadensummation</h2>\n",
    "\n",
    "NumPy verwendet ein numerisch besseres Verfahren (partielle paarweise Summation), das in vielen Anwendungsfällen zu einer höheren Genauigkeit führt. In der numerischen Mathematik bezeichnet paarweise Summation – auch Kaskadensummation genannt – ein Verfahren zum Addieren von Gleitkommazahlen, das Rundungsfehler im Vergleich zur sequentiellen Summation deutlich reduziert.\n",
    "\n",
    "https://numpy.org/doc/stable/reference/generated/numpy.sum.html\n",
    "\n",
    "https://en.wikipedia.org/wiki/Pairwise_summation\n",
    "\n",
    "</span>"
   ]
  },
  {
   "cell_type": "markdown",
   "id": "de34b329-a7e0-444a-89aa-a5c78bc173a2",
   "metadata": {
    "deletable": false,
    "editable": false
   },
   "source": [
    "<!-- END QUESTION -->\n",
    "\n",
    "## Grenzwerte von Funktionen (20 Punkte)"
   ]
  },
  {
   "cell_type": "markdown",
   "id": "e8379ade-6a5d-40a1-bed4-586675cc0d29",
   "metadata": {
    "deletable": false,
    "editable": false
   },
   "source": [
    "Geben sei die Funktion $f(x)=\\frac{e^x-1}{x}$\n",
    "\n",
    "Es gilt: $lim_{x \\to 0}f(x) = 1$\n",
    "\n",
    "**Aufgabe:** Schreiben Sie eine Python Funktion `f(x)`, mit deren Hilfe Sie $f(x)$ für $x= 10^{-1}, 10^{-2}, \\cdots , 10^{-15}$ mit NumPy berechnen und geben Sie das Ergebnis aus."
   ]
  },
  {
   "cell_type": "markdown",
   "id": "fb0645a1-47c9-417b-b715-033c6d05c65c",
   "metadata": {
    "deletable": false,
    "editable": false
   },
   "source": [
    "**Aufgabe:** Berechnen Sie nun die Funktion für  $x= 10^{-16}, 10^{-17}, \\cdots , 10^{-20}$\n",
    "\n",
    "_Points:_ 8"
   ]
  },
  {
   "cell_type": "markdown",
   "id": "4b97ff09",
   "metadata": {
    "vscode": {
     "languageId": "html"
    }
   },
   "source": [
    "<span style=\"color:blue\">\n",
    "<h2>Berechnung der Funktion f(x) = (exp(x) - 1) / x </h2>\n",
    "</span>\n",
    "\n",
    "\n",
    "<span style=\"color:blue\">\n",
    "In dieser Aufgabe soll die Funktion f(x) für x = 10<sup>-1</sup>, 10<sup>-2</sup>, ..., 10<sup>-15</sup> berechnet werden. Danach soll die Funktion für noch kleinere Werte von x, nämlich x = 10<sup>-16</sup>, 10<sup>-17</sup>, ..., 10<sup>-20</sup>, berechnet werden. Der Grenzwert der Funktion für x → 0 ist 1.\n",
    "</span>\n"
   ]
  },
  {
   "cell_type": "code",
   "execution_count": null,
   "id": "f5619384-8fab-4a57-8f30-73de2922dd89",
   "metadata": {
    "nbgrader": {
     "grade": false,
     "grade_id": "cell-d5ed715a9745e7d6",
     "locked": false,
     "schema_version": 3,
     "solution": true,
     "task": false
    },
    "scrolled": true,
    "tags": []
   },
   "outputs": [],
   "source": [
    "import numpy as np\n",
    "\n",
    "# Definition der Funktion f(x) = (e^x - 1)/x\n",
    "def f(x):\n",
    "        return (np.exp(x) - 1) / x\n",
    "\n",
    "# Erzeuge die Werte x = 10^(-1), 10^(-2), ..., 10^(-15)\n",
    "input_numbers = np.array([10**(-i) for i in range(1, 16)])\n",
    "\n",
    "result_limits = f(input_numbers)\n",
    "\n",
    "#Ausgabe\n",
    "for x_val, fx in zip(input_numbers, result_limits):\n",
    "# Die Anwendung von zip gibt einen Iterator zurück, der in der Lage ist Tupel zu erzeugen\n",
    "    print(f\"x = {x_val:.0e}, f(x) = {fx}\")"
   ]
  },
  {
   "cell_type": "code",
   "execution_count": null,
   "id": "57fcfa50-0942-4861-be87-914dea652464",
   "metadata": {
    "editable": true,
    "nbgrader": {
     "grade": false,
     "grade_id": "cell-86fd557d439b5a41",
     "locked": false,
     "schema_version": 3,
     "solution": true,
     "task": false
    },
    "slideshow": {
     "slide_type": ""
    },
    "tags": []
   },
   "outputs": [],
   "source": [
    "input_numbers_2 = np.array([10**(-i) for i in range(16, 21)])\n",
    "result_limits_2 = f(input_numbers_2)\n",
    "\n",
    "#Ausgabe\n",
    "for x_val, fx in zip(input_numbers_2, result_limits_2):\n",
    "# Die Anwendung von zip gibt einen Iterator zurück, der in der Lage ist Tupel zu erzeugen\n",
    "    print(f\"x = {x_val:.0e}, f(x) = {fx}\")"
   ]
  },
  {
   "cell_type": "markdown",
   "id": "b8c3d7c4-f496-4dc3-90ef-0521b232b74a",
   "metadata": {
    "deletable": false,
    "editable": false
   },
   "source": [
    "<!-- BEGIN QUESTION -->\n",
    "\n",
    "**Aufgabe:** Was fällt auf? Welche Erklärung haben Sie für das Ergebnis? (Ausführliche Erklärung erforderlich) \n",
    "\n",
    "_Points:_ 12"
   ]
  },
  {
   "cell_type": "markdown",
   "id": "746bd18f",
   "metadata": {},
   "source": [
    "<span style=\"color:blue\">\n",
    "<h2> Erklärung des Verhaltens der Funktion bei kleinen x-Werten </h2>\n",
    "\n",
    "Für Werte von x zwischen `1e-01` bis `1e-14` liefert die Funktion erwartungsgemäß Ergebnisse nahe bei **1**. Ab etwa 1e-15 treten jedoch drastische Änderungen auf, die durch Rundungsfehler bei der Berechnung von `e^x - 1` bedingt sind. Besonders bei sehr kleinen x-Werten wird der Unterschied zwischen `e^x` und `1` auf dem Computer nicht mehr erkennbar, was zu fehlerhaften Ergebnissen führt. Eine stabilere Berechnung kann durch die Verwendung der Funktion `np.expm1(x)` von NumPy erreicht werden.\n",
    "\n",
    "\n",
    "Von `1e-01` bis `1e-14` ergibt die Funktion erwartungsgemäß Werte, die sehr nahe bei **1** liegen.  \n",
    "Doch ab etwa `1e-15` ändert sich das Verhalten drastisch:\n",
    "\n",
    "x = 1e-15, f(x) = 1.1102230246251565   \n",
    "x = 1e-16, f(x) = 0.0  \n",
    "x = 1e-17, f(x) = 0.0  \n",
    "x = 1e-18, f(x) = 0.0  \n",
    "x = 1e-19, f(x) = 0.0  \n",
    "x = 1e-20, f(x) = 0.0  \n",
    "\n",
    "<h3> Erklärung: Rundungsfehler </h3>\n",
    "\n",
    "Für sehr kleine `x` gilt näherungsweise:  \n",
    "`exp(x) ≈ 1 + x`\n",
    "\n",
    "Wenn `x` so klein wird, dass `e^x` und `1` auf dem Computer **nicht mehr unterscheidbar** sind, wird der Ausdruck `e^x - 1` numerisch zu **null**.\n",
    "\n",
    "> Beispiel:  \n",
    "> `x = 1e-17` → `exp(x) ≈ 1.00000000000000001`  \n",
    "> Die Differenz `e^x - 1` ist kleiner als die **Maschinengenauigkeit** `ε` (Epsilon).  \n",
    "> Deshalb wird `e^x - 1` vom Computer als **0.0** berechnet, da ein 64-Bit-Gleitkommawert (float64) **nicht mehr ausreichend genau** ist.\n",
    "\n",
    "<h3> Lösung: Stabilere Berechnung mit NumPy </h3>\n",
    "\n",
    "NumPy bietet mit `np.expm1(x)` eine spezielle Funktion an, die den Ausdruck `exp(x) - 1` **numerisch stabiler** berechnet – insbesondere für sehr kleine `x`.\n",
    "\n",
    "</span>"
   ]
  },
  {
   "cell_type": "code",
   "execution_count": null,
   "id": "9d1ee4b6",
   "metadata": {},
   "outputs": [],
   "source": [
    "def f_stabil(x):\n",
    "    return np.expm1(x) / x\n",
    "\n",
    "input_numbers_3 = np.array([10**(-i) for i in range(10, 20)])\n",
    "result_limits_3 = f_stabil(input_numbers_3)\n",
    "\n",
    "#Ausgabe\n",
    "for x_val, fx in zip(input_numbers_3, result_limits_3):\n",
    "# Die Anwendung von zip gibt einen Iterator zurück, der in der Lage ist Tupel zu erzeugen\n",
    "    print(f\"x = {x_val:.0e}, f(x) = {fx}\")"
   ]
  },
  {
   "cell_type": "markdown",
   "id": "fbebcba7-6b66-4460-b800-047e9637e160",
   "metadata": {
    "deletable": false,
    "editable": false
   },
   "source": [
    "<!-- END QUESTION -->\n",
    "\n",
    "## Gauß-Verfahren und LU-Zerlegung (60 Punkte) \n",
    "Obwohl man, wie wir sehen werden, lineare Gleichungssysteme einfach mit SciPy lösen kann, wollen wir in dieser Aufgabe  einmal selbst eine sogenannte LU-Zerlegung bzw. das Gauß-Verfahren implementieren. Außerdem werden wir diesen Code auch später noch verwenden, wenn wir uns mit Performance-Optimierung und Parallelisierung beschäftigen.\n",
    "\n",
    "Das Gauß-Verfahren ist ein wichtiges Verfahren zum Lösen von linearen Gleichungssystemen, wir gehen hier schrittweise mit der Implementierung vor."
   ]
  },
  {
   "cell_type": "markdown",
   "id": "042b609c-9e98-4b51-a92a-71fd72e1ac6c",
   "metadata": {
    "deletable": false,
    "editable": false
   },
   "source": [
    "**Aufgabe:** Implementieren Sie die Funktion `b_solve` zur Lösung einer Dreiecksgleichung der Form:\n",
    "\n",
    "$\\left[ {\\begin{array}{cccc} \n",
    "a_{11} & a_{12} & \\cdots & a_{1n}\\\\ \n",
    "0 & a_{22} & \\cdots & a_{2n}\\\\ \n",
    "\\vdots & \\vdots & \\ddots & \\vdots \\\\ \n",
    "0 & 0 & \\cdots & a_{nn}\\\\ \n",
    "\\end{array} } \\right] \\left[{\\begin{array}{c}  \n",
    "x_1\\\\ \n",
    "x_2\\\\ \n",
    "\\vdots\\\\ \n",
    "x_n\\\\ \n",
    "\\end{array}}\\right] =  \n",
    "\\left[{\\begin{array}{c}  \n",
    "b_1\\\\ \n",
    "b_2\\\\ \n",
    "\\vdots\\\\ \n",
    "b_n\\\\ \n",
    "\\end{array}}\\right]$ \n",
    "\n",
    "Hier beginnt man mit der Löung der letzten Zeile, denn es gilt:\n",
    "\n",
    "$x_n = b_n/a_{nn} $\n",
    "und dann\n",
    "\n",
    "$x_{n-1} =  (b_{n-1}-a_{(n-1),n}*x_{n})/a_{(n-1),(n-1)}$\n",
    "\n",
    "$x_{n-2} =  (b_{n-2}-(a_{(n-2),n}*x_{n}+a_{(n-2),(n-1)}*x_{n-1})/a_{(n-2),(n-2)}$\n",
    "\n",
    "\n",
    "*Hinweis*: Achten Sie darauf, dass ihr Code nicht nur korrekt, sondern auch effizient ist. \n",
    "\n",
    "_Points:_ 12"
   ]
  },
  {
   "cell_type": "markdown",
   "id": "aabbf72e",
   "metadata": {},
   "source": [
    "<span style=\"color:blue\">\n",
    "\n",
    "  <h2>Backsubstitution-Verfahren</h2>\n",
    "\n",
    "Im Folgenden wird eine Funktion zur Lösung eines linearen Gleichungssystems mit einer oberen Dreiecksmatrix implementiert. Dieses sogenannte Backsubstitution-Verfahren stellt einen zentralen Schritt im Rahmen des Gauß-Verfahrens bzw. der LU-Zerlegung dar. Dabei wird die Lösung des Systems zeilenweise von unten nach oben bestimmt. Die Implementierung legt besonderen Wert auf numerische Stabilität und Effizienz.\n",
    "</span>"
   ]
  },
  {
   "cell_type": "code",
   "execution_count": null,
   "id": "95406ab9-708c-4710-a0e4-c32a1bebd8c4",
   "metadata": {
    "nbgrader": {
     "grade": false,
     "grade_id": "cell-045bae77f313bff4",
     "locked": false,
     "schema_version": 3,
     "solution": true,
     "task": false
    },
    "tags": []
   },
   "outputs": [],
   "source": [
    "import numpy as np\n",
    "\n",
    "def b_solve(A, b):\n",
    "    \"\"\"Solve a system of linear equations A * x = b where A is an upper triangular matrix.\"\"\"\n",
    "\n",
    "    n = len(b)  # Anzahl der Variablen im Lösungsvektor b bzw. Länge des Vektors b\n",
    "    x = np.zeros_like(b, dtype=float)  # Vektor für die Lösung, initialisiert mit Nullen\n",
    "    \n",
    "    # Rückwärtseinsetzung\n",
    "    # Die arrays fangen mit Index 0 an\n",
    "    # Iteration von der letzten Zeile bis zur ersten \n",
    "    # range(start, \"bis zu aber nicht einschließlich\" stop, step)\n",
    "    for i in range(n - 1, -1, -1):  \n",
    "        # Berechnung der Summe der Produkte der bekannten x-Werte\n",
    "        summation = np.dot(A[i, i + 1:], x[i + 1:])\n",
    "        x[i] = (b[i] - summation) / A[i, i]  # Berechnung des aktuellen x_i\n",
    "        #print(f\"x[{i}] = (b[{i}] - summation) / A[i, i] = ({b[i]} - {np.dot(A[i, i + 1:], x[i + 1:])}) / {A[i,i]} = {x[i]}\")\n",
    "    return x\n",
    "\n",
    "#Beispiel:\n",
    "A = np.array([[2,3,5,1],[0,4,6,2],[0,0,7,3],[0,0,0,8]])\n",
    "b = np.array([9,8,7,8])\n",
    "x = b_solve(A,b)\n",
    "#print(f\"{np.dot(A,x)} == {b}\") #\"[9. 8. 7. 8.] == [9 8 7 8]\""
   ]
  },
  {
   "cell_type": "markdown",
   "id": "fe99d15b-1ef5-4c19-8384-624e451b45bd",
   "metadata": {
    "deletable": false,
    "editable": false
   },
   "source": [
    "**Aufgabe:** Implementieren Sie die LU-Zerlegung einer Matrix mit Pivotisierung.  \n",
    "Die Funktion `lu_decomposition` soll die Matrizen L und U berechnen.  \n",
    "Zu Beginn wird der Funktion eine Matrix A übergeben.  \n",
    "\n",
    "\n",
    "Implementieren Sie die Funktion \"in-place\", d.h. die Ergebnisse für L und U werden direkt in A geschrieben.  \n",
    "Dabei wird die ursprüngliche Matrix überschrieben.  \n",
    "Die Funktion gibt den Pivot-Vektor zurück, der die folgende Form haben sollte:\n",
    "\n",
    "$ \n",
    "P=\\left[{\\begin{array}{ccc} \n",
    "0 & 1& 0\\\\ \n",
    "0 & 0& 1\\\\ \n",
    "1 & 0& 0\\\\ \n",
    "\\end{array} } \\right] \\Rightarrow \\left[{\\begin{array}{c}  \n",
    "1\\\\ \n",
    "2\\\\ \n",
    "0\\\\ \n",
    "\\end{array}}\\right] \n",
    "$ \n",
    "\n",
    "D.h. es wird nur der Index des Wertes in jeder Zeile gespeichert, der nicht Null ist.\n",
    "\n",
    "Wenn man dies macht, kann man später für die Lösung einfach den Vektor `bc = b[P]` verwenden, um auch $b$ richtig zu pivotisieren.  \n",
    "\n",
    "Hinweise: \n",
    "- Die Pivot-Zeile lässt sich am einfachsten mit `np.argmax` finden. Die Zeile mit dem höchsten Betrag können Sie mit `np.abs` finden.\n",
    "\n",
    "- Tauschen zweier Elemente in einem NumPy Array: `v[[a, b]] = v[[b, a]]`\n",
    "\n",
    "- Versuchen Sie, die interne Vektorisierung von NumPy im Eliminationsschritt zu nutzen. Verwenden Sie dazu die Slicing-Syntax, um die innerste Schleife zu ersetzen.\n",
    "\n",
    "_Points:_ 15"
   ]
  },
  {
   "cell_type": "markdown",
   "id": "af1572ca",
   "metadata": {},
   "source": [
    "<span style=\"color: blue;\">\n",
    "  <h2>LU-Zerlegung mit Pivotisierung</h2>\n",
    "</span>\n",
    "\n",
    "<span style=\"color: blue;\">\n",
    "Im folgenden Code wird die LU-Zerlegung einer Matrix A mit Pivotisierung implementiert. Die Matrix A wird in die Form A = LU zerlegt, wobei L und U die untere und obere Dreiecksmatrix sind. Zusätzlich wird ein Pivot-Vektor zurückgegeben, der die Zeilenvertauschung anzeigt. Die Berechnung erfolgt in-place und nutzt NumPy für effiziente Vektorisierung.\n",
    "</span>"
   ]
  },
  {
   "cell_type": "code",
   "execution_count": null,
   "id": "7e01d874-1715-40b2-918f-be10435918b5",
   "metadata": {
    "nbgrader": {
     "grade": false,
     "grade_id": "cell-b482047b4df4ac5e",
     "locked": false,
     "schema_version": 3,
     "solution": true,
     "task": false
    },
    "tags": []
   },
   "outputs": [],
   "source": [
    "def lu_decomposition(A):\n",
    "    \"\"\"\n",
    "    Implement LU-Decomposition of a square matrix.\n",
    "    This function works in-place i.e. it stores information about L and U in A and returns the pivot vector.\n",
    "    \"\"\"\n",
    "    ...\n",
    "    return p"
   ]
  },
  {
   "cell_type": "markdown",
   "id": "07c84b58-28da-495c-a9e2-4e96ba537eb9",
   "metadata": {
    "deletable": false,
    "editable": false
   },
   "source": [
    "<!-- BEGIN QUESTION -->\n",
    "\n",
    "**Aufgabe:** Schreiben Sie eine Funktion `custom_solve`, welche mit Hilfe von `lu_decomposition` ein lineares Gleichungssystem der Form $A*x=b$ löst.  \n",
    "\n",
    "Hinweis: Versuchen Sie, die interne Vektorisierung von NumPy zu nutzen. Verwenden Sie dazu die Slicing-Syntax, um die innerste Schleife zu ersetzen.\n",
    "\n",
    "_Points:_ 12"
   ]
  },
  {
   "cell_type": "code",
   "execution_count": null,
   "id": "ef6c6d07-df37-4011-b913-be1719ffb094",
   "metadata": {
    "nbgrader": {
     "grade": false,
     "grade_id": "cell-e08e49ee4f4639ff",
     "locked": false,
     "schema_version": 3,
     "solution": true,
     "task": false
    },
    "tags": []
   },
   "outputs": [],
   "source": [
    "def custom_solve(A, b):\n",
    "    \"\"\"Solve a system of linear equations A * x = b and return result vector x.\"\"\"\n",
    "    ...\n",
    "    return x"
   ]
  },
  {
   "cell_type": "markdown",
   "id": "5907a29b-90dc-4efa-a124-5a246a1270c3",
   "metadata": {
    "deletable": false,
    "editable": false
   },
   "source": [
    "<!-- END QUESTION -->\n",
    "\n",
    "<!-- BEGIN QUESTION -->\n",
    "\n",
    "**Aufgabe:** Schreiben Sie eine Testfunktion, die überprüft, ob die Lösung ihrer Implementierung des Gauß-Verfahrens richtig ist.  \n",
    "Testen Sie Gleichungssysteme der Größe $16 \\times 16$, $32\\times 32$ und $64 \\times 64$.\n",
    "\n",
    "Sie können zum Vergleich die SciPy Funktion `linalg.solve` verwenden:\n",
    "\n",
    "_Points:_ 6"
   ]
  },
  {
   "cell_type": "code",
   "execution_count": null,
   "id": "6c638640-acfa-48e8-a683-46f0ae9c50a5",
   "metadata": {
    "deletable": false,
    "editable": false
   },
   "outputs": [],
   "source": [
    "# Beispiel linalg\n",
    "import scipy.linalg as linalg\n",
    "\n",
    "n = 128\n",
    "rng = np.random.default_rng(seed=123)\n",
    "A = rng.random((n, n))\n",
    "b = rng.random(n)\n",
    "c = linalg.solve(A, b)"
   ]
  },
  {
   "cell_type": "code",
   "execution_count": null,
   "id": "e5fb20a9-a354-4b3d-8890-8870d825d730",
   "metadata": {
    "nbgrader": {
     "grade": false,
     "grade_id": "cell-f6a6bc3ba063c4a4",
     "locked": false,
     "schema_version": 3,
     "solution": true,
     "task": false
    },
    "tags": []
   },
   "outputs": [],
   "source": [
    "import scipy.linalg as linalg\n",
    "\n",
    "# test different dimensions\n",
    "..."
   ]
  },
  {
   "cell_type": "markdown",
   "id": "e97554ab-09a1-43cb-961e-07fbe305d009",
   "metadata": {
    "deletable": false,
    "editable": false
   },
   "source": [
    "<!-- END QUESTION -->\n",
    "\n",
    "**Aufgabe:** Wir wollen nun weiter die *fertigen* SciPy Funktionen betrachten. Mit den Funktionen `lu` und `lu_factor` aus dem Packet `scipy.linalg `  können Sie eine LU-Dekomposition durchführen [[1]](https://docs.scipy.org/doc/scipy/reference/generated/scipy.linalg.lu_factor.html#scipy.linalg.lu_factor) und [[2]](https://docs.scipy.org/doc/scipy/reference/generated/scipy.linalg.lu.html).  \n",
    "Beide Funktionen haben unter anderem den Parameter `overwrite_a`, der `False` oder `True` sein kann. \n",
    "\n",
    "Evaluieren Sie die Performance (Laufzeit) der LU-Zerlegung einer 4096x4096 Matrix, wenn Sie jeweils die Funktionen `lu_factor` und `lu` mit `overwrite_a = True` oder `overwrite_a = False` verwenden.\n",
    "\n",
    "In der Liste `minimums` sollen die minimalen Laufzeiten in folgender Reihenfolge stehen:\n",
    "1. `lu_factor` mit `overwrite_a = False`\n",
    "2. `lu_factor` mit `overwrite_a = True`\n",
    "3. `lu` mit `overwrite_a = False`\n",
    "4. `lu` mit `overwrite_a = True`\n",
    "\n",
    "Hinweis: Da die Matrix A bei der Verwendung von `overwrite_a = True` verändert wird, kann es zu einer Vereinfachung der Berechnung kommen, wenn die Funktion mehrfach nacheinander ausgeführt wird. Aus diesem Grund muss die `timeit` Funktion [repeat](https://docs.python.org/3/library/timeit.html#timeit.repeat) mit `repeat = 2` und `number = 1`  verwendet werden. Die Matrix wird im `setup` Parameter erstellt (aus Zufallswerten mit dem vorgegebenen \"random number generator\").\n",
    "\n",
    "_Points:_ 6"
   ]
  },
  {
   "cell_type": "code",
   "execution_count": null,
   "id": "3b6bc562-608a-4f7e-b2a3-2f63d0447f85",
   "metadata": {
    "nbgrader": {
     "grade": false,
     "grade_id": "cell-5978db060fba8a0d",
     "locked": false,
     "schema_version": 3,
     "solution": true,
     "task": false
    },
    "tags": []
   },
   "outputs": [],
   "source": [
    "from scipy.linalg import lu_factor, lu\n",
    "from timeit import repeat\n",
    "\n",
    "n = 8192\n",
    "number = 1\n",
    "repetitions = 2\n",
    "# store all four minimal runtimes in this list\n",
    "minimums = []\n",
    "rng = np.random.default_rng(seed=123)\n",
    "\n",
    "..."
   ]
  },
  {
   "cell_type": "markdown",
   "id": "0c447785-1c5f-42ae-a1cb-d7cce6c3e45a",
   "metadata": {
    "deletable": false,
    "editable": false
   },
   "source": [
    "**Aufgabe:** Untersuchen Sie den Speicherverbrauch der 4 Varianten mit memray.\n",
    "\n",
    "Um den Einfluss der anderen Berechnungen zu minimieren, empfehlen wir hier, die Berechnungen in eine neue Datei zu schreiben und mit `!` in einer Code-Zelle memray's Command-Line Interface zu verwenden. \n",
    "\n",
    "Am besten tracen Sie nur die LU Funktion mit einem Context Manager!\n",
    "Verwenden Sie jeweils folgende Dateinamen als `file_name` Parameter in `memray.Tracker`:\n",
    "\n",
    "- lu_inplace.bin\n",
    "- lu_notinplace.bin\n",
    "- lu_factor_inplace.bin\n",
    "- lu_factor_notinplace.bin\n",
    "\n",
    "Beantworten Sie bitte die folgenden Fragen:\n",
    "* Welche Version verwendet am meisten Speicher? \n",
    "* Bei welcher Version ist der Speicherverbrauch am konstantesten? \n",
    "\n",
    "_Points:_ 9"
   ]
  },
  {
   "cell_type": "code",
   "execution_count": null,
   "id": "e1f13582-71a9-4c1a-81fc-d400598964a3",
   "metadata": {
    "tags": []
   },
   "outputs": [],
   "source": [
    "%%file lu_inplace.py\n",
    "import memray\n",
    "import numpy as np\n",
    "from scipy.linalg import lu\n",
    "\n",
    "n = 8192\n",
    "rng = np.random.default_rng(seed=123)\n",
    "..."
   ]
  },
  {
   "cell_type": "code",
   "execution_count": null,
   "id": "15c95a8e-c10e-4af1-bf51-70e2c463046e",
   "metadata": {
    "tags": []
   },
   "outputs": [],
   "source": [
    "%%file lu_notinplace.py\n",
    "import memray\n",
    "import numpy as np\n",
    "from scipy.linalg import lu\n",
    "\n",
    "n = 8192\n",
    "rng = np.random.default_rng(seed=123)\n",
    "..."
   ]
  },
  {
   "cell_type": "code",
   "execution_count": null,
   "id": "0e370c43-116f-4218-b38e-bfc15dc250ae",
   "metadata": {
    "tags": []
   },
   "outputs": [],
   "source": [
    "%%file lu_factor_inplace.py\n",
    "import memray\n",
    "import numpy as np\n",
    "from scipy.linalg import lu_factor\n",
    "\n",
    "n = 8192\n",
    "rng = np.random.default_rng(seed=123)\n",
    "..."
   ]
  },
  {
   "cell_type": "code",
   "execution_count": null,
   "id": "ba834e49-d262-45d1-9bcc-737a07f2ab49",
   "metadata": {
    "tags": []
   },
   "outputs": [],
   "source": [
    "%%file lu_factor_notinplace.py\n",
    "import memray\n",
    "import numpy as np\n",
    "from scipy.linalg import lu_factor\n",
    "\n",
    "n = 8192\n",
    "rng = np.random.default_rng(seed=123)\n",
    "..."
   ]
  },
  {
   "cell_type": "code",
   "execution_count": null,
   "id": "9589f383-a893-4d90-93ae-c2b1f44e5d36",
   "metadata": {
    "tags": []
   },
   "outputs": [],
   "source": [
    "..."
   ]
  },
  {
   "cell_type": "code",
   "execution_count": null,
   "id": "11672b7b-6673-4cda-a4c5-dc1cc31d7eb5",
   "metadata": {},
   "outputs": [],
   "source": [
    "#!rm -rf lu_* memray-*"
   ]
  }
 ],
 "metadata": {
  "kernelspec": {
   "display_name": "Python 3 (ipykernel)",
   "language": "python",
   "name": "python3"
  },
  "language_info": {
   "codemirror_mode": {
    "name": "ipython",
    "version": 3
   },
   "file_extension": ".py",
   "mimetype": "text/x-python",
   "name": "python",
   "nbconvert_exporter": "python",
   "pygments_lexer": "ipython3",
   "version": "3.12.1"
  },
  "otter": {
   "OK_FORMAT": true,
   "assignment_name": "EA1",
   "tests": {
    "addition_ieee": {
     "name": "addition_ieee",
     "points": 12,
     "suites": [
      {
       "cases": [],
       "scored": true,
       "setup": "",
       "teardown": "",
       "type": "doctest"
      }
     ]
    },
    "addition_npsum": {
     "name": "addition_npsum",
     "points": 2,
     "suites": [
      {
       "cases": [],
       "scored": true,
       "setup": "",
       "teardown": "",
       "type": "doctest"
      }
     ]
    },
    "addition_variants": {
     "name": "addition_variants",
     "points": 6,
     "suites": [
      {
       "cases": [],
       "scored": true,
       "setup": "",
       "teardown": "",
       "type": "doctest"
      }
     ]
    },
    "limits_explanation": {
     "name": "limits_explanation",
     "points": 12,
     "suites": [
      {
       "cases": [],
       "scored": true,
       "setup": "",
       "teardown": "",
       "type": "doctest"
      }
     ]
    },
    "limits_fx": {
     "name": "limits_fx",
     "points": 8,
     "suites": [
      {
       "cases": [
        {
         "code": ">>> print(result_limits)\n[1.05170918 1.00501671 1.00050017 1.00005    1.000005   1.0000005\n 1.00000005 0.99999999 1.00000008 1.00000008 1.00000008 1.0000889\n 0.99920072 0.99920072 1.11022302]\n",
         "hidden": false,
         "locked": false
        },
        {
         "code": ">>> print(result_limits_2)\n[0. 0. 0. 0. 0.]\n",
         "hidden": false,
         "locked": false
        }
       ],
       "scored": true,
       "setup": "",
       "teardown": "",
       "type": "doctest"
      }
     ]
    },
    "linearsystem_bsolve": {
     "name": "linearsystem_bsolve",
     "points": 12,
     "suites": [
      {
       "cases": [],
       "scored": true,
       "setup": "",
       "teardown": "",
       "type": "doctest"
      }
     ]
    },
    "linearsystem_customsolve": {
     "name": "linearsystem_customsolve",
     "points": 12,
     "suites": [
      {
       "cases": [],
       "scored": true,
       "setup": "",
       "teardown": "",
       "type": "doctest"
      }
     ]
    },
    "linearsystem_customsolve_test": {
     "name": "linearsystem_customsolve_test",
     "points": 6,
     "suites": [
      {
       "cases": [],
       "scored": true,
       "setup": "",
       "teardown": "",
       "type": "doctest"
      }
     ]
    },
    "linearsystem_ludecomp": {
     "name": "linearsystem_ludecomp",
     "points": 15,
     "suites": [
      {
       "cases": [],
       "scored": true,
       "setup": "",
       "teardown": "",
       "type": "doctest"
      }
     ]
    },
    "linearsystem_scipy_memory": {
     "name": "linearsystem_scipy_memory",
     "points": 9,
     "suites": [
      {
       "cases": [],
       "scored": true,
       "setup": "",
       "teardown": "",
       "type": "doctest"
      }
     ]
    },
    "linearsystem_scipy_time": {
     "name": "linearsystem_scipy_time",
     "points": 6,
     "suites": [
      {
       "cases": [],
       "scored": true,
       "setup": "",
       "teardown": "",
       "type": "doctest"
      }
     ]
    }
   }
  }
 },
 "nbformat": 4,
 "nbformat_minor": 5
}
