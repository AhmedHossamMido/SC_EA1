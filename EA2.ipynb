{
 "cells": [
  {
   "cell_type": "markdown",
   "metadata": {},
   "source": [
    "# Einsendeaufgabe 2: Springende Bälle und Pendel (100 Punkte)"
   ]
  },
  {
   "cell_type": "markdown",
   "metadata": {},
   "source": [
    "## Springende Bälle (60 Punkte)\n",
    "In dieser Übung wollen wir einen NumPy Code entwickeln, den wir in der nächsten Übung optimieren. \n",
    "\n",
    "Wir wollen Bälle simulieren, die in einer Box herumspringen. Die Box sei von $x=[0,xmax]$ und $y=[0,ymax]$ definiert. Jede Kugel hat eine Koordinate $c=[x,y]$ und eine Geschwindigkeit $v=[v_x,v_y]$. In jedem Zeitschritt $\\Delta t$ (dt) legt die Kugel eine gewisse Strecke zurück.\n",
    "\n",
    "Es gilt nach den Regeln der Physik\n",
    "\n",
    "$c[t+\\Delta t]=c[t]+\\Delta t*v(t)$. \n",
    "\n",
    " \n",
    "Zusätzlich wirkt in y-Richtung die Schwerkraft, welche die Geschwindigkeit verändert:\n",
    " \n",
    "$v[t+\\Delta t]=v[t]+\\Delta t*g$. \n",
    "\n",
    "\n",
    "Wenn ein Ball an die Wand stößt, (also z.B. $c_0<=0$ oder $c_0>=xmax$ wird er reflektiert, das heißt in erster Näherung $v_0 = -1 * v_0$ für die Geschwindigkeit in dieser Richtung). Damit der Ball in diesem Fall nicht außerhalb der Box landet, müssen Sie berechnen, wie der Ball nun fliegt.\n",
    "\n",
    "Der Ball stoppt nicht an der Wand, wenn er dort ankommt, sondern  fliegt noch ein Stück in die reflektierte Richtung. Um dies zu beachten, sollten wir die Rechnung noch etwas anpassen. \n",
    "\n",
    "Als Beispiel nehmen wir an, dass der Ball über $x=0$ hinaus fliegt.  Wenn wir also $c$ ausrechnen, gilt:  $c_x = c_x + v_x*\\Delta t < 0 $.\n",
    "\n",
    "Damit können wir ausrechnen, wie lange ($\\Delta t_2$) unser Ball in die reflektierte Richtung geflogen ist: \n",
    "\n",
    "$abs(c_x)=\\Delta t_2 * v_x$\n",
    "\n",
    "also gilt:   \n",
    " \n",
    "$\\Delta t_2= \\frac{abs(c_x)}{v_x}$. \n",
    "\n",
    "Für diese Zeit fliegt der Ball in die andere Richtung. Es gilt also \n",
    "\n",
    "$c_x = \\Delta t_2 * (-v_x) = abs(c_x)$"
   ]
  },
  {
   "cell_type": "markdown",
   "metadata": {
    "deletable": false,
    "editable": false
   },
   "source": [
    "<!-- BEGIN QUESTION -->\n",
    "\n",
    "**Aufgabe:** Implementieren Sie die Funktion `timestep`, welche *einen* Zeitschritt für *einen Ball* simuliert. \n",
    "\n",
    "**Hinweis**:\n",
    "- Die Entscheidungen, die Sie hier treffen, haben großen Einfluss auf die Performance. Es ist sehr wichtig, geeignete Kontroll- und Datenstrukturen zu wählen, um Overhead durch zu viele Objekte oder unnötige Kopien zu vermeiden.\n",
    "- Wir haben hier eine schrittweise Simulation, dabei ist die Größe der Zeitschritte entscheidend, d.h. der Ball sollte in einem Zeitschritt nicht zu viel Strecke zurück gelegt haben. Daher sollte gelten: $\\Delta_t \\ll v$. Außerdem soll der Ball sich auch etwas bewegen können, daher muss $xmax,ymax \\gg v$ sein.\n",
    "\n",
    "_Points:_ 5"
   ]
  },
  {
   "cell_type": "code",
   "execution_count": 1,
   "metadata": {
    "nbgrader": {
     "grade": false,
     "grade_id": "cell-e057f915b262f353",
     "locked": false,
     "schema_version": 3,
     "solution": true,
     "task": false
    },
    "tags": []
   },
   "outputs": [
    {
     "name": "stdout",
     "output_type": "stream",
     "text": [
      "GIF wurde gespeichert: ball_simulation.gif\n"
     ]
    },
    {
     "data": {
      "image/png": "[encoded data removed]",
      "text/plain": [
       "<Figure size 640x480 with 1 Axes>"
      ]
     },
     "metadata": {},
     "output_type": "display_data"
    }
   ],
   "source": [
    "import numpy as np\n",
    "import matplotlib.pyplot as plt\n",
    "from matplotlib.animation import FuncAnimation, PillowWriter\n",
    "\n",
    "# ------------------------------\n",
    "# PHYSIKALISCHE PARAMETER\n",
    "# ------------------------------\n",
    "\n",
    "# Zeitintervall (in Sekunden)\n",
    "dt = 0.1\n",
    "\n",
    "# Gravitationsvektor (Beschleunigung in y-Richtung)\n",
    "g = np.array([0, -9.81])\n",
    "\n",
    "# Begrenzung des Simulationsraums\n",
    "xmax = 100 \n",
    "ymax = 100\n",
    "\n",
    "# Anzahl an Simulationsschritten\n",
    "steps = 1000\n",
    "\n",
    "# Dämpfungsfaktor bei Kollisionen (Energieverlust)\n",
    "damping_factor = 0.9\n",
    "\n",
    "# Flag zur Aktivierung der Visualisierung (Trennung der Simulation und Visualisierung)\n",
    "visualize = True\n",
    "\n",
    "# ------------------------------\n",
    "# SIMULATIONSFUNKTIONEN\n",
    "# ------------------------------\n",
    "\n",
    "def timestep(c, v, dt, g, xmax, ymax, damping):\n",
    "    \"\"\"\n",
    "    Berechnet einen Zeitschritt für den Ball unter Einfluss von Gravitation,\n",
    "    inklusive Kollisionserkennung mit Wänden und Energieverlust.\n",
    "\n",
    "    Parameter:\n",
    "    - c: aktuelle Position \n",
    "    - v: aktuelle Geschwindigkeit\n",
    "    - dt: Zeitintervall\n",
    "    - g: Gravitationsvektor\n",
    "    - xmax, ymax: Begrenzung des Simulationsraums\n",
    "    - damping: Dämpfungsfaktor bei Kollisionen\n",
    "\n",
    "    Rückgabewerte:\n",
    "    - Neue Positionen und Geschwindigkeiten nach einem Zeitschritt\n",
    "    \"\"\"\n",
    "    # Bewegungsgleichung unter Berücksichtigung der Gravitation\n",
    "    v = v + dt * g\n",
    "    c_new = c + dt * v\n",
    "\n",
    "    # Kollision mit linken/rechten Wänden\n",
    "    if c_new[0] < 0:  # Wenn der Ball die linke Wand trifft\n",
    "        dt2 = abs(c_new[0]) / abs(v[0])\n",
    "        v[0] *= -1 * damping\n",
    "        c_new[0] = dt2 * v[0]\n",
    "    elif c_new[0] > xmax:  # Wenn der Ball die rechte Wand trifft\n",
    "        dt2 = (c_new[0] - xmax) / abs(v[0])\n",
    "        v[0] *= -1 * damping\n",
    "        c_new[0] = xmax - dt2 * v[0]\n",
    "\n",
    "    # Kollision mit oberer/unterer Wand\n",
    "    if c_new[1] < 0:  # Wenn der Ball den Boden trifft\n",
    "        dt2 = abs(c_new[1]) / abs(v[1])\n",
    "        v[1] *= -1 * damping\n",
    "        c_new[1] = dt2 * v[1]\n",
    "    elif c_new[1] > ymax:  # Wenn der Ball die obere Wand trifft\n",
    "        dt2 = (c_new[1] - ymax) / abs(v[1])\n",
    "        v[1] *= -1 * damping\n",
    "        c_new[1] = ymax - dt2 * v[1]\n",
    "\n",
    "    return c_new, v\n",
    "\n",
    "\n",
    "# Berechne Positionen und Geschwindigkeiten für die Anzahl der Schritte\n",
    "def simulate_ball (steps, dt, g, xmax, ymax, damping_factor, vis):\n",
    "    \"\"\"\n",
    "    Führt die Simulation durch und berechnet Bewegungen über mehrere Schritte.\n",
    "\n",
    "    Optional können die Positionen für eine spätere Animation gespeichert werden.\n",
    "\n",
    "    Parameter:\n",
    "    - steps: Anzahl der Simulationsschritte\n",
    "    - dt: Zeitintervall\n",
    "    - g: Gravitationsvektor\n",
    "    - xmax, ymax: Begrenzungen des Raumes\n",
    "    - damping_factor: Energieverlust bei Kollision\n",
    "    - vis: Flag zur Visualisierung (True = speichere Positionen)\n",
    "\n",
    "    Rückgabewerte:\n",
    "    - Liste aller Positionen (falls vis=True), sonst nur Statusmeldung\n",
    "    \"\"\"\n",
    "    \n",
    "    # Startzustand\n",
    "    pos = np.array([20.0, 80.0])  # Startposition des Balls (x, y)\n",
    "    vel = np.array([10.0, 10.0])   # Startgeschwindigkeit des Balls (vx, vy)\n",
    "    \n",
    "    # Speicherung der Positionen für Visualisierung\n",
    "    if vis == True:\n",
    "        positions = [pos.copy()]\n",
    "        #velocities = [vel.copy()]\n",
    "    \n",
    "    #  Schrittweise Simulation  \n",
    "    for i in range(steps):\n",
    "        pos, vel = timestep(pos, vel, dt, g, xmax, ymax, damping_factor)\n",
    "        if vis == True:\n",
    "            positions.append(pos.copy())  # Füge die neue Position hinzu\n",
    "            #velocities.append(new_vel.copy())  # Füge die neue Geschwindigkeit hinzu\n",
    "            \n",
    "    if vis == True:\n",
    "        return positions#, velocities\n",
    "    else:\n",
    "        return\n",
    "\n",
    "\n",
    "# ------------------------------\n",
    "# VISUALISIERUNG\n",
    "# ------------------------------\n",
    "\n",
    "def animate_positions(positions, xmax, ymax, filename=\"ball_simulation.gif\"):\n",
    "    \"\"\"\n",
    "    Erstellt eine Animation der gespeicherten Positionen und speichert sie als GIF.\n",
    "\n",
    "    Parameter:\n",
    "    - positions: Liste der Positionen des Balls pro Frame\n",
    "    - xmax, ymax: Grenzen des Simulationsraums\n",
    "    - filename: Dateiname für das exportierte GIF\n",
    "    \"\"\"\n",
    "    # Plot setup\n",
    "    fig, ax = plt.subplots()\n",
    "    ball, = ax.plot([], [], 'ro', markersize=10)  # Erstelle den Ball als roten Punkt\n",
    "    ax.set_xlim(0, xmax)  # x-Achsen-Bereich\n",
    "    ax.set_ylim(0, ymax)  # y-Achsen-Bereich\n",
    "    ax.set_aspect('equal')  # Gleiche Skalierung auf beiden Achsen\n",
    "    ax.set_title(\"Ballbewegung mit Gravitation\")  # Titel des Plots\n",
    "\n",
    "    # Init-Funktion für das Plot\n",
    "    def init():\n",
    "        ball.set_data([], [])  # Setze den Ball an den Anfang (leer)\n",
    "        return ball,\n",
    "\n",
    "    # Update-Funktion für das Plot\n",
    "    def update(frame):\n",
    "        pos = positions[frame]  # Hole die Position des Balls für das aktuelle Frame\n",
    "        ball.set_data([pos[0]], [pos[1]])  # Setze die Position des Balls im Plot\n",
    "        return ball,\n",
    "\n",
    "    # Animation erstellen\n",
    "    ani = FuncAnimation(fig, update, frames=len(positions), init_func=init, blit=True, interval=50)\n",
    "\n",
    "    # Als GIF speichern\n",
    "    ani.save(filename, writer=PillowWriter(fps=20))\n",
    "    print(f\"GIF wurde gespeichert: {filename}\")\n",
    "    \n",
    "# ------------------------------\n",
    "# HAUPTFUNKTION\n",
    "# ------------------------------\n",
    "\n",
    "if visualize == True:\n",
    "    # Führe Simulation mit Visualisierung durch und animiere das Ergebnis\n",
    "    all_positions = simulate_ball(\n",
    "        steps, dt, g, xmax, ymax, damping_factor, visualize\n",
    "    )\n",
    "    animate_positions(all_positions, xmax, ymax)\n",
    "else:\n",
    "    # Nur reine Simulation ohne Animation\n",
    "    simulate_ball(\n",
    "        steps, dt, g, xmax, ymax, damping_factor, visualize\n",
    "    )\n",
    "    print(\"Simulation (ohne Visualisierung) war erfolgreich\")"
   ]
  },
  {
   "cell_type": "markdown",
   "metadata": {
    "deletable": false,
    "editable": false
   },
   "source": [
    "<!-- END QUESTION -->\n",
    "\n",
    "<!-- BEGIN QUESTION -->\n",
    "\n",
    "**Aufgabe:** Animieren Sie die Bewegung des Balls. Der Ball sollte mit der Zeit an Höhe verlieren (durch die Schwerkraft).\n",
    "\n",
    "Hinweis: Simulation und Visualisierung müssen getrennt sein (für die nächste Aufgabe).\n",
    "\n",
    "_Points:_ 5"
   ]
  },
  {
   "cell_type": "code",
   "execution_count": 2,
   "metadata": {
    "nbgrader": {
     "grade": false,
     "grade_id": "cell-c4d15f92b42ff671",
     "locked": false,
     "schema_version": 3,
     "solution": true,
     "task": false
    },
    "tags": []
   },
   "outputs": [
    {
     "data": {
      "text/plain": [
       "Ellipsis"
      ]
     },
     "execution_count": 2,
     "metadata": {},
     "output_type": "execute_result"
    }
   ],
   "source": [
    "import numpy as np\n",
    "\n",
    "# Anfangsbedingungen (Vorschlag)\n",
    "dt = 0.1\n",
    "g = np.array([0, -9.81], dtype=np.float64)\n",
    "xmax = 100\n",
    "ymax = 100\n",
    "steps = 100\n",
    "# Startposition: x=500, y=500.\n",
    "# ...\n",
    "# Startgeschwindigkeit: v_x=20, v_y=0\n",
    "# ...\n",
    "\n",
    "\n",
    "..."
   ]
  },
  {
   "cell_type": "markdown",
   "metadata": {
    "deletable": false,
    "editable": false
   },
   "source": [
    "<!-- END QUESTION -->\n",
    "\n",
    "<!-- BEGIN QUESTION -->\n",
    "\n",
    "**Aufgabe:** Ein Ball ist jedoch langweilig, daher wollen wir als nächstes mehrere Bälle simulieren.  \n",
    "Schreiben Sie eine neue Funktion, `timestep_balls`, welche einen Array mit Koordinaten (shape=(N,2)) und einen Array mit Geschwindigkeiten (shape=(N,2)) übergeben bekommt und für alle Bälle einen Zeitschritt berechnet. \n",
    "\n",
    "Achten Sie darauf, dass der Code performant ist und verwenden Sie NumPys interne Vektorisierung mit der Slicing Syntax.  Für den Augenblick ignorieren wir, dass die Bälle zusammenstoßen können. \n",
    "\n",
    "Hinweis: \n",
    "- Das Array `c` sollte diese Form haben: \n",
    "\n",
    "$c = \\left[\\begin{array}{rr}                                 \n",
    "x_0 & y_0 \\\\ \n",
    "x_1 & y_1 \\\\ \n",
    "x_2 & y_2 \\\\ \n",
    "\\dots \\\\ \n",
    "x_{n-1} & y_{n-1} \\\\ \n",
    "\\end{array}\\right]$ \n",
    "\n",
    "- Das Array `v` sollte diese Form haben: \n",
    "\n",
    "$v = \\left[\\begin{array}{rr}                                 \n",
    "v^x_0 & v^y_0 \\\\ \n",
    "v^x_1 & v^y_1 \\\\ \n",
    "v^x_2 & v^y_2 \\\\ \n",
    "\\dots\\\\ \n",
    "v^x_{n-1} & v^y_{n-1} \\\\ \n",
    "\\end{array}\\right]$ \n",
    "\n",
    "_Points:_ 10"
   ]
  },
  {
   "cell_type": "code",
   "execution_count": 3,
   "metadata": {
    "nbgrader": {
     "grade": false,
     "grade_id": "cell-b2bcc018335dbe0d",
     "locked": false,
     "schema_version": 3,
     "solution": true,
     "task": false
    },
    "tags": []
   },
   "outputs": [],
   "source": [
    "def timestep_balls(c, v, dt, g, xmax, ymax):\n",
    "    \"\"\"\n",
    "    Simulate a timestep for multiple balls.\n",
    "\n",
    "    Parameters:\n",
    "        c: ...\n",
    "        v: ...\n",
    "        dt: The duration of a single timestep.\n",
    "        g: Gravitation\n",
    "        xmax: Box limit in x direction\n",
    "        ymax: Box limit in y direction\n",
    "    \"\"\"\n",
    "    ..."
   ]
  },
  {
   "cell_type": "markdown",
   "metadata": {
    "deletable": false,
    "editable": false
   },
   "source": [
    "<!-- END QUESTION -->\n",
    "\n",
    "<!-- BEGIN QUESTION -->\n",
    "\n",
    "**Aufgabe:** Animieren Sie die Bewegung der Bälle.\n",
    "\n",
    "Tipp: Trennen Sie Simulation und Visualisierung.\n",
    "\n",
    "_Points:_ 10"
   ]
  },
  {
   "cell_type": "code",
   "execution_count": 4,
   "metadata": {
    "nbgrader": {
     "grade": false,
     "grade_id": "cell-3bf02c0001226c40",
     "locked": false,
     "schema_version": 3,
     "solution": true,
     "task": false
    },
    "tags": []
   },
   "outputs": [
    {
     "data": {
      "text/plain": [
       "Ellipsis"
      ]
     },
     "execution_count": 4,
     "metadata": {},
     "output_type": "execute_result"
    }
   ],
   "source": [
    "import numpy as np\n",
    "\n",
    "# Anfangsbedingungen (Vorschlag)\n",
    "dt = 1\n",
    "g = np.array([0, -9.81], dtype=np.float64)\n",
    "xmax = 1000\n",
    "ymax = 1000\n",
    "steps = 250\n",
    "\n",
    "# Anzahl Bälle\n",
    "N = 10\n",
    "rng = np.random.default_rng(seed=123)\n",
    "# Startpositionen\n",
    "c = xmax * rng.random((N, 2))\n",
    "# Startgeschwindigkeiten\n",
    "v = 10 * rng.random((N, 2))\n",
    "\n",
    "..."
   ]
  },
  {
   "cell_type": "markdown",
   "metadata": {
    "deletable": false,
    "editable": false
   },
   "source": [
    "<!-- END QUESTION -->\n",
    "\n",
    "## Leistungsanalyse ohne Visualisierung"
   ]
  },
  {
   "cell_type": "markdown",
   "metadata": {
    "deletable": false,
    "editable": false
   },
   "source": [
    "<!-- BEGIN QUESTION -->\n",
    "\n",
    "**Aufgabe:** Analysieren Sie zunächst die Leistung der Ball-Simulation ohne Visualisierung mit Scalene!\n",
    "Simulieren Sie dazu 100 Bälle für 100 Zeitschritte und verwenden Sie eine Abtastfrequenz von $0.0001$.\n",
    "\n",
    "*Hinweis:* Wir haben die Initialisierungsfunktion aus dem Profiling entfernt, da sie ansonsten zu dominant wäre.\n",
    "Wenn Sie den Code richtig optimiert haben, sollte die Funktion zu über 95% im nativen Modus ausgeführt werden.\n",
    "\n",
    "_Points:_ 15"
   ]
  },
  {
   "cell_type": "code",
   "execution_count": 5,
   "metadata": {
    "deletable": false,
    "editable": false
   },
   "outputs": [
    {
     "ename": "ModuleNotFoundError",
     "evalue": "No module named 'scalene'",
     "output_type": "error",
     "traceback": [
      "\u001b[31m---------------------------------------------------------------------------\u001b[39m",
      "\u001b[31mModuleNotFoundError\u001b[39m                       Traceback (most recent call last)",
      "\u001b[36mCell\u001b[39m\u001b[36m \u001b[39m\u001b[32mIn[5]\u001b[39m\u001b[32m, line 1\u001b[39m\n\u001b[32m----> \u001b[39m\u001b[32m1\u001b[39m \u001b[43mget_ipython\u001b[49m\u001b[43m(\u001b[49m\u001b[43m)\u001b[49m\u001b[43m.\u001b[49m\u001b[43mrun_line_magic\u001b[49m\u001b[43m(\u001b[49m\u001b[33;43m'\u001b[39;49m\u001b[33;43mload_ext\u001b[39;49m\u001b[33;43m'\u001b[39;49m\u001b[43m,\u001b[49m\u001b[43m \u001b[49m\u001b[33;43m'\u001b[39;49m\u001b[33;43mscalene\u001b[39;49m\u001b[33;43m'\u001b[39;49m\u001b[43m)\u001b[49m\n",
      "\u001b[36mFile \u001b[39m\u001b[32m~/.local/lib/python3.12/site-packages/IPython/core/interactiveshell.py:2481\u001b[39m, in \u001b[36mInteractiveShell.run_line_magic\u001b[39m\u001b[34m(self, magic_name, line, _stack_depth)\u001b[39m\n\u001b[32m   2479\u001b[39m     kwargs[\u001b[33m'\u001b[39m\u001b[33mlocal_ns\u001b[39m\u001b[33m'\u001b[39m] = \u001b[38;5;28mself\u001b[39m.get_local_scope(stack_depth)\n\u001b[32m   2480\u001b[39m \u001b[38;5;28;01mwith\u001b[39;00m \u001b[38;5;28mself\u001b[39m.builtin_trap:\n\u001b[32m-> \u001b[39m\u001b[32m2481\u001b[39m     result = \u001b[43mfn\u001b[49m\u001b[43m(\u001b[49m\u001b[43m*\u001b[49m\u001b[43margs\u001b[49m\u001b[43m,\u001b[49m\u001b[43m \u001b[49m\u001b[43m*\u001b[49m\u001b[43m*\u001b[49m\u001b[43mkwargs\u001b[49m\u001b[43m)\u001b[49m\n\u001b[32m   2483\u001b[39m \u001b[38;5;66;03m# The code below prevents the output from being displayed\u001b[39;00m\n\u001b[32m   2484\u001b[39m \u001b[38;5;66;03m# when using magics with decorator @output_can_be_silenced\u001b[39;00m\n\u001b[32m   2485\u001b[39m \u001b[38;5;66;03m# when the last Python token in the expression is a ';'.\u001b[39;00m\n\u001b[32m   2486\u001b[39m \u001b[38;5;28;01mif\u001b[39;00m \u001b[38;5;28mgetattr\u001b[39m(fn, magic.MAGIC_OUTPUT_CAN_BE_SILENCED, \u001b[38;5;28;01mFalse\u001b[39;00m):\n",
      "\u001b[36mFile \u001b[39m\u001b[32m~/.local/lib/python3.12/site-packages/IPython/core/magics/extension.py:33\u001b[39m, in \u001b[36mExtensionMagics.load_ext\u001b[39m\u001b[34m(self, module_str)\u001b[39m\n\u001b[32m     31\u001b[39m \u001b[38;5;28;01mif\u001b[39;00m \u001b[38;5;129;01mnot\u001b[39;00m module_str:\n\u001b[32m     32\u001b[39m     \u001b[38;5;28;01mraise\u001b[39;00m UsageError(\u001b[33m'\u001b[39m\u001b[33mMissing module name.\u001b[39m\u001b[33m'\u001b[39m)\n\u001b[32m---> \u001b[39m\u001b[32m33\u001b[39m res = \u001b[38;5;28;43mself\u001b[39;49m\u001b[43m.\u001b[49m\u001b[43mshell\u001b[49m\u001b[43m.\u001b[49m\u001b[43mextension_manager\u001b[49m\u001b[43m.\u001b[49m\u001b[43mload_extension\u001b[49m\u001b[43m(\u001b[49m\u001b[43mmodule_str\u001b[49m\u001b[43m)\u001b[49m\n\u001b[32m     35\u001b[39m \u001b[38;5;28;01mif\u001b[39;00m res == \u001b[33m'\u001b[39m\u001b[33malready loaded\u001b[39m\u001b[33m'\u001b[39m:\n\u001b[32m     36\u001b[39m     \u001b[38;5;28mprint\u001b[39m(\u001b[33m\"\u001b[39m\u001b[33mThe \u001b[39m\u001b[38;5;132;01m%s\u001b[39;00m\u001b[33m extension is already loaded. To reload it, use:\u001b[39m\u001b[33m\"\u001b[39m % module_str)\n",
      "\u001b[36mFile \u001b[39m\u001b[32m~/.local/lib/python3.12/site-packages/IPython/core/extensions.py:62\u001b[39m, in \u001b[36mExtensionManager.load_extension\u001b[39m\u001b[34m(self, module_str)\u001b[39m\n\u001b[32m     55\u001b[39m \u001b[38;5;250m\u001b[39m\u001b[33;03m\"\"\"Load an IPython extension by its module name.\u001b[39;00m\n\u001b[32m     56\u001b[39m \n\u001b[32m     57\u001b[39m \u001b[33;03mReturns the string \"already loaded\" if the extension is already loaded,\u001b[39;00m\n\u001b[32m     58\u001b[39m \u001b[33;03m\"no load function\" if the module doesn't have a load_ipython_extension\u001b[39;00m\n\u001b[32m     59\u001b[39m \u001b[33;03mfunction, or None if it succeeded.\u001b[39;00m\n\u001b[32m     60\u001b[39m \u001b[33;03m\"\"\"\u001b[39;00m\n\u001b[32m     61\u001b[39m \u001b[38;5;28;01mtry\u001b[39;00m:\n\u001b[32m---> \u001b[39m\u001b[32m62\u001b[39m     \u001b[38;5;28;01mreturn\u001b[39;00m \u001b[38;5;28;43mself\u001b[39;49m\u001b[43m.\u001b[49m\u001b[43m_load_extension\u001b[49m\u001b[43m(\u001b[49m\u001b[43mmodule_str\u001b[49m\u001b[43m)\u001b[49m\n\u001b[32m     63\u001b[39m \u001b[38;5;28;01mexcept\u001b[39;00m \u001b[38;5;167;01mModuleNotFoundError\u001b[39;00m:\n\u001b[32m     64\u001b[39m     \u001b[38;5;28;01mif\u001b[39;00m module_str \u001b[38;5;129;01min\u001b[39;00m BUILTINS_EXTS:\n",
      "\u001b[36mFile \u001b[39m\u001b[32m~/.local/lib/python3.12/site-packages/IPython/core/extensions.py:77\u001b[39m, in \u001b[36mExtensionManager._load_extension\u001b[39m\u001b[34m(self, module_str)\u001b[39m\n\u001b[32m     75\u001b[39m \u001b[38;5;28;01mwith\u001b[39;00m \u001b[38;5;28mself\u001b[39m.shell.builtin_trap:\n\u001b[32m     76\u001b[39m     \u001b[38;5;28;01mif\u001b[39;00m module_str \u001b[38;5;129;01mnot\u001b[39;00m \u001b[38;5;129;01min\u001b[39;00m sys.modules:\n\u001b[32m---> \u001b[39m\u001b[32m77\u001b[39m         mod = \u001b[43mimport_module\u001b[49m\u001b[43m(\u001b[49m\u001b[43mmodule_str\u001b[49m\u001b[43m)\u001b[49m\n\u001b[32m     78\u001b[39m     mod = sys.modules[module_str]\n\u001b[32m     79\u001b[39m     \u001b[38;5;28;01mif\u001b[39;00m \u001b[38;5;28mself\u001b[39m._call_load_ipython_extension(mod):\n",
      "\u001b[36mFile \u001b[39m\u001b[32m/usr/local/python/3.12.1/lib/python3.12/importlib/__init__.py:90\u001b[39m, in \u001b[36mimport_module\u001b[39m\u001b[34m(name, package)\u001b[39m\n\u001b[32m     88\u001b[39m             \u001b[38;5;28;01mbreak\u001b[39;00m\n\u001b[32m     89\u001b[39m         level += \u001b[32m1\u001b[39m\n\u001b[32m---> \u001b[39m\u001b[32m90\u001b[39m \u001b[38;5;28;01mreturn\u001b[39;00m \u001b[43m_bootstrap\u001b[49m\u001b[43m.\u001b[49m\u001b[43m_gcd_import\u001b[49m\u001b[43m(\u001b[49m\u001b[43mname\u001b[49m\u001b[43m[\u001b[49m\u001b[43mlevel\u001b[49m\u001b[43m:\u001b[49m\u001b[43m]\u001b[49m\u001b[43m,\u001b[49m\u001b[43m \u001b[49m\u001b[43mpackage\u001b[49m\u001b[43m,\u001b[49m\u001b[43m \u001b[49m\u001b[43mlevel\u001b[49m\u001b[43m)\u001b[49m\n",
      "\u001b[36mFile \u001b[39m\u001b[32m<frozen importlib._bootstrap>:1387\u001b[39m, in \u001b[36m_gcd_import\u001b[39m\u001b[34m(name, package, level)\u001b[39m\n",
      "\u001b[36mFile \u001b[39m\u001b[32m<frozen importlib._bootstrap>:1360\u001b[39m, in \u001b[36m_find_and_load\u001b[39m\u001b[34m(name, import_)\u001b[39m\n",
      "\u001b[36mFile \u001b[39m\u001b[32m<frozen importlib._bootstrap>:1324\u001b[39m, in \u001b[36m_find_and_load_unlocked\u001b[39m\u001b[34m(name, import_)\u001b[39m\n",
      "\u001b[31mModuleNotFoundError\u001b[39m: No module named 'scalene'"
     ]
    }
   ],
   "source": [
    "%load_ext scalene"
   ]
  },
  {
   "cell_type": "code",
   "execution_count": null,
   "metadata": {
    "deletable": false,
    "editable": false
   },
   "outputs": [],
   "source": [
    "# Anfangsbedingungen (Vorschlag)\n",
    "dt = 1\n",
    "g = np.array([0, -9.81], dtype=np.float64)\n",
    "xmax = 1000\n",
    "ymax = 1000\n",
    "steps = 1000\n",
    "\n",
    "# Anzahl Bälle\n",
    "N = 100\n",
    "rng = np.random.default_rng(seed=123)\n",
    "# Startpositionen\n",
    "c = xmax * rng.random((N, 2))\n",
    "# Startgeschwindigkeiten\n",
    "v = 10 * rng.random((N, 2))"
   ]
  },
  {
   "cell_type": "code",
   "execution_count": null,
   "metadata": {
    "tags": []
   },
   "outputs": [],
   "source": [
    "%%scalene --cpu-sampling-rate 0.0001\n",
    "..."
   ]
  },
  {
   "cell_type": "markdown",
   "metadata": {
    "deletable": false,
    "editable": false
   },
   "source": [
    "<!-- END QUESTION -->\n",
    "\n",
    "## Leistungsanalyse mit Visualisierung"
   ]
  },
  {
   "cell_type": "markdown",
   "metadata": {
    "deletable": false,
    "editable": false
   },
   "source": [
    "<!-- BEGIN QUESTION -->\n",
    "\n",
    "**Aufgabe:** Die Visualisierung erfordert, dass die Ergebnisse nach jeder Iteration gespeichert werden. Analysieren Sie mit Hilfe von Scalene, wie sich das auf die Performance auswirkt. \n",
    "\n",
    "- Wie viel der gesamten Laufzeit kostet dieses Kopieren der Ergebnisse?\n",
    "- Wie lässt sich das verbessern?\n",
    "\n",
    "_Points:_ 15"
   ]
  },
  {
   "cell_type": "markdown",
   "metadata": {},
   "source": [
    "_Type your answer here, replacing this text._"
   ]
  },
  {
   "cell_type": "code",
   "execution_count": null,
   "metadata": {
    "tags": []
   },
   "outputs": [],
   "source": [
    "%%scalene --cpu-sampling-rate 0.001\n",
    "..."
   ]
  },
  {
   "cell_type": "markdown",
   "metadata": {
    "deletable": false,
    "editable": false
   },
   "source": [
    "<!-- END QUESTION -->\n",
    "\n",
    "## Einfaches Pendel (40 Punkte)\n",
    "\n",
    "Die Bewegung eines einfachen Pendels kann man mit der Gleichung\n",
    "\n",
    "$\\theta^{''}(t) +\\frac{b}{m}\\theta^{'}(t) +\\frac{g}{L}\\theta(t) = 0$ \n",
    "\n",
    "beschrieben, wobei gilt:\n",
    "\n",
    "- $\\theta$ : Ausrichtungs-Wingel\n",
    "- $b$ : Dämpfung (z.b. durch Luftwiderstand)\n",
    "- $m$ : Masse des Pendel-Körpers\n",
    "- $g$ : Erdbeschleunigung \n",
    "- $L$ : Länge des Pendels\n",
    "- $\\theta^{'}$: Winkel-Geschwindigkeit\n",
    "- $\\theta^{''}$: Winkel-Beschleunigung\n",
    "\n",
    "Die Ausrichtungen x, y werden mit Hilfe von $\\theta$ berechnet:\n",
    "\n",
    "$ x = L * sin(\\theta) $\n",
    "\n",
    "$ y = -L * cos(\\theta) $\n",
    "\n",
    "Der Ursprung des Pendels liegt bei (0,0).\n",
    "\n",
    "Das Pendel sei Anfangs zu $\\frac{\\pi}{3}$ ausgerichtet und hat eine Gechwindigkeit von 0. "
   ]
  },
  {
   "cell_type": "markdown",
   "metadata": {
    "deletable": false,
    "editable": false
   },
   "source": [
    "<!-- BEGIN QUESTION -->\n",
    "\n",
    "**Aufgabe:** Berechnen Sie die Bewegung des Pendels für $t=[0,...,15]$ für 20000 Zeitschritte. Verwenden Sie die SciPy funktion `integrate.solve_ivp`.\n",
    "\n",
    "_Points:_ 10\n",
    "\n",
    "## Einfaches Pendel mit Dämpfung\n",
    "\n",
    "In dieser Aufgabe wird die Bewegung eines **gedämpften einfachen Pendels** simuliert. Das Pendel wird durch die folgende **Differentialgleichung zweiter Ordnung** beschrieben:\n",
    "\n",
    "$\\theta''(t) + \\frac{b}{m} \\theta'(t) + \\frac{g}{L} \\sin(\\theta(t)) = 0$\n",
    "\n",
    "Dabei bedeuten:\n",
    "\n",
    "- $\\theta(t)$: Winkel des Pendels zur Vertikalen in Radiant  \n",
    "- $\\theta'(t)$: Winkelgeschwindigkeit  \n",
    "- $\\theta''(t)$: Winkelbeschleunigung  \n",
    "- $b$: Dämpfungskoeffizient (z. B. durch Luftwiderstand)  \n",
    "- $m$: Masse des Pendelkörpers  \n",
    "- $g$: Erdbeschleunigung  \n",
    "- $L$: Länge des Pendels  \n",
    "\n",
    "---\n",
    "\n",
    "### Ziel der Aufgabe\n",
    "\n",
    "Wir möchten die Bewegung des Pendels im Zeitbereich $t = 0$ bis $t = 15$ Sekunden simulieren – und zwar mit **20.000 Zeitschritten** für eine möglichst feine zeitliche Auflösung. Dafür verwenden wir die numerische Methode `solve_ivp` aus `scipy.integrate`, welche ein **System von Differentialgleichungen erster Ordnung** löst.\n",
    "\n",
    "---\n",
    "\n",
    "### Umformulierung in ein System erster Ordnung\n",
    "\n",
    "Da `solve_ivp` nur Gleichungen erster Ordnung lösen kann, muss die Gleichung zweiter Ordnung umgeschrieben werden. Dazu setzen wir:\n",
    "\n",
    "- $y_0 = \\theta(t)$: Winkel  \n",
    "- $y_1 = \\theta'(t)$: Winkelgeschwindigkeit  \n",
    "\n",
    "Damit ergibt sich das folgende System:\n",
    "\n",
    "$y_0' = y_1$  \n",
    "$y_1' = -\\frac{b}{m} y_1 - \\frac{g}{L} \\sin(y_0)$\n",
    "\n",
    "Dieses System beschreibt die zeitliche Entwicklung des Pendels vollständig und ist bereit zur numerischen Lösung.\n",
    "\n",
    "---\n",
    "\n",
    "### Weitere Erläuterungen\n",
    "\n",
    "1. **Parameterdefinition:** Die physikalischen Konstanten wie Pendellänge $L$, Masse $m$, Dämpfungskoeffizient $b$ und Erdbeschleunigung $g$ werden gesetzt.\n",
    "\n",
    "2. **Zeitvektor:** Mit `np.linspace(0, 15, 20000)` wird ein Array von Zeitpunkten erzeugt, an denen das System berechnet wird.\n",
    "\n",
    "3. **Modellierung des Systems:** Die Funktion `pendel(t, y)` bildet das oben beschriebene Gleichungssystem ab. Sie gibt die Ableitungen von Winkel und Winkelgeschwindigkeit zurück.\n",
    "\n",
    "4. **Numerische Lösung:** `solve_ivp` berechnet aus den Anfangswerten (Startwinkel $\\theta = \\frac{\\pi}{3}$, Anfangsgeschwindigkeit $= 0$) die Entwicklung des Systems über die Zeit mithilfe eines Runge-Kutta-Verfahrens (`RK45`).\n",
    "\n",
    "5. **Berechnung der Position:** Aus dem berechneten Winkel $\\theta(t)$ werden mit Hilfe der bekannten Formeln für Kreisbewegung die kartesischen Koordinaten des Pendelkörpers berechnet:\n",
    "\n",
    "$x(t) = L \\cdot \\sin(\\theta(t))$  \n",
    "$y(t) = -L \\cdot \\cos(\\theta(t))$\n",
    "\n",
    "6. **Visualisierung:** Die Pendelbewegung wird in einem x-y-Diagramm dargestellt, wodurch die oszillierende und gedämpfte Bewegung deutlich sichtbar wird.\n",
    "\n",
    "---\n",
    "\n",
    "Dieser strukturierte Ansatz erlaubt eine anschauliche und realitätsnahe Simulation eines gedämpften Pendels – unter Berücksichtigung von Reibungsverlusten, wie sie z. B. durch Luftwiderstand entstehen.\n"
   ]
  },
  {
   "cell_type": "code",
   "execution_count": null,
   "metadata": {
    "nbgrader": {
     "grade": false,
     "grade_id": "cell-421f92ca1935ec97",
     "locked": false,
     "schema_version": 3,
     "solution": true,
     "task": false
    },
    "tags": []
   },
   "outputs": [],
   "source": [
    "import numpy as np\n",
    "from scipy.integrate import solve_ivp\n",
    "import matplotlib.pyplot as plt\n",
    "\n",
    "# Parameter\n",
    "L = 1       # Pendellänge in Metern\n",
    "m = 1       # Masse in kg\n",
    "b = 0.5     # Dämpfung\n",
    "g = 9.81    # Erdbeschleunigung\n",
    "steps = 20000\n",
    "t_max = 15\n",
    "theta0 = np.pi / 3   # Anfangswinkel\n",
    "omega0 = 0           # Anfangsgeschwindigkeit\n",
    "\n",
    "# Zeitbereich\n",
    "t_eval = np.linspace(0, t_max, steps)\n",
    "\n",
    "# Definition des Differentialgleichungssystems\n",
    "def pendel(t, y):\n",
    "    theta, omega = y\n",
    "        dtheta_dt = omega\n",
    "            domega_dt = -(b / m) * omega - (g / L) * np.sin(theta)\n",
    "                return [dtheta_dt, domega_dt]\n",
    "\n",
    "                # Lösung berechnen\n",
    "                sol = solve_ivp(pendel, [0, t_max], [theta0, omega0], t_eval=t_eval, method='RK45')\n",
    "\n",
    "                # Positionen berechnen\n",
    "                theta = sol.y[0]\n",
    "                x = L * np.sin(theta)\n",
    "                y = -L * np.cos(theta)\n",
    "\n",
    "                # Plotten (optional)\n",
    "                plt.plot(x, y)\n",
    "                plt.xlabel('x')\n",
    "                plt.ylabel('y')\n",
    "                plt.title('Bewegung des Pendels')\n",
    "                plt.axis('equal')\n",
    "                plt.grid()\n",
    "                plt.show()\n",
    "                "
   ]
  },
  {
   "cell_type": "markdown",
   "metadata": {
    "deletable": false,
    "editable": false
   },
   "source": [
    "<!-- END QUESTION -->\n",
    "\n",
    "**Aufgabe:** Die Funktion ` scipy.integrate.solve_ivp` bietet verschiedene Methoden zur Lösung an [[1]](https://docs.scipy.org/doc/scipy/reference/generated/scipy.integrate.solve_ivp.html). Vergleichen Sie die Performance für die Methoden, die keine weiteren Eingaben erwarten (RK45, RK23 und DOP853). \n",
    "\n",
    "_Points:_ 3"
   ]
  },
  {
   "cell_type": "code",
   "execution_count": null,
   "metadata": {
    "tags": []
   },
   "outputs": [],
   "source": [
    "rk45_timeit = ...\n",
    "rk23_timeit = ...\n",
    "dop853_timeit = ..."
   ]
  },
  {
   "cell_type": "markdown",
   "metadata": {
    "deletable": false,
    "editable": false
   },
   "source": [
    "<!-- BEGIN QUESTION -->\n",
    "\n",
    "**Aufgabe:** Stellen Sie die x- und y-Position des Pendels über die Zeit in einem Diagramm dar. \n",
    "Stellen Sie in einem zweiten Diagramm den Winkel über die Zeit dar.\n",
    "\n",
    "Hinweis:\n",
    "- Verwenden Sie die Lösung für die `RK45` Methode. \n",
    "- Verwenden Sie Liniendiagramme.\n",
    "\n",
    "_Points:_ 10"
   ]
  },
  {
   "cell_type": "code",
   "execution_count": null,
   "metadata": {
    "nbgrader": {
     "grade": false,
     "grade_id": "cell-acdd71b2e8d9b4fc",
     "locked": false,
     "schema_version": 3,
     "solution": true,
     "task": false
    },
    "tags": []
   },
   "outputs": [],
   "source": [
    "..."
   ]
  },
  {
   "cell_type": "markdown",
   "metadata": {
    "deletable": false,
    "editable": false
   },
   "source": [
    "<!-- END QUESTION -->\n",
    "\n",
    "<!-- BEGIN QUESTION -->\n",
    "\n",
    "**Aufgabe:** Stellen Sie den Unterschied zwischen der 'RK45' Methode und der 'RK23' Methode dar. \n",
    "\n",
    "Erstellen Sie vier Liniendiagramme:\n",
    "- x für beide Methoden über der Zeit\n",
    "- y für beide Methoden über der Zeit\n",
    "- Absoluter Unterschied von x zwischen beiden Methoden über der Zeit\n",
    "- Absoluter Unterschied von y zwischen beiden Methoden über der Zeit\n",
    "\n",
    "_Points:_ 10"
   ]
  },
  {
   "cell_type": "code",
   "execution_count": null,
   "metadata": {
    "tags": []
   },
   "outputs": [],
   "source": [
    "..."
   ]
  },
  {
   "cell_type": "markdown",
   "metadata": {
    "deletable": false,
    "editable": false
   },
   "source": [
    "<!-- END QUESTION -->\n",
    "\n",
    "<!-- BEGIN QUESTION -->\n",
    "\n",
    "**Aufgabe:** Animieren Sie das Pendel, sodass es für mindestens eine Periodendauer pendelt.\n",
    "\n",
    "Hinweis:\n",
    "- Animieren Sie nicht alle Zeitschritte, sondern z.B. nur jeden 100. Zeitschritt.\n",
    "- Damit die Animation schneller erstellt wird, können Sie z.B. die zweite Hälfte der Daten verwerfen.\n",
    "- Tipp für \"hvplot\": aus `import holoviews as hv` ist [hv.Path() hilfreich](https://holoviews.org/reference/elements/bokeh/Path.html)\n",
    "\n",
    "_Points:_ 7"
   ]
  },
  {
   "cell_type": "code",
   "execution_count": null,
   "metadata": {
    "nbgrader": {
     "grade": false,
     "grade_id": "cell-79a820a2411cd873",
     "locked": false,
     "schema_version": 3,
     "solution": true,
     "task": false
    },
    "tags": []
   },
   "outputs": [],
   "source": [
    "..."
   ]
  },
  {
   "cell_type": "markdown",
   "metadata": {
    "deletable": false,
    "editable": false
   },
   "source": [
    "<!-- END QUESTION -->\n",
    "\n",
    "Führen Sie alle Zellen im Notebook aus und speichern Sie es.  \n",
    "Danach können Sie mit der folgenden Zelle eine HTML-Datei erstellen.  \n",
    "Eine mögliche `UserWarning` können Sie ignorieren.  \n",
    "Bitte geben Sie das Notebook als `.ipynb` und `.html` Datei ab."
   ]
  },
  {
   "cell_type": "code",
   "execution_count": null,
   "metadata": {},
   "outputs": [],
   "source": [
    "#!jupyter nbconvert --to html EA2.ipynb"
   ]
  }
 ],
 "metadata": {
  "kernelspec": {
   "display_name": "Python 3 (ipykernel)",
   "language": "python",
   "name": "python3"
  },
  "language_info": {
   "codemirror_mode": {
    "name": "ipython",
    "version": 3
   },
   "file_extension": ".py",
   "mimetype": "text/x-python",
   "name": "python",
   "nbconvert_exporter": "python",
   "pygments_lexer": "ipython3",
   "version": "3.12.1"
  },
  "otter": {
   "OK_FORMAT": true,
   "assignment_name": "EA2",
   "tests": {
    "animation_multiple": {
     "name": "animation_multiple",
     "points": 10,
     "suites": [
      {
       "cases": [],
       "scored": true,
       "setup": "",
       "teardown": "",
       "type": "doctest"
      }
     ]
    },
    "animation_single": {
     "name": "animation_single",
     "points": 5,
     "suites": [
      {
       "cases": [],
       "scored": true,
       "setup": "",
       "teardown": "",
       "type": "doctest"
      }
     ]
    },
    "ball_timestep": {
     "name": "ball_timestep",
     "points": 5,
     "suites": [
      {
       "cases": [],
       "scored": true,
       "setup": "",
       "teardown": "",
       "type": "doctest"
      }
     ]
    },
    "pendel_animation": {
     "name": "pendel_animation",
     "points": 7,
     "suites": [
      {
       "cases": [],
       "scored": true,
       "setup": "",
       "teardown": "",
       "type": "doctest"
      }
     ]
    },
    "pendel_plots_methods": {
     "name": "pendel_plots_methods",
     "points": 10,
     "suites": [
      {
       "cases": [],
       "scored": true,
       "setup": "",
       "teardown": "",
       "type": "doctest"
      }
     ]
    },
    "pendel_plots_position_angle": {
     "name": "pendel_plots_position_angle",
     "points": 10,
     "suites": [
      {
       "cases": [],
       "scored": true,
       "setup": "",
       "teardown": "",
       "type": "doctest"
      }
     ]
    },
    "pendel_scipy": {
     "name": "pendel_scipy",
     "points": 10,
     "suites": [
      {
       "cases": [],
       "scored": true,
       "setup": "",
       "teardown": "",
       "type": "doctest"
      }
     ]
    },
    "pendel_scipy_methods": {
     "name": "pendel_scipy_methods",
     "points": 3,
     "suites": [
      {
       "cases": [],
       "scored": true,
       "setup": "",
       "teardown": "",
       "type": "doctest"
      }
     ]
    },
    "performance": {
     "name": "performance",
     "points": 15,
     "suites": [
      {
       "cases": [],
       "scored": true,
       "setup": "",
       "teardown": "",
       "type": "doctest"
      }
     ]
    },
    "performance_mit_vis": {
     "name": "performance_mit_vis",
     "points": 15,
     "suites": [
      {
       "cases": [],
       "scored": true,
       "setup": "",
       "teardown": "",
       "type": "doctest"
      }
     ]
    },
    "timestep_balls": {
     "name": "timestep_balls",
     "points": 10,
     "suites": [
      {
       "cases": [],
       "scored": true,
       "setup": "",
       "teardown": "",
       "type": "doctest"
      }
     ]
    }
   }
  }
 },
 "nbformat": 4,
 "nbformat_minor": 4
}
