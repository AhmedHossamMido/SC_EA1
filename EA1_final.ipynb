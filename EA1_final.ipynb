{
 "cells": [
  {
   "cell_type": "markdown",
   "id": "a8b3375c-690d-4cc3-b82b-f18cf1b02069",
   "metadata": {},
   "source": [
    "# Einsendeaufgabe 1: Numerische Genauigkeit und Gleichungssysteme (100 Punkte)\n",
    "In dieser Aufgabe sollen Sie ein wenig mehr Erfahrung mit NumPy und numerischen Methoden gewinnen.  \n",
    "Zur Erinnerung empfehle ich an dieser Stelle, die Definition der [IEEE-Fließkommazahlen](https://de.wikipedia.org/wiki/IEEE_754) zu wiederholen.  "
   ]
  },
  {
   "cell_type": "markdown",
   "id": "fc24fc52-f1bc-4378-8023-f0cb1c9607d5",
   "metadata": {},
   "source": [
    "## Addition von Zahlen (20 Punkte) \n",
    "\n",
    "Gegeben sei ein Array *array*, dass 100 mal die Zahl $10^{-16}$ enthält und einmal (als ersten Eintrag) die Zahl $1$. "
   ]
  },
  {
   "cell_type": "code",
   "execution_count": 2,
   "id": "080a3fb8-9b98-4017-b6ba-3895321b8431",
   "metadata": {},
   "outputs": [
    {
     "name": "stdout",
     "output_type": "stream",
     "text": [
      "[1.e+00 1.e-16 1.e-16 1.e-16 1.e-16 1.e-16 1.e-16 1.e-16 1.e-16 1.e-16\n",
      " 1.e-16 1.e-16 1.e-16 1.e-16 1.e-16 1.e-16 1.e-16 1.e-16 1.e-16 1.e-16\n",
      " 1.e-16 1.e-16 1.e-16 1.e-16 1.e-16 1.e-16 1.e-16 1.e-16 1.e-16 1.e-16\n",
      " 1.e-16 1.e-16 1.e-16 1.e-16 1.e-16 1.e-16 1.e-16 1.e-16 1.e-16 1.e-16\n",
      " 1.e-16 1.e-16 1.e-16 1.e-16 1.e-16 1.e-16 1.e-16 1.e-16 1.e-16 1.e-16\n",
      " 1.e-16 1.e-16 1.e-16 1.e-16 1.e-16 1.e-16 1.e-16 1.e-16 1.e-16 1.e-16\n",
      " 1.e-16 1.e-16 1.e-16 1.e-16 1.e-16 1.e-16 1.e-16 1.e-16 1.e-16 1.e-16\n",
      " 1.e-16 1.e-16 1.e-16 1.e-16 1.e-16 1.e-16 1.e-16 1.e-16 1.e-16 1.e-16\n",
      " 1.e-16 1.e-16 1.e-16 1.e-16 1.e-16 1.e-16 1.e-16 1.e-16 1.e-16 1.e-16\n",
      " 1.e-16 1.e-16 1.e-16 1.e-16 1.e-16 1.e-16 1.e-16 1.e-16 1.e-16 1.e-16\n",
      " 1.e-16]\n"
     ]
    }
   ],
   "source": [
    "import numpy as np\n",
    "\n",
    "array = np.concatenate(([1], np.full(100, 1e-16)))\n",
    "print(array)"
   ]
  },
  {
   "cell_type": "markdown",
   "id": "1f63e85a-028f-4b9f-aacb-2879fee0fd99",
   "metadata": {
    "deletable": false,
    "editable": false
   },
   "source": [
    "**Aufgabe:** Addieren Sie alle Werte in `array`:\n",
    "- mit der Funktion `np.sum()`\n",
    "- mit einer Schleife, die von **vorne nach hinten** über `array` iteriert\n",
    "- mit einer Schleife, die von **hinten nach vorne** über `array` iteriert\n",
    "\n",
    "_Points:_ 6"
   ]
  },
  {
   "cell_type": "code",
   "execution_count": 3,
   "id": "11b6c189-e0ee-411a-8f83-b804db3527d8",
   "metadata": {
    "tags": []
   },
   "outputs": [
    {
     "name": "stdout",
     "output_type": "stream",
     "text": [
      "sum_numpy=np.float64(1.0000000000000084)\n",
      "sum_forward=np.float64(1.0)\n",
      "sum_reverse=np.float64(1.00000000000001)\n"
     ]
    }
   ],
   "source": [
    "sum_numpy = np.sum(array)\n",
    "print(f\"{sum_numpy=}\")\n",
    "\n",
    "sum_forward = 0.0\n",
    "for x in array:\n",
    "    sum_forward += x\n",
    "print(f\"{sum_forward=}\")\n",
    "\n",
    "sum_reverse = 0.0\n",
    "for x in reversed(array):\n",
    "    sum_reverse += x\n",
    "print(f\"{sum_reverse=}\")"
   ]
  },
  {
   "cell_type": "markdown",
   "id": "8ea8b6ef-4687-47e5-9aa8-8c77d5e8d1bd",
   "metadata": {
    "deletable": false,
    "editable": false
   },
   "source": [
    "<!-- BEGIN QUESTION -->\n",
    "\n",
    "**Aufgabe:** Erklären Sie die Ergebnisse. Wie werden die Zahlen 1 und 1e-17 im Computer dargestellt? (ausführliche Erläuterung erforderlich!)  \n",
    "\n",
    "_Points:_ 12"
   ]
  },
  {
   "cell_type": "markdown",
   "id": "d595469a",
   "metadata": {},
   "source": [
    "<span style=\"color:blue\">\n",
    "\n",
    "## Numerische Genauigkeit von verschiedenen Additionsverfahren\n",
    "\n",
    "### Unterschiede in der Summierung\n",
    "\n",
    "Bei der Berechnung der Summe mit unterschiedlichen Verfahren ergeben sich leicht unterschiedliche Ergebnisse:\n",
    "\n",
    "```python\n",
    "sum_numpy   = np.float64(1.0000000000000084)\n",
    "sum_forward = np.float64(1.0)\n",
    "sum_reverse = np.float64(1.00000000000001)\n",
    "```\n",
    "\n",
    "Diese Unterschiede entstehen durch **Rundungsfehler** in der **Gleitkommadarstellung**, die auf der begrenzten Anzahl an Bits basiert, mit der reale Zahlen intern im Computer dargestellt werden.\n",
    "\n",
    "---\n",
    "\n",
    "## Gleitkommazahlen im IEEE 754 Standard\n",
    "\n",
    "Python und NumPy verwenden standardmäßig `float64` (IEEE 754 Double Precision), das wie folgt aufgebaut ist:\n",
    "\n",
    "- **1 Bit** für das Vorzeichen  \n",
    "- **11 Bits** für den Exponenten  \n",
    "- **52 Bits** für die Mantisse  \n",
    "\n",
    "Insgesamt also **64 Bit**. Die reale Zahl wird durch folgende Formel dargestellt:\n",
    "\n",
    "```\n",
    "Zahl = (-1)^s · 1.m · 2^(e - 1023)\n",
    "```\n",
    "\n",
    "Dabei ist:\n",
    "\n",
    "- `s` das Vorzeichenbit  \n",
    "- `m` die Mantisse (ohne führende 1)  \n",
    "- `e` der gespeicherte Exponent mit **Bias** = 1023  \n",
    "\n",
    "---\n",
    "\n",
    "## Maschinengenauigkeit\n",
    "\n",
    "Die kleinste Zahl, die zu `1.0` addiert werden kann, sodass sich das Ergebnis **numerisch unterscheidet**, nennt man **Maschinengenauigkeit** oder **machine epsilon**:\n",
    "\n",
    "```python\n",
    "np.finfo(float).eps\n",
    "# Ergebnis: 2.220446049250313e-16\n",
    "```\n",
    "\n",
    "Zahlen kleiner als `eps` „verpuffen“ bei der Addition zu größeren Zahlen wie `1.0`, da sie außerhalb der darstellbaren Genauigkeit der Mantisse liegen:\n",
    "\n",
    "```python\n",
    "print(1e-16 < np.finfo(float).eps)  # True\n",
    "print(1.0 + 1e-16 == 1.0)           # True\n",
    "```\n",
    "\n",
    "---\n",
    "\n",
    "## Warum liefert `sum_forward` ein anderes Ergebnis als `sum_reverse`?\n",
    "\n",
    "Angenommen:\n",
    "\n",
    "```python\n",
    "array = np.array([1.0] + [1e-16] * 100)\n",
    "```\n",
    "\n",
    "- `sum_forward` addiert zuerst `1.0` und dann viele kleine `1e-16`. Diese einzelnen Summanden sind kleiner als `eps` und **gehen verloren**.\n",
    "- `sum_reverse` addiert zuerst die kleinen `1e-16` zu einem größeren Zwischenwert (z. B. `1e-14`), der dann zu `1.0` addiert wird und sich **merklich auswirkt**.\n",
    "- `sum_numpy` verwendet oft optimierte oder paarweise Additionen (`pairwise summation`), was ebenfalls zu einem etwas besseren Ergebnis führen kann.\n",
    "\n",
    "Gleitkommazahlen sind **nicht assoziativ**, d. h.:\n",
    "\n",
    "```\n",
    "(a + b) + c ≠ a + (b + c)\n",
    "```\n",
    "\n",
    "---\n",
    "\n",
    "## Analyse von `1e-17` in IEEE 754\n",
    "\n",
    "Um zu verstehen, warum `1e-17` bei der Addition zu `1.0` verloren geht, analysieren wir seine Binärdarstellung:\n",
    "\n",
    "```python\n",
    "np.frexp(1e-17)\n",
    "# Ergebnis: (0.7205759403792794, -56)\n",
    "```\n",
    "\n",
    "Das bedeutet:\n",
    "\n",
    "```\n",
    "1e-17 = 0.72057594... * 2^(-56)\n",
    "```\n",
    "\n",
    "Multipliziert man Mantisse und verschiebt den Exponenten:\n",
    "\n",
    "```\n",
    "= 1.4411518807585588 · 2^(-57)\n",
    "```\n",
    "\n",
    "Zur Darstellung in IEEE 754:\n",
    "\n",
    "- Exponent: `-57 + 1023 = 966` → Binär: `01111000110`\n",
    "- Mantisse: führende `1.` ist implizit, gespeichert wird nur der Nachkommateil\n",
    "\n",
    "Die ersten Schritte zur Berechnung der Mantissenbits:\n",
    "\n",
    "```\n",
    "0.44115188 * 2 = 0.88230376   → 0  \n",
    "0.88230376 * 2 = 1.76460752   → 1  \n",
    "0.76460752 * 2 = 1.52921504   → 1  \n",
    "...\n",
    "```\n",
    "\n",
    "Diese 0/1-Folge wird als Bitfolge gespeichert.\n",
    "\n",
    "---\n",
    "\n",
    "## Bias im Exponenten\n",
    "\n",
    "- Der Exponent wird **nicht negativ** gespeichert, sondern mit einem **Bias**.\n",
    "- Für `float64` gilt:  \n",
    "  ```\n",
    "  Bias = 2^(11 - 1) - 1 = 1023\n",
    "  ```\n",
    "- Gültiger Exponentenbereich: `1` bis `2046` (Werte `0` und `2047` sind reserviert für Sonderfälle wie 0, Inf, NaN)\n",
    "\n",
    "Beispiel:\n",
    "\n",
    "- Mathematisch:  \n",
    "  ```\n",
    "  1.0 = 1.0 · 2^0 → Exponent = 0\n",
    "  ```\n",
    "- IEEE 754:  \n",
    "  ```\n",
    "  gespeicherter Exponent = 0 + 1023 = 1023 → Binär: 01111111111\n",
    "  Mantisse = 0…0 (weil 1.0 keine Nachkommastellen hat)\n",
    "  ```\n",
    "\n",
    "Darstellung in 64 Bit:\n",
    "\n",
    "```\n",
    "1.0 = 0 01111111111 000...000\n",
    "```\n",
    "\n",
    "---\n",
    "\n",
    "## Ab wann ist eine Summe nicht mehr darstellbar?\n",
    "\n",
    "Eine einfache Faustregel:\n",
    "\n",
    "> Zwei Zahlen `x` und `y` können exakt addiert werden, wenn  \n",
    "> `| log2(x) - log2(y) | < 52` (bei `float64`)\n",
    "\n",
    "Test in Python:\n",
    "\n",
    "```python\n",
    "def mindest_mantissenbits(x, y):\n",
    "    return abs(np.log2(x) - np.log2(y))\n",
    "\n",
    "mindest_mantissenbits(1, 1e-16) < 52  # False → nicht exakt addierbar\n",
    "```\n",
    "\n",
    "---\n",
    "\n",
    "## Beispiel mit float128\n",
    "\n",
    "```python\n",
    "import numpy as np\n",
    "\n",
    "x = 1\n",
    "y = np.float128(1e-16)\n",
    "print(x + y, np.float64(x + y))\n",
    "# Ausgabe: (1.0000000000000001, 1.0)\n",
    "\n",
    "x = 1\n",
    "y = np.float128(1e-16 * 100)\n",
    "print(x + y, np.float64(x + y))\n",
    "# Ausgabe: (1.00000000000001, 1.00000000000001)\n",
    "```\n",
    "\n",
    "---\n",
    "\n",
    "## Fazit\n",
    "\n",
    "- Die Summen unterscheiden sich aufgrund der **Rundungsfehler** bei Gleitkommazahlen.\n",
    "- Die **Reihenfolge der Addition beeinflusst das Ergebnis**, insbesondere wenn Zahlen mit stark unterschiedlichem Betrag summiert werden.\n",
    "- **IEEE 754** und die **Maschinengenauigkeit** setzen der Genauigkeit enge Grenzen.\n",
    "- Für numerisch stabile Berechnungen (z. B. große Summen, Mittelwerte) sind spezialisierte Algorithmen wie **Kahan Summation** oder **pairwise summation** zu bevorzugen.\n",
    "\n",
    "</span>"
   ]
  },
  {
   "cell_type": "markdown",
   "id": "0bb8c677-a5e2-49df-9a00-97d8ecc6536e",
   "metadata": {
    "deletable": false,
    "editable": false
   },
   "source": [
    "<!-- END QUESTION -->\n",
    "\n",
    "<!-- BEGIN QUESTION -->\n",
    "\n",
    "**Aufgabe:** Welches Verfahren verwendet `np.sum()` für die Addition?\n",
    "\n",
    "_Points:_ 2"
   ]
  },
  {
   "cell_type": "markdown",
   "id": "fd9ede3d",
   "metadata": {},
   "source": [
    "<span style=\"color:blue\">\n",
    "\n",
    "<h2>Kaskadensummation</h2>\n",
    "\n",
    "NumPy verwendet ein numerisch besseres Verfahren (partielle paarweise Summation), das in vielen Anwendungsfällen zu einer höheren Genauigkeit führt. In der numerischen Mathematik bezeichnet paarweise Summation – auch Kaskadensummation genannt – ein Verfahren zum Addieren von Gleitkommazahlen, das Rundungsfehler im Vergleich zur sequentiellen Summation deutlich reduziert.\n",
    "\n",
    "https://numpy.org/doc/stable/reference/generated/numpy.sum.html\n",
    "\n",
    "https://en.wikipedia.org/wiki/Pairwise_summation\n",
    "\n",
    "</span>"
   ]
  },
  {
   "cell_type": "markdown",
   "id": "de34b329-a7e0-444a-89aa-a5c78bc173a2",
   "metadata": {
    "deletable": false,
    "editable": false
   },
   "source": [
    "<!-- END QUESTION -->\n",
    "\n",
    "## Grenzwerte von Funktionen (20 Punkte)"
   ]
  },
  {
   "cell_type": "markdown",
   "id": "e8379ade-6a5d-40a1-bed4-586675cc0d29",
   "metadata": {
    "deletable": false,
    "editable": false
   },
   "source": [
    "Geben sei die Funktion $f(x)=\\frac{e^x-1}{x}$\n",
    "\n",
    "Es gilt: $lim_{x \\to 0}f(x) = 1$\n",
    "\n",
    "**Aufgabe:** Schreiben Sie eine Python Funktion `f(x)`, mit deren Hilfe Sie $f(x)$ für $x= 10^{-1}, 10^{-2}, \\cdots , 10^{-15}$ mit NumPy berechnen und geben Sie das Ergebnis aus."
   ]
  },
  {
   "cell_type": "markdown",
   "id": "fb0645a1-47c9-417b-b715-033c6d05c65c",
   "metadata": {
    "deletable": false,
    "editable": false
   },
   "source": [
    "**Aufgabe:** Berechnen Sie nun die Funktion für  $x= 10^{-16}, 10^{-17}, \\cdots , 10^{-20}$\n",
    "\n",
    "_Points:_ 8"
   ]
  },
  {
   "cell_type": "markdown",
   "id": "4b97ff09",
   "metadata": {
    "vscode": {
     "languageId": "html"
    }
   },
   "source": [
    "<span style=\"color:blue\">\n",
    "<h2>Berechnung der Funktion f(x) = (exp(x) - 1) / x </h2>\n",
    "</span>\n",
    "\n",
    "\n",
    "<span style=\"color:blue\">\n",
    "In dieser Aufgabe soll die Funktion f(x) für x = 10<sup>-1</sup>, 10<sup>-2</sup>, ..., 10<sup>-15</sup> berechnet werden. Danach soll die Funktion für noch kleinere Werte von x, nämlich x = 10<sup>-16</sup>, 10<sup>-17</sup>, ..., 10<sup>-20</sup>, berechnet werden. Der Grenzwert der Funktion für x → 0 ist 1.\n",
    "</span>\n"
   ]
  },
  {
   "cell_type": "code",
   "execution_count": 1,
   "id": "f5619384-8fab-4a57-8f30-73de2922dd89",
   "metadata": {
    "nbgrader": {
     "grade": false,
     "grade_id": "cell-d5ed715a9745e7d6",
     "locked": false,
     "schema_version": 3,
     "solution": true,
     "task": false
    },
    "scrolled": true,
    "tags": []
   },
   "outputs": [
    {
     "name": "stdout",
     "output_type": "stream",
     "text": [
      "x = 1e-01, f(x) = 1.0517091807564771\n",
      "x = 1e-02, f(x) = 1.005016708416795\n",
      "x = 1e-03, f(x) = 1.0005001667083846\n",
      "x = 1e-04, f(x) = 1.000050001667141\n",
      "x = 1e-05, f(x) = 1.000005000006965\n",
      "x = 1e-06, f(x) = 1.0000004999621837\n",
      "x = 1e-07, f(x) = 1.0000000494336803\n",
      "x = 1e-08, f(x) = 0.999999993922529\n",
      "x = 1e-09, f(x) = 1.000000082740371\n",
      "x = 1e-10, f(x) = 1.000000082740371\n",
      "x = 1e-11, f(x) = 1.000000082740371\n",
      "x = 1e-12, f(x) = 1.000088900582341\n",
      "x = 1e-13, f(x) = 0.9992007221626409\n",
      "x = 1e-14, f(x) = 0.9992007221626409\n",
      "x = 1e-15, f(x) = 1.1102230246251565\n"
     ]
    }
   ],
   "source": [
    "import numpy as np\n",
    "\n",
    "# Definition der Funktion f(x) = (e^x - 1)/x\n",
    "def f(x):\n",
    "        return (np.exp(x) - 1) / x\n",
    "\n",
    "# Erzeuge die Werte x = 10^(-1), 10^(-2), ..., 10^(-15)\n",
    "input_numbers = np.array([10**(-i) for i in range(1, 16)])\n",
    "\n",
    "result_limits = f(input_numbers)\n",
    "\n",
    "#Ausgabe\n",
    "for x_val, fx in zip(input_numbers, result_limits):\n",
    "# Die Anwendung von zip gibt einen Iterator zurück, der in der Lage ist Tupel zu erzeugen\n",
    "    print(f\"x = {x_val:.0e}, f(x) = {fx}\")"
   ]
  },
  {
   "cell_type": "code",
   "execution_count": 2,
   "id": "57fcfa50-0942-4861-be87-914dea652464",
   "metadata": {
    "editable": true,
    "nbgrader": {
     "grade": false,
     "grade_id": "cell-86fd557d439b5a41",
     "locked": false,
     "schema_version": 3,
     "solution": true,
     "task": false
    },
    "slideshow": {
     "slide_type": ""
    },
    "tags": []
   },
   "outputs": [
    {
     "name": "stdout",
     "output_type": "stream",
     "text": [
      "x = 1e-16, f(x) = 0.0\n",
      "x = 1e-17, f(x) = 0.0\n",
      "x = 1e-18, f(x) = 0.0\n",
      "x = 1e-19, f(x) = 0.0\n",
      "x = 1e-20, f(x) = 0.0\n"
     ]
    }
   ],
   "source": [
    "input_numbers_2 = np.array([10**(-i) for i in range(16, 21)])\n",
    "result_limits_2 = f(input_numbers_2)\n",
    "\n",
    "#Ausgabe\n",
    "for x_val, fx in zip(input_numbers_2, result_limits_2):\n",
    "# Die Anwendung von zip gibt einen Iterator zurück, der in der Lage ist Tupel zu erzeugen\n",
    "    print(f\"x = {x_val:.0e}, f(x) = {fx}\")"
   ]
  },
  {
   "cell_type": "markdown",
   "id": "b8c3d7c4-f496-4dc3-90ef-0521b232b74a",
   "metadata": {
    "deletable": false,
    "editable": false
   },
   "source": [
    "<!-- BEGIN QUESTION -->\n",
    "\n",
    "**Aufgabe:** Was fällt auf? Welche Erklärung haben Sie für das Ergebnis? (Ausführliche Erklärung erforderlich) \n",
    "\n",
    "_Points:_ 12"
   ]
  },
  {
   "cell_type": "markdown",
   "id": "746bd18f",
   "metadata": {},
   "source": [
    "<span style=\"color:blue\">\n",
    "<h2> Erklärung des Verhaltens der Funktion bei kleinen x-Werten </h2>\n",
    "\n",
    "Für Werte von x zwischen `1e-01` bis `1e-14` liefert die Funktion erwartungsgemäß Ergebnisse nahe bei **1**. Ab etwa 1e-15 treten jedoch drastische Änderungen auf, die durch Rundungsfehler bei der Berechnung von `e^x - 1` bedingt sind. Besonders bei sehr kleinen x-Werten wird der Unterschied zwischen `e^x` und `1` auf dem Computer nicht mehr erkennbar, was zu fehlerhaften Ergebnissen führt. Eine stabilere Berechnung kann durch die Verwendung der Funktion `np.expm1(x)` von NumPy erreicht werden.\n",
    "\n",
    "\n",
    "Von `1e-01` bis `1e-14` ergibt die Funktion erwartungsgemäß Werte, die sehr nahe bei **1** liegen.  \n",
    "Doch ab etwa `1e-15` ändert sich das Verhalten drastisch:\n",
    "\n",
    "x = 1e-15, f(x) = 1.1102230246251565   \n",
    "x = 1e-16, f(x) = 0.0  \n",
    "x = 1e-17, f(x) = 0.0  \n",
    "x = 1e-18, f(x) = 0.0  \n",
    "x = 1e-19, f(x) = 0.0  \n",
    "x = 1e-20, f(x) = 0.0  \n",
    "\n",
    "<h3> Erklärung: Rundungsfehler </h3>\n",
    "\n",
    "Für sehr kleine `x` gilt näherungsweise:  \n",
    "`exp(x) ≈ 1 + x`\n",
    "\n",
    "Wenn `x` so klein wird, dass `e^x` und `1` auf dem Computer **nicht mehr unterscheidbar** sind, wird der Ausdruck `e^x - 1` numerisch zu **null**.\n",
    "\n",
    "> Beispiel:  \n",
    "> `x = 1e-17` → `exp(x) ≈ 1.00000000000000001`  \n",
    "> Die Differenz `e^x - 1` ist kleiner als die **Maschinengenauigkeit** `ε` (Epsilon).  \n",
    "> Deshalb wird `e^x - 1` vom Computer als **0.0** berechnet, da ein 64-Bit-Gleitkommawert (float64) **nicht mehr ausreichend genau** ist.\n",
    "\n",
    "<h3> Lösung: Stabilere Berechnung mit NumPy </h3>\n",
    "\n",
    "NumPy bietet mit `np.expm1(x)` eine spezielle Funktion an, die den Ausdruck `exp(x) - 1` **numerisch stabiler** berechnet – insbesondere für sehr kleine `x`.\n",
    "\n",
    "</span>"
   ]
  },
  {
   "cell_type": "code",
   "execution_count": 3,
   "id": "9d1ee4b6",
   "metadata": {},
   "outputs": [
    {
     "name": "stdout",
     "output_type": "stream",
     "text": [
      "x = 1e-10, f(x) = 1.00000000005\n",
      "x = 1e-11, f(x) = 1.000000000005\n",
      "x = 1e-12, f(x) = 1.0000000000005\n",
      "x = 1e-13, f(x) = 1.00000000000005\n",
      "x = 1e-14, f(x) = 1.000000000000005\n",
      "x = 1e-15, f(x) = 1.0000000000000007\n",
      "x = 1e-16, f(x) = 1.0\n",
      "x = 1e-17, f(x) = 1.0\n",
      "x = 1e-18, f(x) = 1.0\n",
      "x = 1e-19, f(x) = 1.0\n"
     ]
    }
   ],
   "source": [
    "def f_stabil(x):\n",
    "    return np.expm1(x) / x\n",
    "\n",
    "input_numbers_3 = np.array([10**(-i) for i in range(10, 20)])\n",
    "result_limits_3 = f_stabil(input_numbers_3)\n",
    "\n",
    "#Ausgabe\n",
    "for x_val, fx in zip(input_numbers_3, result_limits_3):\n",
    "# Die Anwendung von zip gibt einen Iterator zurück, der in der Lage ist Tupel zu erzeugen\n",
    "    print(f\"x = {x_val:.0e}, f(x) = {fx}\")"
   ]
  },
  {
   "cell_type": "markdown",
   "id": "fbebcba7-6b66-4460-b800-047e9637e160",
   "metadata": {
    "deletable": false,
    "editable": false
   },
   "source": [
    "<!-- END QUESTION -->\n",
    "\n",
    "## Gauß-Verfahren und LU-Zerlegung (60 Punkte) \n",
    "Obwohl man, wie wir sehen werden, lineare Gleichungssysteme einfach mit SciPy lösen kann, wollen wir in dieser Aufgabe  einmal selbst eine sogenannte LU-Zerlegung bzw. das Gauß-Verfahren implementieren. Außerdem werden wir diesen Code auch später noch verwenden, wenn wir uns mit Performance-Optimierung und Parallelisierung beschäftigen.\n",
    "\n",
    "Das Gauß-Verfahren ist ein wichtiges Verfahren zum Lösen von linearen Gleichungssystemen, wir gehen hier schrittweise mit der Implementierung vor."
   ]
  },
  {
   "cell_type": "markdown",
   "id": "042b609c-9e98-4b51-a92a-71fd72e1ac6c",
   "metadata": {
    "deletable": false,
    "editable": false
   },
   "source": [
    "**Aufgabe:** Implementieren Sie die Funktion `b_solve` zur Lösung einer Dreiecksgleichung der Form:\n",
    "\n",
    "$\\left[ {\\begin{array}{cccc} \n",
    "a_{11} & a_{12} & \\cdots & a_{1n}\\\\ \n",
    "0 & a_{22} & \\cdots & a_{2n}\\\\ \n",
    "\\vdots & \\vdots & \\ddots & \\vdots \\\\ \n",
    "0 & 0 & \\cdots & a_{nn}\\\\ \n",
    "\\end{array} } \\right] \\left[{\\begin{array}{c}  \n",
    "x_1\\\\ \n",
    "x_2\\\\ \n",
    "\\vdots\\\\ \n",
    "x_n\\\\ \n",
    "\\end{array}}\\right] =  \n",
    "\\left[{\\begin{array}{c}  \n",
    "b_1\\\\ \n",
    "b_2\\\\ \n",
    "\\vdots\\\\ \n",
    "b_n\\\\ \n",
    "\\end{array}}\\right]$ \n",
    "\n",
    "Hier beginnt man mit der Löung der letzten Zeile, denn es gilt:\n",
    "\n",
    "$x_n = b_n/a_{nn} $\n",
    "und dann\n",
    "\n",
    "$x_{n-1} =  (b_{n-1}-a_{(n-1),n}*x_{n})/a_{(n-1),(n-1)}$\n",
    "\n",
    "$x_{n-2} =  (b_{n-2}-(a_{(n-2),n}*x_{n}+a_{(n-2),(n-1)}*x_{n-1})/a_{(n-2),(n-2)}$\n",
    "\n",
    "\n",
    "*Hinweis*: Achten Sie darauf, dass ihr Code nicht nur korrekt, sondern auch effizient ist. \n",
    "\n",
    "_Points:_ 12"
   ]
  },
  {
   "cell_type": "markdown",
   "id": "aabbf72e",
   "metadata": {},
   "source": [
    "<span style=\"color:blue\">\n",
    "\n",
    "  <h2>Backsubstitution-Verfahren</h2>\n",
    "\n",
    "Im Folgenden wird eine Funktion zur Lösung eines linearen Gleichungssystems mit einer oberen Dreiecksmatrix implementiert. Dieses sogenannte Backsubstitution-Verfahren stellt einen zentralen Schritt im Rahmen des Gauß-Verfahrens bzw. der LU-Zerlegung dar. Dabei wird die Lösung des Systems zeilenweise von unten nach oben bestimmt. Die Implementierung legt besonderen Wert auf numerische Stabilität und Effizienz. \n",
    "\n",
    "Die Funktion `b_solve1` implementiert eine effiziente Rückwärtseinsetzung zur Lösung eines linearen Gleichungssystems mit oberer Dreiecksmatrix – kompakt, direkt und ohne überflüssigen Overhead.\n",
    "\n",
    "</span>"
   ]
  },
  {
   "cell_type": "code",
   "execution_count": 3,
   "id": "e905df91",
   "metadata": {},
   "outputs": [
    {
     "name": "stdout",
     "output_type": "stream",
     "text": [
      "Lösung x: [1.60714286 0.64285714 0.57142857 1.        ]\n",
      "Prüfung A @ x: [9. 8. 7. 8.]\n"
     ]
    }
   ],
   "source": [
    "import numpy as np\n",
    "\n",
    "def b_solve1(A, b):\n",
    "    \"\"\"Löst ein lineares Gleichungssystem A * x = b, wobei A eine obere Dreiecksmatrix ist.\"\"\"\n",
    "    n = len(b)\n",
    "    x = np.zeros_like(b, dtype=float)\n",
    "\n",
    "    # Rückwärtseinsetzung\n",
    "    for i in range(n - 1, -1, -1):\n",
    "        summation = np.dot(A[i, i + 1:], x[i + 1:])\n",
    "        x[i] = (b[i] - summation) / A[i, i]\n",
    "        #print(f\"x[{i}] = (b[{i}] - sum) / A[{i},{i}] = ({b[i]} - {summation}) / {A[i,i]} = {x[i]}\")\n",
    "    return x\n",
    "\n",
    "# Beispiel\n",
    "A = np.array([[2, 3, 5, 1],\n",
    "              [0, 4, 6, 2],\n",
    "              [0, 0, 7, 3],\n",
    "              [0, 0, 0, 8]], dtype=float)\n",
    "\n",
    "b = np.array([9, 8, 7, 8], dtype=float)\n",
    "\n",
    "x = b_solve1(A, b)\n",
    "\n",
    "# Testausgabe\n",
    "print(\"Lösung x:\", x)\n",
    "print(\"Prüfung A @ x:\", np.dot(A, x))  # Sollte gleich b sein"
   ]
  },
  {
   "cell_type": "markdown",
   "id": "46a27592",
   "metadata": {},
   "source": [
    "<span style=\"color:blue\">\n",
    "\n",
    "Die Funktion `b_solve2` basiert auf dem Gauss-Jordan-Verfahren und löst lineare Gleichungssysteme allgemein oder im Spezialfall mit oberer Dreiecksmatrix mithilfe vektorisierter NumPy-Operationen.\n",
    "\n",
    "</span>"
   ]
  },
  {
   "cell_type": "code",
   "execution_count": 6,
   "id": "95406ab9-708c-4710-a0e4-c32a1bebd8c4",
   "metadata": {
    "nbgrader": {
     "grade": false,
     "grade_id": "cell-045bae77f313bff4",
     "locked": false,
     "schema_version": 3,
     "solution": true,
     "task": false
    },
    "tags": []
   },
   "outputs": [
    {
     "name": "stdout",
     "output_type": "stream",
     "text": [
      "Lösung x: [1.60714286 0.64285714 0.57142857 1.        ]\n",
      "Prüfung A @ x: [9. 8. 7. 8.]\n"
     ]
    }
   ],
   "source": [
    "import numpy as np\n",
    "\n",
    "def b_solve2(A, b, upper_triangular=True):\n",
    "    \"\"\"Solve a system of linear equations A * x = b where A is an upper triangular matrix.\"\"\"\n",
    "    #kann auch nicht-triangulare Matrizen loesen \n",
    "    \n",
    "    #b soll als Spaltenvektor vorliegen\n",
    "    if len(b.shape) < 2:\n",
    "        b = b[:, np.newaxis]\n",
    "    \n",
    "    #Gauss-Jordan-Algorithmus    \n",
    "    Ab=np.concatenate((A,b),1)    \n",
    "    for n in range(min(A.shape)-1,-1,-1):          \n",
    "        if Ab[n][n]==0:\n",
    "            continue\n",
    "        Ab[n]=Ab[n]/Ab[n][n]  \n",
    "        \n",
    "        if upper_triangular:\n",
    "            #Dreiecksmatrix ohne extra Schleife, 11.5 microsec\n",
    "            Ab[:n] = Ab[:n] - np.outer(Ab[:n,n], Ab[n])\n",
    "            \n",
    "            #Dreiecksmatrix, 10 microsec\n",
    "            #for m in range(n):                    \n",
    "             #   Ab[m] = Ab[m] - Ab[m][n] / Ab[n][n] * Ab[n]\n",
    "        else:\n",
    "            #Allgemeinfall ohne extra Schleife, 20.5 microsec\n",
    "            zeilen = np.arange(Ab.shape[0]) != n\n",
    "            Ab[zeilen] = Ab[zeilen] - np.outer(Ab[zeilen, n], Ab[n])\n",
    "\n",
    "            #Allgemeinfall, 14.5 microsec\n",
    "            #for m in range(Ab.shape[0]):        \n",
    "             #   if m != n:            \n",
    "              #      Ab[m] = Ab[m] - Ab[m][n] / Ab[n][n] * Ab[n]        \n",
    "            \n",
    "    return Ab[:,-1:].flatten() #x steht nun in der letzten Spalte\n",
    "\n",
    "# Beispiel\n",
    "A = np.array([[2, 3, 5, 1],\n",
    "              [0, 4, 6, 2],\n",
    "              [0, 0, 7, 3],\n",
    "              [0, 0, 0, 8]], dtype=float)\n",
    "\n",
    "b = np.array([9, 8, 7, 8], dtype=float)\n",
    "\n",
    "x = b_solve2(A, b)\n",
    "\n",
    "# Testausgabe\n",
    "print(\"Lösung x:\", x)\n",
    "print(\"Prüfung A @ x:\", np.dot(A, x))  # Sollte gleich b sein"
   ]
  },
  {
   "cell_type": "markdown",
   "id": "fe99d15b-1ef5-4c19-8384-624e451b45bd",
   "metadata": {
    "deletable": false,
    "editable": false
   },
   "source": [
    "**Aufgabe:** Implementieren Sie die LU-Zerlegung einer Matrix mit Pivotisierung.  \n",
    "Die Funktion `lu_decomposition` soll die Matrizen L und U berechnen.  \n",
    "Zu Beginn wird der Funktion eine Matrix A übergeben.  \n",
    "\n",
    "\n",
    "Implementieren Sie die Funktion \"in-place\", d.h. die Ergebnisse für L und U werden direkt in A geschrieben.  \n",
    "Dabei wird die ursprüngliche Matrix überschrieben.  \n",
    "Die Funktion gibt den Pivot-Vektor zurück, der die folgende Form haben sollte:\n",
    "\n",
    "$ \n",
    "P=\\left[{\\begin{array}{ccc} \n",
    "0 & 1& 0\\\\ \n",
    "0 & 0& 1\\\\ \n",
    "1 & 0& 0\\\\ \n",
    "\\end{array} } \\right] \\Rightarrow \\left[{\\begin{array}{c}  \n",
    "1\\\\ \n",
    "2\\\\ \n",
    "0\\\\ \n",
    "\\end{array}}\\right] \n",
    "$ \n",
    "\n",
    "D.h. es wird nur der Index des Wertes in jeder Zeile gespeichert, der nicht Null ist.\n",
    "\n",
    "Wenn man dies macht, kann man später für die Lösung einfach den Vektor `bc = b[P]` verwenden, um auch $b$ richtig zu pivotisieren.  \n",
    "\n",
    "Hinweise: \n",
    "- Die Pivot-Zeile lässt sich am einfachsten mit `np.argmax` finden. Die Zeile mit dem höchsten Betrag können Sie mit `np.abs` finden.\n",
    "\n",
    "- Tauschen zweier Elemente in einem NumPy Array: `v[[a, b]] = v[[b, a]]`\n",
    "\n",
    "- Versuchen Sie, die interne Vektorisierung von NumPy im Eliminationsschritt zu nutzen. Verwenden Sie dazu die Slicing-Syntax, um die innerste Schleife zu ersetzen.\n",
    "\n",
    "_Points:_ 15"
   ]
  },
  {
   "cell_type": "markdown",
   "id": "af1572ca",
   "metadata": {},
   "source": [
    "<span style=\"color: blue;\">\n",
    "  <h2>LU-Zerlegung mit Pivotisierung</h2>\n",
    "</span>\n",
    "\n",
    "<span style=\"color: blue;\">\n",
    "Im folgenden Code wird die LU-Zerlegung einer Matrix A mit Pivotisierung implementiert. Die Matrix A wird in die Form A = LU zerlegt, wobei L und U die untere und obere Dreiecksmatrix sind. Zusätzlich wird ein Pivot-Vektor zurückgegeben, der die Zeilenvertauschung anzeigt. Die Berechnung erfolgt in-place und nutzt NumPy für effiziente Vektorisierung.\n",
    "</span>"
   ]
  },
  {
   "cell_type": "code",
   "execution_count": 11,
   "id": "7e01d874-1715-40b2-918f-be10435918b5",
   "metadata": {
    "nbgrader": {
     "grade": false,
     "grade_id": "cell-b482047b4df4ac5e",
     "locked": false,
     "schema_version": 3,
     "solution": true,
     "task": false
    },
    "tags": []
   },
   "outputs": [],
   "source": [
    "def lu_decomposition(A):\n",
    "    \"\"\"L und U Matrix werden innerhalb von A Matrix berechnet und der Pivot-Vektor wird ausgegeben\"\"\"\n",
    "    \n",
    "    n = A.shape[0]\n",
    "    P = np.arange(n)\n",
    "\n",
    "    for k in range(n):\n",
    "        # Pivotisierung: Index der Zeile mit größtem Betrag in Spalte k finden\n",
    "        pivot_index = np.argmax(np.abs(A[k:n, k])) + k\n",
    "        if A[pivot_index, k] == 0:\n",
    "            raise ValueError(\"Matrix ist singulaer.\")\n",
    "\n",
    "        # Zeilen tauschen in A\n",
    "        if pivot_index != k:\n",
    "            A[[k, pivot_index], :] = A[[pivot_index, k], :]\n",
    "            P[[k, pivot_index]] = P[[pivot_index, k]]\n",
    "\n",
    "        # Berechnung L unterhalb der Diagonale\n",
    "        A[k+1:n, k] /= A[k, k]\n",
    "\n",
    "        # Berechnung U obere Dreiecksmatrix inklusive Diagonale\n",
    "        A[k+1:n, k+1:n] -= np.outer(A[k+1:n, k], A[k, k+1:n])\n",
    "\n",
    "    return P #Pivot-Vektor"
   ]
  },
  {
   "cell_type": "markdown",
   "id": "07c84b58-28da-495c-a9e2-4e96ba537eb9",
   "metadata": {
    "deletable": false,
    "editable": false
   },
   "source": [
    "<!-- BEGIN QUESTION -->\n",
    "\n",
    "**Aufgabe:** Schreiben Sie eine Funktion `custom_solve`, welche mit Hilfe von `lu_decomposition` ein lineares Gleichungssystem der Form $A*x=b$ löst.  \n",
    "\n",
    "Hinweis: Versuchen Sie, die interne Vektorisierung von NumPy zu nutzen. Verwenden Sie dazu die Slicing-Syntax, um die innerste Schleife zu ersetzen.\n",
    "\n",
    "_Points:_ 12"
   ]
  },
  {
   "cell_type": "code",
   "execution_count": 12,
   "id": "ef6c6d07-df37-4011-b913-be1719ffb094",
   "metadata": {
    "nbgrader": {
     "grade": false,
     "grade_id": "cell-e08e49ee4f4639ff",
     "locked": false,
     "schema_version": 3,
     "solution": true,
     "task": false
    },
    "tags": []
   },
   "outputs": [],
   "source": [
    "def custom_solve(A, b):\n",
    "    \"\"\"Solve a system of linear equations A * x = b and return result vector x.\"\"\"\n",
    "    \n",
    "    #Pivot-Vektor und A (welches LU-Zerlegung enthaelt) werden berechnet\n",
    "    P = lu_decomposition(A)\n",
    "    \n",
    "    #L und U werden aus A isoliert\n",
    "    n = A.shape[0]\n",
    "    L = np.tril(A, k=-1) + np.eye(n)  # untere Dreiecksmatrix mit Einsen auf der Diagonale\n",
    "    U = np.triu(A)                   # obere Dreiecksmatrix inklusive Diagonale\n",
    "    \n",
    "    #Lc = b[P] wird geloest fuer c\n",
    "    #hier wird upper_triangular=False verwendet um eine allgemeine Matrix zu loesen\n",
    "    c = b_solve(L, b[P], upper_triangular=False)\n",
    "    \n",
    "    #Ux = c wird geloest fuer x\n",
    "    x = b_solve(U, c)\n",
    "    \n",
    "    return x"
   ]
  },
  {
   "cell_type": "markdown",
   "id": "5907a29b-90dc-4efa-a124-5a246a1270c3",
   "metadata": {
    "deletable": false,
    "editable": false
   },
   "source": [
    "<!-- END QUESTION -->\n",
    "\n",
    "<!-- BEGIN QUESTION -->\n",
    "\n",
    "**Aufgabe:** Schreiben Sie eine Testfunktion, die überprüft, ob die Lösung ihrer Implementierung des Gauß-Verfahrens richtig ist.  \n",
    "Testen Sie Gleichungssysteme der Größe $16 \\times 16$, $32\\times 32$ und $64 \\times 64$.\n",
    "\n",
    "Sie können zum Vergleich die SciPy Funktion `linalg.solve` verwenden:\n",
    "\n",
    "_Points:_ 6"
   ]
  },
  {
   "cell_type": "code",
   "execution_count": 27,
   "id": "e5fb20a9-a354-4b3d-8890-8870d825d730",
   "metadata": {
    "nbgrader": {
     "grade": false,
     "grade_id": "cell-f6a6bc3ba063c4a4",
     "locked": false,
     "schema_version": 3,
     "solution": true,
     "task": false
    },
    "tags": []
   },
   "outputs": [
    {
     "name": "stdout",
     "output_type": "stream",
     "text": [
      "Test bestanden fuer Dimension 16\n",
      "Test bestanden fuer Dimension 32\n",
      "Test bestanden fuer Dimension 64\n"
     ]
    }
   ],
   "source": [
    "import scipy.linalg as linalg\n",
    "\n",
    "def test_custom_solve(n):    \n",
    "    \"\"\"vergleicht Ergebnisse von custom_solve mit linalg.solve mittels assert-Bedingung\"\"\"\n",
    "    \n",
    "    rng = np.random.default_rng(seed=123)\n",
    "    A = rng.random((n, n))\n",
    "    b = rng.random(n)\n",
    "    linalg_x = linalg.solve(A, b)    \n",
    "    custom_x = custom_solve(A, b)\n",
    "    \n",
    "    #sicherstellen, dass Ergebnisse gleich sind, float-Unpraezision ignorieren\n",
    "    assert np.allclose(linalg_x, custom_x, atol=1e-6), f\"Ergebnisse weichen zu stark ab bei Dimension {n}\"\n",
    "    \n",
    "    print(\"Test bestanden fuer Dimension\", n)\n",
    "    \n",
    "test_custom_solve(16)\n",
    "test_custom_solve(32)\n",
    "test_custom_solve(64)"
   ]
  },
  {
   "cell_type": "markdown",
   "id": "e97554ab-09a1-43cb-961e-07fbe305d009",
   "metadata": {
    "deletable": false,
    "editable": false
   },
   "source": [
    "<!-- END QUESTION -->\n",
    "\n",
    "**Aufgabe:** Wir wollen nun weiter die *fertigen* SciPy Funktionen betrachten. Mit den Funktionen `lu` und `lu_factor` aus dem Packet `scipy.linalg `  können Sie eine LU-Dekomposition durchführen [[1]](https://docs.scipy.org/doc/scipy/reference/generated/scipy.linalg.lu_factor.html#scipy.linalg.lu_factor) und [[2]](https://docs.scipy.org/doc/scipy/reference/generated/scipy.linalg.lu.html).  \n",
    "Beide Funktionen haben unter anderem den Parameter `overwrite_a`, der `False` oder `True` sein kann. \n",
    "\n",
    "Evaluieren Sie die Performance (Laufzeit) der LU-Zerlegung einer 4096x4096 Matrix, wenn Sie jeweils die Funktionen `lu_factor` und `lu` mit `overwrite_a = True` oder `overwrite_a = False` verwenden.\n",
    "\n",
    "In der Liste `minimums` sollen die minimalen Laufzeiten in folgender Reihenfolge stehen:\n",
    "1. `lu_factor` mit `overwrite_a = False`\n",
    "2. `lu_factor` mit `overwrite_a = True`\n",
    "3. `lu` mit `overwrite_a = False`\n",
    "4. `lu` mit `overwrite_a = True`\n",
    "\n",
    "Hinweis: Da die Matrix A bei der Verwendung von `overwrite_a = True` verändert wird, kann es zu einer Vereinfachung der Berechnung kommen, wenn die Funktion mehrfach nacheinander ausgeführt wird. Aus diesem Grund muss die `timeit` Funktion [repeat](https://docs.python.org/3/library/timeit.html#timeit.repeat) mit `repeat = 2` und `number = 1`  verwendet werden. Die Matrix wird im `setup` Parameter erstellt (aus Zufallswerten mit dem vorgegebenen \"random number generator\").\n",
    "\n",
    "_Points:_ 6"
   ]
  },
  {
   "cell_type": "code",
   "execution_count": 17,
   "id": "3b6bc562-608a-4f7e-b2a3-2f63d0447f85",
   "metadata": {
    "nbgrader": {
     "grade": false,
     "grade_id": "cell-5978db060fba8a0d",
     "locked": false,
     "schema_version": 3,
     "solution": true,
     "task": false
    },
    "tags": []
   },
   "outputs": [
    {
     "data": {
      "text/plain": [
       "[1.039761174999967, 1.0474625780000224, 1.4420750689999977, 1.3782401929998969]"
      ]
     },
     "execution_count": 17,
     "metadata": {},
     "output_type": "execute_result"
    }
   ],
   "source": [
    "from scipy.linalg import lu_factor, lu\n",
    "from timeit import repeat\n",
    "\n",
    "n = 4096\n",
    "number = 1\n",
    "repetitions = 2\n",
    "# store all four minimal runtimes in this list\n",
    "rng = np.random.default_rng(seed=123)\n",
    "repeat_lambda = lambda x: repeat(x, setup=\"A = rng.random((n, n))\", repeat=repetitions, number=number, globals=globals())\n",
    "minimums = [min(repeat_lambda(x)) for x in [\"lu_factor(A, overwrite_a=False)\", \"lu_factor(A, overwrite_a=True)\", \"lu(A, overwrite_a=False)\", \"lu(A, overwrite_a=True)\"]]\n",
    "minimums"
   ]
  },
  {
   "cell_type": "markdown",
   "id": "0c447785-1c5f-42ae-a1cb-d7cce6c3e45a",
   "metadata": {
    "deletable": false,
    "editable": false
   },
   "source": [
    "**Aufgabe:** Untersuchen Sie den Speicherverbrauch der 4 Varianten mit memray.\n",
    "\n",
    "Um den Einfluss der anderen Berechnungen zu minimieren, empfehlen wir hier, die Berechnungen in eine neue Datei zu schreiben und mit `!` in einer Code-Zelle memray's Command-Line Interface zu verwenden. \n",
    "\n",
    "Am besten tracen Sie nur die LU Funktion mit einem Context Manager!\n",
    "Verwenden Sie jeweils folgende Dateinamen als `file_name` Parameter in `memray.Tracker`:\n",
    "\n",
    "- lu_inplace.bin\n",
    "- lu_notinplace.bin\n",
    "- lu_factor_inplace.bin\n",
    "- lu_factor_notinplace.bin\n",
    "\n",
    "Beantworten Sie bitte die folgenden Fragen:\n",
    "* Welche Version verwendet am meisten Speicher? \n",
    "* Bei welcher Version ist der Speicherverbrauch am konstantesten? \n",
    "\n",
    "_Points:_ 9"
   ]
  },
  {
   "cell_type": "code",
   "execution_count": 19,
   "id": "e1f13582-71a9-4c1a-81fc-d400598964a3",
   "metadata": {
    "tags": []
   },
   "outputs": [],
   "source": [
    "#.py files werden erstellt fuer die jeweiligen Funktionen\n",
    "for file_name in [\"lu_inplace.bin\", \"lu_notinplace.bin\", \"lu_factor_inplace.bin\", \"lu_factor_notinplace.bin\"]:\n",
    "    with open(file_name.replace(\".bin\", \".py\"), \"w\") as file:\n",
    "        #ich muss den Pfad des Environment im dem mein memray liegt hinzufuegen\n",
    "           \n",
    "        \n",
    "        file.write(\n",
    "f\"\"\"import numpy as np\n",
    "from scipy.linalg import lu_factor, lu\n",
    "import memray\n",
    "\n",
    "n = 4096\n",
    "rng = np.random.default_rng(seed=123)\n",
    "A = rng.random((n, n))\n",
    "\n",
    "with memray.Tracker(\"{file_name}\", native_traces=True):\n",
    "    lu{\"_factor\" if \"_factor\" in file_name else \"\"}(A, overwrite_a={\"_inplace\" in file_name})\n",
    "\"\"\")"
   ]
  },
  {
   "cell_type": "code",
   "execution_count": 23,
   "id": "9589f383-a893-4d90-93ae-c2b1f44e5d36",
   "metadata": {
    "tags": []
   },
   "outputs": [
    {
     "ename": "ModuleNotFoundError",
     "evalue": "No module named 'memray'",
     "output_type": "error",
     "traceback": [
      "\u001b[31m---------------------------------------------------------------------------\u001b[39m",
      "\u001b[31mModuleNotFoundError\u001b[39m                       Traceback (most recent call last)",
      "\u001b[36mCell\u001b[39m\u001b[36m \u001b[39m\u001b[32mIn[23]\u001b[39m\u001b[32m, line 1\u001b[39m\n\u001b[32m----> \u001b[39m\u001b[32m1\u001b[39m \u001b[38;5;28;01mimport\u001b[39;00m\u001b[38;5;250m \u001b[39m\u001b[34;01mmemray\u001b[39;00m,\u001b[38;5;250m \u001b[39m\u001b[34;01mos\u001b[39;00m\n\u001b[32m      3\u001b[39m \u001b[38;5;66;03m#alle .py files werden ausgefuehrt, bei mir mit python3\u001b[39;00m\n\u001b[32m      4\u001b[39m \u001b[38;5;28;01mfor\u001b[39;00m file_name \u001b[38;5;129;01min\u001b[39;00m [\u001b[33m\"\u001b[39m\u001b[33mlu_inplace.bin\u001b[39m\u001b[33m\"\u001b[39m, \u001b[33m\"\u001b[39m\u001b[33mlu_notinplace.bin\u001b[39m\u001b[33m\"\u001b[39m, \u001b[33m\"\u001b[39m\u001b[33mlu_factor_inplace.bin\u001b[39m\u001b[33m\"\u001b[39m, \u001b[33m\"\u001b[39m\u001b[33mlu_factor_notinplace.bin\u001b[39m\u001b[33m\"\u001b[39m]:\n",
      "\u001b[31mModuleNotFoundError\u001b[39m: No module named 'memray'"
     ]
    }
   ],
   "source": [
    "import memray, os\n",
    "\n",
    "#alle .py files werden ausgefuehrt, bei mir mit python3\n",
    "for file_name in [\"lu_inplace.bin\", \"lu_notinplace.bin\", \"lu_factor_inplace.bin\", \"lu_factor_notinplace.bin\"]:\n",
    "    os.system(f\"python3 {file_name.replace(\".bin\", \".py\")}\")"
   ]
  },
  {
   "cell_type": "code",
   "execution_count": 24,
   "id": "19be799c",
   "metadata": {},
   "outputs": [
    {
     "ename": "NameError",
     "evalue": "name 'memray' is not defined",
     "output_type": "error",
     "traceback": [
      "\u001b[31m---------------------------------------------------------------------------\u001b[39m",
      "\u001b[31mNameError\u001b[39m                                 Traceback (most recent call last)",
      "\u001b[36mCell\u001b[39m\u001b[36m \u001b[39m\u001b[32mIn[24]\u001b[39m\u001b[32m, line 3\u001b[39m\n\u001b[32m      1\u001b[39m \u001b[38;5;66;03m#Speichernutzung wird aus allen .bin files gelesen\u001b[39;00m\n\u001b[32m      2\u001b[39m \u001b[38;5;28;01mfor\u001b[39;00m file_name \u001b[38;5;129;01min\u001b[39;00m [\u001b[33m\"\u001b[39m\u001b[33mlu_inplace.bin\u001b[39m\u001b[33m\"\u001b[39m, \u001b[33m\"\u001b[39m\u001b[33mlu_notinplace.bin\u001b[39m\u001b[33m\"\u001b[39m, \u001b[33m\"\u001b[39m\u001b[33mlu_factor_inplace.bin\u001b[39m\u001b[33m\"\u001b[39m, \u001b[33m\"\u001b[39m\u001b[33mlu_factor_notinplace.bin\u001b[39m\u001b[33m\"\u001b[39m]:\n\u001b[32m----> \u001b[39m\u001b[32m3\u001b[39m     reader = \u001b[43mmemray\u001b[49m.FileReader(file_name)\n\u001b[32m      4\u001b[39m     mem_use = \u001b[32m0\u001b[39m\n\u001b[32m      6\u001b[39m     \u001b[38;5;28;01mfor\u001b[39;00m allocation \u001b[38;5;129;01min\u001b[39;00m reader.get_allocation_records():\n",
      "\u001b[31mNameError\u001b[39m: name 'memray' is not defined"
     ]
    }
   ],
   "source": [
    "#Speichernutzung wird aus allen .bin files gelesen\n",
    "for file_name in [\"lu_inplace.bin\", \"lu_notinplace.bin\", \"lu_factor_inplace.bin\", \"lu_factor_notinplace.bin\"]:\n",
    "    reader = memray.FileReader(file_name)\n",
    "    mem_use = 0\n",
    "\n",
    "    for allocation in reader.get_allocation_records():\n",
    "        mem_use += allocation.size\n",
    "\n",
    "    print(f\"Speichernutzung von {file_name[:-4]} : {round(mem_use / 2**20)}MB\") "
   ]
  },
  {
   "cell_type": "markdown",
   "id": "2e63aac6",
   "metadata": {},
   "source": [
    "Die Funktion lu_factor verwendet konstant nur 144MB an Speicher.\n",
    "\n",
    "Funktion lu verwendet deutlich mehr Speicher mit 400MB \"inplace\" und sogar 528MB \"notinplace\"\n"
   ]
  },
  {
   "cell_type": "code",
   "execution_count": null,
   "id": "11672b7b-6673-4cda-a4c5-dc1cc31d7eb5",
   "metadata": {},
   "outputs": [],
   "source": [
    "#!rm -rf lu_* memray-*"
   ]
  }
 ],
 "metadata": {
  "kernelspec": {
   "display_name": "Python 3 (ipykernel)",
   "language": "python",
   "name": "python3"
  },
  "language_info": {
   "codemirror_mode": {
    "name": "ipython",
    "version": 3
   },
   "file_extension": ".py",
   "mimetype": "text/x-python",
   "name": "python",
   "nbconvert_exporter": "python",
   "pygments_lexer": "ipython3",
   "version": "3.12.1"
  },
  "otter": {
   "OK_FORMAT": true,
   "assignment_name": "EA1",
   "tests": {
    "addition_ieee": {
     "name": "addition_ieee",
     "points": 12,
     "suites": [
      {
       "cases": [],
       "scored": true,
       "setup": "",
       "teardown": "",
       "type": "doctest"
      }
     ]
    },
    "addition_npsum": {
     "name": "addition_npsum",
     "points": 2,
     "suites": [
      {
       "cases": [],
       "scored": true,
       "setup": "",
       "teardown": "",
       "type": "doctest"
      }
     ]
    },
    "addition_variants": {
     "name": "addition_variants",
     "points": 6,
     "suites": [
      {
       "cases": [],
       "scored": true,
       "setup": "",
       "teardown": "",
       "type": "doctest"
      }
     ]
    },
    "limits_explanation": {
     "name": "limits_explanation",
     "points": 12,
     "suites": [
      {
       "cases": [],
       "scored": true,
       "setup": "",
       "teardown": "",
       "type": "doctest"
      }
     ]
    },
    "limits_fx": {
     "name": "limits_fx",
     "points": 8,
     "suites": [
      {
       "cases": [
        {
         "code": ">>> print(result_limits)\n[1.05170918 1.00501671 1.00050017 1.00005    1.000005   1.0000005\n 1.00000005 0.99999999 1.00000008 1.00000008 1.00000008 1.0000889\n 0.99920072 0.99920072 1.11022302]\n",
         "hidden": false,
         "locked": false
        },
        {
         "code": ">>> print(result_limits_2)\n[0. 0. 0. 0. 0.]\n",
         "hidden": false,
         "locked": false
        }
       ],
       "scored": true,
       "setup": "",
       "teardown": "",
       "type": "doctest"
      }
     ]
    },
    "linearsystem_bsolve": {
     "name": "linearsystem_bsolve",
     "points": 12,
     "suites": [
      {
       "cases": [],
       "scored": true,
       "setup": "",
       "teardown": "",
       "type": "doctest"
      }
     ]
    },
    "linearsystem_customsolve": {
     "name": "linearsystem_customsolve",
     "points": 12,
     "suites": [
      {
       "cases": [],
       "scored": true,
       "setup": "",
       "teardown": "",
       "type": "doctest"
      }
     ]
    },
    "linearsystem_customsolve_test": {
     "name": "linearsystem_customsolve_test",
     "points": 6,
     "suites": [
      {
       "cases": [],
       "scored": true,
       "setup": "",
       "teardown": "",
       "type": "doctest"
      }
     ]
    },
    "linearsystem_ludecomp": {
     "name": "linearsystem_ludecomp",
     "points": 15,
     "suites": [
      {
       "cases": [],
       "scored": true,
       "setup": "",
       "teardown": "",
       "type": "doctest"
      }
     ]
    },
    "linearsystem_scipy_memory": {
     "name": "linearsystem_scipy_memory",
     "points": 9,
     "suites": [
      {
       "cases": [],
       "scored": true,
       "setup": "",
       "teardown": "",
       "type": "doctest"
      }
     ]
    },
    "linearsystem_scipy_time": {
     "name": "linearsystem_scipy_time",
     "points": 6,
     "suites": [
      {
       "cases": [],
       "scored": true,
       "setup": "",
       "teardown": "",
       "type": "doctest"
      }
     ]
    }
   }
  }
 },
 "nbformat": 4,
 "nbformat_minor": 5
}
