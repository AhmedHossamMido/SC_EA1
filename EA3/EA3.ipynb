{
 "cells": [
  {
   "cell_type": "markdown",
   "metadata": {},
   "source": [
    "# Einsendeaufgabe 3: Numba (100 Punkte)\n",
    "\n",
    "In diesem Abschnitt möchten wir unsere Applikationen mit Numba beschleunigen.\n",
    "\n",
    "## Mandelbrot-Set (10 Punkte)\n",
    "\n",
    "Wir beginnen mit einem klassischen Beispiel für Parallelisierung: dem Mandelbrot-Set.\n",
    "\n",
    "Die Mandelbrot-Menge wird durch die Gleichung $z_{n+1} = z_n^2 + c$ beschrieben. In dieser Gleichung sind $c$ und $z$ komplexe Zahlen, und $n$ ist Null oder eine positive ganze Zahl. Ausgehend von $z_0=0$, gehört $c$ zur Mandelbrot-Menge, wenn der Absolutwert von $z_n$ niemals größer als eine bestimmte Zahl wird (diese Zahl ist abhängig von $c$), egal wie groß $n$ wird.\n",
    "\n",
    "Das bedeutet, eine komplexe Zahl $c$ ist ein Element der Mandelbrotmenge, wenn die Beträge der mit diesem $c$ berechneten $z_{n}$ nicht unbegrenzt wachsen, unabhängig davon, wie groß $n$ wird. Es lässt sich leicht zeigen, dass der Betrag von $z_{n}$ unbegrenzt wächst, sobald ein $z_{n}$ mit $|z_{n}|>2$ auftritt.\n",
    "\n",
    "Bei der Berechnung des Mandelbrot-Sets legt man oft eine obere Grenze für die maximalen Iterationen fest, um zu testen, ob diese überschritten wird.\n",
    "\n",
    "Ein einfacher Algorithmus zur Bestimmung, ob ein Wert zum Mandelbrot-Set gehört, sieht folgendermaßen aus:"
   ]
  },
  {
   "cell_type": "code",
   "execution_count": null,
   "metadata": {},
   "outputs": [],
   "source": [
    "import numba\n",
    "import numpy as np\n",
    "\n",
    "\n",
    "def escape_time(p, maxiter):\n",
    "    \"\"\"Perform the Mandelbrot iteration until it's clear that p diverges\n",
    "    or the maximum number of iterations has been reached.\n",
    "\n",
    "    Parameters\n",
    "    ----------\n",
    "    p: complex\n",
    "        point in the complex plane\n",
    "\n",
    "    maxiter: int\n",
    "        maximum number of iterations to perform before p is considered in\n",
    "        the Mandelbrot set.\n",
    "\n",
    "    Bleibt die Folge mit dieser Startzahl p innerhalb eines stabilen Bereichs?\n",
    "    wenn ja, gibt sie maxiter (400) zurück (die maximale Anzahl an Iterationen wurde \n",
    "    durchlaufen, ohne dass |z| > 2 wurde)\n",
    "\n",
    "    Wie lange ein Punkt im komplexen Zahlenraum \"stabil\" bleibt, bevor die Folge „explodiert“.\n",
    "    Wenn die maximale Iteration (maxiter) erreicht wurde: Die Zahl liegt wahrscheinlich in der \n",
    "    Mandelbrot-Menge.\n",
    "\n",
    "    \"\"\"\n",
    "    z = 0j # Startwert der Folge ist 0 (als komplexe Zahl)\n",
    "    for i in range(maxiter): # Schleife mit maximaler Länge maxiter\n",
    "        z = z**2 + p # Berechnet das nächste Glied der Folge\n",
    "        if abs(z) > 2: # Wenn der Betrag von z größer als 2 wird ...\n",
    "            return i # ... dann \"entweicht\" die Folge => p gehört NICHT zur Mandelbrot-Menge\n",
    "    return maxiter # Wenn die Folge maxiter Durchläufe überlebt, ohne zu entweichen => p ist wahrscheinlich in der Menge\n",
    "\n",
    "\n",
    "a = np.array([0.2 + 0.2j])  # komplexe Zahl als NumPy-Array\n",
    "escape_time(a, 400) # Problemchen: Die Funktion escape_time erwartet eine einzelne komplexe Zahl, kein Array von komplexen Zahlen!"
   ]
  },
  {
   "cell_type": "markdown",
   "metadata": {},
   "source": [
    "Die Zahl $0.2+0.2j$ liegt also in der Mandelbrot Menge, da wir nach 400 Iterationen noch nicht die Abbruchbedingung erfüllen.  Allerdings ist es mühsam, jede Zahl einzeln zu testen. Wir erstellen also ein 2-D Feld mit vielen Komplexen Zahlen $|z|<2$: "
   ]
  },
  {
   "cell_type": "code",
   "execution_count": null,
   "metadata": {},
   "outputs": [],
   "source": [
    "real_param = (-1.5, 1.1, 1500) # Tupel mit drei Werten: (Start, Stop, Anzahl Schritte) für den realen Teil der komplexen Zahl\n",
    "imag_param = (-1.5j, 1.1j, 1500) # Tupel mit drei Werten: (Start, Stop, Anzahl Schritte) für den imaginären Teil der komplexen Zahl\n",
    "\n",
    "# Von -1.5 bis 1.1, in 1500 Schritten (für die x-Achse bzw. den Realteil der komplexen Zahlen)\n",
    "# Von -1.5j bis 1.1j, auch in 1500 Schritten (für die y-Achse bzw. den Imaginärteil)\n",
    "# z. B. p.linspace(*(-1.5, 1.1, 1500)) wird zu np.linspace(-1.5, 1.1, 1500). \n",
    "# Der Stern ist ist ein \"Unpacking Operator\" in Python.\n",
    "XX, YY = np.meshgrid(np.linspace(*real_param), np.linspace(*imag_param))\n",
    "\n",
    "# Erzeugt ein 2D-Feld komplexer Zahlen aus den Gitterpunkten:\n",
    "# XX enthält die Realteile, YY die Imaginärteile → ergibt die komplexen Zahlen c = x + iy\n",
    "P = XX + YY"
   ]
  },
  {
   "cell_type": "markdown",
   "metadata": {
    "deletable": false,
    "editable": false
   },
   "source": [
    "<!-- BEGIN QUESTION -->\n",
    "\n",
    "**Aufgabe:**  \n",
    "- Vektorisieren Sie die Funktion mit `np.vectorize`\n",
    "- Vektorisieren Sie die Funktion mit `numba.vectorize`\n",
    "- Testen Sie, ob der Parallel-Parameter funktioniert und ob er Performance-Vorteile bringt\n",
    "- Vergleichen Sie die Laufzeit der drei Versionen und stellen Sie den Vergleich graphisch dar\n",
    "\n",
    "_Points:_ 7"
   ]
  },
  {
   "cell_type": "markdown",
   "metadata": {},
   "source": [
    "## Vektorisieren mit `np.vectorize` und `numba.vectorize` (ohne und mit dem Parallel-Parameter) sowie Performance-Vergleiche\n",
    "\n",
    "In dieser Aufgabe beschäftigen wir uns mit der Berechnung der Mandelbrot-Menge – einem klassischen Beispiel aus der Fraktal-Geometrie. Dabei nutzen wir das sogenannte *Escape-Time-Verfahren*, das für jeden Punkt in der komplexen Zahlenebene bestimmt, ob er zur Mandelbrot-Menge gehört. Diese Berechnung ist sehr rechenintensiv, besonders bei hoher Auflösung – ideal also, um verschiedene Optimierungstechniken zu untersuchen.\n",
    "\n",
    "Ein zentrales Ziel ist die **Vektorisierung** der Escape-Time-Funktion. In diesem Kontext bedeutet *Vektorisieren*, dass eine Funktion, die ursprünglich für einen einzelnen Wert definiert ist (hier: eine komplexe Zahl), so umgeschrieben oder umgewandelt wird, dass sie effizient auf ganze Arrays von Werten gleichzeitig angewendet werden kann. Dabei wird der Code so umgestaltet, dass er intern Schleifen vermeidet oder sie automatisch durch optimierte Backend-Implementierungen ersetzt. Das reduziert typischerweise den Overhead expliziter Python-Schleifen und verbessert die Performance – manchmal dramatisch.\n",
    "\n",
    "Wir betrachten drei konkrete Ansätze der Vektorisierung:\n",
    "\n",
    "1. **`np.vectorize`**: Diese Methode stellt eine einfache Möglichkeit dar, Funktionen auf NumPy-Arrays anzuwenden. Technisch gesehen ist dies jedoch lediglich syntaktischer Zucker – sie bietet keine echten Geschwindigkeitsvorteile, da intern weiterhin eine Python-Schleife ausgeführt wird.\n",
    "\n",
    "2. **`numba.vectorize`**: Diese Variante kompiliert die Funktion Just-in-Time (JIT) zu Maschinencode. Das kann bereits signifikante Performance-Gewinne bringen, insbesondere bei numerischen Berechnungen.\n",
    "\n",
    "3. **`numba.vectorize(..., target='parallel')`**: Zusätzlich zur Kompilierung versucht diese Option, die Berechnungen auf mehrere CPU-Kerne zu verteilen. Damit lässt sich bei großen Arrays und ausreichend Rechenkernen ein weiterer Geschwindigkeitsvorteil erzielen – sofern der Overhead der Parallelisierung nicht überwiegt.\n",
    "\n",
    "Wir messen für alle drei Varianten die Ausführungszeit mit `timeit`, vergleichen die Ergebnisse und die Unterschiede. Ziel ist es, ein Gespür dafür zu bekommen, wie effektiv verschiedene Formen der Vektorisierung in der Praxis sind – und wann sich der Einsatz von `Numba` wirklich lohnt.\n"
   ]
  },
  {
   "cell_type": "code",
   "execution_count": 9,
   "metadata": {
    "nbgrader": {
     "grade": false,
     "grade_id": "cell-a9c8fa600a8421a5",
     "locked": false,
     "schema_version": 3,
     "solution": true,
     "task": false
    },
    "tags": []
   },
   "outputs": [
    {
     "name": "stdout",
     "output_type": "stream",
     "text": [
      "Zeit für np.vectorize: 10.9214 Sekunden\n",
      "Zeit für numba.vectorize: 0.9113 Sekunden\n",
      "Zeit für numba.vectorize (parallel): 0.9654 Sekunden\n"
     ]
    },
    {
     "data": {
      "image/png": "[encoded data removed]",
      "text/plain": [
       "<Figure size 640x480 with 2 Axes>"
      ]
     },
     "metadata": {},
     "output_type": "display_data"
    }
   ],
   "source": [
    "import numba                     # Für Performance-Optimierung durch JIT-Kompilierung\n",
    "import numpy as np               # Für numerische Operationen und Arrays\n",
    "import timeit                    # Zum Messen der Ausführungszeit\n",
    "import matplotlib.pyplot as plt  # Zum Visualisieren der Mandelbrot-Menge\n",
    "\n",
    "# -------------------------------------------------------------------\n",
    "# ESCAPE-TIME-FUNKTION (Skalare Version ohne Beschleunigung)\n",
    "# Diese Funktion prüft für einen komplexen Punkt p, ob er zur Mandelbrot-Menge gehört.\n",
    "# Dafür wird wiederholt die Formel z = z² + p berechnet. Wenn der Betrag von z > 2 wird,\n",
    "# verlässt die Folge die Menge. Die Anzahl der benötigten Schritte nennt man \"Escape-Time\".\n",
    "# -------------------------------------------------------------------\n",
    "def escape_time(p, maxiter):\n",
    "    z = 0j  # Startwert z = 0 (komplexe Zahl 0 + 0j)\n",
    "    for i in range(maxiter):\n",
    "        z = z*z + p     # Iterationsformel\n",
    "        if abs(z) > 2:  # Wenn Betrag > 2, verlässt die Folge die Menge\n",
    "            return i    # Anzahl der benötigten Schritte wird zurückgegeben\n",
    "    return maxiter      # Wenn nie > 2, gehört p zur Mandelbrot-Menge\n",
    "\n",
    "# -------------------------------------------------------------------\n",
    "# VARIANTE 1: np.vectorize (bequem, aber langsam)\n",
    "# Diese Methode sieht vektoriell aus, ist aber eigentlich eine Schleifenverpackung.\n",
    "# Ideal für Verständnis, nicht für Performance.\n",
    "# -------------------------------------------------------------------\n",
    "def mandelbrot_set_np_vectorized(P, maxiter):\n",
    "    # np.vectorize(...) ist eine bequeme Methode, um eine normale (skalare) Funktion\n",
    "    # (wie escape_time) auf ganze NumPy-Arrays anzuwenden.\n",
    "    vectorized_escape_time = np.vectorize(escape_time)\n",
    "    \n",
    "    # vectorized_escape_time ist jetzt eine Funktion, die intern über jedes einzelne Element\n",
    "    # von P iteriert und escape_time darauf anwendet – man kann sie wie eine Array-Funktion verwenden.\n",
    "    \n",
    "    # Wir wenden die erzeugte vectorized_escape_time-Funktion auf das gesamte 2D-Array P an\n",
    "    # und geben das Ergebnis zurück (ein Array mit Iterationszahlen).\n",
    "    return vectorized_escape_time(P, maxiter) # Gibt ein 2D-Array zurück, das für jeden Punkt in P die Escape-Time enthält.\n",
    "                                               # Beispiel: Wenn P = [[0+0j, 0+1j], [1+0j, 1+1j]], dann könnte die Rückgabe sein:\n",
    "                                               # [[200, 12],\n",
    "                                               #  [35, 200]]\n",
    "                                               # (je nachdem, ob die Punkte zur Mandelbrot-Menge gehören oder wie schnell sie entkommen)\n",
    "\n",
    "# -------------------------------------------------------------------\n",
    "# VARIANTE 2: numba.vectorize (mit JIT-Kompilierung)\n",
    "# Diese Variante verwendet numba.vectorize, um die Escape-Time-Funktion\n",
    "# automatisch zu kompilieren – also in schnellen Maschinencode umzuwandeln.\n",
    "# Das geschieht über sogenanntes \"Just-In-Time\"-Kompilieren (JIT).\n",
    "# Dadurch läuft der Code viel schneller als in normalem Python.\n",
    "# -------------------------------------------------------------------\n",
    "\n",
    "@numba.vectorize(['int32(complex128, int32)'])  # Dekorator von numba: Sagt numba, dass die Funktion für komplexe Zahlen (p) und int (maxiter) verwendet wird und ein int32 zurückgibt.\n",
    "def escape_time_numba(p, maxiter):\n",
    "    z = 0j  # Startwert der Folge ist 0 (komplexe Zahl)\n",
    "    for i in range(maxiter):  # Wiederhole die Berechnung maxiter-mal (z. B. 200 Iterationen)\n",
    "        z = z*z + p  # Mandelbrot-Iteration: z_{n+1} = z_n² + p\n",
    "        if abs(z) > 2:  # Wenn der Betrag von z größer als 2 wird, ist der Punkt nicht in der Mandelbrot-Menge\n",
    "            return i  # Gib die Anzahl der Iterationen zurück, bis das passiert ist\n",
    "    return maxiter  # Wenn z nie > 2 wurde, dann ist der Punkt vermutlich in der Menge → gib maxiter zurück\n",
    "\n",
    "# -------------------------------------------------------------------\n",
    "# Die folgende Funktion sieht so aus wie bei np.vectorize,\n",
    "# aber sie ruft die JIT-kompilierte Version auf.\n",
    "# Das bedeutet: sehr viel bessere Performance bei großen Datenmengen.\n",
    "# -------------------------------------------------------------------\n",
    "def mandelbrot_set_numba_vectorized(P, maxiter):\n",
    "    return escape_time_numba(P, maxiter)  # Wende escape_time_numba auf jedes Element im Array P an.\n",
    "                                          # Das funktioniert, weil numba.vectorize intern selbst Vektorisierung übernimmt.\n",
    "                                          # Beispiel-Rückgabe:\n",
    "                                          # Wenn P ein 2D-Array komplexer Zahlen ist, kommt ein gleich großes 2D-Array mit Iterationszahlen zurück.\n",
    "\n",
    "# -------------------------------------------------------------------\n",
    "# VARIANTE 3: numba.vectorize mit Parallelisierung\n",
    "# Diese Variante ist im Prinzip identisch zu Variante 2,\n",
    "# nutzt aber zusätzlich Parallelisierung durch mehrere CPU-Kerne.\n",
    "# Das geschieht durch das Argument target='parallel' im numba-Dekorator.\n",
    "# Besonders bei großen Arrays (z. B. hochaufgelöste Mandelbrot-Bilder)\n",
    "# bringt das deutliche Performance-Vorteile.\n",
    "# -------------------------------------------------------------------\n",
    "\n",
    "@numba.vectorize(['int32(complex128, int32)'], target='parallel')\n",
    "# Der numba-Dekorator @vectorize macht die Funktion escape_time_numba_par automatisch vektorisierbar.\n",
    "# Die Signatur 'int32(complex128, int32)' bedeutet:\n",
    "#   - Eingabe: ein komplexer Wert (p) und ein ganzzahliger Wert (maxiter)\n",
    "#   - Ausgabe: ein int32 (die Anzahl der Iterationen, bis der Punkt \"entkommt\")\n",
    "# Das Besondere hier: Mit target='parallel' wird numba angewiesen,\n",
    "# die Berechnungen parallel auf mehreren CPU-Kernen auszuführen.\n",
    "\n",
    "def escape_time_numba_par(p, maxiter):\n",
    "    z = 0j  # Starte mit z = 0 (komplexe Zahl), wie in der Mandelbrot-Iteration üblich\n",
    "    for i in range(maxiter):  # Bis zur maximalen Anzahl an Iterationen (z. B. 200)\n",
    "        z = z*z + p  # Iterationsregel für die Mandelbrot-Menge: z_{n+1} = z_n² + p\n",
    "        if abs(z) > 2:  # Wenn der Betrag von z größer als 2 wird, entweicht die Folge\n",
    "            return i  # Dann ist p nicht in der Mandelbrot-Menge → gib die Anzahl der Iterationen zurück\n",
    "    return maxiter  # Wenn der Punkt die Grenze nie überschreitet → vermutlich Teil der Mandelbrot-Menge\n",
    "\n",
    "# -------------------------------------------------------------------\n",
    "# Diese Funktion wendet escape_time_numba_par auf ein gesamtes Array P an.\n",
    "# P ist ein 2D-Array komplexer Zahlen, das z. B. aus einem linspace-Gitter erstellt wurde.\n",
    "# Die Funktion gibt ein 2D-Array mit Iterationszahlen zurück – z. B. zum Plotten mit plt.imshow.\n",
    "# Der Unterschied zu Variante 2: Hier läuft das Ganze parallelisiert und damit schneller.\n",
    "# -------------------------------------------------------------------\n",
    "def mandelbrot_set_numba_vectorized_par(P, maxiter):\n",
    "    return escape_time_numba_par(P, maxiter)  # Das ist wie ein „broadcasting“ auf das gesamte Array P.\n",
    "                                              # Beispiel:\n",
    "                                              # Wenn P z. B. ein 1500x1500-Array komplexer Zahlen ist,\n",
    "                                              # gibt diese Funktion ein 1500x1500-Array mit Iterationszahlen zurück.\n",
    "\n",
    "# -------------------------------------------------------------------\n",
    "# ERZEUGUNG DES KOMPLEXEN ZAHLENGITTERS\n",
    "# Erstelle ein zweidimensionales Gitter (XX + YY) von komplexen Zahlen.\n",
    "# Jeder Punkt im Gitter stellt einen Punkt im Bild der Mandelbrot-Menge dar.\n",
    "# -------------------------------------------------------------------\n",
    "real_param = (-1.5, 1.1, 1500)     # Realteil: Start, Ende, Anzahl Schritte\n",
    "imag_param = (-1.5j, 1.1j, 1500)   # Imaginärteil: Start, Ende, Anzahl Schritte\n",
    "XX, YY = np.meshgrid(np.linspace(*real_param), np.linspace(*imag_param))\n",
    "P = XX + YY  # Kombination zu komplexen Zahlen (z.B. 0.1 + 0.2j)\n",
    "\n",
    "# -------------------------------------------------------------------\n",
    "# MAXIMALE ANZAHL DER ITERATIONEN\n",
    "# Je mehr Iterationen erlaubt sind, desto genauer ist das Ergebnis –\n",
    "# aber es dauert auch länger. 200 ist ein guter Kompromiss.\n",
    "# -------------------------------------------------------------------\n",
    "maxiter = 200\n",
    "\n",
    "# -------------------------------------------------------------------\n",
    "# ZEITMESSUNG DER DREI METHODEN\n",
    "# Wir möchten wissen: Welche Version ist wie schnell?\n",
    "# Dazu verwenden wir das Modul 'timeit', das sehr genau misst,\n",
    "# wie lange ein bestimmter Funktionsaufruf dauert.\n",
    "# In unserem Fall messen wir jeweils die Zeit für genau **einen** Aufruf.\n",
    "# -------------------------------------------------------------------\n",
    "\n",
    "# Misst die Zeit (in Sekunden), die die np.vectorize-Version benötigt.\n",
    "# Diese Version ist meist die langsamste, weil keine echte Optimierung passiert.\n",
    "time_np_vectorized = timeit.timeit(\n",
    "    lambda: mandelbrot_set_np_vectorized(P, maxiter),  # Der Funktionsaufruf, den wir messen\n",
    "    number=1  # Anzahl der Wiederholungen (hier: genau einmal)\n",
    ")\n",
    "\n",
    "# Misst die Zeit für die Version mit numba.vectorize (ohne Parallelisierung).\n",
    "# Durch Just-in-Time-Kompilierung ist sie deutlich schneller als reine Python-Schleifen.\n",
    "time_numba_vectorized = timeit.timeit(\n",
    "    lambda: mandelbrot_set_numba_vectorized(P, maxiter),\n",
    "    number=1\n",
    ")\n",
    "\n",
    "# Misst die Zeit für die parallelisierte numba.vectorize-Version.\n",
    "# Diese ist in der Regel die schnellste, da sie mehrere CPU-Kerne verwendet.\n",
    "time_numba_vectorized_par = timeit.timeit(\n",
    "    lambda: mandelbrot_set_numba_vectorized_par(P, maxiter),\n",
    "    number=1\n",
    ")\n",
    "\n",
    "# -------------------------------------------------------------------\n",
    "# AUSGABE DER LAUFZEITEN\n",
    "# Jetzt drucken wir die gemessenen Zeiten übersichtlich aus.\n",
    "# So kann man direkt vergleichen, welche Methode wie schnell war.\n",
    "# -------------------------------------------------------------------\n",
    "\n",
    "# Ausgabe der benötigten Zeit für die np.vectorize-Variante.\n",
    "# Hier sieht man typischerweise die längste Laufzeit.\n",
    "print(f\"Zeit für np.vectorize: {time_np_vectorized:.4f} Sekunden\")\n",
    "\n",
    "# Ausgabe der Laufzeit für numba.vectorize ohne Parallelisierung.\n",
    "# Deutlich schneller, weil JIT-Kompilierung genutzt wird.\n",
    "print(f\"Zeit für numba.vectorize: {time_numba_vectorized:.4f} Sekunden\")\n",
    "\n",
    "# Ausgabe der Laufzeit für numba.vectorize mit Parallelisierung.\n",
    "# In der Regel die schnellste Variante, vor allem bei großen Arrays.\n",
    "print(f\"Zeit für numba.vectorize (parallel): {time_numba_vectorized_par:.4f} Sekunden\")\n",
    "\n",
    "# -------------------------------------------------------------------\n",
    "# VISUALISIERUNG DER MANDELBROT-MENGE\n",
    "# Jetzt wollen wir das Ergebnis als Bild sehen.\n",
    "# Dazu berechnen wir erneut die Mandelbrot-Menge (mit der schnellsten Methode)\n",
    "# und verwenden Matplotlib, um die Escape-Times in Farben darzustellen.\n",
    "# Jeder Punkt im Bild entspricht einem komplexen Punkt.\n",
    "# Die Farbe zeigt, wie schnell dieser Punkt aus der Mandelbrot-Menge „entkommt“.\n",
    "# -------------------------------------------------------------------\n",
    "\n",
    "# Berechne das Escape-Time-Bild mit der parallelisierten Methode\n",
    "# → ergibt ein 2D-Array M, das die Iterationszahlen (Escape-Times) enthält\n",
    "M = mandelbrot_set_numba_vectorized_par(P, maxiter)\n",
    "\n",
    "# Visualisiere das Array M als Bild\n",
    "# Jeder Pixel bekommt eine Farbe, je nachdem wie groß die Escape-Time war\n",
    "# Die Farbkarte 'twilight' sieht für diese Art von Bildern besonders hübsch aus\n",
    "plt.imshow(M, cmap='twilight')\n",
    "\n",
    "# Titel des Plots\n",
    "plt.title(\"Mandelbrot-Menge (parallelisiert)\")\n",
    "\n",
    "# Zeige eine Farbskala an der Seite – hilfreich, um die Bedeutung der Farben zu erkennen\n",
    "plt.colorbar()  # Farbskala, die die Escape-Times der Punkte darstellt. \n",
    "                # Dunkle Farben (z.B. Blau) stehen für Punkte, die langsam \n",
    "                # aus der Mandelbrot-Menge entweichen (d.h. eine hohe Escape-Time haben). \n",
    "                # Helle Farben (z.B. Gelb, Weiß) stehen für Punkte, die schnell entweichen \n",
    "                # (d.h. eine niedrige Escape-Time haben). Diese Farbskala hilft, die Struktur \n",
    "                # der Mandelbrot-Menge und die Geschwindigkeit der Divergenz der Punkte visuell zu verstehen.\n",
    "                # Die Escape-Time ist die Anzahl der Iterationen, die notwendig sind, \n",
    "                # damit der Betrag der komplexen Zahl die Grenze von 2 überschreitet.\n",
    "                # Ein hoher Wert für die Escape-Time bedeutet, dass der Punkt viele Iterationen \n",
    "                # braucht, um die Grenze zu überschreiten, was darauf hinweist, dass der Punkt \n",
    "                # langsam aus der Menge \"entweicht\" und somit länger in der Nähe der Mandelbrot-Menge bleibt.\n",
    "                # Ein niedriger Wert bedeutet, dass der Punkt schnell die Grenze überschreitet \n",
    "                # und somit schneller aus der Menge entweicht.\n",
    "\n",
    "# Zeige das Fenster mit dem Plot an\n",
    "plt.show()\n"
   ]
  },
  {
   "cell_type": "markdown",
   "metadata": {
    "deletable": false,
    "editable": false
   },
   "source": [
    "<!-- BEGIN QUESTION -->\n",
    "\n",
    "**Aufgabe:** Vergleichen Sie nun die drei Versionen mit Scalene. Verwenden sie eine Sampling-Rate von $0.0001$\n",
    "\n",
    "_Points:_ 3"
   ]
  },
  {
   "cell_type": "markdown",
   "metadata": {},
   "source": [
    "### Vergleich der drei Versionen der Mandelbrot-Berechnung mit Scalene\n",
    "\n",
    "In dieser Aufgabe vergleichen wir die Performance von drei unterschiedlichen Varianten der Berechnung der Mandelbrot-Menge, die wir zuvor implementiert haben. Die Varianten basieren auf unterschiedlichen Methoden, um die Berechnungen zu optimieren:\n",
    "\n",
    "1. **Version 1: `np.vectorize`** – Eine einfache Methode zur Vektorisierung mit NumPy, die eine skalare Funktion auf ganze Arrays anwendet.\n",
    "2. **Version 2: `numba.vectorize`** – Eine optimierte Version unter Verwendung von Numba, um den Code mit Just-In-Time (JIT)-Kompilierung zu beschleunigen.\n",
    "3. **Version 3: `numba.vectorize` mit Parallelisierung** – Diese Version geht noch einen Schritt weiter und nutzt die Parallelisierung mit mehreren CPU-Kernen, um die Berechnungen weiter zu beschleunigen.\n",
    "\n",
    "Wir verwenden **Scalene**, ein leistungsstarkes Profiling-Tool, um die CPU- und Speicherperformance jeder Version zu messen und zu vergleichen. \n",
    "\n",
    "### Bedeutung der Sampling-Rate von **0.0001**\n",
    "\n",
    "Die **Sampling-Rate** gibt an, wie häufig Scalene Stichproben der CPU-Nutzung und des Speichers entnimmt, während das Programm ausgeführt wird. Eine Sampling-Rate von **0.0001** bedeutet, dass Scalene bei jedem 10.000. (1 / 0.0001) Zyklus der Ausführung eine Messung der Systemressourcen vornimmt. Dies sorgt für eine detaillierte und präzise Erfassung der Performance, ohne dass zu viele Daten gesammelt werden, was die Analyse verzerren könnte. Eine niedrige Sampling-Rate ermöglicht es, sehr granular zu messen und auch feine Unterschiede zwischen den verschiedenen Varianten zu erkennen.\n",
    "\n",
    "Mit dieser Sampling-Rate von **0.0001** erhalten wir also eine feine Auflösung der Profildaten, was uns hilft, die effizienteste Berechnungsmethode zu identifizieren und gleichzeitig die Auswirkungen von Optimierungen wie Parallelisierung und JIT-Kompilierung zu beobachten.\n",
    "\n",
    "Im Folgenden werden wir die drei Versionen mit Scalene profilieren und die Laufzeiten sowie den Ressourcenverbrauch der verschiedenen Methoden analysieren.\n",
    "\n",
    "### Funktionsweise\n",
    "Der Code führt das Profiling für vier Varianten der Mandelbrot-Menge Berechnung aus: \n",
    "- `escape_time` (Standard-Iteration)\n",
    "- `mandelbrot_set_np_vectorized` (NumPy-Vektorisierung)\n",
    "- `mandelbrot_set_numba_vectorized` (Numba-Vektorisierung)\n",
    "- `mandelbrot_set_numba_vectorized_par` (Numba-Vektorisierung mit Parallelisierung)\n",
    "\n",
    "### Ausgaben\n",
    "Das Profiling-Ergebnis wird in einer JSON-Datei und einer HTML-Datei gespeichert. Das Profiling umfasst Werte wie:\n",
    "- CPU-Verbrauch\n",
    "- Speicherverbrauch\n",
    "- Core-Auslastung\n",
    "- System-Auslastung"
   ]
  },
  {
   "cell_type": "code",
   "execution_count": null,
   "metadata": {
    "deletable": false,
    "editable": false
   },
   "outputs": [
    {
     "name": "stdout",
     "output_type": "stream",
     "text": [
      "\u001b[0mFunktion: escape_time (Zeile 6)\n",
      "  lineno: 6\n",
      "  n_core_utilization: 0.4936590678730543\n",
      "  n_cpu_percent_c: 1.2543719353008664\n",
      "  n_cpu_percent_python: 3.7485839099840987\n",
      "  n_sys_percent: 0.07156112549292419\n",
      "\n",
      "\n",
      "Funktion: mandelbrot_set_np_vectorized (Zeile 15)\n",
      "  lineno: 15\n",
      "  n_copy_mb_s: 3.7598695448042396\n",
      "  n_core_utilization: 0.505889095251512\n",
      "  n_cpu_percent_c: 0.1596044494426565\n",
      "  n_cpu_percent_python: 0.002841119577870185\n",
      "  n_sys_percent: 0.0033797881020143075\n",
      "\n",
      "\n",
      "Funktion: mandelbrot_set_numba_vectorized (Zeile 30)\n",
      "  lineno: 30\n",
      "  n_core_utilization: 0.49602784793370835\n",
      "  n_cpu_percent_c: 0.33652053780118685\n",
      "  n_cpu_percent_python: 0.0011402255943547966\n",
      "  n_sys_percent: 0.005883252774102596\n",
      "\n",
      "\n",
      "Funktion: mandelbrot_set_numba_vectorized_par (Zeile 44)\n",
      "  lineno: 44\n",
      "  n_core_utilization: 0.8327686022190057\n",
      "  n_cpu_percent_c: 0.41823410492397317\n",
      "  n_cpu_percent_python: 0.0005800461920492694\n",
      "\n",
      "\n"
     ]
    },
    {
     "data": {
      "text/plain": [
       "'\\n\\nZeit für np.vectorize: 10.9214 Sekunden\\nZeit für numba.vectorize: 0.9113 Sekunden\\nZeit für numba.vectorize (parallel): 0.9654 Sekunden\\n\\nFunktion: escape_time (Zeile 6)\\n  lineno: 6\\n  n_copy_mb_s: 6.97673502304257\\n  n_core_utilization: 0.48431505859375046\\n  n_cpu_percent_c: 1.451834793967412\\n  n_cpu_percent_python: 3.9980974419664554\\n  n_sys_percent: 0.1846107205141759\\n\\n\\nFunktion: mandelbrot_set_np_vectorized (Zeile 14)\\n  lineno: 14\\n  n_core_utilization: 0.45504170475477107\\n  n_cpu_percent_c: 0.1287037888682315\\n  n_cpu_percent_python: 0.0015846065590466739\\n  n_sys_percent: 0.012872543521705174\\n\\n\\nFunktion: mandelbrot_set_numba_vectorized (Zeile 27)\\n  lineno: 27\\n  n_core_utilization: 0.4999863301512297\\n  n_cpu_percent_c: 0.2191306520803602\\n  n_cpu_percent_python: 0.000580372897628718\\n  n_sys_percent: 6.006997198731277e-06\\n\\nFunktion: mandelbrot_set_numba_vectorized_par (Zeile 39)\\n  lineno: 39\\n  n_core_utilization: 0.7478834773439088\\n  n_cpu_percent_c: 0.5518025117806566\\n  n_cpu_percent_python: 0.0005803887652820168\\n\\n'"
      ]
     },
     "execution_count": 8,
     "metadata": {},
     "output_type": "execute_result"
    }
   ],
   "source": [
    "# Öffne oder erstelle eine neue Datei mit dem Namen \"mandelbrot_versionen.py\" im Schreibmodus (\"w\")\n",
    "# Das Ziel ist es, die Mandelbrot-Berechnung mit verschiedenen Optimierungstechniken zu vergleichen und die Datei dynamisch zu erstellen.\n",
    "with open(\"mandelbrot_versionen.py\", \"w\") as f:\n",
    "    # Schreibe den folgenden Python-Code als Inhalt der Datei\n",
    "    f.write(\"\"\"\n",
    "import numpy as np  # Importiert das numpy-Modul für numerische Berechnungen\n",
    "import numba  # Importiert das numba-Modul für JIT-Kompilierung und Parallelisierung\n",
    "\n",
    "# Funktion zur Berechnung der \"Escape-Time\" für einen Punkt p im Mandelbrot-Set\n",
    "def escape_time(p, maxiter):\n",
    "    z = 0j  # Startwert (Komplexe Zahl 0)\n",
    "    for i in range(maxiter):  # Schleife bis zur maximalen Iterationsanzahl\n",
    "        z = z*z + p  # Berechne den nächsten Punkt im Iterationsprozess\n",
    "        if abs(z) > 2:  # Wenn der Betrag von z größer als 2 wird, verlässt der Punkt das Mandelbrot-Set\n",
    "            return i  # Gib die Anzahl der Iterationen bis zum Verlassen zurück\n",
    "    return maxiter  # Wenn der Punkt das Set nicht verlässt, gebe die maximale Iterationsanzahl zurück\n",
    "\n",
    "# Vektorisiertes Mandelbrot-Set mit numpy (nicht parallelisiert)\n",
    "def mandelbrot_set_np_vectorized(P, maxiter):\n",
    "    vectorized_escape_time = np.vectorize(escape_time)  # Vektorisiere die escape_time Funktion\n",
    "    return vectorized_escape_time(P, maxiter)  # Berechne das Mandelbrot-Set für alle Punkte in P\n",
    "\n",
    "# Funktion zur Berechnung der Escape-Time mit numba für bessere Performance\n",
    "@numba.vectorize(['int32(complex128, int32)'])  # Dekorator für numba, der den Code für die JIT-Kompilierung vorbereitet\n",
    "def escape_time_numba(p, maxiter):\n",
    "    z = 0j  # Startwert (Komplexe Zahl 0)\n",
    "    for i in range(maxiter):  # Schleife bis zur maximalen Iterationsanzahl\n",
    "        z = z*z + p  # Berechne den nächsten Punkt im Iterationsprozess\n",
    "        if abs(z) > 2:  # Wenn der Betrag von z größer als 2 wird, verlässt der Punkt das Mandelbrot-Set\n",
    "            return i  # Gib die Anzahl der Iterationen zurück\n",
    "    return maxiter  # Wenn der Punkt das Set nicht verlässt, gebe die maximale Iterationsanzahl zurück\n",
    "\n",
    "# Vektorisiertes Mandelbrot-Set mit numba (JIT-Kompilierung)\n",
    "def mandelbrot_set_numba_vectorized(P, maxiter):\n",
    "    return escape_time_numba(P, maxiter)  # Berechne das Mandelbrot-Set für alle Punkte in P mit numba\n",
    "\n",
    "# Funktion zur Berechnung der Escape-Time mit numba und Parallelisierung für bessere Performance\n",
    "@numba.vectorize(['int32(complex128, int32)'], target='parallel')  # Dekorator für numba, parallelisierte Berechnung\n",
    "def escape_time_numba_par(p, maxiter):\n",
    "    z = 0j  # Startwert (Komplexe Zahl 0)\n",
    "    for i in range(maxiter):  # Schleife bis zur maximalen Iterationsanzahl\n",
    "        z = z*z + p  # Berechne den nächsten Punkt im Iterationsprozess\n",
    "        if abs(z) > 2:  # Wenn der Betrag von z größer als 2 wird, verlässt der Punkt das Mandelbrot-Set\n",
    "            return i  # Gib die Anzahl der Iterationen zurück\n",
    "    return maxiter  # Wenn der Punkt das Set nicht verlässt, gebe die maximale Iterationsanzahl zurück\n",
    "\n",
    "# Vektorisiertes Mandelbrot-Set mit numba und Parallelisierung\n",
    "def mandelbrot_set_numba_vectorized_par(P, maxiter):\n",
    "    return escape_time_numba_par(P, maxiter)  # Berechne das Mandelbrot-Set für alle Punkte in P mit numba (parallel)\n",
    "\n",
    "# Erstelle ein Gitter von komplexen Zahlen für die Berechnung des Mandelbrot-Sets\n",
    "real_param = (-1.5, 1.1, 300)  # Bereich für die realen Teile der komplexen Zahlen\n",
    "imag_param = (-1.5j, 1.1j, 300)  # Bereich für die imaginären Teile der komplexen Zahlen\n",
    "XX, YY = np.meshgrid(np.linspace(*real_param), np.linspace(*imag_param))  # Erstelle das Gitter\n",
    "P = XX + YY  # Kombiniere reale und imaginäre Teile zu komplexen Zahlen\n",
    "maxiter = 200  # Setze die maximale Anzahl der Iterationen auf 200\n",
    "\n",
    "# Rufe die drei Varianten der Mandelbrot-Berechnung einmal auf (keine Ausgabe erzeugen)\n",
    "mandelbrot_set_np_vectorized(P, maxiter)  # Berechnung mit numpy-Vektorisierung\n",
    "mandelbrot_set_numba_vectorized(P, maxiter)  # Berechnung mit numba-Vektorisierung\n",
    "mandelbrot_set_numba_vectorized_par(P, maxiter)  # Berechnung mit numba-Vektorisierung und Parallelisierung\n",
    "\"\"\") \n",
    "\n",
    "\n",
    "# Das Ausrufezeichen (!) ermöglicht das Ausführen von Shell-Kommandos innerhalb eines Jupyter-Notebooks.\n",
    "# In diesem Fall wird der Profiler 'scalene' gestartet, um die Performance des Python-Codes zu messen.\n",
    "# Scalene ist ein leistungsstarker Profiler für Python, der detaillierte Informationen über CPU- und \n",
    "# Speicherverbrauch liefert.\n",
    "\n",
    "# Der Befehl ruft den Profiler Scalene auf und übergibt ihm die Datei 'mandelbrot_versionen.py' zur Analyse.\n",
    "# Scalene wird die Ausführung der Datei überwachen und detaillierte Leistungsdaten sammeln.\n",
    "\n",
    "# --cpu-sampling-rate 0.0001:\n",
    "# Mit dieser Option wird die Häufigkeit des CPU-Sampling festgelegt, also wie oft Scalene den CPU-Verbrauch misst.\n",
    "# Ein Wert von '0.0001' bedeutet, dass die CPU-Nutzung mit einer sehr hohen Genauigkeit überprüft wird.\n",
    "# Je kleiner der Wert, desto mehr Sampling erfolgt, was zu präziseren, aber möglicherweise rechenintensiveren Ergebnissen führt.\n",
    "\n",
    "# mandelbrot_versionen.py:\n",
    "# Die Datei, die durch Scalene profiliert wird. Der Profiler sammelt Daten über die CPU-Nutzung,\n",
    "# den Speicherverbrauch und die Systemressourcen während der Ausführung dieser Datei.\n",
    "\n",
    "!scalene --cpu-sampling-rate 0.0001 mandelbrot_versionen.py\n",
    "\n",
    "# Importiere das Modul 'json', um mit JSON-Daten zu arbeiten\n",
    "import json\n",
    "\n",
    "# Lade die JSON-Datei, die Profiling-Daten enthält\n",
    "with open('profile.json', 'r') as file:\n",
    "    # Verwende die json.load-Methode, um die JSON-Datei in ein Python-Dictionary zu laden\n",
    "    data = json.load(file)\n",
    "\n",
    "# Extrahiere nur den Abschnitt der JSON-Daten, der sich mit den Funktionen der Datei 'mandelbrot_versionen.py' befasst\n",
    "# Wir gehen davon aus, dass die Profiling-Daten in der Struktur 'files -> mandelbrot_versionen.py -> functions' vorliegen\n",
    "functions_data = data['files']['/workspaces/SC_EA1_bis_EA3/EA3/mandelbrot_versionen.py']['functions']\n",
    "\n",
    "# Iteriere über jede Funktion in der 'functions_data' Liste und gebe relevante Leistungsdaten aus\n",
    "for function in functions_data:\n",
    "    # Gebe den Funktionsnamen und die Zeilennummer der Funktion aus\n",
    "    print(f\"Funktion: {function['line']} (Zeile {function['lineno']})\")\n",
    "    \n",
    "    # Iteriere über alle Elemente der Funktion und überprüfe, ob der Wert ein int oder float ist und größer als 0\n",
    "    for key, value in function.items():\n",
    "        # Wenn der Wert eine Zahl ist (int oder float) und größer als 0, dann gebe diesen Wert aus\n",
    "        if isinstance(value, (int, float)) and value > 0:  # Nur Werte > 0 anzeigen\n",
    "            print(f\"  {key}: {value}\")\n",
    "    \n",
    "    # Setze eine Leerzeile nach jeder Funktionsausgabe für bessere Lesbarkeit\n",
    "    print(\"\\n\")\n",
    "\n",
    "\"\"\"\n",
    "\n",
    "Funktion: escape_time (Zeile 6)\n",
    "  lineno: 6\n",
    "  n_core_utilization: 0.4936590678730543\n",
    "  n_cpu_percent_c: 1.2543719353008664\n",
    "  n_cpu_percent_python: 3.7485839099840987\n",
    "  n_sys_percent: 0.07156112549292419\n",
    "\n",
    "\n",
    "Funktion: mandelbrot_set_np_vectorized (Zeile 15)\n",
    "  lineno: 15\n",
    "  n_copy_mb_s: 3.7598695448042396\n",
    "  n_core_utilization: 0.505889095251512\n",
    "  n_cpu_percent_c: 0.1596044494426565\n",
    "  n_cpu_percent_python: 0.002841119577870185\n",
    "  n_sys_percent: 0.0033797881020143075\n",
    "\n",
    "\n",
    "Funktion: mandelbrot_set_numba_vectorized (Zeile 30)\n",
    "  lineno: 30\n",
    "  n_core_utilization: 0.49602784793370835\n",
    "  n_cpu_percent_c: 0.33652053780118685\n",
    "  n_cpu_percent_python: 0.0011402255943547966\n",
    "  n_sys_percent: 0.005883252774102596\n",
    "\n",
    "\n",
    "Funktion: mandelbrot_set_numba_vectorized_par (Zeile 44)\n",
    "  lineno: 44\n",
    "  n_core_utilization: 0.8327686022190057\n",
    "  n_cpu_percent_c: 0.41823410492397317\n",
    "  n_cpu_percent_python: 0.0005800461920492694\n",
    "  \n",
    "\"\"\"\n"
   ]
  },
  {
   "cell_type": "markdown",
   "metadata": {
    "deletable": false,
    "editable": false
   },
   "source": [
    "<!-- END QUESTION -->\n",
    "\n",
    "## Springende Bälle, Teil 2 (60 Punkte)\n",
    "Wir wollen die Simulation mit mehreren Bällen verbessern und optimieren. \n",
    "\n",
    "Jetzt werden zusätzlich Kollisionen zwischen den Bällen beachtet.\n",
    "Dafür wollen wir zunächst berechnen, ob die Bälle in einem Zeitschritt kollidieren. Eine genaue Berechnung ist hier sehr schwer, daher können wir dies nur näherungsweise machen. Wir müssen dazu auch folgende Annahmen machen:\n",
    "\n",
    "1. Die Bälle haben einen Radius von $r$, alle Bälle sind gleich groß \n",
    "2. Der Zeitschritt $\\Delta t$ und die Geschwindigkeit $\\$v$ der Bälle sind so gewählt, dass ein Ball maximal viermal seinen Radius in einem Zeitschritt zurücklegt, also $v*\\Delta t <= 4*r$\n",
    "\n",
    "\n",
    "Wir berechnen nun in jeden Zeitschritt zunächst 3 zusätzliche Zwischenzeitschritte:\n",
    "\n",
    "$ c_0 = c_0$\n",
    "\n",
    "$c_1 = c_0+0.25\\Delta t *v$\n",
    "\n",
    "$c_3 = c_0+0.5\\Delta t *v$\n",
    "\n",
    "$c_4 = c_0+0.75\\Delta t * v$\n",
    "\n",
    "(Der nächste Schritt wäre $\\Delta t$, dieser wird aber in der nächsten Iteration beachtet.)\n",
    "\n",
    "\n",
    "Wir betrachten nun jeweils für 2 Bälle, ob sie sich in einem der Zwischenzeitschritte näher als zweimal dem Radius $r$ kommen. Wenn sie das tun, gibt es eine Kollision."
   ]
  },
  {
   "cell_type": "markdown",
   "metadata": {
    "deletable": false,
    "editable": false
   },
   "source": [
    "<!-- BEGIN QUESTION -->\n",
    "\n",
    "**Aufgabe:** Schreiben Sie eine Funktion, die dies für zwei Bälle testet und zunächst `True` oder `False` zurück gibt. Für die Berechnung des Abstands können sie die Funktion `np.linalg.norm` verwenden.\n",
    "\n",
    "_Points:_ 10"
   ]
  },
  {
   "cell_type": "code",
   "execution_count": null,
   "metadata": {
    "tags": []
   },
   "outputs": [],
   "source": [
    "def will_collide(c1, v1, c2, v2, r, dt):\n",
    "    ..."
   ]
  },
  {
   "cell_type": "markdown",
   "metadata": {
    "deletable": false,
    "editable": false
   },
   "source": [
    "<!-- END QUESTION -->\n",
    "\n",
    "Um die Geschwindigkeiten der Bälle nach einer Kollision zu berechnen, können wir die Erhaltung des Impulses und die Erhaltung der kinetischen Energie heranziehen, unter der Annahme, dass es sich um eine vollkommen elastische Kollision handelt. Bei einer solchen Kollision bleiben sowohl der Gesamtimpuls als auch die gesamte kinetische Energie des Systems erhalten. Die Berechnungen werden allerdings etwas komplexer, wenn wir Richtungen berücksichtigen.\n",
    "\n",
    "#### Geschwindigkeiten nach der Kollision\n",
    "\n",
    "Für zwei Bälle mit Massen $m_1$ und $m_2$, den Anfangsgeschwindigkeiten $v_1$ und $v_2$ und den Endgeschwindigkeiten $v_1'$ und $v_2'$ gelten folgende Gleichungen basierend auf dem Impulserhaltungssatz und der Erhaltung der kinetischen Energie:\n",
    "\n",
    "1. **Impulserhaltung:**\n",
    "   $m_1 v_1 + m_2 v_2 = m_1 v_1' + m_2 v_2'$\n",
    "\n",
    "2. **Erhaltung der kinetischen Energie:**\n",
    "   $\\frac{1}{2} m_1 v_1^2 + \\frac{1}{2} m_2 v_2^2 = \\frac{1}{2} m_1 {v_1'}^2 + \\frac{1}{2} m_2 {v_2'}^2$\n",
    "\n",
    "Diese Gleichungen müssen vektoriell gelöst werden, da die Geschwindigkeiten Richtungen haben.\n",
    "\n",
    "Die Lösungen für die Geschwindigkeiten nach der Kollision in zwei Dimensionen unter der Annahme einer vollkommen elastischen Kollision und unter Ignorierung der Rotation der Bälle sind:\n",
    "\n",
    "$v_1' = v_1 - \\frac{2 m_2}{m_1 + m_2} \\frac{(v_1 - v_2) \\cdot (c_1 - c_2)}{\\|c_1 - c_2\\|^2} (c_1 - c_2)$\n",
    "\n",
    "$v_2' = v_2 + \\frac{2 m_1}{m_1 + m_2} \\frac{(v_1 - v_2) \\cdot (c_1 - c_2)}{\\|c_1 - c_2\\|^2} (c_1 - c_2)$\n",
    "\n",
    "Hierbei ist $(v_1 - v_2) \\cdot (c_1 - c_2)$ das Skalarprodukt der Vektoren $v_1 - v_2$ und $c_1 - c_2$, und $\\|c_1 - c_2\\|$ ist der Betrag des Vektors $(c_1 - c_2)$, welcher den Abstand zwischen den Zentren der Bälle darstellt.\n"
   ]
  },
  {
   "cell_type": "markdown",
   "metadata": {
    "deletable": false,
    "editable": false
   },
   "source": [
    "<!-- BEGIN QUESTION -->\n",
    "\n",
    "**Aufgabe:** Schreiben Sie eine Funktion, welche die neuen Geschwindigkeiten der Bälle NACH einer Kollision berechnet.  \n",
    "Sie übergeben der Funktion die folgenden Daten.\n",
    "- Koordinaten ($c_1, c_2$)\n",
    "- Geschwindigkeiten ($v_1, v_2$)\n",
    "- Massen ($m_1, m_2$)\n",
    "\n",
    "Für die Berechnung des Betrags können Sie wiederum die Funktion `np.linalg.norm` verwenden.\n",
    "\n",
    "_Points:_ 10"
   ]
  },
  {
   "cell_type": "code",
   "execution_count": null,
   "metadata": {
    "scrolled": true,
    "tags": []
   },
   "outputs": [],
   "source": [
    "def collision(c1, c2, v1, v2, m1, m2):\n",
    "    \"\"\"Elastischer Stoß zwischen den Bällen 1 und 2.\"\"\"\n",
    "    ...\n",
    "    return v1_new, v2_new\n",
    "\n",
    "\n",
    "def test_collision(case):\n",
    "    # Online simulator\n",
    "    # https://phet.colorado.edu/sims/html/collision-lab/latest/collision-lab_all.html\n",
    "    if case == \"x\":\n",
    "        c1 = np.array([1, 1])\n",
    "        c2 = np.array([2, 1])\n",
    "        v1 = np.array([1, 0])\n",
    "        v2 = np.array([-1, 0])\n",
    "    if case == \"y\":\n",
    "        c1 = np.array([1, 1])\n",
    "        c2 = np.array([1, 2])\n",
    "        v1 = np.array([0, 1])\n",
    "        v2 = np.array([0, -1])\n",
    "    if case == \"diagonal\":\n",
    "        c1 = np.array([1, 1])\n",
    "        c2 = np.array([2, 2])\n",
    "        v1 = np.array([1, 1])\n",
    "        v2 = np.array([0, 0])\n",
    "    if case == \"custom\":\n",
    "        c1 = np.array([1, 1])\n",
    "        c2 = np.array([2, 3])\n",
    "        v1 = np.array([1, 1])\n",
    "        v2 = np.array([0, -1])\n",
    "    v1_new, v2_new = collision(c1, c2, v1, v2, 1, 1)\n",
    "    assert np.allclose(np.abs(v2 - v1), np.abs(v2_new - v1_new))\n",
    "    print(f\"{v1=}, {v2=}, {v1_new=}, {v2_new=}\")\n",
    "\n",
    "    # different mass\n",
    "    v1_new, v2_new = collision(c1, c2, v1, v2, 1, 20)\n",
    "    assert np.allclose(np.abs(v2 - v1), np.abs(v2_new - v1_new))\n",
    "    print(f\"{v1=}, {v2=}, {v1_new=}, {v2_new=}\")\n",
    "\n",
    "\n",
    "test_collision(case=\"x\")\n",
    "test_collision(case=\"y\")\n",
    "test_collision(case=\"diagonal\")\n",
    "test_collision(case=\"custom\")"
   ]
  },
  {
   "cell_type": "markdown",
   "metadata": {
    "deletable": false,
    "editable": false
   },
   "source": [
    "<!-- END QUESTION -->\n",
    "\n",
    "<!-- BEGIN QUESTION -->\n",
    "\n",
    "**Aufgabe:** Nun wollen wir eine Funktion implementieren, die alle möglichen Kollisionen in einem Zeitschritt erfasst und die neuen Geschwindigkeiten der Bälle berechnet – und zwar möglichst effizient. \n",
    "\n",
    "Dafür sollten Sie die folgenden Dinge beachten:\n",
    "1. Es macht nicht für alle Ballpaare sinnvoll alle vier Zwischenzeitschritte zu berechnen. Testen Sie daher zunächst, ob sich zwei Bälle bereits näher als $ 8 \\cdot r $ sind.\n",
    "2. Sie können annehmen, dass sich der Ball bis zum Zwischenschritt, in dem die Kollision berechnet wird, mit der alten Geschwindigkeit bewegt, danach mit der neuen. Implementieren Sie dies entsprechend. Achten Sie auch darauf, dass ein Ball, für den eine Kollision berechnet wurde, im selben Zeitschritt keine vollständige Bewegung für $ \\Delta t $ mehr macht.\n",
    "3. Es kann leicht passieren, dass zwei Bälle, die in einem Zeitschritt kollidieren, es nicht schaffen, sich während des Zeitschritts weit genug aufeinander zu bewegen, sodass sie im folgenden Zeitschritt wieder miteinander kollidieren. Das kann dann dazu führen, dass die Bälle sich umkreisen. Um das zu verhindern, verwenden wir eine Maske (`mask`), die dafür sorgt, dass zwei Bälle nicht in zwei (oder mehr) aufeinanderfolgenden Zeitschritten miteinander kollidieren können.\n",
    "\n",
    "Anmerkung: Die Situation, dass mehrere Bälle gleichzeitig, in einem Zeitschritt kollidieren, kann hier vereinfacht ignoriert werden.\n",
    "\n",
    "_Points:_ 10"
   ]
  },
  {
   "cell_type": "code",
   "execution_count": null,
   "metadata": {
    "tags": []
   },
   "outputs": [],
   "source": [
    "def get_all_collisions(c, v, m, r, dt, mask):\n",
    "    ..."
   ]
  },
  {
   "cell_type": "code",
   "execution_count": null,
   "metadata": {
    "nbgrader": {
     "grade": false,
     "grade_id": "cell-dc2022a0f9e20ef2",
     "locked": false,
     "schema_version": 3,
     "solution": true,
     "task": false
    },
    "tags": []
   },
   "outputs": [],
   "source": [
    "import numpy as np\n",
    "\n",
    "# Anfangsbedingungen (Vorschlag)\n",
    "g = np.array([0, -9.81], dtype=np.float64)\n",
    "xmax = 1000\n",
    "ymax = 1000\n",
    "steps = 2000\n",
    "dt = xmax * 1e-5\n",
    "# Anzahl Bälle\n",
    "N = 20\n",
    "\n",
    "# Durchmesser Ball\n",
    "r = xmax * dt\n",
    "print(r)\n",
    "rng = np.random.default_rng(seed=123)\n",
    "\n",
    "\n",
    "# Startpositionen\n",
    "def init(n=N):\n",
    "    c = xmax * rng.random((N, 2))\n",
    "    # Startgeschwindigkeiten, max.\n",
    "    v = np.array([xmax, ymax]) * rng.random((N, 2))\n",
    "    # Masse\n",
    "    m = np.full(N, 0.05)\n",
    "    mask = np.full((N, N), 0, np.int32)\n",
    "    return c, v, m, mask"
   ]
  },
  {
   "cell_type": "markdown",
   "metadata": {
    "deletable": false,
    "editable": false
   },
   "source": [
    "<!-- END QUESTION -->\n",
    "\n",
    "<!-- BEGIN QUESTION -->\n",
    "\n",
    "**Aufgabe:** Implementieren Sie nun einen vollständigen Zeitschritt mit Kollisionen. \n",
    "\n",
    "_Points:_ 10"
   ]
  },
  {
   "cell_type": "code",
   "execution_count": null,
   "metadata": {
    "nbgrader": {
     "grade": false,
     "grade_id": "cell-dc2022a0f9e20ef2",
     "locked": false,
     "schema_version": 3,
     "solution": true,
     "task": false
    },
    "tags": []
   },
   "outputs": [],
   "source": [
    "def timestep_with_collisions(c, v, m, dt, g, xmax, ymax, mask):\n",
    "    \"\"\"\n",
    "    Simulate a timestep for multiple balls with collisions.\n",
    "\n",
    "    Parameters:\n",
    "        c: ...\n",
    "        v: ...\n",
    "        m: Masses\n",
    "        dt: The duration of a single timestep\n",
    "        g: Gravitation\n",
    "        xmax: Box limit in x direction\n",
    "        ymax: Box limit in y direction\n",
    "    \"\"\"\n",
    "    ..."
   ]
  },
  {
   "cell_type": "code",
   "execution_count": null,
   "metadata": {
    "tags": []
   },
   "outputs": [],
   "source": [
    "c, v, m, mask = init()\n",
    "timestep_with_collisions(c, v, m, dt, g, xmax, ymax, mask)"
   ]
  },
  {
   "cell_type": "markdown",
   "metadata": {
    "deletable": false,
    "editable": false
   },
   "source": [
    "<!-- END QUESTION -->\n",
    "\n",
    "<!-- BEGIN QUESTION -->\n",
    "\n",
    "**Aufgabe:** Animieren Sie die Bewegung der Bälle.\n",
    "\n",
    "Tipp: Trennen Sie Simulation und Visualisierung und visualisieren Sie z.B. nur jeden 100. Simulationsschritt. \n",
    "\n",
    "_Points:_ 5"
   ]
  },
  {
   "cell_type": "code",
   "execution_count": null,
   "metadata": {
    "nbgrader": {
     "grade": false,
     "grade_id": "cell-5b3dd7949bee4f33",
     "locked": false,
     "schema_version": 3,
     "solution": true,
     "task": false
    },
    "tags": []
   },
   "outputs": [],
   "source": [
    "..."
   ]
  },
  {
   "cell_type": "markdown",
   "metadata": {
    "deletable": false,
    "editable": false
   },
   "source": [
    "<!-- END QUESTION -->\n",
    "\n",
    "<!-- BEGIN QUESTION -->\n",
    "\n",
    "**Aufgabe:** Analysieren Sie nun die Simulation mit Scalene. Was hat sich gegenüber der alten Version ohne die Kollisionen verändert? \n",
    "\n",
    "_Points:_ 5"
   ]
  },
  {
   "cell_type": "markdown",
   "metadata": {},
   "source": [
    "_Type your answer here, replacing this text._"
   ]
  },
  {
   "cell_type": "code",
   "execution_count": null,
   "metadata": {
    "tags": []
   },
   "outputs": [],
   "source": [
    "c, v, m, mask = init(10)"
   ]
  },
  {
   "cell_type": "code",
   "execution_count": null,
   "metadata": {
    "scrolled": true,
    "tags": []
   },
   "outputs": [],
   "source": [
    "%%scalene --cpu-sampling-rate 0.01\n",
    "..."
   ]
  },
  {
   "cell_type": "code",
   "execution_count": null,
   "metadata": {
    "tags": []
   },
   "outputs": [],
   "source": [
    "c, v, m, mask = init(300)"
   ]
  },
  {
   "cell_type": "code",
   "execution_count": null,
   "metadata": {
    "scrolled": true,
    "tags": []
   },
   "outputs": [],
   "source": [
    "%%scalene --cpu-sampling-rate 0.01\n",
    "..."
   ]
  },
  {
   "cell_type": "markdown",
   "metadata": {
    "deletable": false,
    "editable": false
   },
   "source": [
    "<!-- END QUESTION -->\n",
    "\n",
    "<!-- BEGIN QUESTION -->\n",
    "\n",
    "**Aufgabe:** Versuchen Sie Ihren Code (d.h. `timestep_with_collisions`) zu optimieren, damit er besser skaliert.\n",
    "\n",
    "Vergleichen Sie danach die Ausführungszeiten beider Varianten für 20 Zeitschritte mit $[100, 200,300]$ Bällen.\n",
    "\n",
    "Stellen Sie den Vergleich graphisch dar.\n",
    "\n",
    "_Points:_ 10"
   ]
  },
  {
   "cell_type": "code",
   "execution_count": null,
   "metadata": {
    "tags": []
   },
   "outputs": [],
   "source": [
    "## Optimized CODE\n",
    "import numba\n",
    "\n",
    "\n",
    "..."
   ]
  },
  {
   "cell_type": "code",
   "execution_count": null,
   "metadata": {
    "tags": []
   },
   "outputs": [],
   "source": [
    "c, v, m, mask = init()\n",
    "timestep_with_collisions_numba(c, v, m, dt, g, xmax, ymax, mask)"
   ]
  },
  {
   "cell_type": "code",
   "execution_count": null,
   "metadata": {
    "nbgrader": {
     "grade": false,
     "grade_id": "cell-1f2c0edc65c15a6c",
     "locked": false,
     "schema_version": 3,
     "solution": true,
     "task": false
    },
    "tags": []
   },
   "outputs": [],
   "source": [
    "..."
   ]
  },
  {
   "cell_type": "code",
   "execution_count": null,
   "metadata": {
    "nbgrader": {
     "grade": false,
     "grade_id": "cell-cf17d816ad788e2d",
     "locked": false,
     "schema_version": 3,
     "solution": true,
     "task": false
    },
    "tags": []
   },
   "outputs": [],
   "source": [
    "..."
   ]
  },
  {
   "cell_type": "markdown",
   "metadata": {
    "deletable": false,
    "editable": false
   },
   "source": [
    "<!-- END QUESTION -->\n",
    "\n",
    "## Optimierung des Gauß-Verfahrens (30 Punkte)"
   ]
  },
  {
   "cell_type": "markdown",
   "metadata": {
    "deletable": false,
    "editable": false
   },
   "source": [
    "<!-- BEGIN QUESTION -->\n",
    "\n",
    "**Aufgabe:** Optimieren Sie die Funktionen `lu_decomposition` und `custom_solve` aus der zweiten Einsendeaufgabe mit Hilfe von Numba.\n",
    "\n",
    "An welcher Stelle ist die Verwendung von `prange` richtig und sinnvoll? \n",
    "\n",
    "Vergleichen Sie die Performance vor und nach der Optimierung für Gleichungssysteme der Größe $256\\times 256 $ und $512 \\times 512$.\n",
    "\n",
    "Stellen Sie den Vergleich graphisch dar.\n",
    "\n",
    "_Points:_ 30"
   ]
  },
  {
   "cell_type": "markdown",
   "metadata": {},
   "source": [
    "<span style=\"color: blue;\">\n",
    "  <h2>Python Funktionen vorbereiten</h2>\n",
    "    \n",
    "In der nächsten Zelle werden zunächst die benötigten Bibliotheken geladen:  \n",
    "- `numpy` für grundlegende Array-Operationen  \n",
    "- `numba` (mit `njit` und `prange`) zur Beschleunigung von Python-Schleifen  \n",
    "\n",
    "Anschließend wird die aus EA1 bekannte Funktion **`b_solve`** definiert, die ein lineares Gleichungssystem \\(Ax = b\\) für eine obere Dreiecksmatrix \\(A\\) mittels Rückwärtssubstitution löst. \n",
    "    \n",
    "Die Funktion wurde leicht abgewandelt indem sie nun nicht mehr numpys `np.dot` verwendet, mit welchem zuvor eine innere Schleife vermieden wurde.\n",
    "Die inner Schleife wird hier gezielt wieder eingeführt um eine Parallelisierung mittels numbas `prange` zu ermöglichen. In den Funktionen **`l_solve`** und **`lu_decomposition`** wurde durch äquivalentes Vorgehen ebenfalls eine Parallelisierung der inneren Schleife ermöglicht. Es wird sich zeigen, dass `prange` nur sinnvoll in **`lu_decomposition`** ist.\n",
    "    \n",
    "Wichtig ist, dass die äußere Schleife nie parallel bearbeitet werden sollte, da in diesen Matrixoperationen Ergebnisse aus vorangegangenen Operationen als Parameter verwendet werden.\n",
    "Solch eine Parallelisierung ist tatsächlich im Code implementierbar, was dann aber zu undefiniertem Verhalten und falschen Ergebnissen führt. \n",
    "<span>"
   ]
  },
  {
   "cell_type": "code",
   "execution_count": 10,
   "metadata": {},
   "outputs": [],
   "source": [
    "import numpy as np\n",
    "from numba import njit, prange\n",
    "\n",
    "def b_solve(A, b):\n",
    "    \"\"\"Löst ein lineares Gleichungssystem Ax = b wobei A eine obere Dreiecksmatrix ist\"\"\"\n",
    "\n",
    "    x = np.zeros_like(b, dtype=np.float64)  # Vektor für die Lösung, initialisiert mit Nullen    \n",
    "    n = b.shape[0]\n",
    "    \n",
    "    # Rückwärtssubstitution\n",
    "    for i in range(n - 1, -1, -1):                 \n",
    "        #langsamer summation = np.dot(A[i, i + 1:], x[i + 1:]) # hier wird die Vektorisierung, die numpy zur Verfügung stellt, benutzt, um die Effizienz zu erhöhen\n",
    "        #langsamer x[i] = (b[i] - summation) / A[i, i]  # Berechnung des aktuellen x[i]\n",
    "        \n",
    "        # Berechnung der Summe der Produkte der bekannten x-Werte \n",
    "        summation = b[i]\n",
    "        for j in prange(i+1, n): # prange für parallel\n",
    "            summation -= A[i, j] * x[j]\n",
    "        x[i] = summation / A[i, i]        \n",
    "    return x\n",
    "\n",
    "def lu_decomposition(A):\n",
    "    \"\"\"L und U Matrix werden innerhalb von A Matrix berechnet und der Pivot-Vektor wird ausgegeben\"\"\"\n",
    "    \n",
    "    n = A.shape[0]\n",
    "    P = np.arange(n)\n",
    "    for k in range(n):\n",
    "        \n",
    "        # Pivotisierung: Index der Zeile mit größtem Betrag in Spalte k finden\n",
    "        pivot_index = np.argmax(np.abs(A[k:n, k])) + k\n",
    "        if A[pivot_index, k] == 0:\n",
    "            raise ValueError(\"Matrix ist singulär.\")\n",
    "            \n",
    "        # Zeilen tauschen in A\n",
    "        if pivot_index != k:\n",
    "            A[np.array([k, pivot_index]), :] = A[np.array([pivot_index, k]), :]\n",
    "            P[np.array([k, pivot_index])] = P[np.array([pivot_index, k])]\n",
    "        \n",
    "        #langsamer A[k+1:n, k] /= A[k, k]    # Berechnung L unterhalb der Diagonale        \n",
    "        #langsamer A[k+1:n, k+1:n] -= np.outer(A[k+1:n, k], A[k, k+1:n])    # Berechnung U obere Dreiecksmatrix inklusive Diagonale\n",
    "            \n",
    "        # Multiplikatoren berechnen\n",
    "        v = A[k+1:n, k] / A[k, k]\n",
    "        A[k+1:n, k] = v\n",
    "        # Elimination im Rest der Matrix parallelisiert\n",
    "        for i in prange(k+1, n):\n",
    "            A[i, k+1:n] -= v[i - (k+1)] * A[k, k+1:n]\n",
    "\n",
    "    return P #Pivot-Vektor\n",
    "\n",
    "def l_solve(A, y):\n",
    "    \"\"\"Lösen von Ly = b[P] mit Vorwärtssubstitution. L ist untere Dreiecksmatrix mit Einheitsdiagonale\"\"\"\n",
    "    \n",
    "    # b[P] wird direkt als Parameter y übergeben und inplace berechnet\n",
    "    n = y.shape[0]   \n",
    "    # Vorwärtssubstitution\n",
    "    for i in range(n):        \n",
    "        # langsamer y[i] -= np.dot(A[i,:i], y[:i])\n",
    "        summation = y[i]\n",
    "        for j in prange(i):\n",
    "            summation -= A[i, j] * y[j]\n",
    "        y[i] = summation\n",
    "    return y\n",
    "\n",
    "def custom_solve(A, b):\n",
    "    \"\"\"Löst ein lineares Gleichungssystem Ax = b mittels LU-Zerlegung und gib Vektor x aus\"\"\"   \n",
    "    \n",
    "    A = A.astype(np.float64)    # Sicherstellen, dass mit floats gerechnet wird\n",
    "    b = b.astype(np.float64)\n",
    "    \n",
    "    P = lu_decomposition(A)    # Pivot-Vektor und A (welches LU-Zerlegung enthaelt) werden berechnet   \n",
    "    y = l_solve(A, b[P])    # Ly = b[P] wird geloest fuer y     \n",
    "    x = b_solve(A, y)    # Ux = y wird geloest fuer x    \n",
    "    return x"
   ]
  },
  {
   "cell_type": "markdown",
   "metadata": {},
   "source": [
    "<span style=\"color: blue;\">\n",
    "  <h2>JIT‑Kompilierung und Parallelvarianten</h2>\n",
    "\n",
    "In der nächsten Zelle werden alle zuvor definierten Python‑Funktionen mittels Numba JIT kompiliert, sodass sie in nativem Maschinencode ausgeführt werden können:\n",
    "\n",
    "  \n",
    "  - **Serielle JIT‑Versionen**  \n",
    "    `b_solve_njit`, `lu_decomposition_njit` und `l_solve_njit` werden mit `njit` kompiliert.  \n",
    "\n",
    "  \n",
    "  - **Parallelisierte JIT‑Versionen**  \n",
    "    `b_solve_njit_par`, `lu_decomposition_njit_par` und `l_solve_njit_par` nutzen `parallel=True` für Multi‑Core‑Execution.  \n",
    "\n",
    "  \n",
    "  - **Gesamtfunktionen**  \n",
    "   - `cs_njit`: Führt LU‑Zerlegung, Vorwärts‑ und Rückwärtssubstitution vollständig in reinem Numba‑Code aus dank jit-Kompilierung.  \n",
    "   - `cs_parallel_solve`: Verwendet zusätzlich zu njit parallele Vorwärts- und Rückwärtssubstitution aber serielle LU-Zerlegung\n",
    "   - `cs_parallel_lu`: Verwendet zusätzlich zu njit parallele Ausführung der LU‑Zerlegung gefolgt von serieller Substitution.  \n",
    "</span>\n"
   ]
  },
  {
   "cell_type": "code",
   "execution_count": 11,
   "metadata": {},
   "outputs": [],
   "source": [
    "#njit Versionen aller python Funktionen\n",
    "#njit steht für \"No python objects Just In Time compilation\"\n",
    "b_solve_njit = njit(b_solve)\n",
    "lu_decomposition_njit = njit(lu_decomposition)\n",
    "l_solve_njit = njit(l_solve)   \n",
    "\n",
    "#njit Versionen parallelisiert\n",
    "b_solve_njit_par = njit(b_solve, parallel=True)\n",
    "lu_decomposition_njit_par = njit(lu_decomposition, parallel=True)\n",
    "l_solve_njit_par = njit(l_solve, parallel=True)\n",
    "\n",
    "\n",
    "@njit\n",
    "def cs_njit(A, b):\n",
    "    \"\"\"njit Version von custom_solve\"\"\"\n",
    "    A = A.astype(np.float64)    # Sicherstellen, dass mit floats gerechnet wird\n",
    "    b = b.astype(np.float64)\n",
    "    \n",
    "    P = lu_decomposition_njit(A)    # Pivot-Vektor und A (welches LU-Zerlegung enthaelt) werden berechnet   \n",
    "    y = l_solve_njit(A, b[P])    # Ly = b[P] wird geloest fuer y     \n",
    "    x = b_solve_njit(A, y)    # Ux = y wird geloest fuer x    \n",
    "    return x\n",
    "\n",
    "@njit\n",
    "def cs_parallel_solve(A, b):\n",
    "    \"\"\"njit Version von custom_solve mit solve Funktionen parallel\"\"\"\n",
    "    A = A.astype(np.float64)    # Sicherstellen, dass mit floats gerechnet wird\n",
    "    b = b.astype(np.float64)\n",
    "    \n",
    "    P = lu_decomposition_njit(A)    # Pivot-Vektor und A (welches LU-Zerlegung enthaelt) werden berechnet   \n",
    "    y = l_solve_njit_par(A, b[P])    # Ly = b[P] wird geloest fuer y     \n",
    "    x = b_solve_njit_par(A, y)    # Ux = y wird geloest fuer x    \n",
    "    return x\n",
    "\n",
    "@njit\n",
    "def cs_parallel_lu(A, b):\n",
    "    \"\"\"njit Version von custom_solve mit lu_decomposition parallel\"\"\"\n",
    "    A = A.astype(np.float64)    # Sicherstellen, dass mit floats gerechnet wird\n",
    "    b = b.astype(np.float64)\n",
    "    \n",
    "    P = lu_decomposition_njit_par(A)    # Pivot-Vektor und A (welches LU-Zerlegung enthaelt) werden berechnet   \n",
    "    y = l_solve_njit(A, b[P])    # Ly = b[P] wird geloest fuer y     \n",
    "    x = b_solve_njit(A, y)    # Ux = y wird geloest fuer x    \n",
    "    return x"
   ]
  },
  {
   "cell_type": "markdown",
   "metadata": {},
   "source": [
    "<span style=\"color: blue;\">\n",
    "  <h2>Messung der Laufzeiten</h2>\n",
    "\n",
    "In der nächsten Zelle erfolgt ein systematischer Test der verschiedenen Lösungsvarianten:\n",
    "\n",
    "  \n",
    "  - **Modulimporte & Konfiguration**  \n",
    "    Import von `scipy.linalg` und `perf_counter_ns` sowie Festlegung von `iterations` (Anzahl der Durchläufe), `dimensions` (Matrixgrößen) und  \n",
    "    `function_variations` (Liste der Solve‑Funktionen: `cs_njit`, `cs_parallel_solve`, `cs_parallel_lu`, `custom_solve`).  \n",
    "\n",
    "  \n",
    "  - **Initialisierung der Laufzeitspeicher**  \n",
    "    Ein Dictionary `run_times_dict` wird angelegt, um für jede Methode und Matrixdimension die kumulierten Laufzeiten zu erfassen.  \n",
    "\n",
    "  \n",
    "  - **Testschleifen**  \n",
    "    Für jede Matrixgröße und jede Funktion wird eine belibiebige Matrix A erzeugt, die Lösung entsprechend der Methode berechnet, mit `linalg.solve` auf  \n",
    "    Korrektheit geprüft (mittels `assert`) und die benötigte Zeit gemessen.  \n",
    "\n",
    "  \n",
    "  - **Ergebnisaggregation**  \n",
    "    Die gemessenen Laufzeiten aller Iterationen werden summiert und in `run_times_dict` abgelegt, um später eine Performance‑Analyse durchzuführen.  \n",
    "</span>\n"
   ]
  },
  {
   "cell_type": "code",
   "execution_count": 5,
   "metadata": {},
   "outputs": [
    {
     "name": "stdout",
     "output_type": "stream",
     "text": [
      "Funktionsvariante  Dimension  Ø-Laufzeit  \n",
      "cs_njit            256        3.276 ms\n",
      "cs_njit            512        23.863 ms\n",
      "\n",
      "cs_parallel_solve  256        7.513 ms\n",
      "cs_parallel_solve  512        33.035 ms\n",
      "\n",
      "cs_parallel_lu     256        5.588 ms\n",
      "cs_parallel_lu     512        13.814 ms\n",
      "\n",
      "custom_solve       256        53.718 ms\n",
      "custom_solve       512        225.936 ms\n",
      "\n"
     ]
    }
   ],
   "source": [
    "import scipy.linalg as linalg\n",
    "from time import perf_counter_ns\n",
    "\n",
    "# Vergleicht Ergebnisse von custom_solve mit linalg.solve mittels assert-Bedingung\n",
    "# berechnet auch die Laufzeit\n",
    "\n",
    "iterations = 20    # Anzahl der Wiederholungen\n",
    "dimensions = [256, 512]    # Matrix A hat Dimension n x n \n",
    "function_variations = [cs_njit, cs_parallel_solve, cs_parallel_lu, custom_solve] # Funktionsvarianten von custom_solve \n",
    "run_times_dict = dict([(f.__name__, dict([(n,0.) for n in dimensions])) for f in function_variations])    # dict in dem die run_times gemessen werden\n",
    "\n",
    "print(f\"{\"Funktionsvariante\":<18} {\"Dimension\":<10} {\"Ø-Laufzeit\":<12}\")\n",
    "# unterschiedliche Funktions varianten werden variiert\n",
    "for custom_solve_variation in function_variations:     \n",
    "    _run_times = run_times_dict[custom_solve_variation.__name__] # run_times der aktuellen Funktion\n",
    "    \n",
    "    for n in dimensions: \n",
    "        rng = np.random.default_rng(seed=123)    # random seed für Reproduzierbarkeit\n",
    "        A = rng.random((n, n))\n",
    "        b = rng.random(n)   \n",
    "        linalg_x = linalg.solve(A, b)    # Ergebniss von linalg.solve zum Prüfen der Korrektheit\n",
    "        \n",
    "        for run in range(iterations + 1):     # Funktionen wiederholen zum testen der Performance \n",
    "            start_ns = perf_counter_ns()     # Startzeitpunkt in ns\n",
    "            custom_x = custom_solve_variation(A, b)\n",
    "            if run > 0: # Durchlauf 0 compiliert und weicht von der Laufzeit stark ab \n",
    "                _run_times[n] += perf_counter_ns() - start_ns # Laufzeit wird in dict summiert    \n",
    "\n",
    "        #sicherstellen, dass Ergebnisse gleich sind, float-Unpraezision ignorieren\n",
    "        assert np.allclose(linalg_x, custom_x), f\"Fehler bei Dimension {n} mit Funktion {custom_solve_variation.__name__}\"  \n",
    "        \n",
    "        print(f\"{custom_solve_variation.__name__:<18} {n:<10} {_run_times[n] / iterations / 1e6:.3f} ms\")\n",
    "    print()    # Leerzeile"
   ]
  },
  {
   "cell_type": "code",
   "execution_count": 14,
   "metadata": {},
   "outputs": [
    {
     "name": "stdout",
     "output_type": "stream",
     "text": [
      "23.6 ms ± 56.3 µs per loop (mean ± std. dev. of 7 runs, 1 loop each)\n"
     ]
    }
   ],
   "source": [
    "%%timeit\n",
    "custom_x = cs_njit(A, b)    # berechnete Laufzeit kann mit %%timeit line-magic verifiziert werden"
   ]
  },
  {
   "cell_type": "markdown",
   "metadata": {},
   "source": [
    "<span style=\"color: blue;\">\n",
    "  \n",
    "  **Performance‑Vergleich (256×256):**   \n",
    "    \n",
    "  - **`cs_njit`:** 3,276 ms → ca. 16,4× schneller  \n",
    "  - **`cs_parallel_lu`:** 5,588 ms → ca. 9,6× schneller  \n",
    "  - **`cs_parallel_solve`:** 7,513 ms → ca. 7,1× schneller  \n",
    "  - **Original `custom_solve`:** 53,718 ms  \n",
    "  \n",
    "  **Performance‑Vergleich (512×512):**  \n",
    "   \n",
    "  - **`cs_njit`:** 23,863 ms → ca. 9,5× schneller  \n",
    "  - **`cs_parallel_lu`:** 13,814 ms → ca. 16,4× schneller  \n",
    "  - **`cs_parallel_solve`:** 33,035 ms → ca. 6,8× schneller  \n",
    "  - **Original `custom_solve`:** 225,936 ms  \n",
    "  \n",
    "  Numba verbessert die Laufzeit deutlich. Die Verwendung von `prange` lohnt sich nur für die innere Schleife der LU‑Zerlegung bei großen Matrizen.  \n",
    "  Die Laufzeiten variieren wieder von System zu System.  \n",
    "</span>\n",
    "\n"
   ]
  },
  {
   "cell_type": "markdown",
   "metadata": {},
   "source": [
    "<span style=\"color: blue;\">\n",
    "  <h2>Visualisierung der Laufzeiten</h2>\n",
    "\n",
    "In der nächsten Zelle werden die durchschnittlichen Laufzeiten aller Solve‑Varianten je Matrixdimension berechnet und als logarithmisches Balkendiagramm dargestellt:\n",
    "\n",
    "  \n",
    "  - **Berechnung der Durchschnittswerte**  \n",
    "    Die in `run_times_dict` gesammelten Gesamtlaufzeiten werden durch `iterations` geteilt und von Nanosekunden in Millisekunden umgerechnet.  \n",
    "\n",
    "  \n",
    "  - **Erstellung des Balkendiagramms**  \n",
    "    Für jede Funktion werden nebeneinanderstehende Balken gezeichnet. Die Variable `width` steuert die Breite, und die x‑Positionen werden entsprechend der Anzahl der Funktionen verschoben.  \n",
    "\n",
    "  \n",
    "  - **Logarithmische Skalierung**  \n",
    "    Die y‑Achse ist mit `plt.yscale('log')` auf Log‑Skala eingestellt, um große Zeitunterschiede übersichtlich abzubilden.  \n",
    "\n",
    "  \n",
    "  - **Anpassung der Achsenbeschriftungen**  \n",
    "    - x‑Ticks entsprechen den Matrixdimensionen (`dimensions`)  \n",
    "    - y‑Ticks werden auf die Original‑Werte gesetzt und mit einer Nachkommastelle formatiert  \n",
    "\n",
    "  \n",
    "  - **Feinschliff**  \n",
    "    Achsentitel, Diagrammtitel, Legende und Gitternetzlinien werden hinzugefügt; abschließend sorgt `plt.tight_layout()` für ein sauberes Layout.  \n",
    "</span>\n"
   ]
  },
  {
   "cell_type": "code",
   "execution_count": 12,
   "metadata": {},
   "outputs": [
    {
     "data": {
      "image/png": "[encoded data removed]",
      "text/plain": [
       "<Figure size 1000x500 with 1 Axes>"
      ]
     },
     "metadata": {},
     "output_type": "display_data"
    }
   ],
   "source": [
    "import matplotlib.pyplot as plt\n",
    "\n",
    "# Berechnung der Durchschnittlichen Laufzeiten in ms pro Dimension\n",
    "run_times_means = dict([(func, [v / iterations / 1e6 for v in run_times_dict[func].values()]) for func in run_times_dict])\n",
    "\n",
    "# Plot-Einstellungen\n",
    "#x = list(range(len(dimensions))  # Positionen für Dimensionsgruppen\n",
    "width = .2                # Breite der Balken\n",
    "\n",
    "plt.figure(figsize=(10, 5))\n",
    "for i, func in enumerate(run_times_means.keys()):\n",
    "    plt.bar([x + i * width for x in range(len(dimensions))], run_times_means[func], width, label=func)\n",
    "\n",
    "plt.xlabel('Matrix-Dimension n')\n",
    "plt.ylabel('Ø-Laufzeit in ms, log-Skala)')\n",
    "plt.title('Laufzeitenvergleich als Balkendiagramm (logarithmisch)')\n",
    "plt.yscale('log')\n",
    "\n",
    "# Alle Werte sammeln und sortieren für die Achsenbeschriftung\n",
    "all_times = [t for _run_times in run_times_means.values() for t in _run_times]\n",
    "# Setze y-Ticks auf die Originalwerte\n",
    "plt.yticks(all_times, [f\"{t:.1f}\" for t in all_times])\n",
    "\n",
    "# Position von n auf der x-Achse\n",
    "plt.xticks([x + width * (len(run_times_means) - 1) / 2 for x in range(len(dimensions))], dimensions)\n",
    "plt.legend()\n",
    "plt.grid(axis='y', which='major', linestyle='--', linewidth=0.5)\n",
    "plt.tight_layout()\n",
    "plt.show()"
   ]
  },
  {
   "cell_type": "markdown",
   "metadata": {},
   "source": [
    "<span style=\"color: blue;\">\n",
    "  <h2>Schnittpunkt‑Analyse und Liniendiagramm</h2>\n",
    "\n",
    "In der nächsten Zelle werden die linear interpolierten Laufzeiten für `cs_njit` und `cs_parallel_lu` bestimmt und ihr Schnittpunkt im Liniendiagramm visualisiert:\n",
    "\n",
    "  \n",
    "  - **Berechnung der Geradenparameter**  \n",
    "    Für beide Funktionen (`cs_njit`, `cs_parallel_lu`) werden Steigung \\(m\\) und Achsenabschnitt \\(b\\) aus den Mittelwerten bei Dimensionen \\(n_1=256\\) und \\(n_2=512\\) hergeleitet.  \n",
    "\n",
    "  \n",
    "  - **Schnittpunkt ermitteln**  \n",
    "    Der Schnittpunkt wird analytisch aus den beiden Geradengleichungen berechnet.  \n",
    "\n",
    "  \n",
    "  - **Liniendiagramm zeichnen**  \n",
    "    - Für jede Solve‑Variante (außer `custom_solve`) werden die Mittelwerte der Laufzeiten für Dimension n als Linien mit Markern dargestellt.  \n",
    "    - Der berechnete Schnittpunkt wird mit `plt.scatter` hervorgehoben und durch eine gestrichelte vertikale Linie gekennzeichnet.  \n",
    "\n",
    "  \n",
    "  - **Beobachtung**  \n",
    "    - `cs_parallel_solve` hat stets höhere Laufzeiten\n",
    "    - `cs_njit` hat sehr niedrige Laufzeiten bei geringem n, jedoch steigen diese deutlich mit zunehmendem n\n",
    "    - `cs_parallel_lu` hat den geringsten Anstieg der Laufzeit bei steigendem n\n",
    "    - ab dem errechneten Schnittpunkt wird `cs_parallel_lu` zur schnellsten Funktion\n",
    "</span>\n"
   ]
  },
  {
   "cell_type": "code",
   "execution_count": 13,
   "metadata": {},
   "outputs": [
    {
     "data": {
      "image/png": "[encoded data removed]",
      "text/plain": [
       "<Figure size 1000x500 with 1 Axes>"
      ]
     },
     "metadata": {},
     "output_type": "display_data"
    }
   ],
   "source": [
    "# Berechnung der Geradenparameter für die beiden Linien\n",
    "n1, n2 = 256 , 512\n",
    "# cs_njit\n",
    "y1_njit, y2_njit = run_times_means['cs_njit']\n",
    "m1 = (y2_njit - y1_njit) / (n2 - n1)\n",
    "b1 = y1_njit - m1 * n1\n",
    "# cs_parallel_lu\n",
    "y1_lu, y2_lu = run_times_means['cs_parallel_lu']\n",
    "m2 = (y2_lu - y1_lu) / (n2 - n1)\n",
    "b2 = y1_lu - m2 * n1\n",
    "\n",
    "# Schnittpunkt berechnen\n",
    "n_int = (b2 - b1) / (m1 - m2)\n",
    "y_int = m1 * n_int + b1\n",
    "\n",
    "# Plot: Liniendiagramm aller Funktionen\n",
    "plt.figure(figsize=(10, 5))\n",
    "for func, times in run_times_means.items():\n",
    "    if func != 'custom_solve':\n",
    "        plt.plot(dimensions, times, marker='o', label=func)\n",
    "\n",
    "# Schnittpunkt markieren\n",
    "plt.scatter([n_int], [y_int], zorder=5)\n",
    "plt.axvline(n_int, linestyle='--', linewidth=1)\n",
    "\n",
    "plt.xlabel('Matrix-Dimension n')\n",
    "plt.ylabel('Ø-Laufzeit (ms)')\n",
    "plt.title('Laufzeitenvergleich als Liniendiagramm')\n",
    "plt.xticks([n1, n_int, n2], [str(n1), f'{n_int:.0f}', str(n2)])\n",
    "plt.legend()\n",
    "plt.grid(axis='y', which='major', linestyle='--', linewidth=0.5)\n",
    "plt.tight_layout()\n",
    "plt.show()"
   ]
  },
  {
   "cell_type": "markdown",
   "metadata": {
    "deletable": false,
    "editable": false
   },
   "source": [
    "<!-- END QUESTION -->\n",
    "\n",
    "Führen Sie alle Zellen im Notebook aus und speichern Sie es.  \n",
    "Danach können Sie mit der folgenden Zelle eine HTML-Datei erstellen.  \n",
    "Eine mögliche `UserWarning` können Sie ignorieren.  \n",
    "Bitte geben Sie das Notebook als `.ipynb` und `.html` Datei ab."
   ]
  },
  {
   "cell_type": "code",
   "execution_count": null,
   "metadata": {},
   "outputs": [],
   "source": [
    "#!jupyter nbconvert --to html EA3.ipynb"
   ]
  }
 ],
 "metadata": {
  "kernelspec": {
   "display_name": "Python 3 (ipykernel)",
   "language": "python",
   "name": "python3"
  },
  "language_info": {
   "codemirror_mode": {
    "name": "ipython",
    "version": 3
   },
   "file_extension": ".py",
   "mimetype": "text/x-python",
   "name": "python",
   "nbconvert_exporter": "python",
   "pygments_lexer": "ipython3",
   "version": "3.12.3"
  },
  "otter": {
   "OK_FORMAT": true,
   "assignment_name": "EA3",
   "tests": {
    "animation": {
     "name": "animation",
     "points": 5,
     "suites": [
      {
       "cases": [],
       "scored": true,
       "setup": "",
       "teardown": "",
       "type": "doctest"
      }
     ]
    },
    "collision": {
     "name": "collision",
     "points": 10,
     "suites": [
      {
       "cases": [],
       "scored": true,
       "setup": "",
       "teardown": "",
       "type": "doctest"
      }
     ]
    },
    "gauss": {
     "name": "gauss",
     "points": 30,
     "suites": [
      {
       "cases": [],
       "scored": true,
       "setup": "",
       "teardown": "",
       "type": "doctest"
      }
     ]
    },
    "get_all_collisions": {
     "name": "get_all_collisions",
     "points": 10,
     "suites": [
      {
       "cases": [],
       "scored": true,
       "setup": "",
       "teardown": "",
       "type": "doctest"
      }
     ]
    },
    "mandelbrot": {
     "name": "mandelbrot",
     "points": 7,
     "suites": [
      {
       "cases": [],
       "scored": true,
       "setup": "",
       "teardown": "",
       "type": "doctest"
      }
     ]
    },
    "mandelbrot_scalene": {
     "name": "mandelbrot_scalene",
     "points": 3,
     "suites": [
      {
       "cases": [],
       "scored": true,
       "setup": "",
       "teardown": "",
       "type": "doctest"
      }
     ]
    },
    "scalene_init": {
     "name": "scalene_init",
     "points": 5,
     "suites": [
      {
       "cases": [],
       "scored": true,
       "setup": "",
       "teardown": "",
       "type": "doctest"
      }
     ]
    },
    "timestep_with_collisions": {
     "name": "timestep_with_collisions",
     "points": 10,
     "suites": [
      {
       "cases": [],
       "scored": true,
       "setup": "",
       "teardown": "",
       "type": "doctest"
      }
     ]
    },
    "timestep_with_collisions_optimized": {
     "name": "timestep_with_collisions_optimized",
     "points": 10,
     "suites": [
      {
       "cases": [],
       "scored": true,
       "setup": "",
       "teardown": "",
       "type": "doctest"
      }
     ]
    },
    "will_collide": {
     "name": "will_collide",
     "points": 10,
     "suites": [
      {
       "cases": [
        {
         "code": ">>> v0 = np.array([1, 1])\n>>> v1 = np.array([-1, -1])\n>>> c0 = np.array([0, 0])\n>>> c1 = np.array([0, 1])\n>>> r = 0.5\n>>> dt = 1\n>>> assert will_collide(c0, v0, c1, v1, r, dt)\n>>> v0 = np.array([-1, -1])\n>>> c0 = np.array([1, 1])\n>>> assert not will_collide(c0, v0, c1, v1, r, dt)\n",
         "hidden": false,
         "locked": false
        }
       ],
       "scored": true,
       "setup": "",
       "teardown": "",
       "type": "doctest"
      }
     ]
    }
   }
  }
 },
 "nbformat": 4,
 "nbformat_minor": 4
}
