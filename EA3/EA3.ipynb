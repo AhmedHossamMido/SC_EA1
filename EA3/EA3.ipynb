{
 "cells": [
  {
   "cell_type": "markdown",
   "metadata": {},
   "source": [
    "# Einsendeaufgabe 3: Numba (100 Punkte)\n",
    "\n",
    "In diesem Abschnitt möchten wir unsere Applikationen mit Numba beschleunigen.\n",
    "\n",
    "## Mandelbrot-Set (10 Punkte)\n",
    "\n",
    "Wir beginnen mit einem klassischen Beispiel für Parallelisierung: dem Mandelbrot-Set.\n",
    "\n",
    "Die Mandelbrot-Menge wird durch die Gleichung $z_{n+1} = z_n^2 + c$ beschrieben. In dieser Gleichung sind $c$ und $z$ komplexe Zahlen, und $n$ ist Null oder eine positive ganze Zahl. Ausgehend von $z_0=0$, gehört $c$ zur Mandelbrot-Menge, wenn der Absolutwert von $z_n$ niemals größer als eine bestimmte Zahl wird (diese Zahl ist abhängig von $c$), egal wie groß $n$ wird.\n",
    "\n",
    "Das bedeutet, eine komplexe Zahl $c$ ist ein Element der Mandelbrotmenge, wenn die Beträge der mit diesem $c$ berechneten $z_{n}$ nicht unbegrenzt wachsen, unabhängig davon, wie groß $n$ wird. Es lässt sich leicht zeigen, dass der Betrag von $z_{n}$ unbegrenzt wächst, sobald ein $z_{n}$ mit $|z_{n}|>2$ auftritt.\n",
    "\n",
    "Bei der Berechnung des Mandelbrot-Sets legt man oft eine obere Grenze für die maximalen Iterationen fest, um zu testen, ob diese überschritten wird.\n",
    "\n",
    "Ein einfacher Algorithmus zur Bestimmung, ob ein Wert zum Mandelbrot-Set gehört, sieht folgendermaßen aus:"
   ]
  },
  {
   "cell_type": "code",
   "execution_count": null,
   "metadata": {},
   "outputs": [],
   "source": [
    "import numba\n",
    "import numpy as np\n",
    "\n",
    "\n",
    "def escape_time(p, maxiter):\n",
    "    \"\"\"Perform the Mandelbrot iteration until it's clear that p diverges\n",
    "    or the maximum number of iterations has been reached.\n",
    "\n",
    "    Parameters\n",
    "    ----------\n",
    "    p: complex\n",
    "        point in the complex plane\n",
    "\n",
    "    maxiter: int\n",
    "        maximum number of iterations to perform before p is considered in\n",
    "        the Mandelbrot set.\n",
    "\n",
    "    Bleibt die Folge mit dieser Startzahl p innerhalb eines stabilen Bereichs?\n",
    "    wenn ja, gibt sie maxiter (400) zurück (die maximale Anzahl an Iterationen wurde \n",
    "    durchlaufen, ohne dass |z| > 2 wurde)\n",
    "\n",
    "    Wie lange ein Punkt im komplexen Zahlenraum \"stabil\" bleibt, bevor die Folge „explodiert“.\n",
    "    Wenn die maximale Iteration (maxiter) erreicht wurde: Die Zahl liegt wahrscheinlich in der \n",
    "    Mandelbrot-Menge.\n",
    "\n",
    "    \"\"\"\n",
    "    z = 0j # Startwert der Folge ist 0 (als komplexe Zahl)\n",
    "    for i in range(maxiter): # Schleife mit maximaler Länge maxiter\n",
    "        z = z**2 + p # Berechnet das nächste Glied der Folge\n",
    "        if abs(z) > 2: # Wenn der Betrag von z größer als 2 wird ...\n",
    "            return i # ... dann \"entweicht\" die Folge => p gehört NICHT zur Mandelbrot-Menge\n",
    "    return maxiter # Wenn die Folge maxiter Durchläufe überlebt, ohne zu entweichen => p ist wahrscheinlich in der Menge\n",
    "\n",
    "\n",
    "a = np.array([0.2 + 0.2j])  # komplexe Zahl als NumPy-Array\n",
    "escape_time(a, 400) # Problemchen: Die Funktion escape_time erwartet eine einzelne komplexe Zahl, kein Array von komplexen Zahlen!"
   ]
  },
  {
   "cell_type": "markdown",
   "metadata": {},
   "source": [
    "Die Zahl $0.2+0.2j$ liegt also in der Mandelbrot Menge, da wir nach 400 Iterationen noch nicht die Abbruchbedingung erfüllen.  Allerdings ist es mühsam, jede Zahl einzeln zu testen. Wir erstellen also ein 2-D Feld mit vielen Komplexen Zahlen $|z|<2$: "
   ]
  },
  {
   "cell_type": "code",
   "execution_count": null,
   "metadata": {},
   "outputs": [],
   "source": [
    "real_param = (-1.5, 1.1, 1500) # Tupel mit drei Werten: (Start, Stop, Anzahl Schritte) für den realen Teil der komplexen Zahl\n",
    "imag_param = (-1.5j, 1.1j, 1500) # Tupel mit drei Werten: (Start, Stop, Anzahl Schritte) für den imaginären Teil der komplexen Zahl\n",
    "\n",
    "# Von -1.5 bis 1.1, in 1500 Schritten (für die x-Achse bzw. den Realteil der komplexen Zahlen)\n",
    "# Von -1.5j bis 1.1j, auch in 1500 Schritten (für die y-Achse bzw. den Imaginärteil)\n",
    "# z. B. p.linspace(*(-1.5, 1.1, 1500)) wird zu np.linspace(-1.5, 1.1, 1500). \n",
    "# Der Stern ist ist ein \"Unpacking Operator\" in Python.\n",
    "XX, YY = np.meshgrid(np.linspace(*real_param), np.linspace(*imag_param))\n",
    "\n",
    "# Erzeugt ein 2D-Feld komplexer Zahlen aus den Gitterpunkten:\n",
    "# XX enthält die Realteile, YY die Imaginärteile → ergibt die komplexen Zahlen c = x + iy\n",
    "P = XX + YY"
   ]
  },
  {
   "cell_type": "markdown",
   "metadata": {
    "deletable": false,
    "editable": false
   },
   "source": [
    "<!-- BEGIN QUESTION -->\n",
    "\n",
    "**Aufgabe:**  \n",
    "- Vektorisieren Sie die Funktion mit `np.vectorize`\n",
    "- Vektorisieren Sie die Funktion mit `numba.vectorize`\n",
    "- Testen Sie, ob der Parallel-Parameter funktioniert und ob er Performance-Vorteile bringt\n",
    "- Vergleichen Sie die Laufzeit der drei Versionen und stellen Sie den Vergleich graphisch dar\n",
    "\n",
    "_Points:_ 7"
   ]
  },
  {
   "cell_type": "markdown",
   "metadata": {},
   "source": [
    "## Vektorisieren mit `np.vectorize` und `numba.vectorize` (ohne und mit dem Parallel-Parameter) sowie Performance-Vergleiche\n",
    "\n",
    "In dieser Aufgabe beschäftigen wir uns mit der Berechnung der Mandelbrot-Menge – einem klassischen Beispiel aus der Fraktal-Geometrie. Dabei nutzen wir das sogenannte *Escape-Time-Verfahren*, das für jeden Punkt in der komplexen Zahlenebene bestimmt, ob er zur Mandelbrot-Menge gehört. Diese Berechnung ist sehr rechenintensiv, besonders bei hoher Auflösung – ideal also, um verschiedene Optimierungstechniken zu untersuchen.\n",
    "\n",
    "Ein zentrales Ziel ist die **Vektorisierung** der Escape-Time-Funktion. In diesem Kontext bedeutet *Vektorisieren*, dass eine Funktion, die ursprünglich für einen einzelnen Wert definiert ist (hier: eine komplexe Zahl), so umgeschrieben oder umgewandelt wird, dass sie effizient auf ganze Arrays von Werten gleichzeitig angewendet werden kann. Dabei wird der Code so umgestaltet, dass er intern Schleifen vermeidet oder sie automatisch durch optimierte Backend-Implementierungen ersetzt. Das reduziert typischerweise den Overhead expliziter Python-Schleifen und verbessert die Performance – manchmal dramatisch.\n",
    "\n",
    "Wir betrachten drei konkrete Ansätze der Vektorisierung:\n",
    "\n",
    "1. **`np.vectorize`**: Diese Methode stellt eine einfache Möglichkeit dar, Funktionen auf NumPy-Arrays anzuwenden. Technisch gesehen ist dies jedoch lediglich syntaktischer Zucker – sie bietet keine echten Geschwindigkeitsvorteile, da intern weiterhin eine Python-Schleife ausgeführt wird.\n",
    "\n",
    "2. **`numba.vectorize`**: Diese Variante kompiliert die Funktion Just-in-Time (JIT) zu Maschinencode. Das kann bereits signifikante Performance-Gewinne bringen, insbesondere bei numerischen Berechnungen.\n",
    "\n",
    "3. **`numba.vectorize(..., target='parallel')`**: Zusätzlich zur Kompilierung versucht diese Option, die Berechnungen auf mehrere CPU-Kerne zu verteilen. Damit lässt sich bei großen Arrays und ausreichend Rechenkernen ein weiterer Geschwindigkeitsvorteil erzielen – sofern der Overhead der Parallelisierung nicht überwiegt.\n",
    "\n",
    "Wir messen für alle drei Varianten die Ausführungszeit mit `timeit`, vergleichen die Ergebnisse und die Unterschiede. Ziel ist es, ein Gespür dafür zu bekommen, wie effektiv verschiedene Formen der Vektorisierung in der Praxis sind – und wann sich der Einsatz von `Numba` wirklich lohnt.\n"
   ]
  },
  {
   "cell_type": "code",
   "execution_count": 9,
   "metadata": {
    "nbgrader": {
     "grade": false,
     "grade_id": "cell-a9c8fa600a8421a5",
     "locked": false,
     "schema_version": 3,
     "solution": true,
     "task": false
    },
    "tags": []
   },
   "outputs": [
    {
     "name": "stdout",
     "output_type": "stream",
     "text": [
      "Zeit für np.vectorize: 10.9214 Sekunden\n",
      "Zeit für numba.vectorize: 0.9113 Sekunden\n",
      "Zeit für numba.vectorize (parallel): 0.9654 Sekunden\n"
     ]
    },
    {
     "data": {
      "image/png": "[encoded data removed]",
      "text/plain": [
       "<Figure size 640x480 with 2 Axes>"
      ]
     },
     "metadata": {},
     "output_type": "display_data"
    }
   ],
   "source": [
    "import numba                     # Für Performance-Optimierung durch JIT-Kompilierung\n",
    "import numpy as np               # Für numerische Operationen und Arrays\n",
    "import timeit                    # Zum Messen der Ausführungszeit\n",
    "import matplotlib.pyplot as plt  # Zum Visualisieren der Mandelbrot-Menge\n",
    "\n",
    "# -------------------------------------------------------------------\n",
    "# ESCAPE-TIME-FUNKTION (Skalare Version ohne Beschleunigung)\n",
    "# Diese Funktion prüft für einen komplexen Punkt p, ob er zur Mandelbrot-Menge gehört.\n",
    "# Dafür wird wiederholt die Formel z = z² + p berechnet. Wenn der Betrag von z > 2 wird,\n",
    "# verlässt die Folge die Menge. Die Anzahl der benötigten Schritte nennt man \"Escape-Time\".\n",
    "# -------------------------------------------------------------------\n",
    "def escape_time(p, maxiter):\n",
    "    z = 0j  # Startwert z = 0 (komplexe Zahl 0 + 0j)\n",
    "    for i in range(maxiter):\n",
    "        z = z*z + p     # Iterationsformel\n",
    "        if abs(z) > 2:  # Wenn Betrag > 2, verlässt die Folge die Menge\n",
    "            return i    # Anzahl der benötigten Schritte wird zurückgegeben\n",
    "    return maxiter      # Wenn nie > 2, gehört p zur Mandelbrot-Menge\n",
    "\n",
    "# -------------------------------------------------------------------\n",
    "# VARIANTE 1: np.vectorize (bequem, aber langsam)\n",
    "# Diese Methode sieht vektoriell aus, ist aber eigentlich eine Schleifenverpackung.\n",
    "# Ideal für Verständnis, nicht für Performance.\n",
    "# -------------------------------------------------------------------\n",
    "def mandelbrot_set_np_vectorized(P, maxiter):\n",
    "    # np.vectorize(...) ist eine bequeme Methode, um eine normale (skalare) Funktion\n",
    "    # (wie escape_time) auf ganze NumPy-Arrays anzuwenden.\n",
    "    vectorized_escape_time = np.vectorize(escape_time)\n",
    "    \n",
    "    # vectorized_escape_time ist jetzt eine Funktion, die intern über jedes einzelne Element\n",
    "    # von P iteriert und escape_time darauf anwendet – man kann sie wie eine Array-Funktion verwenden.\n",
    "    \n",
    "    # Wir wenden die erzeugte vectorized_escape_time-Funktion auf das gesamte 2D-Array P an\n",
    "    # und geben das Ergebnis zurück (ein Array mit Iterationszahlen).\n",
    "    return vectorized_escape_time(P, maxiter) # Gibt ein 2D-Array zurück, das für jeden Punkt in P die Escape-Time enthält.\n",
    "                                               # Beispiel: Wenn P = [[0+0j, 0+1j], [1+0j, 1+1j]], dann könnte die Rückgabe sein:\n",
    "                                               # [[200, 12],\n",
    "                                               #  [35, 200]]\n",
    "                                               # (je nachdem, ob die Punkte zur Mandelbrot-Menge gehören oder wie schnell sie entkommen)\n",
    "\n",
    "# -------------------------------------------------------------------\n",
    "# VARIANTE 2: numba.vectorize (mit JIT-Kompilierung)\n",
    "# Diese Variante verwendet numba.vectorize, um die Escape-Time-Funktion\n",
    "# automatisch zu kompilieren – also in schnellen Maschinencode umzuwandeln.\n",
    "# Das geschieht über sogenanntes \"Just-In-Time\"-Kompilieren (JIT).\n",
    "# Dadurch läuft der Code viel schneller als in normalem Python.\n",
    "# -------------------------------------------------------------------\n",
    "\n",
    "@numba.vectorize(['int32(complex128, int32)'])  # Dekorator von numba: Sagt numba, dass die Funktion für komplexe Zahlen (p) und int (maxiter) verwendet wird und ein int32 zurückgibt.\n",
    "def escape_time_numba(p, maxiter):\n",
    "    z = 0j  # Startwert der Folge ist 0 (komplexe Zahl)\n",
    "    for i in range(maxiter):  # Wiederhole die Berechnung maxiter-mal (z. B. 200 Iterationen)\n",
    "        z = z*z + p  # Mandelbrot-Iteration: z_{n+1} = z_n² + p\n",
    "        if abs(z) > 2:  # Wenn der Betrag von z größer als 2 wird, ist der Punkt nicht in der Mandelbrot-Menge\n",
    "            return i  # Gib die Anzahl der Iterationen zurück, bis das passiert ist\n",
    "    return maxiter  # Wenn z nie > 2 wurde, dann ist der Punkt vermutlich in der Menge → gib maxiter zurück\n",
    "\n",
    "# -------------------------------------------------------------------\n",
    "# Die folgende Funktion sieht so aus wie bei np.vectorize,\n",
    "# aber sie ruft die JIT-kompilierte Version auf.\n",
    "# Das bedeutet: sehr viel bessere Performance bei großen Datenmengen.\n",
    "# -------------------------------------------------------------------\n",
    "def mandelbrot_set_numba_vectorized(P, maxiter):\n",
    "    return escape_time_numba(P, maxiter)  # Wende escape_time_numba auf jedes Element im Array P an.\n",
    "                                          # Das funktioniert, weil numba.vectorize intern selbst Vektorisierung übernimmt.\n",
    "                                          # Beispiel-Rückgabe:\n",
    "                                          # Wenn P ein 2D-Array komplexer Zahlen ist, kommt ein gleich großes 2D-Array mit Iterationszahlen zurück.\n",
    "\n",
    "# -------------------------------------------------------------------\n",
    "# VARIANTE 3: numba.vectorize mit Parallelisierung\n",
    "# Diese Variante ist im Prinzip identisch zu Variante 2,\n",
    "# nutzt aber zusätzlich Parallelisierung durch mehrere CPU-Kerne.\n",
    "# Das geschieht durch das Argument target='parallel' im numba-Dekorator.\n",
    "# Besonders bei großen Arrays (z. B. hochaufgelöste Mandelbrot-Bilder)\n",
    "# bringt das deutliche Performance-Vorteile.\n",
    "# -------------------------------------------------------------------\n",
    "\n",
    "@numba.vectorize(['int32(complex128, int32)'], target='parallel')\n",
    "# Der numba-Dekorator @vectorize macht die Funktion escape_time_numba_par automatisch vektorisierbar.\n",
    "# Die Signatur 'int32(complex128, int32)' bedeutet:\n",
    "#   - Eingabe: ein komplexer Wert (p) und ein ganzzahliger Wert (maxiter)\n",
    "#   - Ausgabe: ein int32 (die Anzahl der Iterationen, bis der Punkt \"entkommt\")\n",
    "# Das Besondere hier: Mit target='parallel' wird numba angewiesen,\n",
    "# die Berechnungen parallel auf mehreren CPU-Kernen auszuführen.\n",
    "\n",
    "def escape_time_numba_par(p, maxiter):\n",
    "    z = 0j  # Starte mit z = 0 (komplexe Zahl), wie in der Mandelbrot-Iteration üblich\n",
    "    for i in range(maxiter):  # Bis zur maximalen Anzahl an Iterationen (z. B. 200)\n",
    "        z = z*z + p  # Iterationsregel für die Mandelbrot-Menge: z_{n+1} = z_n² + p\n",
    "        if abs(z) > 2:  # Wenn der Betrag von z größer als 2 wird, entweicht die Folge\n",
    "            return i  # Dann ist p nicht in der Mandelbrot-Menge → gib die Anzahl der Iterationen zurück\n",
    "    return maxiter  # Wenn der Punkt die Grenze nie überschreitet → vermutlich Teil der Mandelbrot-Menge\n",
    "\n",
    "# -------------------------------------------------------------------\n",
    "# Diese Funktion wendet escape_time_numba_par auf ein gesamtes Array P an.\n",
    "# P ist ein 2D-Array komplexer Zahlen, das z. B. aus einem linspace-Gitter erstellt wurde.\n",
    "# Die Funktion gibt ein 2D-Array mit Iterationszahlen zurück – z. B. zum Plotten mit plt.imshow.\n",
    "# Der Unterschied zu Variante 2: Hier läuft das Ganze parallelisiert und damit schneller.\n",
    "# -------------------------------------------------------------------\n",
    "def mandelbrot_set_numba_vectorized_par(P, maxiter):\n",
    "    return escape_time_numba_par(P, maxiter)  # Das ist wie ein „broadcasting“ auf das gesamte Array P.\n",
    "                                              # Beispiel:\n",
    "                                              # Wenn P z. B. ein 1500x1500-Array komplexer Zahlen ist,\n",
    "                                              # gibt diese Funktion ein 1500x1500-Array mit Iterationszahlen zurück.\n",
    "\n",
    "# -------------------------------------------------------------------\n",
    "# ERZEUGUNG DES KOMPLEXEN ZAHLENGITTERS\n",
    "# Erstelle ein zweidimensionales Gitter (XX + YY) von komplexen Zahlen.\n",
    "# Jeder Punkt im Gitter stellt einen Punkt im Bild der Mandelbrot-Menge dar.\n",
    "# -------------------------------------------------------------------\n",
    "real_param = (-1.5, 1.1, 1500)     # Realteil: Start, Ende, Anzahl Schritte\n",
    "imag_param = (-1.5j, 1.1j, 1500)   # Imaginärteil: Start, Ende, Anzahl Schritte\n",
    "XX, YY = np.meshgrid(np.linspace(*real_param), np.linspace(*imag_param))\n",
    "P = XX + YY  # Kombination zu komplexen Zahlen (z.B. 0.1 + 0.2j)\n",
    "\n",
    "# -------------------------------------------------------------------\n",
    "# MAXIMALE ANZAHL DER ITERATIONEN\n",
    "# Je mehr Iterationen erlaubt sind, desto genauer ist das Ergebnis –\n",
    "# aber es dauert auch länger. 200 ist ein guter Kompromiss.\n",
    "# -------------------------------------------------------------------\n",
    "maxiter = 200\n",
    "\n",
    "# -------------------------------------------------------------------\n",
    "# ZEITMESSUNG DER DREI METHODEN\n",
    "# Wir möchten wissen: Welche Version ist wie schnell?\n",
    "# Dazu verwenden wir das Modul 'timeit', das sehr genau misst,\n",
    "# wie lange ein bestimmter Funktionsaufruf dauert.\n",
    "# In unserem Fall messen wir jeweils die Zeit für genau **einen** Aufruf.\n",
    "# -------------------------------------------------------------------\n",
    "\n",
    "# Misst die Zeit (in Sekunden), die die np.vectorize-Version benötigt.\n",
    "# Diese Version ist meist die langsamste, weil keine echte Optimierung passiert.\n",
    "time_np_vectorized = timeit.timeit(\n",
    "    lambda: mandelbrot_set_np_vectorized(P, maxiter),  # Der Funktionsaufruf, den wir messen\n",
    "    number=1  # Anzahl der Wiederholungen (hier: genau einmal)\n",
    ")\n",
    "\n",
    "# Misst die Zeit für die Version mit numba.vectorize (ohne Parallelisierung).\n",
    "# Durch Just-in-Time-Kompilierung ist sie deutlich schneller als reine Python-Schleifen.\n",
    "time_numba_vectorized = timeit.timeit(\n",
    "    lambda: mandelbrot_set_numba_vectorized(P, maxiter),\n",
    "    number=1\n",
    ")\n",
    "\n",
    "# Misst die Zeit für die parallelisierte numba.vectorize-Version.\n",
    "# Diese ist in der Regel die schnellste, da sie mehrere CPU-Kerne verwendet.\n",
    "time_numba_vectorized_par = timeit.timeit(\n",
    "    lambda: mandelbrot_set_numba_vectorized_par(P, maxiter),\n",
    "    number=1\n",
    ")\n",
    "\n",
    "# -------------------------------------------------------------------\n",
    "# AUSGABE DER LAUFZEITEN\n",
    "# Jetzt drucken wir die gemessenen Zeiten übersichtlich aus.\n",
    "# So kann man direkt vergleichen, welche Methode wie schnell war.\n",
    "# -------------------------------------------------------------------\n",
    "\n",
    "# Ausgabe der benötigten Zeit für die np.vectorize-Variante.\n",
    "# Hier sieht man typischerweise die längste Laufzeit.\n",
    "print(f\"Zeit für np.vectorize: {time_np_vectorized:.4f} Sekunden\")\n",
    "\n",
    "# Ausgabe der Laufzeit für numba.vectorize ohne Parallelisierung.\n",
    "# Deutlich schneller, weil JIT-Kompilierung genutzt wird.\n",
    "print(f\"Zeit für numba.vectorize: {time_numba_vectorized:.4f} Sekunden\")\n",
    "\n",
    "# Ausgabe der Laufzeit für numba.vectorize mit Parallelisierung.\n",
    "# In der Regel die schnellste Variante, vor allem bei großen Arrays.\n",
    "print(f\"Zeit für numba.vectorize (parallel): {time_numba_vectorized_par:.4f} Sekunden\")\n",
    "\n",
    "# -------------------------------------------------------------------\n",
    "# VISUALISIERUNG DER MANDELBROT-MENGE\n",
    "# Jetzt wollen wir das Ergebnis als Bild sehen.\n",
    "# Dazu berechnen wir erneut die Mandelbrot-Menge (mit der schnellsten Methode)\n",
    "# und verwenden Matplotlib, um die Escape-Times in Farben darzustellen.\n",
    "# Jeder Punkt im Bild entspricht einem komplexen Punkt.\n",
    "# Die Farbe zeigt, wie schnell dieser Punkt aus der Mandelbrot-Menge „entkommt“.\n",
    "# -------------------------------------------------------------------\n",
    "\n",
    "# Berechne das Escape-Time-Bild mit der parallelisierten Methode\n",
    "# → ergibt ein 2D-Array M, das die Iterationszahlen (Escape-Times) enthält\n",
    "M = mandelbrot_set_numba_vectorized_par(P, maxiter)\n",
    "\n",
    "# Visualisiere das Array M als Bild\n",
    "# Jeder Pixel bekommt eine Farbe, je nachdem wie groß die Escape-Time war\n",
    "# Die Farbkarte 'twilight' sieht für diese Art von Bildern besonders hübsch aus\n",
    "plt.imshow(M, cmap='twilight')\n",
    "\n",
    "# Titel des Plots\n",
    "plt.title(\"Mandelbrot-Menge (parallelisiert)\")\n",
    "\n",
    "# Zeige eine Farbskala an der Seite – hilfreich, um die Bedeutung der Farben zu erkennen\n",
    "plt.colorbar()  # Farbskala, die die Escape-Times der Punkte darstellt. \n",
    "                # Dunkle Farben (z.B. Blau) stehen für Punkte, die langsam \n",
    "                # aus der Mandelbrot-Menge entweichen (d.h. eine hohe Escape-Time haben). \n",
    "                # Helle Farben (z.B. Gelb, Weiß) stehen für Punkte, die schnell entweichen \n",
    "                # (d.h. eine niedrige Escape-Time haben). Diese Farbskala hilft, die Struktur \n",
    "                # der Mandelbrot-Menge und die Geschwindigkeit der Divergenz der Punkte visuell zu verstehen.\n",
    "                # Die Escape-Time ist die Anzahl der Iterationen, die notwendig sind, \n",
    "                # damit der Betrag der komplexen Zahl die Grenze von 2 überschreitet.\n",
    "                # Ein hoher Wert für die Escape-Time bedeutet, dass der Punkt viele Iterationen \n",
    "                # braucht, um die Grenze zu überschreiten, was darauf hinweist, dass der Punkt \n",
    "                # langsam aus der Menge \"entweicht\" und somit länger in der Nähe der Mandelbrot-Menge bleibt.\n",
    "                # Ein niedriger Wert bedeutet, dass der Punkt schnell die Grenze überschreitet \n",
    "                # und somit schneller aus der Menge entweicht.\n",
    "\n",
    "# Zeige das Fenster mit dem Plot an\n",
    "plt.show()\n"
   ]
  },
  {
   "cell_type": "markdown",
   "metadata": {
    "deletable": false,
    "editable": false
   },
   "source": [
    "<!-- BEGIN QUESTION -->\n",
    "\n",
    "**Aufgabe:** Vergleichen Sie nun die drei Versionen mit Scalene. Verwenden sie eine Sampling-Rate von $0.0001$\n",
    "\n",
    "_Points:_ 3"
   ]
  },
  {
   "cell_type": "markdown",
   "metadata": {},
   "source": [
    "Vergleich der drei Versionen der Mandelbrot-Berechnung mit Scalene\n",
    "\n",
    "In dieser Aufgabe vergleichen wir die Performance von drei unterschiedlichen Varianten der Berechnung der Mandelbrot-Menge, die wir zuvor implementiert haben. Die Varianten basieren auf unterschiedlichen Methoden, um die Berechnungen zu optimieren:\n",
    "\n",
    "1. **Version 1: `np.vectorize`** – Eine einfache Methode zur Vektorisierung mit NumPy, die eine skalare Funktion auf ganze Arrays anwendet.\n",
    "2. **Version 2: `numba.vectorize`** – Eine optimierte Version unter Verwendung von Numba, um den Code mit Just-In-Time (JIT)-Kompilierung zu beschleunigen.\n",
    "3. **Version 3: `numba.vectorize` mit Parallelisierung** – Diese Version geht noch einen Schritt weiter und nutzt die Parallelisierung mit mehreren CPU-Kernen, um die Berechnungen weiter zu beschleunigen.\n",
    "\n",
    "Wir verwenden **Scalene**, ein leistungsstarkes Profiling-Tool, um die CPU- und Speicherperformance jeder Version zu messen und zu vergleichen. \n",
    "\n",
    "### Bedeutung der Sampling-Rate von **0.0001**\n",
    "\n",
    "Die **Sampling-Rate** gibt an, wie häufig Scalene Stichproben der CPU-Nutzung und des Speichers entnimmt, während das Programm ausgeführt wird. Eine Sampling-Rate von **0.0001** bedeutet, dass Scalene bei jedem 10.000. (1 / 0.0001) Zyklus der Ausführung eine Messung der Systemressourcen vornimmt. Dies sorgt für eine detaillierte und präzise Erfassung der Performance, ohne dass zu viele Daten gesammelt werden, was die Analyse verzerren könnte. Eine niedrige Sampling-Rate ermöglicht es, sehr granular zu messen und auch feine Unterschiede zwischen den verschiedenen Varianten zu erkennen.\n",
    "\n",
    "Mit dieser Sampling-Rate von **0.0001** erhalten wir also eine feine Auflösung der Profildaten, was uns hilft, die effizienteste Berechnungsmethode zu identifizieren und gleichzeitig die Auswirkungen von Optimierungen wie Parallelisierung und JIT-Kompilierung zu beobachten.\n",
    "\n",
    "Im Folgenden werden wir die drei Versionen mit Scalene profilieren und die Laufzeiten sowie den Ressourcenverbrauch der verschiedenen Methoden analysieren."
   ]
  },
  {
   "cell_type": "code",
   "execution_count": null,
   "metadata": {
    "deletable": false,
    "editable": false
   },
   "outputs": [
    {
     "name": "stdout",
     "output_type": "stream",
     "text": [
      "\u001b[0m"
     ]
    }
   ],
   "source": [
    "with open(\"/workspaces/SC_EA1_bis_EA3/mandelbrot_versionen.py\", \"w\") as f:\n",
    "    f.write(\"\"\"\n",
    "import numba\n",
    "import numpy as np\n",
    "\n",
    "def escape_time(p, maxiter):\n",
    "    z = 0j\n",
    "    for i in range(maxiter):\n",
    "        z = z*z + p\n",
    "        if abs(z) > 2:\n",
    "            return i\n",
    "    return maxiter\n",
    "\n",
    "def mandelbrot_set_np_vectorized(P, maxiter):\n",
    "    vectorized_escape_time = np.vectorize(escape_time)\n",
    "    return vectorized_escape_time(P, maxiter)\n",
    "\n",
    "@numba.vectorize(['int32(complex128, int32)'])\n",
    "def escape_time_numba(p, maxiter):\n",
    "    z = 0j\n",
    "    for i in range(maxiter):\n",
    "        z = z*z + p\n",
    "        if abs(z) > 2:\n",
    "            return i\n",
    "    return maxiter\n",
    "\n",
    "def mandelbrot_set_numba_vectorized(P, maxiter):\n",
    "    return escape_time_numba(P, maxiter)\n",
    "\n",
    "@numba.vectorize(['int32(complex128, int32)'], target='parallel')\n",
    "def escape_time_numba_par(p, maxiter):\n",
    "    z = 0j\n",
    "    for i in range(maxiter):\n",
    "        z = z*z + p\n",
    "        if abs(z) > 2:\n",
    "            return i\n",
    "    return maxiter\n",
    "\n",
    "def mandelbrot_set_numba_vectorized_par(P, maxiter):\n",
    "    return escape_time_numba_par(P, maxiter)\n",
    "\n",
    "# Gitter erstellen (kleiner für Profiling-Zwecke)\n",
    "real_param = (-1.5, 1.1, 300)\n",
    "imag_param = (-1.5j, 1.1j, 300)\n",
    "XX, YY = np.meshgrid(np.linspace(*real_param), np.linspace(*imag_param))\n",
    "P = XX + YY\n",
    "maxiter = 200\n",
    "\n",
    "# alle drei Varianten EINMAL aufrufen\n",
    "mandelbrot_set_np_vectorized(P, maxiter)\n",
    "mandelbrot_set_numba_vectorized(P, maxiter)\n",
    "mandelbrot_set_numba_vectorized_par(P, maxiter)\n",
    "\"\"\")\n",
    "\n",
    "!scalene mandelbrot_versionen.py --cpu-sampling-rate 0.0001\n"
   ]
  },
  {
   "cell_type": "markdown",
   "metadata": {
    "deletable": false,
    "editable": false
   },
   "source": [
    "<!-- END QUESTION -->\n",
    "\n",
    "## Springende Bälle, Teil 2 (60 Punkte)\n",
    "Wir wollen die Simulation mit mehreren Bällen verbessern und optimieren. \n",
    "\n",
    "Jetzt werden zusätzlich Kollisionen zwischen den Bällen beachtet.\n",
    "Dafür wollen wir zunächst berechnen, ob die Bälle in einem Zeitschritt kollidieren. Eine genaue Berechnung ist hier sehr schwer, daher können wir dies nur näherungsweise machen. Wir müssen dazu auch folgende Annahmen machen:\n",
    "\n",
    "1. Die Bälle haben einen Radius von $r$, alle Bälle sind gleich groß \n",
    "2. Der Zeitschritt $\\Delta t$ und die Geschwindigkeit $\\$v$ der Bälle sind so gewählt, dass ein Ball maximal viermal seinen Radius in einem Zeitschritt zurücklegt, also $v*\\Delta t <= 4*r$\n",
    "\n",
    "\n",
    "Wir berechnen nun in jeden Zeitschritt zunächst 3 zusätzliche Zwischenzeitschritte:\n",
    "\n",
    "$ c_0 = c_0$\n",
    "\n",
    "$c_1 = c_0+0.25\\Delta t *v$\n",
    "\n",
    "$c_3 = c_0+0.5\\Delta t *v$\n",
    "\n",
    "$c_4 = c_0+0.75\\Delta t * v$\n",
    "\n",
    "(Der nächste Schritt wäre $\\Delta t$, dieser wird aber in der nächsten Iteration beachtet.)\n",
    "\n",
    "\n",
    "Wir betrachten nun jeweils für 2 Bälle, ob sie sich in einem der Zwischenzeitschritte näher als zweimal dem Radius $r$ kommen. Wenn sie das tun, gibt es eine Kollision."
   ]
  },
  {
   "cell_type": "markdown",
   "metadata": {
    "deletable": false,
    "editable": false
   },
   "source": [
    "<!-- BEGIN QUESTION -->\n",
    "\n",
    "**Aufgabe:** Schreiben Sie eine Funktion, die dies für zwei Bälle testet und zunächst `True` oder `False` zurück gibt. Für die Berechnung des Abstands können sie die Funktion `np.linalg.norm` verwenden.\n",
    "\n",
    "_Points:_ 10"
   ]
  },
  {
   "cell_type": "code",
   "execution_count": null,
   "metadata": {
    "tags": []
   },
   "outputs": [],
   "source": [
    "def will_collide(c1, v1, c2, v2, r, dt):\n",
    "    ..."
   ]
  },
  {
   "cell_type": "markdown",
   "metadata": {
    "deletable": false,
    "editable": false
   },
   "source": [
    "<!-- END QUESTION -->\n",
    "\n",
    "Um die Geschwindigkeiten der Bälle nach einer Kollision zu berechnen, können wir die Erhaltung des Impulses und die Erhaltung der kinetischen Energie heranziehen, unter der Annahme, dass es sich um eine vollkommen elastische Kollision handelt. Bei einer solchen Kollision bleiben sowohl der Gesamtimpuls als auch die gesamte kinetische Energie des Systems erhalten. Die Berechnungen werden allerdings etwas komplexer, wenn wir Richtungen berücksichtigen.\n",
    "\n",
    "#### Geschwindigkeiten nach der Kollision\n",
    "\n",
    "Für zwei Bälle mit Massen $m_1$ und $m_2$, den Anfangsgeschwindigkeiten $v_1$ und $v_2$ und den Endgeschwindigkeiten $v_1'$ und $v_2'$ gelten folgende Gleichungen basierend auf dem Impulserhaltungssatz und der Erhaltung der kinetischen Energie:\n",
    "\n",
    "1. **Impulserhaltung:**\n",
    "   $m_1 v_1 + m_2 v_2 = m_1 v_1' + m_2 v_2'$\n",
    "\n",
    "2. **Erhaltung der kinetischen Energie:**\n",
    "   $\\frac{1}{2} m_1 v_1^2 + \\frac{1}{2} m_2 v_2^2 = \\frac{1}{2} m_1 {v_1'}^2 + \\frac{1}{2} m_2 {v_2'}^2$\n",
    "\n",
    "Diese Gleichungen müssen vektoriell gelöst werden, da die Geschwindigkeiten Richtungen haben.\n",
    "\n",
    "Die Lösungen für die Geschwindigkeiten nach der Kollision in zwei Dimensionen unter der Annahme einer vollkommen elastischen Kollision und unter Ignorierung der Rotation der Bälle sind:\n",
    "\n",
    "$v_1' = v_1 - \\frac{2 m_2}{m_1 + m_2} \\frac{(v_1 - v_2) \\cdot (c_1 - c_2)}{\\|c_1 - c_2\\|^2} (c_1 - c_2)$\n",
    "\n",
    "$v_2' = v_2 + \\frac{2 m_1}{m_1 + m_2} \\frac{(v_1 - v_2) \\cdot (c_1 - c_2)}{\\|c_1 - c_2\\|^2} (c_1 - c_2)$\n",
    "\n",
    "Hierbei ist $(v_1 - v_2) \\cdot (c_1 - c_2)$ das Skalarprodukt der Vektoren $v_1 - v_2$ und $c_1 - c_2$, und $\\|c_1 - c_2\\|$ ist der Betrag des Vektors $(c_1 - c_2)$, welcher den Abstand zwischen den Zentren der Bälle darstellt.\n"
   ]
  },
  {
   "cell_type": "markdown",
   "metadata": {
    "deletable": false,
    "editable": false
   },
   "source": [
    "<!-- BEGIN QUESTION -->\n",
    "\n",
    "**Aufgabe:** Schreiben Sie eine Funktion, welche die neuen Geschwindigkeiten der Bälle NACH einer Kollision berechnet.  \n",
    "Sie übergeben der Funktion die folgenden Daten.\n",
    "- Koordinaten ($c_1, c_2$)\n",
    "- Geschwindigkeiten ($v_1, v_2$)\n",
    "- Massen ($m_1, m_2$)\n",
    "\n",
    "Für die Berechnung des Betrags können Sie wiederum die Funktion `np.linalg.norm` verwenden.\n",
    "\n",
    "_Points:_ 10"
   ]
  },
  {
   "cell_type": "code",
   "execution_count": null,
   "metadata": {
    "scrolled": true,
    "tags": []
   },
   "outputs": [],
   "source": [
    "def collision(c1, c2, v1, v2, m1, m2):\n",
    "    \"\"\"Elastischer Stoß zwischen den Bällen 1 und 2.\"\"\"\n",
    "    ...\n",
    "    return v1_new, v2_new\n",
    "\n",
    "\n",
    "def test_collision(case):\n",
    "    # Online simulator\n",
    "    # https://phet.colorado.edu/sims/html/collision-lab/latest/collision-lab_all.html\n",
    "    if case == \"x\":\n",
    "        c1 = np.array([1, 1])\n",
    "        c2 = np.array([2, 1])\n",
    "        v1 = np.array([1, 0])\n",
    "        v2 = np.array([-1, 0])\n",
    "    if case == \"y\":\n",
    "        c1 = np.array([1, 1])\n",
    "        c2 = np.array([1, 2])\n",
    "        v1 = np.array([0, 1])\n",
    "        v2 = np.array([0, -1])\n",
    "    if case == \"diagonal\":\n",
    "        c1 = np.array([1, 1])\n",
    "        c2 = np.array([2, 2])\n",
    "        v1 = np.array([1, 1])\n",
    "        v2 = np.array([0, 0])\n",
    "    if case == \"custom\":\n",
    "        c1 = np.array([1, 1])\n",
    "        c2 = np.array([2, 3])\n",
    "        v1 = np.array([1, 1])\n",
    "        v2 = np.array([0, -1])\n",
    "    v1_new, v2_new = collision(c1, c2, v1, v2, 1, 1)\n",
    "    assert np.allclose(np.abs(v2 - v1), np.abs(v2_new - v1_new))\n",
    "    print(f\"{v1=}, {v2=}, {v1_new=}, {v2_new=}\")\n",
    "\n",
    "    # different mass\n",
    "    v1_new, v2_new = collision(c1, c2, v1, v2, 1, 20)\n",
    "    assert np.allclose(np.abs(v2 - v1), np.abs(v2_new - v1_new))\n",
    "    print(f\"{v1=}, {v2=}, {v1_new=}, {v2_new=}\")\n",
    "\n",
    "\n",
    "test_collision(case=\"x\")\n",
    "test_collision(case=\"y\")\n",
    "test_collision(case=\"diagonal\")\n",
    "test_collision(case=\"custom\")"
   ]
  },
  {
   "cell_type": "markdown",
   "metadata": {
    "deletable": false,
    "editable": false
   },
   "source": [
    "<!-- END QUESTION -->\n",
    "\n",
    "<!-- BEGIN QUESTION -->\n",
    "\n",
    "**Aufgabe:** Nun wollen wir eine Funktion implementieren, die alle möglichen Kollisionen in einem Zeitschritt erfasst und die neuen Geschwindigkeiten der Bälle berechnet – und zwar möglichst effizient. \n",
    "\n",
    "Dafür sollten Sie die folgenden Dinge beachten:\n",
    "1. Es macht nicht für alle Ballpaare sinnvoll alle vier Zwischenzeitschritte zu berechnen. Testen Sie daher zunächst, ob sich zwei Bälle bereits näher als $ 8 \\cdot r $ sind.\n",
    "2. Sie können annehmen, dass sich der Ball bis zum Zwischenschritt, in dem die Kollision berechnet wird, mit der alten Geschwindigkeit bewegt, danach mit der neuen. Implementieren Sie dies entsprechend. Achten Sie auch darauf, dass ein Ball, für den eine Kollision berechnet wurde, im selben Zeitschritt keine vollständige Bewegung für $ \\Delta t $ mehr macht.\n",
    "3. Es kann leicht passieren, dass zwei Bälle, die in einem Zeitschritt kollidieren, es nicht schaffen, sich während des Zeitschritts weit genug aufeinander zu bewegen, sodass sie im folgenden Zeitschritt wieder miteinander kollidieren. Das kann dann dazu führen, dass die Bälle sich umkreisen. Um das zu verhindern, verwenden wir eine Maske (`mask`), die dafür sorgt, dass zwei Bälle nicht in zwei (oder mehr) aufeinanderfolgenden Zeitschritten miteinander kollidieren können.\n",
    "\n",
    "Anmerkung: Die Situation, dass mehrere Bälle gleichzeitig, in einem Zeitschritt kollidieren, kann hier vereinfacht ignoriert werden.\n",
    "\n",
    "_Points:_ 10"
   ]
  },
  {
   "cell_type": "code",
   "execution_count": null,
   "metadata": {
    "tags": []
   },
   "outputs": [],
   "source": [
    "def get_all_collisions(c, v, m, r, dt, mask):\n",
    "    ..."
   ]
  },
  {
   "cell_type": "code",
   "execution_count": null,
   "metadata": {
    "nbgrader": {
     "grade": false,
     "grade_id": "cell-dc2022a0f9e20ef2",
     "locked": false,
     "schema_version": 3,
     "solution": true,
     "task": false
    },
    "tags": []
   },
   "outputs": [],
   "source": [
    "import numpy as np\n",
    "\n",
    "# Anfangsbedingungen (Vorschlag)\n",
    "g = np.array([0, -9.81], dtype=np.float64)\n",
    "xmax = 1000\n",
    "ymax = 1000\n",
    "steps = 2000\n",
    "dt = xmax * 1e-5\n",
    "# Anzahl Bälle\n",
    "N = 20\n",
    "\n",
    "# Durchmesser Ball\n",
    "r = xmax * dt\n",
    "print(r)\n",
    "rng = np.random.default_rng(seed=123)\n",
    "\n",
    "\n",
    "# Startpositionen\n",
    "def init(n=N):\n",
    "    c = xmax * rng.random((N, 2))\n",
    "    # Startgeschwindigkeiten, max.\n",
    "    v = np.array([xmax, ymax]) * rng.random((N, 2))\n",
    "    # Masse\n",
    "    m = np.full(N, 0.05)\n",
    "    mask = np.full((N, N), 0, np.int32)\n",
    "    return c, v, m, mask"
   ]
  },
  {
   "cell_type": "markdown",
   "metadata": {
    "deletable": false,
    "editable": false
   },
   "source": [
    "<!-- END QUESTION -->\n",
    "\n",
    "<!-- BEGIN QUESTION -->\n",
    "\n",
    "**Aufgabe:** Implementieren Sie nun einen vollständigen Zeitschritt mit Kollisionen. \n",
    "\n",
    "_Points:_ 10"
   ]
  },
  {
   "cell_type": "code",
   "execution_count": null,
   "metadata": {
    "nbgrader": {
     "grade": false,
     "grade_id": "cell-dc2022a0f9e20ef2",
     "locked": false,
     "schema_version": 3,
     "solution": true,
     "task": false
    },
    "tags": []
   },
   "outputs": [],
   "source": [
    "def timestep_with_collisions(c, v, m, dt, g, xmax, ymax, mask):\n",
    "    \"\"\"\n",
    "    Simulate a timestep for multiple balls with collisions.\n",
    "\n",
    "    Parameters:\n",
    "        c: ...\n",
    "        v: ...\n",
    "        m: Masses\n",
    "        dt: The duration of a single timestep\n",
    "        g: Gravitation\n",
    "        xmax: Box limit in x direction\n",
    "        ymax: Box limit in y direction\n",
    "    \"\"\"\n",
    "    ..."
   ]
  },
  {
   "cell_type": "code",
   "execution_count": null,
   "metadata": {
    "tags": []
   },
   "outputs": [],
   "source": [
    "c, v, m, mask = init()\n",
    "timestep_with_collisions(c, v, m, dt, g, xmax, ymax, mask)"
   ]
  },
  {
   "cell_type": "markdown",
   "metadata": {
    "deletable": false,
    "editable": false
   },
   "source": [
    "<!-- END QUESTION -->\n",
    "\n",
    "<!-- BEGIN QUESTION -->\n",
    "\n",
    "**Aufgabe:** Animieren Sie die Bewegung der Bälle.\n",
    "\n",
    "Tipp: Trennen Sie Simulation und Visualisierung und visualisieren Sie z.B. nur jeden 100. Simulationsschritt. \n",
    "\n",
    "_Points:_ 5"
   ]
  },
  {
   "cell_type": "code",
   "execution_count": null,
   "metadata": {
    "nbgrader": {
     "grade": false,
     "grade_id": "cell-5b3dd7949bee4f33",
     "locked": false,
     "schema_version": 3,
     "solution": true,
     "task": false
    },
    "tags": []
   },
   "outputs": [],
   "source": [
    "..."
   ]
  },
  {
   "cell_type": "markdown",
   "metadata": {
    "deletable": false,
    "editable": false
   },
   "source": [
    "<!-- END QUESTION -->\n",
    "\n",
    "<!-- BEGIN QUESTION -->\n",
    "\n",
    "**Aufgabe:** Analysieren Sie nun die Simulation mit Scalene. Was hat sich gegenüber der alten Version ohne die Kollisionen verändert? \n",
    "\n",
    "_Points:_ 5"
   ]
  },
  {
   "cell_type": "markdown",
   "metadata": {},
   "source": [
    "_Type your answer here, replacing this text._"
   ]
  },
  {
   "cell_type": "code",
   "execution_count": null,
   "metadata": {
    "tags": []
   },
   "outputs": [],
   "source": [
    "c, v, m, mask = init(10)"
   ]
  },
  {
   "cell_type": "code",
   "execution_count": null,
   "metadata": {
    "scrolled": true,
    "tags": []
   },
   "outputs": [],
   "source": [
    "%%scalene --cpu-sampling-rate 0.01\n",
    "..."
   ]
  },
  {
   "cell_type": "code",
   "execution_count": null,
   "metadata": {
    "tags": []
   },
   "outputs": [],
   "source": [
    "c, v, m, mask = init(300)"
   ]
  },
  {
   "cell_type": "code",
   "execution_count": null,
   "metadata": {
    "scrolled": true,
    "tags": []
   },
   "outputs": [],
   "source": [
    "%%scalene --cpu-sampling-rate 0.01\n",
    "..."
   ]
  },
  {
   "cell_type": "markdown",
   "metadata": {
    "deletable": false,
    "editable": false
   },
   "source": [
    "<!-- END QUESTION -->\n",
    "\n",
    "<!-- BEGIN QUESTION -->\n",
    "\n",
    "**Aufgabe:** Versuchen Sie Ihren Code (d.h. `timestep_with_collisions`) zu optimieren, damit er besser skaliert.\n",
    "\n",
    "Vergleichen Sie danach die Ausführungszeiten beider Varianten für 20 Zeitschritte mit $[100, 200,300]$ Bällen.\n",
    "\n",
    "Stellen Sie den Vergleich graphisch dar.\n",
    "\n",
    "_Points:_ 10"
   ]
  },
  {
   "cell_type": "code",
   "execution_count": null,
   "metadata": {
    "tags": []
   },
   "outputs": [],
   "source": [
    "## Optimized CODE\n",
    "import numba\n",
    "\n",
    "\n",
    "..."
   ]
  },
  {
   "cell_type": "code",
   "execution_count": null,
   "metadata": {
    "tags": []
   },
   "outputs": [],
   "source": [
    "c, v, m, mask = init()\n",
    "timestep_with_collisions_numba(c, v, m, dt, g, xmax, ymax, mask)"
   ]
  },
  {
   "cell_type": "code",
   "execution_count": null,
   "metadata": {
    "nbgrader": {
     "grade": false,
     "grade_id": "cell-1f2c0edc65c15a6c",
     "locked": false,
     "schema_version": 3,
     "solution": true,
     "task": false
    },
    "tags": []
   },
   "outputs": [],
   "source": [
    "..."
   ]
  },
  {
   "cell_type": "code",
   "execution_count": null,
   "metadata": {
    "nbgrader": {
     "grade": false,
     "grade_id": "cell-cf17d816ad788e2d",
     "locked": false,
     "schema_version": 3,
     "solution": true,
     "task": false
    },
    "tags": []
   },
   "outputs": [],
   "source": [
    "..."
   ]
  },
  {
   "cell_type": "markdown",
   "metadata": {
    "deletable": false,
    "editable": false
   },
   "source": [
    "<!-- END QUESTION -->\n",
    "\n",
    "## Optimierung des Gauß-Verfahrens (30 Punkte)"
   ]
  },
  {
   "cell_type": "markdown",
   "metadata": {
    "deletable": false,
    "editable": false
   },
   "source": [
    "<!-- BEGIN QUESTION -->\n",
    "\n",
    "**Aufgabe:** Optimieren Sie die Funktionen `lu_decomposition` und `custom_solve` aus der zweiten Einsendeaufgabe mit Hilfe von Numba.\n",
    "\n",
    "An welcher Stelle ist die Verwendung von `prange` richtig und sinnvoll? \n",
    "\n",
    "Vergleichen Sie die Performance vor und nach der Optimierung für Gleichungssysteme der Größe $256\\times 256 $ und $512 \\times 512$.\n",
    "\n",
    "Stellen Sie den Vergleich graphisch dar.\n",
    "\n",
    "_Points:_ 30"
   ]
  },
  {
   "cell_type": "code",
   "execution_count": null,
   "metadata": {
    "nbgrader": {
     "grade": false,
     "grade_id": "cell-3a39c9ed1929b1b8",
     "locked": false,
     "schema_version": 3,
     "solution": true,
     "task": false
    },
    "tags": []
   },
   "outputs": [],
   "source": [
    "..."
   ]
  },
  {
   "cell_type": "code",
   "execution_count": null,
   "metadata": {
    "nbgrader": {
     "grade": false,
     "grade_id": "cell-ac775203eb88ccb7",
     "locked": false,
     "schema_version": 3,
     "solution": true,
     "task": false
    },
    "tags": []
   },
   "outputs": [],
   "source": [
    "..."
   ]
  },
  {
   "cell_type": "markdown",
   "metadata": {
    "deletable": false,
    "editable": false
   },
   "source": [
    "<!-- END QUESTION -->\n",
    "\n",
    "Führen Sie alle Zellen im Notebook aus und speichern Sie es.  \n",
    "Danach können Sie mit der folgenden Zelle eine HTML-Datei erstellen.  \n",
    "Eine mögliche `UserWarning` können Sie ignorieren.  \n",
    "Bitte geben Sie das Notebook als `.ipynb` und `.html` Datei ab."
   ]
  },
  {
   "cell_type": "code",
   "execution_count": null,
   "metadata": {},
   "outputs": [],
   "source": [
    "#!jupyter nbconvert --to html EA3.ipynb"
   ]
  }
 ],
 "metadata": {
  "kernelspec": {
   "display_name": "Python 3 (ipykernel)",
   "language": "python",
   "name": "python3"
  },
  "language_info": {
   "codemirror_mode": {
    "name": "ipython",
    "version": 3
   },
   "file_extension": ".py",
   "mimetype": "text/x-python",
   "name": "python",
   "nbconvert_exporter": "python",
   "pygments_lexer": "ipython3",
   "version": "3.12.1"
  },
  "otter": {
   "OK_FORMAT": true,
   "assignment_name": "EA3",
   "tests": {
    "animation": {
     "name": "animation",
     "points": 5,
     "suites": [
      {
       "cases": [],
       "scored": true,
       "setup": "",
       "teardown": "",
       "type": "doctest"
      }
     ]
    },
    "collision": {
     "name": "collision",
     "points": 10,
     "suites": [
      {
       "cases": [],
       "scored": true,
       "setup": "",
       "teardown": "",
       "type": "doctest"
      }
     ]
    },
    "gauss": {
     "name": "gauss",
     "points": 30,
     "suites": [
      {
       "cases": [],
       "scored": true,
       "setup": "",
       "teardown": "",
       "type": "doctest"
      }
     ]
    },
    "get_all_collisions": {
     "name": "get_all_collisions",
     "points": 10,
     "suites": [
      {
       "cases": [],
       "scored": true,
       "setup": "",
       "teardown": "",
       "type": "doctest"
      }
     ]
    },
    "mandelbrot": {
     "name": "mandelbrot",
     "points": 7,
     "suites": [
      {
       "cases": [],
       "scored": true,
       "setup": "",
       "teardown": "",
       "type": "doctest"
      }
     ]
    },
    "mandelbrot_scalene": {
     "name": "mandelbrot_scalene",
     "points": 3,
     "suites": [
      {
       "cases": [],
       "scored": true,
       "setup": "",
       "teardown": "",
       "type": "doctest"
      }
     ]
    },
    "scalene_init": {
     "name": "scalene_init",
     "points": 5,
     "suites": [
      {
       "cases": [],
       "scored": true,
       "setup": "",
       "teardown": "",
       "type": "doctest"
      }
     ]
    },
    "timestep_with_collisions": {
     "name": "timestep_with_collisions",
     "points": 10,
     "suites": [
      {
       "cases": [],
       "scored": true,
       "setup": "",
       "teardown": "",
       "type": "doctest"
      }
     ]
    },
    "timestep_with_collisions_optimized": {
     "name": "timestep_with_collisions_optimized",
     "points": 10,
     "suites": [
      {
       "cases": [],
       "scored": true,
       "setup": "",
       "teardown": "",
       "type": "doctest"
      }
     ]
    },
    "will_collide": {
     "name": "will_collide",
     "points": 10,
     "suites": [
      {
       "cases": [
        {
         "code": ">>> v0 = np.array([1, 1])\n>>> v1 = np.array([-1, -1])\n>>> c0 = np.array([0, 0])\n>>> c1 = np.array([0, 1])\n>>> r = 0.5\n>>> dt = 1\n>>> assert will_collide(c0, v0, c1, v1, r, dt)\n>>> v0 = np.array([-1, -1])\n>>> c0 = np.array([1, 1])\n>>> assert not will_collide(c0, v0, c1, v1, r, dt)\n",
         "hidden": false,
         "locked": false
        }
       ],
       "scored": true,
       "setup": "",
       "teardown": "",
       "type": "doctest"
      }
     ]
    }
   }
  }
 },
 "nbformat": 4,
 "nbformat_minor": 4
}
