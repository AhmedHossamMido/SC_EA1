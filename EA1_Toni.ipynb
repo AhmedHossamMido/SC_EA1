{
 "cells": [
  {
   "cell_type": "markdown",
   "id": "a8b3375c-690d-4cc3-b82b-f18cf1b02069",
   "metadata": {},
   "source": [
    "# Einsendeaufgabe 1: Numerische Genauigkeit und Gleichungssysteme (100 Punkte)\n",
    "In dieser Aufgabe sollen Sie ein wenig mehr Erfahrung mit NumPy und numerischen Methoden gewinnen.  \n",
    "Zur Erinnerung empfehle ich an dieser Stelle, die Definition der [IEEE-Fließkommazahlen](https://de.wikipedia.org/wiki/IEEE_754) zu wiederholen.  "
   ]
  },
  {
   "cell_type": "markdown",
   "id": "fc24fc52-f1bc-4378-8023-f0cb1c9607d5",
   "metadata": {},
   "source": [
    "## Addition von Zahlen (20 Punkte) \n",
    "\n",
    "Gegeben sei ein Array *array*, dass 100 mal die Zahl $10^{-16}$ enthält und einmal (als ersten Eintrag) die Zahl $1$. "
   ]
  },
  {
   "cell_type": "code",
   "execution_count": 2,
   "id": "080a3fb8-9b98-4017-b6ba-3895321b8431",
   "metadata": {},
   "outputs": [
    {
     "name": "stdout",
     "output_type": "stream",
     "text": [
      "[1.e+00 1.e-16 1.e-16 1.e-16 1.e-16 1.e-16 1.e-16 1.e-16 1.e-16 1.e-16\n",
      " 1.e-16 1.e-16 1.e-16 1.e-16 1.e-16 1.e-16 1.e-16 1.e-16 1.e-16 1.e-16\n",
      " 1.e-16 1.e-16 1.e-16 1.e-16 1.e-16 1.e-16 1.e-16 1.e-16 1.e-16 1.e-16\n",
      " 1.e-16 1.e-16 1.e-16 1.e-16 1.e-16 1.e-16 1.e-16 1.e-16 1.e-16 1.e-16\n",
      " 1.e-16 1.e-16 1.e-16 1.e-16 1.e-16 1.e-16 1.e-16 1.e-16 1.e-16 1.e-16\n",
      " 1.e-16 1.e-16 1.e-16 1.e-16 1.e-16 1.e-16 1.e-16 1.e-16 1.e-16 1.e-16\n",
      " 1.e-16 1.e-16 1.e-16 1.e-16 1.e-16 1.e-16 1.e-16 1.e-16 1.e-16 1.e-16\n",
      " 1.e-16 1.e-16 1.e-16 1.e-16 1.e-16 1.e-16 1.e-16 1.e-16 1.e-16 1.e-16\n",
      " 1.e-16 1.e-16 1.e-16 1.e-16 1.e-16 1.e-16 1.e-16 1.e-16 1.e-16 1.e-16\n",
      " 1.e-16 1.e-16 1.e-16 1.e-16 1.e-16 1.e-16 1.e-16 1.e-16 1.e-16 1.e-16\n",
      " 1.e-16]\n"
     ]
    }
   ],
   "source": [
    "import numpy as np\n",
    "\n",
    "array = np.concatenate(([1], np.full(100, 1e-16)))\n",
    "print(array)"
   ]
  },
  {
   "cell_type": "markdown",
   "id": "1f63e85a-028f-4b9f-aacb-2879fee0fd99",
   "metadata": {
    "deletable": false,
    "editable": false
   },
   "source": [
    "**Aufgabe:** Addieren Sie alle Werte in `array`:\n",
    "- mit der Funktion `np.sum()`\n",
    "- mit einer Schleife, die von **vorne nach hinten** über `array` iteriert\n",
    "- mit einer Schleife, die von **hinten nach vorne** über `array` iteriert\n",
    "\n",
    "_Points:_ 6"
   ]
  },
  {
   "cell_type": "code",
   "execution_count": 4,
   "id": "11b6c189-e0ee-411a-8f83-b804db3527d8",
   "metadata": {
    "tags": []
   },
   "outputs": [
    {
     "name": "stdout",
     "output_type": "stream",
     "text": [
      "sum_numpy=  np.float64(1.0000000000000084)\n",
      "sum_forward=np.float64(1.0)\n",
      "sum_reverse=np.float64(1.00000000000001)\n"
     ]
    }
   ],
   "source": [
    "sum_numpy = array.sum()\n",
    "print(f\"{sum_numpy=  }\")\n",
    "\n",
    "sum_forward = 0\n",
    "for value in array:\n",
    "    sum_forward += value\n",
    "print(f\"{sum_forward=}\")\n",
    "\n",
    "sum_reverse = 0\n",
    "for value in array[::-1]:\n",
    "    sum_reverse += value    \n",
    "print(f\"{sum_reverse=}\")"
   ]
  },
  {
   "cell_type": "markdown",
   "id": "8ea8b6ef-4687-47e5-9aa8-8c77d5e8d1bd",
   "metadata": {
    "deletable": false,
    "editable": false
   },
   "source": [
    "<!-- BEGIN QUESTION -->\n",
    "\n",
    "**Aufgabe:** Erklären Sie die Ergebnisse. Wie werden die Zahlen 1 und 1e-17 im Computer dargestellt? (ausführliche Erläuterung erforderlich!)  \n",
    "\n",
    "_Points:_ 12"
   ]
  },
  {
   "cell_type": "markdown",
   "id": "c4ac096a",
   "metadata": {},
   "source": [
    "Die Praezision einer Gleitpunktzahl haengt von der Mantisse ab. Diese bildet neben dem Exponenten, der Basis und dem Vorzeichen die Gleitpunktzahl. \n",
    "\n",
    "Solange man nicht explizit davon abweicht, wird float64 in Python und numpy verwendet fuer Gleitpunktzahlen.\n",
    "\n",
    "Eine float32-Mantisse besteht aus 23 Bit und eine float64-Mantisse besteht aus 52 Bit (bleiben bei 64 Bit noch 11 Bit fuer den Exponent und ein Bit fuer das Vorzeichen).\n",
    "\n",
    "Werden Werte die zur Darstellung mehr als die in der Mantisse vorhandenen Bits benoetigen dargestellt, kommt es zu Rundungsfehlern wie unten erlaeutert. "
   ]
  },
  {
   "cell_type": "code",
   "execution_count": 4,
   "id": "72a0577e",
   "metadata": {},
   "outputs": [],
   "source": [
    "# x + y nur darstellbar wenn abs(np.log2(x)-np.log2(y)) < Anzahl Mantissenbits\n",
    "def mindest_mantissenbits(x,y):\n",
    "    #berechnet die Anzahl der benoetigten Mantissenbits fuer eine korrekte Berechnung\n",
    "    #float128 um exaktere Praezision zu ermoeglichen\n",
    "    return np.float128(abs(np.float128(np.float128(np.log2(np.float128(x)))-np.float128(np.log2(np.float128(y))))))"
   ]
  },
  {
   "cell_type": "code",
   "execution_count": 6,
   "id": "3a65ba52",
   "metadata": {},
   "outputs": [
    {
     "data": {
      "text/plain": [
       "(16777215.0, 16777215.0, 'darstellbar:', True)"
      ]
     },
     "execution_count": 6,
     "metadata": {},
     "output_type": "execute_result"
    }
   ],
   "source": [
    "#Beispiel zur Darstellbarkeit float32\n",
    "#hoechste darstellbare Zahl in 23bit, passt noch in 23bit Mantisse\n",
    "x = 1\n",
    "y = np.float128(2**24-2)\n",
    "x+y, np.float32(x+y), \"darstellbar:\", mindest_mantissenbits(x,y) < 23 + 1"
   ]
  },
  {
   "cell_type": "code",
   "execution_count": 7,
   "id": "9bfea82d",
   "metadata": {},
   "outputs": [
    {
     "data": {
      "text/plain": [
       "(16777216.0, 16777216.0, 'darstellbar:', True)"
      ]
     },
     "execution_count": 7,
     "metadata": {},
     "output_type": "execute_result"
    }
   ],
   "source": [
    "#Beispiel zur Darstellbarkeit float32\n",
    "#Mantisse = 1 wenn dargestellte Zahl Potenz von 2, also darstellbar\n",
    "x = 1\n",
    "y = np.float128(2**24-1)\n",
    "x+y, np.float32(x+y), \"darstellbar:\", mindest_mantissenbits(x,y) < 23 + 1"
   ]
  },
  {
   "cell_type": "code",
   "execution_count": 8,
   "id": "f66f597b",
   "metadata": {},
   "outputs": [
    {
     "data": {
      "text/plain": [
       "(16777217.0, 16777216.0, 'darstellbar:', False)"
      ]
     },
     "execution_count": 8,
     "metadata": {},
     "output_type": "execute_result"
    }
   ],
   "source": [
    "#Beispiel zur Darstellbarkeit float32\n",
    "#Dargestellte Zahl muss hier mit Mantisse von Mindestlaenge 24 dargestellt werden, nicht moeglich bei float32\n",
    "x = 1\n",
    "y = np.float128(2**24)\n",
    "x+y, np.float32(x+y), \"darstellbar:\", mindest_mantissenbits(x,y) < 23 + 1"
   ]
  },
  {
   "cell_type": "code",
   "execution_count": 10,
   "id": "3a6ea8b8",
   "metadata": {},
   "outputs": [
    {
     "data": {
      "text/plain": [
       "(9007199254740991.0, 9007199254740991.0, 'darstellbar:', True)"
      ]
     },
     "execution_count": 10,
     "metadata": {},
     "output_type": "execute_result"
    }
   ],
   "source": [
    "#Beispiel zur Darstellbarkeit float64\n",
    "#hoechste darstellbare Zahl in 52bit, passt noch in 52bit Mantisse\n",
    "x = 1\n",
    "y = np.float128(2**53 - 2) \n",
    "x+y, np.float64(x+y), \"darstellbar:\", mindest_mantissenbits(x,y) < 52 + 1"
   ]
  },
  {
   "cell_type": "code",
   "execution_count": 461,
   "id": "0ad8eefa",
   "metadata": {},
   "outputs": [
    {
     "data": {
      "text/plain": [
       "(9007199254740993.0, 9007199254740992.0, 'darstellbar:', False)"
      ]
     },
     "execution_count": 461,
     "metadata": {},
     "output_type": "execute_result"
    }
   ],
   "source": [
    "#Beispiel zur Darstellbarkeit float64\n",
    "#Dargestellte Zahl muss hier mit Mantisse von Mindestlaenge 53 dargestellt werden, nicht moeglich bei float64\n",
    "x = 1\n",
    "y = np.float128(2**53)\n",
    "x+y, np.float64(x+y), \"darstellbar:\", mindest_mantissenbits(x,y) < 52 + 1"
   ]
  },
  {
   "cell_type": "code",
   "execution_count": 462,
   "id": "e7e84bef",
   "metadata": {},
   "outputs": [
    {
     "data": {
      "text/plain": [
       "(1.0000000000000001, 1.0, 'darstellbar:', False)"
      ]
     },
     "execution_count": 462,
     "metadata": {},
     "output_type": "execute_result"
    }
   ],
   "source": [
    "#Beispiel 1 + 1e-16, vorkommend bei Summierung in Schlefe von vorne\n",
    "x = 1\n",
    "y = np.float128(1e-16)\n",
    "x+y, np.float64(x+y), \"darstellbar:\", mindest_mantissenbits(x,y) < 52 + 1"
   ]
  },
  {
   "cell_type": "code",
   "execution_count": 463,
   "id": "8dfc6a10",
   "metadata": {},
   "outputs": [
    {
     "data": {
      "text/plain": [
       "(1.00000000000001, 1.00000000000001, 'darstellbar:', True)"
      ]
     },
     "execution_count": 463,
     "metadata": {},
     "output_type": "execute_result"
    }
   ],
   "source": [
    "#Beispiel 1 + 1e-16 * 100, vorkommend bei Summierung in Schlefe von hinten\n",
    "x = 1\n",
    "y = np.float128(1e-16 * 100)\n",
    "x+y, np.float64(x+y), \"darstellbar:\", mindest_mantissenbits(x,y) < 52 + 1"
   ]
  },
  {
   "cell_type": "markdown",
   "id": "0bb8c677-a5e2-49df-9a00-97d8ecc6536e",
   "metadata": {
    "deletable": false,
    "editable": false
   },
   "source": [
    "<!-- END QUESTION -->\n",
    "\n",
    "<!-- BEGIN QUESTION -->\n",
    "\n",
    "**Aufgabe:** Welches Verfahren verwendet `np.sum()` für die Addition?\n",
    "\n",
    "_Points:_ 2"
   ]
  },
  {
   "cell_type": "markdown",
   "id": "d595469a",
   "metadata": {},
   "source": [
    "In den Numpy docs steht theoretisch: \"often numpy will use a  numerically better approach (partial pairwise summation) leading to improved precision in many use-cases\".\n",
    "\n",
    "Hierbei werden die Werte paarweise addiert wodurch eher gleich hohe Werte miteinander addiert werden.\n",
    "\n",
    "Im Gegensatz dazu steht das Summieren in der Schleife wo stets der Hohe Summenwert mit den geringen Arraywerten addiert wird.\n",
    "\n",
    "Ein Funktionsentwurf welcher paarweise addiert ist im Folgenden angegeben."
   ]
  },
  {
   "cell_type": "code",
   "execution_count": 11,
   "id": "0c85b6de",
   "metadata": {},
   "outputs": [
    {
     "data": {
      "text/plain": [
       "1.0000000000000098"
      ]
     },
     "execution_count": 11,
     "metadata": {},
     "output_type": "execute_result"
    }
   ],
   "source": [
    "def paarweise_sum(arr):\n",
    "    \"\"\"array in gleich lange Teile teilen und diese beiden summieren\"\"\" \n",
    "    arr=arr.copy()\n",
    "    last = None    \n",
    "    while arr.size > 1:\n",
    "        if arr.size % 2 == 1:            \n",
    "            arr[0] += arr[-1]\n",
    "            arr = arr[:-1]        \n",
    "        arr = arr[::2] + arr[1::2] \n",
    "    return arr[0]\n",
    "paarweise_sum(array)"
   ]
  },
  {
   "cell_type": "markdown",
   "id": "8b49a50d",
   "metadata": {},
   "source": [
    "Tatsaechlich verwenden numpy jedoch np.add.reduce(array).\n",
    "\n",
    "Dieses addiert die Werte des Array laut docs von Vorne."
   ]
  },
  {
   "cell_type": "code",
   "execution_count": 492,
   "id": "e832547f",
   "metadata": {},
   "outputs": [
    {
     "data": {
      "text/plain": [
       "1.0000000000000084"
      ]
     },
     "execution_count": 492,
     "metadata": {},
     "output_type": "execute_result"
    }
   ],
   "source": [
    "np.add.reduce(array)"
   ]
  },
  {
   "cell_type": "code",
   "execution_count": 491,
   "id": "9a325757",
   "metadata": {},
   "outputs": [
    {
     "name": "stdout",
     "output_type": "stream",
     "text": [
      "Help on built-in function reduce:\n",
      "\n",
      "reduce(...) method of numpy.ufunc instance\n",
      "    reduce(array, axis=0, dtype=None, out=None, keepdims=False, initial=<no value>, where=True)\n",
      "\n",
      "    Reduces `array`'s dimension by one, by applying ufunc along one axis.\n",
      "\n",
      "    Let :math:`array.shape = (N_0, ..., N_i, ..., N_{M-1})`.  Then\n",
      "    :math:`ufunc.reduce(array, axis=i)[k_0, ..,k_{i-1}, k_{i+1}, .., k_{M-1}]` =\n",
      "    the result of iterating `j` over :math:`range(N_i)`, cumulatively applying\n",
      "    ufunc to each :math:`array[k_0, ..,k_{i-1}, j, k_{i+1}, .., k_{M-1}]`.\n",
      "    For a one-dimensional array, reduce produces results equivalent to:\n",
      "    ::\n",
      "\n",
      "     r = op.identity # op = ufunc\n",
      "     for i in range(len(A)):\n",
      "       r = op(r, A[i])\n",
      "     return r\n",
      "\n",
      "    For example, add.reduce() is equivalent to sum().\n",
      "\n",
      "    Parameters\n",
      "    ----------\n",
      "    array : array_like\n",
      "        The array to act on.\n",
      "    axis : None or int or tuple of ints, optional\n",
      "        Axis or axes along which a reduction is performed.\n",
      "        The default (`axis` = 0) is perform a reduction over the first\n",
      "        dimension of the input array. `axis` may be negative, in\n",
      "        which case it counts from the last to the first axis.\n",
      "\n",
      "        .. versionadded:: 1.7.0\n",
      "\n",
      "        If this is None, a reduction is performed over all the axes.\n",
      "        If this is a tuple of ints, a reduction is performed on multiple\n",
      "        axes, instead of a single axis or all the axes as before.\n",
      "\n",
      "        For operations which are either not commutative or not associative,\n",
      "        doing a reduction over multiple axes is not well-defined. The\n",
      "        ufuncs do not currently raise an exception in this case, but will\n",
      "        likely do so in the future.\n",
      "    dtype : data-type code, optional\n",
      "        The type used to represent the intermediate results. Defaults\n",
      "        to the data-type of the output array if this is provided, or\n",
      "        the data-type of the input array if no output array is provided.\n",
      "    out : ndarray, None, or tuple of ndarray and None, optional\n",
      "        A location into which the result is stored. If not provided or None,\n",
      "        a freshly-allocated array is returned. For consistency with\n",
      "        ``ufunc.__call__``, if given as a keyword, this may be wrapped in a\n",
      "        1-element tuple.\n",
      "\n",
      "        .. versionchanged:: 1.13.0\n",
      "           Tuples are allowed for keyword argument.\n",
      "    keepdims : bool, optional\n",
      "        If this is set to True, the axes which are reduced are left\n",
      "        in the result as dimensions with size one. With this option,\n",
      "        the result will broadcast correctly against the original `array`.\n",
      "\n",
      "        .. versionadded:: 1.7.0\n",
      "    initial : scalar, optional\n",
      "        The value with which to start the reduction.\n",
      "        If the ufunc has no identity or the dtype is object, this defaults\n",
      "        to None - otherwise it defaults to ufunc.identity.\n",
      "        If ``None`` is given, the first element of the reduction is used,\n",
      "        and an error is thrown if the reduction is empty.\n",
      "\n",
      "        .. versionadded:: 1.15.0\n",
      "\n",
      "    where : array_like of bool, optional\n",
      "        A boolean array which is broadcasted to match the dimensions\n",
      "        of `array`, and selects elements to include in the reduction. Note\n",
      "        that for ufuncs like ``minimum`` that do not have an identity\n",
      "        defined, one has to pass in also ``initial``.\n",
      "\n",
      "        .. versionadded:: 1.17.0\n",
      "\n",
      "    Returns\n",
      "    -------\n",
      "    r : ndarray\n",
      "        The reduced array. If `out` was supplied, `r` is a reference to it.\n",
      "\n",
      "    Examples\n",
      "    --------\n",
      "    >>> np.multiply.reduce([2,3,5])\n",
      "    30\n",
      "\n",
      "    A multi-dimensional array example:\n",
      "\n",
      "    >>> X = np.arange(8).reshape((2,2,2))\n",
      "    >>> X\n",
      "    array([[[0, 1],\n",
      "            [2, 3]],\n",
      "           [[4, 5],\n",
      "            [6, 7]]])\n",
      "    >>> np.add.reduce(X, 0)\n",
      "    array([[ 4,  6],\n",
      "           [ 8, 10]])\n",
      "    >>> np.add.reduce(X) # confirm: default axis value is 0\n",
      "    array([[ 4,  6],\n",
      "           [ 8, 10]])\n",
      "    >>> np.add.reduce(X, 1)\n",
      "    array([[ 2,  4],\n",
      "           [10, 12]])\n",
      "    >>> np.add.reduce(X, 2)\n",
      "    array([[ 1,  5],\n",
      "           [ 9, 13]])\n",
      "\n",
      "    You can use the ``initial`` keyword argument to initialize the reduction\n",
      "    with a different value, and ``where`` to select specific elements to include:\n",
      "\n",
      "    >>> np.add.reduce([10], initial=5)\n",
      "    15\n",
      "    >>> np.add.reduce(np.ones((2, 2, 2)), axis=(0, 2), initial=10)\n",
      "    array([14., 14.])\n",
      "    >>> a = np.array([10., np.nan, 10])\n",
      "    >>> np.add.reduce(a, where=~np.isnan(a))\n",
      "    20.0\n",
      "\n",
      "    Allows reductions of empty arrays where they would normally fail, i.e.\n",
      "    for ufuncs without an identity.\n",
      "\n",
      "    >>> np.minimum.reduce([], initial=np.inf)\n",
      "    inf\n",
      "    >>> np.minimum.reduce([[1., 2.], [3., 4.]], initial=10., where=[True, False])\n",
      "    array([ 1., 10.])\n",
      "    >>> np.minimum.reduce([])\n",
      "    Traceback (most recent call last):\n",
      "        ...\n",
      "    ValueError: zero-size array to reduction operation minimum which has no identity\n",
      "\n"
     ]
    }
   ],
   "source": [
    "help(np.add.reduce)"
   ]
  },
  {
   "cell_type": "markdown",
   "id": "de34b329-a7e0-444a-89aa-a5c78bc173a2",
   "metadata": {
    "deletable": false,
    "editable": false
   },
   "source": [
    "<!-- END QUESTION -->\n",
    "\n",
    "## Grenzwerte von Funktionen (20 Punkte)"
   ]
  },
  {
   "cell_type": "markdown",
   "id": "e8379ade-6a5d-40a1-bed4-586675cc0d29",
   "metadata": {
    "deletable": false,
    "editable": false
   },
   "source": [
    "Geben sei die Funktion $f(x)=\\frac{e^x-1}{x}$\n",
    "\n",
    "Es gilt: $lim_{x \\to 0}f(x) = 1$\n",
    "\n",
    "**Aufgabe:** Schreiben Sie eine Python Funktion `f(x)`, mit deren Hilfe Sie $f(x)$ für $x= 10^{-1}, 10^{-2}, \\cdots , 10^{-15}$ mit NumPy berechnen und geben Sie das Ergebnis aus."
   ]
  },
  {
   "cell_type": "code",
   "execution_count": 13,
   "id": "f5619384-8fab-4a57-8f30-73de2922dd89",
   "metadata": {
    "nbgrader": {
     "grade": false,
     "grade_id": "cell-d5ed715a9745e7d6",
     "locked": false,
     "schema_version": 3,
     "solution": true,
     "task": false
    },
    "scrolled": true,
    "tags": []
   },
   "outputs": [
    {
     "name": "stdout",
     "output_type": "stream",
     "text": [
      "result_limits=[1.0517091807564771, 1.005016708416795, 1.0005001667083846, 1.000050001667141, 1.000005000006965, 1.0000004999621837, 1.0000000494336803, 0.999999993922529, 1.000000082740371, 1.000000082740371, 1.000000082740371, 1.000088900582341, 0.9992007221626409, 0.9992007221626409, 1.1102230246251565]\n"
     ]
    }
   ],
   "source": [
    "import numpy as np\n",
    "\n",
    "\n",
    "def f(x):\n",
    "    return (np.e**x - 1) / x if x != 0 else \"undefiniert\"\n",
    "\n",
    "\n",
    "input_numbers = [10**-x for x in range(1,16)]\n",
    "result_limits = [f(x) for x in input_numbers]\n",
    "print(f\"{result_limits=}\")"
   ]
  },
  {
   "cell_type": "markdown",
   "id": "fb0645a1-47c9-417b-b715-033c6d05c65c",
   "metadata": {
    "deletable": false,
    "editable": false
   },
   "source": [
    "**Aufgabe:** Berechnen Sie nun die Funktion für  $x= 10^{-16}, 10^{-17}, \\cdots , 10^{-20}$\n",
    "\n",
    "_Points:_ 8"
   ]
  },
  {
   "cell_type": "code",
   "execution_count": 14,
   "id": "57fcfa50-0942-4861-be87-914dea652464",
   "metadata": {
    "nbgrader": {
     "grade": false,
     "grade_id": "cell-86fd557d439b5a41",
     "locked": false,
     "schema_version": 3,
     "solution": true,
     "task": false
    },
    "slideshow": {
     "slide_type": ""
    },
    "tags": []
   },
   "outputs": [
    {
     "name": "stdout",
     "output_type": "stream",
     "text": [
      "result_limits_2=[0.0, 0.0, 0.0, 0.0, 0.0]\n"
     ]
    }
   ],
   "source": [
    "input_numbers_2 = [10**-x for x in range(16,21)]\n",
    "result_limits_2 = [f(x) for x in input_numbers_2]\n",
    "print(f\"{result_limits_2=}\")"
   ]
  },
  {
   "cell_type": "markdown",
   "id": "b8c3d7c4-f496-4dc3-90ef-0521b232b74a",
   "metadata": {
    "deletable": false,
    "editable": false
   },
   "source": [
    "<!-- BEGIN QUESTION -->\n",
    "\n",
    "**Aufgabe:** Was fällt auf? Welche Erklärung haben Sie für das Ergebnis? (Ausführliche Erklärung erforderlich) \n",
    "\n",
    "_Points:_ 12"
   ]
  },
  {
   "cell_type": "markdown",
   "id": "97ebd072",
   "metadata": {},
   "source": [
    "Die Resultate lagen faelschlicherweise bei 0 weil der Zahler $e^x-1$ ab hier bei 0 liegt.\n",
    "\n",
    "Da die Mantisse bei float64 nur 52 Bit lang ist, koennen Veraenderungen von unter $\\frac {1}{2^{52}}$ nicht erfasst werden. \n",
    "\n",
    "Es ergiebt sich also eine minimale Schrittweite von $2^{-52}$."
   ]
  },
  {
   "cell_type": "code",
   "execution_count": 15,
   "id": "84d06841",
   "metadata": {},
   "outputs": [
    {
     "data": {
      "text/plain": [
       "[(0.0, 1e-16), (0.0, 1e-17), (0.0, 1e-18), (0.0, 1e-19), (0.0, 1e-20)]"
      ]
     },
     "execution_count": 15,
     "metadata": {},
     "output_type": "execute_result"
    }
   ],
   "source": [
    "#der Zaehler e**x - 1 ist hier Null\n",
    "[(np.e**x - 1, x) for x in input_numbers_2]"
   ]
  },
  {
   "cell_type": "code",
   "execution_count": 16,
   "id": "0162f3af",
   "metadata": {},
   "outputs": [
    {
     "data": {
      "text/plain": [
       "(True, 1.1102230246251565e-15)"
      ]
     },
     "execution_count": 16,
     "metadata": {},
     "output_type": "execute_result"
    }
   ],
   "source": [
    "#bei np.e**1e-15 - 1 ist der Zaehler noch ueber der minimalen Schrittweite von 2**-52\n",
    "np.e**1e-15 - 1 >= 2**-52, 0 + (np.e**1e-15 - 1)"
   ]
  },
  {
   "cell_type": "code",
   "execution_count": 17,
   "id": "f34eb3e6",
   "metadata": {},
   "outputs": [
    {
     "data": {
      "text/plain": [
       "(False, 0.0)"
      ]
     },
     "execution_count": 17,
     "metadata": {},
     "output_type": "execute_result"
    }
   ],
   "source": [
    "#bei np.e**1e-16 - 1 ist der Zaehler unterhalb der minimalen Schrittweite von 2**-52\n",
    "np.e**1e-16 - 1 >= 2**-52, 0 + (np.e**1e-16 - 1)"
   ]
  },
  {
   "cell_type": "markdown",
   "id": "fbebcba7-6b66-4460-b800-047e9637e160",
   "metadata": {
    "deletable": false,
    "editable": false
   },
   "source": [
    "<!-- END QUESTION -->\n",
    "\n",
    "## Gauß-Verfahren und LU-Zerlegung (60 Punkte) \n",
    "Obwohl man, wie wir sehen werden, lineare Gleichungssysteme einfach mit SciPy lösen kann, wollen wir in dieser Aufgabe  einmal selbst eine sogenannte LU-Zerlegung bzw. das Gauß-Verfahren implementieren. Außerdem werden wir diesen Code auch später noch verwenden, wenn wir uns mit Performance-Optimierung und Parallelisierung beschäftigen.\n",
    "\n",
    "Das Gauß-Verfahren ist ein wichtiges Verfahren zum Lösen von linearen Gleichungssystemen, wir gehen hier schrittweise mit der Implementierung vor."
   ]
  },
  {
   "cell_type": "markdown",
   "id": "042b609c-9e98-4b51-a92a-71fd72e1ac6c",
   "metadata": {
    "deletable": false,
    "editable": false
   },
   "source": [
    "**Aufgabe:** Implementieren Sie die Funktion `b_solve` zur Lösung einer Dreiecksgleichung der Form:\n",
    "\n",
    "$\\left[ {\\begin{array}{cccc} \n",
    "a_{11} & a_{12} & \\cdots & a_{1n}\\\\ \n",
    "0 & a_{22} & \\cdots & a_{2n}\\\\ \n",
    "\\vdots & \\vdots & \\ddots & \\vdots \\\\ \n",
    "0 & 0 & \\cdots & a_{nn}\\\\ \n",
    "\\end{array} } \\right] \\left[{\\begin{array}{c}  \n",
    "x_1\\\\ \n",
    "x_2\\\\ \n",
    "\\vdots\\\\ \n",
    "x_n\\\\ \n",
    "\\end{array}}\\right] =  \n",
    "\\left[{\\begin{array}{c}  \n",
    "b_1\\\\ \n",
    "b_2\\\\ \n",
    "\\vdots\\\\ \n",
    "b_n\\\\ \n",
    "\\end{array}}\\right]$ \n",
    "\n",
    "Hier beginnt man mit der Löung der letzten Zeile, denn es gilt:\n",
    "\n",
    "$x_n = b_n/a_{nn} $\n",
    "und dann\n",
    "\n",
    "$x_{n-1} =  (b_{n-1}-a_{(n-1),n}*x_{n})/a_{(n-1),(n-1)}$\n",
    "\n",
    "$x_{n-2} =  (b_{n-2}-(a_{(n-2),n}*x_{n}+a_{(n-2),(n-1)}*x_{n-1})/a_{(n-2),(n-2)}$\n",
    "\n",
    "\n",
    "*Hinweis*: Achten Sie darauf, dass ihr Code nicht nur korrekt, sondern auch effizient ist. \n",
    "\n",
    "_Points:_ 12"
   ]
  },
  {
   "cell_type": "code",
   "execution_count": 20,
   "id": "95406ab9-708c-4710-a0e4-c32a1bebd8c4",
   "metadata": {
    "nbgrader": {
     "grade": false,
     "grade_id": "cell-045bae77f313bff4",
     "locked": false,
     "schema_version": 3,
     "solution": true,
     "task": false
    },
    "tags": []
   },
   "outputs": [],
   "source": [
    "import numpy as np\n",
    "\n",
    "def b_solve(A, b, upper_triangular=True):\n",
    "    \"\"\"Solve a system of linear equations A * x = b where A is an upper triangular matrix.\"\"\"\n",
    "    #kann auch nicht-triangulare Matrizen loesen \n",
    "    \n",
    "    #Gauss-Jordan-Algorithmus    \n",
    "    Ab=np.concatenate((A,b),1)    \n",
    "    for n in range(min(A.shape)-1,-1,-1):          \n",
    "        if Ab[n][n]==0:\n",
    "            continue\n",
    "        Ab[n]=Ab[n]/Ab[n][n]  \n",
    "        \n",
    "        if upper_triangular:\n",
    "            #Dreiecksmatrix ohne extra Schleife, 11.5 microsec\n",
    "            Ab[:n] = Ab[:n] - np.outer(Ab[:n,n], Ab[n])\n",
    "            \n",
    "            #Dreiecksmatrix, 10 microsec\n",
    "            #for m in range(n):                    \n",
    "             #   Ab[m] = Ab[m] - Ab[m][n] / Ab[n][n] * Ab[n]\n",
    "        else:\n",
    "            #Allgemeinfall ohne extra Schleife, 20.5 microsec\n",
    "            zeilen = np.arange(Ab.shape[0]) != n\n",
    "            Ab[zeilen] = Ab[zeilen] - np.outer(Ab[zeilen, n], Ab[n])\n",
    "\n",
    "            #Allgemeinfall, 14.5 microsec\n",
    "            #for m in range(Ab.shape[0]):        \n",
    "             #   if m != n:            \n",
    "              #      Ab[m] = Ab[m] - Ab[m][n] / Ab[n][n] * Ab[n]        \n",
    "        \n",
    "    return Ab[:,-1:] "
   ]
  },
  {
   "cell_type": "code",
   "execution_count": 21,
   "id": "b7f75e5d",
   "metadata": {},
   "outputs": [
    {
     "data": {
      "text/plain": [
       "array([[0.67793854],\n",
       "       [1.00824584],\n",
       "       [0.28      ]])"
      ]
     },
     "execution_count": 21,
     "metadata": {},
     "output_type": "execute_result"
    }
   ],
   "source": [
    "#%%timeit\n",
    "b_solve(np.array([[4,1,1],\n",
    "                [0,4,3],\n",
    "                [0,0,4]]),\n",
    "\n",
    "    np.array([[4.        ],\n",
    "           [4.87298335],\n",
    "           [1.12        ]]))"
   ]
  },
  {
   "cell_type": "markdown",
   "id": "fe99d15b-1ef5-4c19-8384-624e451b45bd",
   "metadata": {
    "deletable": false,
    "editable": false
   },
   "source": [
    "**Aufgabe:** Implementieren Sie die LU-Zerlegung einer Matrix mit Pivotisierung.  \n",
    "Die Funktion `lu_decomposition` soll die Matrizen L und U berechnen.  \n",
    "Zu Beginn wird der Funktion eine Matrix A übergeben.  \n",
    "\n",
    "\n",
    "Implementieren Sie die Funktion \"in-place\", d.h. die Ergebnisse für L und U werden direkt in A geschrieben.  \n",
    "Dabei wird die ursprüngliche Matrix überschrieben.  \n",
    "Die Funktion gibt den Pivot-Vektor zurück, der die folgende Form haben sollte:\n",
    "\n",
    "$ \n",
    "P=\\left[{\\begin{array}{ccc} \n",
    "0 & 1& 0\\\\ \n",
    "0 & 0& 1\\\\ \n",
    "1 & 0& 0\\\\ \n",
    "\\end{array} } \\right] \\Rightarrow \\left[{\\begin{array}{c}  \n",
    "1\\\\ \n",
    "2\\\\ \n",
    "0\\\\ \n",
    "\\end{array}}\\right] \n",
    "$ \n",
    "\n",
    "D.h. es wird nur der Index des Wertes in jeder Zeile gespeichert, der nicht Null ist.\n",
    "\n",
    "Wenn man dies macht, kann man später für die Lösung einfach den Vektor `bc = b[P]` verwenden, um auch $b$ richtig zu pivotisieren.  \n",
    "\n",
    "Hinweise: \n",
    "- Die Pivot-Zeile lässt sich am einfachsten mit `np.argmax` finden. Die Zeile mit dem höchsten Betrag können Sie mit `np.abs` finden.\n",
    "\n",
    "- Tauschen zweier Elemente in einem NumPy Array: `v[[a, b]] = v[[b, a]]`\n",
    "\n",
    "- Versuchen Sie, die interne Vektorisierung von NumPy im Eliminationsschritt zu nutzen. Verwenden Sie dazu die Slicing-Syntax, um die innerste Schleife zu ersetzen.\n",
    "\n",
    "_Points:_ 15"
   ]
  },
  {
   "cell_type": "code",
   "execution_count": 22,
   "id": "7e01d874-1715-40b2-918f-be10435918b5",
   "metadata": {
    "nbgrader": {
     "grade": false,
     "grade_id": "cell-b482047b4df4ac5e",
     "locked": false,
     "schema_version": 3,
     "solution": true,
     "task": false
    },
    "tags": []
   },
   "outputs": [],
   "source": [
    "def lu_decomposition(A):\n",
    "    \"\"\"L und U Matrix werden innerhalb von A Matrix berechnet und der Pivot-Vektor wird ausgegeben\"\"\"\n",
    "    n = A.shape[0]\n",
    "    P = np.arange(n)\n",
    "\n",
    "    for k in range(n):\n",
    "        # Pivotisierung: Index der Zeile mit größtem Betrag in Spalte k finden\n",
    "        pivot_index = np.argmax(np.abs(A[k:n, k])) + k\n",
    "        if A[pivot_index, k] == 0:\n",
    "            raise ValueError(\"Matrix ist singulaer.\")\n",
    "\n",
    "        # Zeilen tauschen in A\n",
    "        if pivot_index != k:\n",
    "            A[[k, pivot_index], :] = A[[pivot_index, k], :]\n",
    "            P[[k, pivot_index]] = P[[pivot_index, k]]\n",
    "\n",
    "        # Berechnung L unterhalb der Diagonale\n",
    "        A[k+1:n, k] /= A[k, k]\n",
    "\n",
    "        # Berechnung U obere Dreiecksmatrix inklusive Diagonale\n",
    "        A[k+1:n, k+1:n] -= np.outer(A[k+1:n, k], A[k, k+1:n])\n",
    "\n",
    "    return P #Pivot-Vektor"
   ]
  },
  {
   "cell_type": "markdown",
   "id": "07c84b58-28da-495c-a9e2-4e96ba537eb9",
   "metadata": {
    "deletable": false,
    "editable": false
   },
   "source": [
    "<!-- BEGIN QUESTION -->\n",
    "\n",
    "**Aufgabe:** Schreiben Sie eine Funktion `custom_solve`, welche mit Hilfe von `lu_decomposition` ein lineares Gleichungssystem der Form $A*x=b$ löst.  \n",
    "\n",
    "Hinweis: Versuchen Sie, die interne Vektorisierung von NumPy zu nutzen. Verwenden Sie dazu die Slicing-Syntax, um die innerste Schleife zu ersetzen.\n",
    "\n",
    "_Points:_ 12"
   ]
  },
  {
   "cell_type": "code",
   "execution_count": 23,
   "id": "ef6c6d07-df37-4011-b913-be1719ffb094",
   "metadata": {
    "nbgrader": {
     "grade": false,
     "grade_id": "cell-e08e49ee4f4639ff",
     "locked": false,
     "schema_version": 3,
     "solution": true,
     "task": false
    },
    "tags": []
   },
   "outputs": [],
   "source": [
    "def custom_solve(A, b):\n",
    "    \"\"\"Solve a system of linear equations A * x = b and return result vector x.\"\"\"\n",
    "    \n",
    "    #Pivot-Vektor und A (welches LU-Zerlegung enthaelt) werden berechnet\n",
    "    P = lu_decomposition(A)\n",
    "    \n",
    "    #L und U werden aus A isoliert\n",
    "    n = A.shape[0]\n",
    "    L = np.tril(A, k=-1) + np.eye(n)  # untere Dreiecksmatrix mit Einsen auf der Diagonale\n",
    "    U = np.triu(A)                   # obere Dreiecksmatrix inklusive Diagonale\n",
    "    \n",
    "    #Lc = b[P] wird geloest fuer c\n",
    "    c = b_solve(L, b[P], upper_triangular=False)\n",
    "    \n",
    "    #Ux = c wird geloest fuer x\n",
    "    x = b_solve(U, c)\n",
    "    \n",
    "    return x"
   ]
  },
  {
   "cell_type": "markdown",
   "id": "5907a29b-90dc-4efa-a124-5a246a1270c3",
   "metadata": {
    "deletable": false,
    "editable": false
   },
   "source": [
    "<!-- END QUESTION -->\n",
    "\n",
    "<!-- BEGIN QUESTION -->\n",
    "\n",
    "**Aufgabe:** Schreiben Sie eine Testfunktion, die überprüft, ob die Lösung ihrer Implementierung des Gauß-Verfahrens richtig ist.  \n",
    "Testen Sie Gleichungssysteme der Größe $16 \\times 16$, $32\\times 32$ und $64 \\times 64$.\n",
    "\n",
    "Sie können zum Vergleich die SciPy Funktion `linalg.solve` verwenden:\n",
    "\n",
    "_Points:_ 6"
   ]
  },
  {
   "cell_type": "code",
   "execution_count": 956,
   "id": "6c638640-acfa-48e8-a683-46f0ae9c50a5",
   "metadata": {
    "deletable": false,
    "editable": false
   },
   "outputs": [],
   "source": [
    "# Beispiel linalg\n",
    "import scipy.linalg as linalg\n",
    "\n",
    "n = 128\n",
    "rng = np.random.default_rng(seed=123)\n",
    "A = rng.random((n, n))\n",
    "b = rng.random(n)\n",
    "c = linalg.solve(A, b)"
   ]
  },
  {
   "cell_type": "code",
   "execution_count": 26,
   "id": "e5fb20a9-a354-4b3d-8890-8870d825d730",
   "metadata": {
    "nbgrader": {
     "grade": false,
     "grade_id": "cell-f6a6bc3ba063c4a4",
     "locked": false,
     "schema_version": 3,
     "solution": true,
     "task": false
    },
    "tags": []
   },
   "outputs": [
    {
     "name": "stdout",
     "output_type": "stream",
     "text": [
      "Test bestanden fuer Dimension 16\n",
      "Test bestanden fuer Dimension 32\n",
      "Test bestanden fuer Dimension 64\n"
     ]
    }
   ],
   "source": [
    "import scipy.linalg as linalg\n",
    "\n",
    "def test_custom_solve(n):    \n",
    "    \"\"\"vergleicht Ergebnisse von custom_solve mit linalg.solve\"\"\"\n",
    "    \n",
    "    rng = np.random.default_rng(seed=123)\n",
    "    A = rng.random((n, n))\n",
    "    #Spaltenvektor b ist 2-dimensional\n",
    "    b = rng.random((n,1))\n",
    "    linalg_x = linalg.solve(A, b)    \n",
    "    custom_x = custom_solve(A, b)\n",
    "    \n",
    "    #sicherstellen, dass Ergebnisse gleich sind, float-Unpraezision ignorieren\n",
    "    assert np.allclose(linalg_x, custom_x, atol=1e-6), f\"Ergebnisse weichen zu stark ab bei Dimension {n}\"\n",
    "    \n",
    "    print(\"Test bestanden fuer Dimension\", n)\n",
    "    \n",
    "test_custom_solve(16)\n",
    "test_custom_solve(32)\n",
    "test_custom_solve(64)"
   ]
  },
  {
   "cell_type": "markdown",
   "id": "e97554ab-09a1-43cb-961e-07fbe305d009",
   "metadata": {
    "deletable": false,
    "editable": false
   },
   "source": [
    "<!-- END QUESTION -->\n",
    "\n",
    "**Aufgabe:** Wir wollen nun weiter die *fertigen* SciPy Funktionen betrachten. Mit den Funktionen `lu` und `lu_factor` aus dem Packet `scipy.linalg `  können Sie eine LU-Dekomposition durchführen [[1]](https://docs.scipy.org/doc/scipy/reference/generated/scipy.linalg.lu_factor.html#scipy.linalg.lu_factor) und [[2]](https://docs.scipy.org/doc/scipy/reference/generated/scipy.linalg.lu.html).  \n",
    "Beide Funktionen haben unter anderem den Parameter `overwrite_a`, der `False` oder `True` sein kann. \n",
    "\n",
    "Evaluieren Sie die Performance (Laufzeit) der LU-Zerlegung einer 4096x4096 Matrix, wenn Sie jeweils die Funktionen `lu_factor` und `lu` mit `overwrite_a = True` oder `overwrite_a = False` verwenden.\n",
    "\n",
    "In der Liste `minimums` sollen die minimalen Laufzeiten in folgender Reihenfolge stehen:\n",
    "1. `lu_factor` mit `overwrite_a = False`\n",
    "2. `lu_factor` mit `overwrite_a = True`\n",
    "3. `lu` mit `overwrite_a = False`\n",
    "4. `lu` mit `overwrite_a = True`\n",
    "\n",
    "Hinweis: Da die Matrix A bei der Verwendung von `overwrite_a = True` verändert wird, kann es zu einer Vereinfachung der Berechnung kommen, wenn die Funktion mehrfach nacheinander ausgeführt wird. Aus diesem Grund muss die `timeit` Funktion [repeat](https://docs.python.org/3/library/timeit.html#timeit.repeat) mit `repeat = 2` und `number = 1`  verwendet werden. Die Matrix wird im `setup` Parameter erstellt (aus Zufallswerten mit dem vorgegebenen \"random number generator\").\n",
    "\n",
    "_Points:_ 6"
   ]
  },
  {
   "cell_type": "code",
   "execution_count": 28,
   "id": "3b6bc562-608a-4f7e-b2a3-2f63d0447f85",
   "metadata": {
    "nbgrader": {
     "grade": false,
     "grade_id": "cell-5978db060fba8a0d",
     "locked": false,
     "schema_version": 3,
     "solution": true,
     "task": false
    },
    "tags": []
   },
   "outputs": [
    {
     "data": {
      "text/plain": [
       "[9.591415676986799, 9.58492271893192, 9.971174363978207, 9.970445337006822]"
      ]
     },
     "execution_count": 28,
     "metadata": {},
     "output_type": "execute_result"
    }
   ],
   "source": [
    "from scipy.linalg import lu_factor, lu\n",
    "from timeit import repeat\n",
    "\n",
    "n = 4096\n",
    "number = 1\n",
    "repetitions = 2\n",
    "# store all four minimal runtimes in this list\n",
    "rng = np.random.default_rng(seed=123)\n",
    "repeat_lambda = lambda x: repeat(x, setup=\"A = rng.random((n, n))\", repeat=repetitions, number=number, globals=globals())\n",
    "minimums = [min(repeat_lambda(x)) for x in [\"lu_factor(A, overwrite_a=False)\", \"lu_factor(A, overwrite_a=True)\", \"lu(A, overwrite_a=False)\", \"lu(A, overwrite_a=True)\"]]\n",
    "minimums"
   ]
  },
  {
   "cell_type": "markdown",
   "id": "0c447785-1c5f-42ae-a1cb-d7cce6c3e45a",
   "metadata": {
    "deletable": false,
    "editable": false
   },
   "source": [
    "**Aufgabe:** Untersuchen Sie den Speicherverbrauch der 4 Varianten mit memray.\n",
    "\n",
    "Um den Einfluss der anderen Berechnungen zu minimieren, empfehlen wir hier, die Berechnungen in eine neue Datei zu schreiben und mit `!` in einer Code-Zelle memray's Command-Line Interface zu verwenden. \n",
    "\n",
    "Am besten tracen Sie nur die LU Funktion mit einem Context Manager!\n",
    "Verwenden Sie jeweils folgende Dateinamen als `file_name` Parameter in `memray.Tracker`:\n",
    "\n",
    "- lu_inplace.bin\n",
    "- lu_notinplace.bin\n",
    "- lu_factor_inplace.bin\n",
    "- lu_factor_notinplace.bin\n",
    "\n",
    "Beantworten Sie bitte die folgenden Fragen:\n",
    "* Welche Version verwendet am meisten Speicher? \n",
    "* Bei welcher Version ist der Speicherverbrauch am konstantesten? \n",
    "\n",
    "_Points:_ 9"
   ]
  },
  {
   "cell_type": "code",
   "execution_count": 29,
   "id": "fffb1064",
   "metadata": {},
   "outputs": [],
   "source": [
    "#.py files werden erstellt fuer die jeweiligen Funktionen\n",
    "for file_name in [\"lu_inplace.bin\", \"lu_notinplace.bin\", \"lu_factor_inplace.bin\", \"lu_factor_notinplace.bin\"]:\n",
    "    with open(file_name.replace(\".bin\", \".py\"), \"w\") as file:\n",
    "        #ich muss den Pfad des Environment im dem mein memray liegt hinzufuegen\n",
    "        file.write(\n",
    "\"\"\"import sys\n",
    "base_path = \"/home/afu/Programmieren/python_sachen/\"\n",
    "sys.path.append(base_path + \"myenv/lib/python3.12/site-packages/\")\n",
    "del sys\n",
    "\"\"\")       \n",
    "        \n",
    "        file.write(\n",
    "f\"\"\"import numpy as np\n",
    "from scipy.linalg import lu_factor, lu\n",
    "import memray\n",
    "\n",
    "n = 4096\n",
    "rng = np.random.default_rng(seed=123)\n",
    "A = rng.random((n, n))\n",
    "\n",
    "with memray.Tracker(\"{file_name}\", native_traces=True):\n",
    "    lu{\"_factor\" if \"_factor\" in file_name else \"\"}(A, overwrite_a={\"_inplace\" in file_name})\n",
    "\"\"\")\n",
    "    "
   ]
  },
  {
   "cell_type": "code",
   "execution_count": 30,
   "id": "ebafad45",
   "metadata": {},
   "outputs": [],
   "source": [
    "#ich muss den Pfad des Environment im dem mein memray liegt hinzufuegen\n",
    "import sys\n",
    "base_path = \"/home/afu/Programmieren/python_sachen/\"\n",
    "sys.path.append(base_path + \"myenv/lib/python3.12/site-packages/\")\n",
    "del sys\n",
    "\n",
    "import memray, os"
   ]
  },
  {
   "cell_type": "code",
   "execution_count": 31,
   "id": "16bb0531",
   "metadata": {},
   "outputs": [
    {
     "name": "stderr",
     "output_type": "stream",
     "text": [
      "Memray WARNING: Correcting symbol for malloc from 0x420620 to 0x7c2201ead650\n",
      "Memray WARNING: Correcting symbol for free from 0x420ab0 to 0x7c2201eadd30\n",
      "Memray WARNING: Correcting symbol for malloc from 0x420620 to 0x7756e32ad650\n",
      "Memray WARNING: Correcting symbol for free from 0x420ab0 to 0x7756e32add30\n",
      "Memray WARNING: Correcting symbol for malloc from 0x420620 to 0x7a401a2ad650\n",
      "Memray WARNING: Correcting symbol for free from 0x420ab0 to 0x7a401a2add30\n",
      "Memray WARNING: Correcting symbol for malloc from 0x420620 to 0x76cbab2ad650\n",
      "Memray WARNING: Correcting symbol for free from 0x420ab0 to 0x76cbab2add30\n"
     ]
    }
   ],
   "source": [
    "#alle .py files werden ausgefuehrt, bei mir mit python3\n",
    "for file_name in [\"lu_inplace.bin\", \"lu_notinplace.bin\", \"lu_factor_inplace.bin\", \"lu_factor_notinplace.bin\"]:\n",
    "    os.system(f\"python3 {file_name.replace(\".bin\", \".py\")}\")"
   ]
  },
  {
   "cell_type": "code",
   "execution_count": 32,
   "id": "cd979a44",
   "metadata": {},
   "outputs": [
    {
     "name": "stdout",
     "output_type": "stream",
     "text": [
      "Speichernutzung von lu_inplace : 400MB\n",
      "Speichernutzung von lu_notinplace : 528MB\n",
      "Speichernutzung von lu_factor_inplace : 144MB\n",
      "Speichernutzung von lu_factor_notinplace : 144MB\n"
     ]
    }
   ],
   "source": [
    "#Speichernutzung wird aus allen .bin files gelesen\n",
    "for file_name in [\"lu_inplace.bin\", \"lu_notinplace.bin\", \"lu_factor_inplace.bin\", \"lu_factor_notinplace.bin\"]:\n",
    "    reader = memray.FileReader(file_name)\n",
    "    mem_use = 0\n",
    "\n",
    "    for allocation in reader.get_allocation_records():\n",
    "        mem_use += allocation.size\n",
    "\n",
    "    print(f\"Speichernutzung von {file_name[:-4]} : {round(mem_use / 2**20)}MB\") "
   ]
  },
  {
   "cell_type": "markdown",
   "id": "59845e18",
   "metadata": {},
   "source": [
    "Die Funktion lu_factor verwendet konstant nur 144MB an Speicher. \n",
    "\n",
    "Funktion lu verwendet deutlich mehr Speicher mit 400MB \"inplace\" und sogar 528MB \"notinplace\""
   ]
  },
  {
   "cell_type": "code",
   "execution_count": 27,
   "id": "11672b7b-6673-4cda-a4c5-dc1cc31d7eb5",
   "metadata": {},
   "outputs": [],
   "source": [
    "#dateien wieder loeschen\n",
    "#!rm -rf lu_* memray-*"
   ]
  },
  {
   "cell_type": "code",
   "execution_count": null,
   "id": "70392ad8",
   "metadata": {},
   "outputs": [],
   "source": []
  }
 ],
 "metadata": {
  "kernelspec": {
   "display_name": "Python 3",
   "language": "python",
   "name": "python3"
  },
  "language_info": {
   "codemirror_mode": {
    "name": "ipython",
    "version": 3
   },
   "file_extension": ".py",
   "mimetype": "text/x-python",
   "name": "python",
   "nbconvert_exporter": "python",
   "pygments_lexer": "ipython3",
   "version": "3.12.1"
  },
  "otter": {
   "OK_FORMAT": true,
   "assignment_name": "EA1",
   "tests": {
    "addition_ieee": {
     "name": "addition_ieee",
     "points": 12,
     "suites": [
      {
       "cases": [],
       "scored": true,
       "setup": "",
       "teardown": "",
       "type": "doctest"
      }
     ]
    },
    "addition_npsum": {
     "name": "addition_npsum",
     "points": 2,
     "suites": [
      {
       "cases": [],
       "scored": true,
       "setup": "",
       "teardown": "",
       "type": "doctest"
      }
     ]
    },
    "addition_variants": {
     "name": "addition_variants",
     "points": 6,
     "suites": [
      {
       "cases": [],
       "scored": true,
       "setup": "",
       "teardown": "",
       "type": "doctest"
      }
     ]
    },
    "limits_explanation": {
     "name": "limits_explanation",
     "points": 12,
     "suites": [
      {
       "cases": [],
       "scored": true,
       "setup": "",
       "teardown": "",
       "type": "doctest"
      }
     ]
    },
    "limits_fx": {
     "name": "limits_fx",
     "points": 8,
     "suites": [
      {
       "cases": [
        {
         "code": ">>> print(result_limits)\n[1.05170918 1.00501671 1.00050017 1.00005    1.000005   1.0000005\n 1.00000005 0.99999999 1.00000008 1.00000008 1.00000008 1.0000889\n 0.99920072 0.99920072 1.11022302]\n",
         "hidden": false,
         "locked": false
        },
        {
         "code": ">>> print(result_limits_2)\n[0. 0. 0. 0. 0.]\n",
         "hidden": false,
         "locked": false
        }
       ],
       "scored": true,
       "setup": "",
       "teardown": "",
       "type": "doctest"
      }
     ]
    },
    "linearsystem_bsolve": {
     "name": "linearsystem_bsolve",
     "points": 12,
     "suites": [
      {
       "cases": [],
       "scored": true,
       "setup": "",
       "teardown": "",
       "type": "doctest"
      }
     ]
    },
    "linearsystem_customsolve": {
     "name": "linearsystem_customsolve",
     "points": 12,
     "suites": [
      {
       "cases": [],
       "scored": true,
       "setup": "",
       "teardown": "",
       "type": "doctest"
      }
     ]
    },
    "linearsystem_customsolve_test": {
     "name": "linearsystem_customsolve_test",
     "points": 6,
     "suites": [
      {
       "cases": [],
       "scored": true,
       "setup": "",
       "teardown": "",
       "type": "doctest"
      }
     ]
    },
    "linearsystem_ludecomp": {
     "name": "linearsystem_ludecomp",
     "points": 15,
     "suites": [
      {
       "cases": [],
       "scored": true,
       "setup": "",
       "teardown": "",
       "type": "doctest"
      }
     ]
    },
    "linearsystem_scipy_memory": {
     "name": "linearsystem_scipy_memory",
     "points": 9,
     "suites": [
      {
       "cases": [],
       "scored": true,
       "setup": "",
       "teardown": "",
       "type": "doctest"
      }
     ]
    },
    "linearsystem_scipy_time": {
     "name": "linearsystem_scipy_time",
     "points": 6,
     "suites": [
      {
       "cases": [],
       "scored": true,
       "setup": "",
       "teardown": "",
       "type": "doctest"
      }
     ]
    }
   }
  }
 },
 "nbformat": 4,
 "nbformat_minor": 5
}
