{
 "cells": [
  {
   "cell_type": "markdown",
   "metadata": {},
   "source": [
    "# Kennenlernen von NumPy   \n",
    "## Aufgabe 1: Erstellen von Arrays "
   ]
  },
  {
   "cell_type": "markdown",
   "metadata": {
    "deletable": false,
    "editable": false
   },
   "source": [
    "Erstellen Sie eine Matrix $P$ der Größe $10\\times 10$ , mit dem Datentyp *np.int32*. Alle Werte der Matrix sollen $10$ sein. "
   ]
  },
  {
   "cell_type": "code",
   "execution_count": null,
   "metadata": {
    "tags": []
   },
   "outputs": [],
   "source": [
    "import numpy as np\n",
    "\n",
    "P = ..."
   ]
  },
  {
   "cell_type": "markdown",
   "metadata": {
    "deletable": false,
    "editable": false
   },
   "source": [
    "Erstellen Sie ein Matrix $Q$ der Größe $512\\times 512$ , deren Diagonale die Werte von $0-511$ haben.  \n",
    "Erstellen Sie einen Vektor $V$ der Größe 32, welcher die Werte $[1, 10^{-1}, \\cdots, 10^{-31}]$ speichert.  \n",
    "Erstellen Sie mit Hilfe einer Lambda-Funktion und den Funktionen `np.sin()` und `np.cos()` und der Konstanten `np.pi` eine Matrix $R$ der Größe $32\\times32$, welche die Werte für $sin(x\\cdot\\pi/2) \\cdot cos(y\\cdot\\pi/2)$ enthält."
   ]
  },
  {
   "cell_type": "code",
   "execution_count": null,
   "metadata": {
    "nbgrader": {
     "grade": false,
     "grade_id": "cell-f4e26085911b606e",
     "locked": false,
     "schema_version": 3,
     "solution": true,
     "task": false
    },
    "tags": []
   },
   "outputs": [],
   "source": [
    "Q = ...\n",
    "V = ...\n",
    "R = ..."
   ]
  },
  {
   "cell_type": "markdown",
   "metadata": {
    "deletable": false,
    "editable": false
   },
   "source": [
    "## Aufgabe 2: Indizes  \n",
    "Aufgrund numerischer Ungenauigkeiten sind viele Einträge in der Matrix $R$ der vorhergehenden Aufgabe nicht gleich Null, obwohl sie es sein sollten. \n",
    "\n",
    "Setzen Sie daher in der Matrix $S$ alle Einträge, deren *Betrag* kleiner als $10^{-11}$ ist, gleich $0$. Implementieren Sie dies so effizient wie möglich. \n",
    "\n",
    "Tipp: Verwenden Sie die NumPy-Funktion `np.abs()`"
   ]
  },
  {
   "cell_type": "code",
   "execution_count": null,
   "metadata": {
    "nbgrader": {
     "grade": false,
     "grade_id": "cell-1482f4f2b2d67398",
     "locked": false,
     "schema_version": 3,
     "solution": true,
     "task": false
    },
    "tags": []
   },
   "outputs": [],
   "source": [
    "S = R.copy()\n",
    "..."
   ]
  },
  {
   "cell_type": "markdown",
   "metadata": {
    "deletable": false,
    "editable": false
   },
   "source": [
    "Gegeben sei eine neue $4\\times4$ Matrix $M$. \n",
    "\n",
    "Schreiben Sie die Index-Auswahl für die in der Abbildung dargestellten roten Elemente am Beispiel der Matrix $M$. Ihr jeweiliges Ergebnis speichern Sie in den Variablen `A`, `B`, ... , `K`"
   ]
  },
  {
   "attachments": {
    "871bc100-4d8f-4c58-a222-019f5e3ec9fb.png": {
     "image/png": "[encoded data removed]"
    }
   },
   "cell_type": "markdown",
   "metadata": {
    "deletable": false,
    "editable": false
   },
   "source": [
    "![indexe.png](attachment:871bc100-4d8f-4c58-a222-019f5e3ec9fb.png)"
   ]
  },
  {
   "cell_type": "code",
   "execution_count": null,
   "metadata": {
    "deletable": false,
    "editable": false,
    "tags": []
   },
   "outputs": [],
   "source": [
    "M = np.array(\n",
    "    [[0, 1, 2, 3], [10, 11, 12, 13], [20, 21, 22, 23], [30, 31, 32, 33]], dtype=np.int32\n",
    ")\n",
    "M"
   ]
  },
  {
   "cell_type": "code",
   "execution_count": null,
   "metadata": {
    "nbgrader": {
     "grade": false,
     "grade_id": "cell-81dc4356dd462600",
     "locked": false,
     "schema_version": 3,
     "solution": true,
     "task": false
    },
    "tags": []
   },
   "outputs": [],
   "source": [
    "A = ...\n",
    "B = ...\n",
    "C = ...\n",
    "D = ...\n",
    "E = ...\n",
    "F = ...\n",
    "G = ...\n",
    "H = ...\n",
    "I = ...\n",
    "J = ...\n",
    "K = ..."
   ]
  },
  {
   "cell_type": "markdown",
   "metadata": {},
   "source": [
    "## Aufgabe 3: Rechnen mit Arrays\n",
    "Nun wollen wir mit Arrays rechnen. Der Befehl `data = np.load(\"Punkte.npy\")` lädt die notwendigen Daten aus der Datei `Punkte.npy`. Mehr Informationen über die Funktion gibt es in Jupyters Kontexthilfe oder mit `help(np.load)`.\n",
    "\n",
    "Beantworten Sie folgende Fragen:\n",
    "- Wie viele Elemente sind im Array und welche Form hat es?\n",
    "- Welchen Datentyp haben die Elemente im Array?\n",
    "- Bestimmen Sie Maximum, Minimum, Mittelwert, Standartabweichung und Median."
   ]
  },
  {
   "cell_type": "code",
   "execution_count": null,
   "metadata": {
    "nbgrader": {
     "grade": false,
     "grade_id": "cell-f76c84a6c3b20e76",
     "locked": false,
     "schema_version": 3,
     "solution": true,
     "task": false
    },
    "tags": []
   },
   "outputs": [],
   "source": [
    "import numpy as np\n",
    "\n",
    "punkte = np.load(\"Punkte.npy\")\n",
    "\n",
    "..."
   ]
  },
  {
   "cell_type": "markdown",
   "metadata": {
    "deletable": false,
    "editable": false
   },
   "source": [
    "Schreiben Sie eine Funktion `get_grade_from_score`, welche aus den eingelesenen Punkten die Note berechnet. \n",
    "\n",
    "Dabei gilt: \n",
    "\n",
    "|Punkte| Note| \n",
    "| ------ | ----- | \n",
    "|0- 49 | 5| \n",
    "| 50-54 | 4 | \n",
    "|55-69| 3| \n",
    "|70-84| 2| \n",
    "|$>=$ 85 | 1 | \n",
    "\n",
    "Ein Aufruf der Funktion sieht z.B. so aus: \n",
    "``` \n",
    "get_grade_from_score(59) \n",
    "3\n",
    "``` \n",
    "\n",
    "Hinweis:\n",
    "- Verwenden Sie `np.vectorize()`, um die Funktion auf alle Daten des Arrays anwenden zu können. \n",
    "- Bestimmen Sie die Durchschnitts-Note und den Median der Noten\n",
    "- Wie oft gab es welche Note? Rechnen Sie dies möglichst effizient aus und schreiben Sie die fünf Werte in das NumPy Array `all_grades`. Speichern Sie das neue Array als `Noten.npy` mit `np.save()`."
   ]
  },
  {
   "cell_type": "code",
   "execution_count": null,
   "metadata": {
    "nbgrader": {
     "grade": false,
     "grade_id": "cell-6aa4478e6cdc8960",
     "locked": false,
     "schema_version": 3,
     "solution": true,
     "task": false
    },
    "tags": []
   },
   "outputs": [],
   "source": [
    "import numpy as np\n",
    "\n",
    "\n",
    "def get_grade_from_score(score):\n",
    "    ...\n",
    "\n",
    "get_grade_from_score_vectorized = ...\n",
    "grades = ...\n",
    "average_grade = ...\n",
    "median_grade = ...\n",
    "print(\"Durchschnitt:\", average_grade)\n",
    "print(\"Median:\", median_grade)"
   ]
  },
  {
   "cell_type": "code",
   "execution_count": null,
   "metadata": {
    "tags": []
   },
   "outputs": [],
   "source": [
    "possible_grades = np.array([1, 2, 3, 4, 5])\n",
    "all_grades = ...\n",
    "...\n",
    "print(\"Notenanzahl von 1 bis 5:\", all_grades)"
   ]
  },
  {
   "cell_type": "markdown",
   "metadata": {
    "deletable": false,
    "editable": false
   },
   "source": [
    "## Aufgabe 4: Matrix-Matrix Multiplikation\n",
    "Gegeben sei die Funktion `matrix_multiplication_slow()`, welche zwei Matrizen in zwei Schleifen miteinander multipliziert und das Ergebnis zurückgibt. [Wikipedia: Matrix-Matrix Multiplikation](https://de.wikipedia.org/wiki/Matrizenmultiplikation).  "
   ]
  },
  {
   "cell_type": "code",
   "execution_count": null,
   "metadata": {
    "deletable": false,
    "editable": false
   },
   "outputs": [],
   "source": [
    "def matrix_multiplication_slow(A, B):\n",
    "    C = np.zeros((A.shape[0], B.shape[1]), dtype=A.dtype)\n",
    "    for i in range(A.shape[0]):\n",
    "        for j in range(B.shape[1]):\n",
    "            for k in range(A.shape[1]):\n",
    "                C[i, j] += A[i, k] * B[k, j]\n",
    "    return C"
   ]
  },
  {
   "cell_type": "markdown",
   "metadata": {
    "deletable": false,
    "editable": false
   },
   "source": [
    "Optimieren Sie die Funktion, in dem Sie die automatische Vektorisierung von NumPy in einer neuen Funktion `matrix_multiplication_fast` verwenden.\n",
    "\n",
    "Vergleichen Sie das Ergebnis ihrer Berechnung mit dem Ergebnis der NumPy-Funktion `np.dot()` für Matrizen der Größen `array_dim=[16, 32, 128]` und überprüfen Sie so, ob das Ergebnis der selbst definierten Funktion  richtig ist.  **Beachten Sie dabei numerische Genauigkeit** und verwenden Sie am besten die Funktion `np.allclose()`."
   ]
  },
  {
   "cell_type": "code",
   "execution_count": null,
   "metadata": {
    "nbgrader": {
     "grade": false,
     "grade_id": "cell-f053d044dc5c1048",
     "locked": false,
     "schema_version": 3,
     "solution": true,
     "task": false
    },
    "tags": []
   },
   "outputs": [],
   "source": [
    "def matrix_multiplication_fast(A, B):\n",
    "    ...\n",
    "\n",
    "..."
   ]
  },
  {
   "cell_type": "markdown",
   "metadata": {
    "deletable": false,
    "editable": false
   },
   "source": [
    "Vergleichen Sie die Zeiten, die Ihre Funktion und die NumPy Funktion `np.dot()` benötigen, um quadratische Matrizen der Größen  $[64,128,256]$ zu berechnen. Füllen Sie die Matrizen mit Zufallswerten aus dem vorgegebenen \"random number generator\".\n",
    "\n",
    "Ist der Unterschied zwischen den durchschnittlichen und minimalen Laufzeiten relevant?\n",
    "\n",
    "Hinweis: Die minimale Zeit aus dem Ergebnis von `%timeit -o` erhalten Sie mit `result.best` und die durchschnittliche Zeit mit `result.average`"
   ]
  },
  {
   "cell_type": "code",
   "execution_count": null,
   "metadata": {
    "nbgrader": {
     "grade": false,
     "grade_id": "cell-4cfa799a840f004a",
     "locked": false,
     "schema_version": 3,
     "solution": true,
     "task": false
    },
    "tags": []
   },
   "outputs": [],
   "source": [
    "sizes = [64, 128, 256]\n",
    "rng = np.random.default_rng(seed=123)\n",
    "# store times for matrix_multiplication_fast\n",
    "custom_means = []\n",
    "custom_mins = []\n",
    "# store times for np.dot()\n",
    "numpy_means = []\n",
    "numpy_mins = []\n",
    "\n",
    "...\n",
    "print(f\"Timing results for custom function 'matrix_multiplication_fast()' for {sizes=} in seconds\")\n",
    "print(f\"{custom_means=}\")\n",
    "print(f\"{custom_mins=}\")\n",
    "print(f\"Timing results for built-in function 'np.dot()' for {sizes=} in seconds\")\n",
    "print(f\"{numpy_means=}\")\n",
    "print(f\"{numpy_mins=}\")"
   ]
  }
 ],
 "metadata": {
  "kernelspec": {
   "display_name": "Python 3 (ipykernel)",
   "language": "python",
   "name": "python3"
  },
  "language_info": {
   "codemirror_mode": {
    "name": "ipython",
    "version": 3
   },
   "file_extension": ".py",
   "mimetype": "text/x-python",
   "name": "python",
   "nbconvert_exporter": "python",
   "pygments_lexer": "ipython3",
   "version": "3.11.0"
  },
  "otter": {
   "OK_FORMAT": true,
   "assignment_name": "NumPy",
   "tests": {
    "array_filter": {
     "name": "array_filter",
     "points": null,
     "suites": [
      {
       "cases": [],
       "scored": true,
       "setup": "",
       "teardown": "",
       "type": "doctest"
      }
     ]
    },
    "array_indices": {
     "name": "array_indices",
     "points": null,
     "suites": [
      {
       "cases": [
        {
         "code": ">>> A\narray([ 0, 10, 20, 30], dtype=int32)",
         "hidden": false,
         "locked": false
        },
        {
         "code": ">>> B\narray([10, 11, 12, 13], dtype=int32)",
         "hidden": false,
         "locked": false
        },
        {
         "code": ">>> C\narray([ 2, 12, 22, 32], dtype=int32)",
         "hidden": false,
         "locked": false
        },
        {
         "code": ">>> D\narray([[ 0,  1],\n       [10, 11]], dtype=int32)",
         "hidden": false,
         "locked": false
        },
        {
         "code": ">>> E\narray([[ 2,  3],\n       [12, 13]], dtype=int32)",
         "hidden": false,
         "locked": false
        },
        {
         "code": ">>> F\narray([[ 0,  2],\n       [20, 22]], dtype=int32)",
         "hidden": false,
         "locked": false
        },
        {
         "code": ">>> G\narray([[11, 13],\n       [31, 33]], dtype=int32)",
         "hidden": false,
         "locked": false
        },
        {
         "code": ">>> H\narray([[ 0,  3],\n       [10, 13],\n       [20, 23],\n       [30, 33]], dtype=int32)",
         "hidden": false,
         "locked": false
        },
        {
         "code": ">>> I\narray([10, 33], dtype=int32)",
         "hidden": false,
         "locked": false
        },
        {
         "code": ">>> J\narray([[ 1,  2],\n       [11, 12],\n       [21, 22],\n       [31, 32]], dtype=int32)",
         "hidden": false,
         "locked": false
        },
        {
         "code": ">>> K\narray([[11, 12],\n       [21, 22]], dtype=int32)",
         "hidden": false,
         "locked": false
        }
       ],
       "scored": true,
       "setup": "",
       "teardown": "",
       "type": "doctest"
      }
     ]
    },
    "array_stats": {
     "name": "array_stats",
     "points": null,
     "suites": [
      {
       "cases": [],
       "scored": true,
       "setup": "",
       "teardown": "",
       "type": "doctest"
      }
     ]
    },
    "create_arrays": {
     "name": "create_arrays",
     "points": null,
     "suites": [
      {
       "cases": [],
       "scored": true,
       "setup": "",
       "teardown": "",
       "type": "doctest"
      }
     ]
    },
    "grades": {
     "name": "grades",
     "points": null,
     "suites": [
      {
       "cases": [],
       "scored": true,
       "setup": "",
       "teardown": "",
       "type": "doctest"
      }
     ]
    },
    "matmul_comparison": {
     "name": "matmul_comparison",
     "points": null,
     "suites": [
      {
       "cases": [],
       "scored": true,
       "setup": "",
       "teardown": "",
       "type": "doctest"
      }
     ]
    }
   }
  }
 },
 "nbformat": 4,
 "nbformat_minor": 4
}
